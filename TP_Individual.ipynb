{
  "cells": [
    {
      "cell_type": "code",
      "execution_count": 657,
      "metadata": {
        "id": "jw8ogMDOpvKP"
      },
      "outputs": [],
      "source": [
        "import pandas as pd\n",
        "import matplotlib.pyplot as plt\n",
        "import seaborn as sns\n",
        "import numpy as np\n",
        "import geopandas as gpd\n",
        "\n",
        "import sklearn as sk\n",
        "from sklearn import model_selection\n",
        "from sklearn import ensemble\n",
        "from sklearn import metrics"
      ]
    },
    {
      "cell_type": "code",
      "execution_count": 658,
      "metadata": {
        "colab": {
          "base_uri": "https://localhost:8080/"
        },
        "id": "b8SSObwGJo2Q",
        "outputId": "db6e762f-a49f-4a4b-b085-75e2cae4feba"
      },
      "outputs": [],
      "source": [
        "# from google.colab import drive\n",
        "# drive.mount('/content/drive')"
      ]
    },
    {
      "attachments": {},
      "cell_type": "markdown",
      "metadata": {
        "id": "20D-m6GPyefp"
      },
      "source": [
        "# Lectura de datos"
      ]
    },
    {
      "cell_type": "code",
      "execution_count": 659,
      "metadata": {
        "id": "CtV0wOGsqJLC"
      },
      "outputs": [],
      "source": [
        "# DIR = \"/content/drive/MyDrive/Data Mining Properati/\"\n",
        "#df_train = pd.read_csv(DIR + \"properati_entrenamiento.zip\", index_col=\"id\")  \n",
        "#df_test = pd.read_csv(DIR + \"properati_a_predecir.zip\", index_col=\"id\")  \n",
        "df_test = pd.read_feather('bases/properati_a_predecir.ftr').set_index('id')\n",
        "df_train = pd.read_feather('bases/properati_entrenamiento.ftr').set_index('id')\n",
        "\n",
        "# df_test = pd.read_feather(DIR+'properati_a_predecir.ftr').set_index('id')\n",
        "# df_train = pd.read_feather(DIR+'properati_entrenamiento.ftr').set_index('id')\n",
        "# df_test.head()"
      ]
    },
    {
      "attachments": {},
      "cell_type": "markdown",
      "metadata": {
        "id": "byV0dQi-yiEd"
      },
      "source": [
        "# Entendimiento (magia parte 1 -- AID)"
      ]
    },
    {
      "attachments": {},
      "cell_type": "markdown",
      "metadata": {
        "id": "zjaTnfxkyvo8"
      },
      "source": [
        "# Limpieza y transformación de datos (magia parte 2 -- MD)"
      ]
    },
    {
      "cell_type": "code",
      "execution_count": 660,
      "metadata": {
        "id": "wLR_WTy_AUiy"
      },
      "outputs": [],
      "source": [
        "raro = df_test['surface_total']<df_test['surface_covered']\n",
        "\n",
        "df_test.loc[raro,'surface_total'], df_test.loc[raro,'surface_covered'] = df_test.loc[raro,'surface_covered'], df_test.loc[raro,'surface_total']\n",
        "\n",
        "raro = df_train['surface_total']<df_train['surface_covered']\n",
        "\n",
        "df_train.loc[raro,'surface_total'], df_train.loc[raro,'surface_covered'] = df_train.loc[raro,'surface_covered'], df_train.loc[raro,'surface_total']"
      ]
    },
    {
      "cell_type": "code",
      "execution_count": 661,
      "metadata": {
        "colab": {
          "base_uri": "https://localhost:8080/"
        },
        "id": "yPdDQB-TAUi1",
        "outputId": "179996f9-6edc-44ed-8b72-5a1781ec411f"
      },
      "outputs": [
        {
          "data": {
            "text/plain": [
              "(102477, 24)"
            ]
          },
          "execution_count": 661,
          "metadata": {},
          "output_type": "execute_result"
        }
      ],
      "source": [
        "en_amba_train = (df_train.lat>-60)&(df_train['lon']>-35.5)&(df_train['lon']<-34)& (df_train.lat<-56.5) & (df_train.l1=='Argentina')\n",
        "en_amba_test  =  (df_test.lat>-60)&(df_test['lon']>-35.5)&(df_test['lon']<-34)& (df_test.lat<-56.5) & (df_test.l1=='Argentina')\n",
        "\n",
        "# en_ballester = ((df_train.title.str.upper().str.contains('BALLESTER')) | (df_train.description.str.upper().str.contains('BALLESTER'))&\n",
        "#                 en_amba_train)\n",
        "# ballester = df_train[en_ballester]\n",
        "\n",
        "no_lugares = ['Bs.As. G.B.A. Zona Sur','Bs.As. G.B.A. Zona Norte','Bs.As. G.B.A. Zona Oeste']\n",
        "\n",
        "#Filtramos los que se encuentran dentro del rango de AMBA y que no son del conurbano\n",
        "df_train = df_train[en_amba_train & (~df_train.l2.isin(no_lugares))]\n",
        "\n",
        "#Pulimos la zona circundante a la plata para que coincida con el test\n",
        "df_train = df_train[(df_train.l2=='Capital Federal')|((df_train.l2=='Buenos Aires Interior')&(df_train.lat>-58.15)&(df_train.lon<-34.7)&(df_train.lon>-35.1))]\n",
        "\n",
        "# df_train = pd.concat((df_train,ballester),axis=0)\n",
        "\n",
        "df_train = df_train[(df_train.price_period=='Mensual')|(df_train.price_period.isnull())] #TODO ver si sacarlo \n",
        "\n",
        "df_train.loc[df_train.l2=='Buenos Aires Interior','l2'] = 'Bs.As. G.B.A. Zona Sur'\n",
        "\n",
        "df_train = df_train[df_train.operation_type=='Venta']\n",
        "\n",
        "df_test.loc[df_test.title.str.contains('en Las Cañitas'),'l3'] = \"Las Cañitas\"\n",
        "df_test.loc[((df_test.l3=='Puerto Madero')|(df_test.l3=='Catalinas')) & (df_test.lat<-58.4),'lat'] = np.nan\n",
        "\n",
        "df_train.loc[((df_train.l3=='Puerto Madero')|(df_train.l3=='Catalinas')) & (df_train.lat<-58.47),'l3'] = 'Villa Urquiza'\n",
        "df_train.loc[((df_train.l3=='Puerto Madero')|(df_train.l3=='Catalinas')) & (df_train.lat<-58.44),['lat','lon']] = np.nan\n",
        "\n",
        "df_train = df_train[df_train.property_type.isin(['PH','Departamento'])]\n",
        "\n",
        "df_train = df_train[df_train.currency=='USD'] #saco tambien los nulos porque no tienen precio\n",
        "\n",
        "df_train.shape"
      ]
    },
    {
      "cell_type": "code",
      "execution_count": 662,
      "metadata": {},
      "outputs": [],
      "source": [
        "# df_test[~en_amba_test & (df_test.lat.notna()) & (df_test.l3.isna())][['title','description','l1','l2','l3','l4']].title.unique()"
      ]
    },
    {
      "cell_type": "code",
      "execution_count": 663,
      "metadata": {
        "id": "hTl8epCQAUi3"
      },
      "outputs": [],
      "source": [
        "df_test.loc[~en_amba_test,['lat','lon']] = np.nan"
      ]
    },
    {
      "cell_type": "code",
      "execution_count": 664,
      "metadata": {
        "id": "Yvg2k8SEAUi4"
      },
      "outputs": [],
      "source": [
        "cols_a_imputar = ['rooms','bedrooms','bathrooms','surface_total','surface_covered','lat','lon']\n",
        "# crear nuevas columnas para indicar los valores imputados\n",
        "for column in cols_a_imputar:\n",
        "    is_imputed_train = np.where(df_train[column].isnull(), True, False)\n",
        "    is_imputed_test = np.where(df_test[column].isnull(), True, False)\n",
        "    df_train[column + '_imputed'] = is_imputed_train\n",
        "    df_test[column + '_imputed'] = is_imputed_test"
      ]
    },
    {
      "cell_type": "code",
      "execution_count": 665,
      "metadata": {
        "id": "_0-9OWF-_Sbl"
      },
      "outputs": [],
      "source": [
        "#df_train['train_test'] = 'train'\n",
        "#df_test['train_test'] = 'test'\n",
        "\n",
        "#df = pd.concat((df_train,df_test),axis=0)\n",
        "\n",
        "#df.loc[(df.bathrooms.isna())&(df.description.str.contains('(dos|2) baños'))   ,'bathrooms'] = 2\n",
        "#df.loc[(df.bathrooms.isna())&(df.description.str.contains('(tres|3) baños'))  ,'bathrooms'] = 3\n",
        "#df.loc[(df.bathrooms.isna())&(df.description.str.contains('(cuatro|4) baños')),'bathrooms'] = 4\n",
        "#df.loc[(df.bathrooms.isna())&(df.description.str.contains('(cinco|5) baños')) ,'bathrooms'] = 5\n",
        "#df.loc[(df.bathrooms.isna())&(df.description.str.contains('(seis|6) baños'))  ,'bathrooms'] = 6\n",
        "#df.loc[(df.bathrooms.isna())&(df.description.str.contains('baño(\\ |\\.|\\,)'))  ,'bathrooms'] = 1\n",
        "\n",
        "#df_train = df[df.train_test=='train']\n",
        "#df_test = df[df.train_test=='test']\n",
        "\n",
        "#df_train.drop(columns='train_test',inplace=True)\n",
        "#df_test.drop(columns='train_test',inplace=True)"
      ]
    },
    {
      "cell_type": "code",
      "execution_count": 666,
      "metadata": {
        "id": "d9zhRKhQAUi5"
      },
      "outputs": [],
      "source": [
        "from sklearn.experimental import enable_iterative_imputer\n",
        "from sklearn.impute import IterativeImputer"
      ]
    },
    {
      "cell_type": "code",
      "execution_count": 667,
      "metadata": {
        "colab": {
          "base_uri": "https://localhost:8080/"
        },
        "id": "hih_mFzjAUi5",
        "outputId": "891717fa-987b-439b-dd90-447cd4b99456"
      },
      "outputs": [],
      "source": [
        "imp = IterativeImputer(max_iter=20, random_state=42)  # tiene add_indicator\n",
        "\n",
        "grupo_columnas = [['rooms','bedrooms','bathrooms','surface_total','surface_covered'],['lat','lon']]\n",
        "for lista_columnas in grupo_columnas:\n",
        "    df_train[lista_columnas] = imp.fit_transform(df_train[lista_columnas])\n",
        "    df_test[lista_columnas] = imp.transform(df_test[lista_columnas])"
      ]
    },
    {
      "cell_type": "code",
      "execution_count": 668,
      "metadata": {
        "id": "9QyRXAdmAUi6"
      },
      "outputs": [],
      "source": [
        "df_test.rooms      = df_test.rooms.astype('int')\n",
        "df_train.rooms     = df_train.rooms.astype('int')\n",
        "df_test.bedrooms   = df_test.bedrooms.astype('int')\n",
        "df_train.bedrooms  = df_train.bedrooms.astype('int')\n",
        "df_test.bathrooms  = df_test.bathrooms.astype('int')\n",
        "df_train.bathrooms = df_train.bathrooms.astype('int')"
      ]
    },
    {
      "attachments": {},
      "cell_type": "markdown",
      "metadata": {},
      "source": [
        "## Filtrado"
      ]
    },
    {
      "cell_type": "code",
      "execution_count": 669,
      "metadata": {
        "colab": {
          "base_uri": "https://localhost:8080/",
          "height": 363
        },
        "id": "hXD_GgV-AUi7",
        "outputId": "47eeb67f-bf59-4eae-eb14-703368ceaa84"
      },
      "outputs": [
        {
          "data": {
            "text/html": [
              "<div>\n",
              "<style scoped>\n",
              "    .dataframe tbody tr th:only-of-type {\n",
              "        vertical-align: middle;\n",
              "    }\n",
              "\n",
              "    .dataframe tbody tr th {\n",
              "        vertical-align: top;\n",
              "    }\n",
              "\n",
              "    .dataframe thead th {\n",
              "        text-align: right;\n",
              "    }\n",
              "</style>\n",
              "<table border=\"1\" class=\"dataframe\">\n",
              "  <thead>\n",
              "    <tr style=\"text-align: right;\">\n",
              "      <th></th>\n",
              "      <th>property_type</th>\n",
              "      <th>property_type</th>\n",
              "    </tr>\n",
              "  </thead>\n",
              "  <tbody>\n",
              "    <tr>\n",
              "      <th>Departamento</th>\n",
              "      <td>92599</td>\n",
              "      <td>5426</td>\n",
              "    </tr>\n",
              "    <tr>\n",
              "      <th>PH</th>\n",
              "      <td>9878</td>\n",
              "      <td>574</td>\n",
              "    </tr>\n",
              "  </tbody>\n",
              "</table>\n",
              "</div>"
            ],
            "text/plain": [
              "              property_type  property_type\n",
              "Departamento          92599           5426\n",
              "PH                     9878            574"
            ]
          },
          "execution_count": 669,
          "metadata": {},
          "output_type": "execute_result"
        }
      ],
      "source": [
        "pd.concat((df_train.property_type.value_counts(dropna=False),\n",
        "           df_test.property_type.value_counts(dropna=False)),axis=1).sort_index()"
      ]
    },
    {
      "cell_type": "code",
      "execution_count": 670,
      "metadata": {
        "colab": {
          "base_uri": "https://localhost:8080/",
          "height": 771
        },
        "id": "K6sOe6yxAUi7",
        "outputId": "eac4c0e0-17a7-4ed0-b584-be20e7f7628e"
      },
      "outputs": [
        {
          "data": {
            "text/html": [
              "<div>\n",
              "<style scoped>\n",
              "    .dataframe tbody tr th:only-of-type {\n",
              "        vertical-align: middle;\n",
              "    }\n",
              "\n",
              "    .dataframe tbody tr th {\n",
              "        vertical-align: top;\n",
              "    }\n",
              "\n",
              "    .dataframe thead th {\n",
              "        text-align: right;\n",
              "    }\n",
              "</style>\n",
              "<table border=\"1\" class=\"dataframe\">\n",
              "  <thead>\n",
              "    <tr style=\"text-align: right;\">\n",
              "      <th></th>\n",
              "      <th>bathrooms</th>\n",
              "      <th>bathrooms</th>\n",
              "    </tr>\n",
              "  </thead>\n",
              "  <tbody>\n",
              "    <tr>\n",
              "      <th>1</th>\n",
              "      <td>68986</td>\n",
              "      <td>4605.0</td>\n",
              "    </tr>\n",
              "    <tr>\n",
              "      <th>2</th>\n",
              "      <td>22962</td>\n",
              "      <td>1227.0</td>\n",
              "    </tr>\n",
              "    <tr>\n",
              "      <th>3</th>\n",
              "      <td>6732</td>\n",
              "      <td>144.0</td>\n",
              "    </tr>\n",
              "    <tr>\n",
              "      <th>4</th>\n",
              "      <td>2188</td>\n",
              "      <td>20.0</td>\n",
              "    </tr>\n",
              "    <tr>\n",
              "      <th>0</th>\n",
              "      <td>860</td>\n",
              "      <td>NaN</td>\n",
              "    </tr>\n",
              "    <tr>\n",
              "      <th>5</th>\n",
              "      <td>588</td>\n",
              "      <td>1.0</td>\n",
              "    </tr>\n",
              "    <tr>\n",
              "      <th>6</th>\n",
              "      <td>107</td>\n",
              "      <td>3.0</td>\n",
              "    </tr>\n",
              "    <tr>\n",
              "      <th>7</th>\n",
              "      <td>20</td>\n",
              "      <td>NaN</td>\n",
              "    </tr>\n",
              "    <tr>\n",
              "      <th>8</th>\n",
              "      <td>9</td>\n",
              "      <td>NaN</td>\n",
              "    </tr>\n",
              "    <tr>\n",
              "      <th>16</th>\n",
              "      <td>4</td>\n",
              "      <td>NaN</td>\n",
              "    </tr>\n",
              "    <tr>\n",
              "      <th>11</th>\n",
              "      <td>4</td>\n",
              "      <td>NaN</td>\n",
              "    </tr>\n",
              "    <tr>\n",
              "      <th>9</th>\n",
              "      <td>4</td>\n",
              "      <td>NaN</td>\n",
              "    </tr>\n",
              "    <tr>\n",
              "      <th>33</th>\n",
              "      <td>3</td>\n",
              "      <td>NaN</td>\n",
              "    </tr>\n",
              "    <tr>\n",
              "      <th>10</th>\n",
              "      <td>2</td>\n",
              "      <td>NaN</td>\n",
              "    </tr>\n",
              "    <tr>\n",
              "      <th>66</th>\n",
              "      <td>2</td>\n",
              "      <td>NaN</td>\n",
              "    </tr>\n",
              "    <tr>\n",
              "      <th>30</th>\n",
              "      <td>1</td>\n",
              "      <td>NaN</td>\n",
              "    </tr>\n",
              "    <tr>\n",
              "      <th>131</th>\n",
              "      <td>1</td>\n",
              "      <td>NaN</td>\n",
              "    </tr>\n",
              "    <tr>\n",
              "      <th>56</th>\n",
              "      <td>1</td>\n",
              "      <td>NaN</td>\n",
              "    </tr>\n",
              "    <tr>\n",
              "      <th>12</th>\n",
              "      <td>1</td>\n",
              "      <td>NaN</td>\n",
              "    </tr>\n",
              "    <tr>\n",
              "      <th>18</th>\n",
              "      <td>1</td>\n",
              "      <td>NaN</td>\n",
              "    </tr>\n",
              "    <tr>\n",
              "      <th>20</th>\n",
              "      <td>1</td>\n",
              "      <td>NaN</td>\n",
              "    </tr>\n",
              "  </tbody>\n",
              "</table>\n",
              "</div>"
            ],
            "text/plain": [
              "     bathrooms  bathrooms\n",
              "1        68986     4605.0\n",
              "2        22962     1227.0\n",
              "3         6732      144.0\n",
              "4         2188       20.0\n",
              "0          860        NaN\n",
              "5          588        1.0\n",
              "6          107        3.0\n",
              "7           20        NaN\n",
              "8            9        NaN\n",
              "16           4        NaN\n",
              "11           4        NaN\n",
              "9            4        NaN\n",
              "33           3        NaN\n",
              "10           2        NaN\n",
              "66           2        NaN\n",
              "30           1        NaN\n",
              "131          1        NaN\n",
              "56           1        NaN\n",
              "12           1        NaN\n",
              "18           1        NaN\n",
              "20           1        NaN"
            ]
          },
          "execution_count": 670,
          "metadata": {},
          "output_type": "execute_result"
        }
      ],
      "source": [
        "pd.concat((df_train.bathrooms.value_counts(dropna=False),\n",
        "           df_test.bathrooms.value_counts(dropna=False)),axis=1)"
      ]
    },
    {
      "cell_type": "code",
      "execution_count": 671,
      "metadata": {
        "colab": {
          "base_uri": "https://localhost:8080/"
        },
        "id": "TP3MXGKzAUi8",
        "outputId": "b58cb15a-6a16-49ec-cb77-2c592fc47095"
      },
      "outputs": [
        {
          "data": {
            "text/plain": [
              "(102458, 31)"
            ]
          },
          "execution_count": 671,
          "metadata": {},
          "output_type": "execute_result"
        }
      ],
      "source": [
        "df_train = df_train[(df_train['bathrooms']<=10) | (df_train['bathrooms'].isnull())]\n",
        "df_train.shape"
      ]
    },
    {
      "cell_type": "code",
      "execution_count": 672,
      "metadata": {
        "colab": {
          "base_uri": "https://localhost:8080/",
          "height": 645
        },
        "id": "KbopOZ1jAUi9",
        "outputId": "e8e2729d-83ec-4950-82e3-9cf941bbbac6"
      },
      "outputs": [
        {
          "data": {
            "text/html": [
              "<div>\n",
              "<style scoped>\n",
              "    .dataframe tbody tr th:only-of-type {\n",
              "        vertical-align: middle;\n",
              "    }\n",
              "\n",
              "    .dataframe tbody tr th {\n",
              "        vertical-align: top;\n",
              "    }\n",
              "\n",
              "    .dataframe thead th {\n",
              "        text-align: right;\n",
              "    }\n",
              "</style>\n",
              "<table border=\"1\" class=\"dataframe\">\n",
              "  <thead>\n",
              "    <tr style=\"text-align: right;\">\n",
              "      <th></th>\n",
              "      <th>rooms</th>\n",
              "      <th>rooms</th>\n",
              "    </tr>\n",
              "  </thead>\n",
              "  <tbody>\n",
              "    <tr>\n",
              "      <th>1</th>\n",
              "      <td>20683</td>\n",
              "      <td>NaN</td>\n",
              "    </tr>\n",
              "    <tr>\n",
              "      <th>2</th>\n",
              "      <td>30539</td>\n",
              "      <td>2984.0</td>\n",
              "    </tr>\n",
              "    <tr>\n",
              "      <th>3</th>\n",
              "      <td>26686</td>\n",
              "      <td>3016.0</td>\n",
              "    </tr>\n",
              "    <tr>\n",
              "      <th>4</th>\n",
              "      <td>17708</td>\n",
              "      <td>NaN</td>\n",
              "    </tr>\n",
              "    <tr>\n",
              "      <th>5</th>\n",
              "      <td>4634</td>\n",
              "      <td>NaN</td>\n",
              "    </tr>\n",
              "    <tr>\n",
              "      <th>6</th>\n",
              "      <td>1301</td>\n",
              "      <td>NaN</td>\n",
              "    </tr>\n",
              "    <tr>\n",
              "      <th>7</th>\n",
              "      <td>491</td>\n",
              "      <td>NaN</td>\n",
              "    </tr>\n",
              "    <tr>\n",
              "      <th>8</th>\n",
              "      <td>263</td>\n",
              "      <td>NaN</td>\n",
              "    </tr>\n",
              "    <tr>\n",
              "      <th>9</th>\n",
              "      <td>46</td>\n",
              "      <td>NaN</td>\n",
              "    </tr>\n",
              "    <tr>\n",
              "      <th>10</th>\n",
              "      <td>48</td>\n",
              "      <td>NaN</td>\n",
              "    </tr>\n",
              "    <tr>\n",
              "      <th>11</th>\n",
              "      <td>15</td>\n",
              "      <td>NaN</td>\n",
              "    </tr>\n",
              "    <tr>\n",
              "      <th>12</th>\n",
              "      <td>20</td>\n",
              "      <td>NaN</td>\n",
              "    </tr>\n",
              "    <tr>\n",
              "      <th>14</th>\n",
              "      <td>6</td>\n",
              "      <td>NaN</td>\n",
              "    </tr>\n",
              "    <tr>\n",
              "      <th>15</th>\n",
              "      <td>8</td>\n",
              "      <td>NaN</td>\n",
              "    </tr>\n",
              "    <tr>\n",
              "      <th>16</th>\n",
              "      <td>3</td>\n",
              "      <td>NaN</td>\n",
              "    </tr>\n",
              "    <tr>\n",
              "      <th>18</th>\n",
              "      <td>1</td>\n",
              "      <td>NaN</td>\n",
              "    </tr>\n",
              "    <tr>\n",
              "      <th>20</th>\n",
              "      <td>2</td>\n",
              "      <td>NaN</td>\n",
              "    </tr>\n",
              "    <tr>\n",
              "      <th>21</th>\n",
              "      <td>1</td>\n",
              "      <td>NaN</td>\n",
              "    </tr>\n",
              "    <tr>\n",
              "      <th>22</th>\n",
              "      <td>1</td>\n",
              "      <td>NaN</td>\n",
              "    </tr>\n",
              "    <tr>\n",
              "      <th>30</th>\n",
              "      <td>1</td>\n",
              "      <td>NaN</td>\n",
              "    </tr>\n",
              "    <tr>\n",
              "      <th>32</th>\n",
              "      <td>1</td>\n",
              "      <td>NaN</td>\n",
              "    </tr>\n",
              "  </tbody>\n",
              "</table>\n",
              "</div>"
            ],
            "text/plain": [
              "    rooms   rooms\n",
              "1   20683     NaN\n",
              "2   30539  2984.0\n",
              "3   26686  3016.0\n",
              "4   17708     NaN\n",
              "5    4634     NaN\n",
              "6    1301     NaN\n",
              "7     491     NaN\n",
              "8     263     NaN\n",
              "9      46     NaN\n",
              "10     48     NaN\n",
              "11     15     NaN\n",
              "12     20     NaN\n",
              "14      6     NaN\n",
              "15      8     NaN\n",
              "16      3     NaN\n",
              "18      1     NaN\n",
              "20      2     NaN\n",
              "21      1     NaN\n",
              "22      1     NaN\n",
              "30      1     NaN\n",
              "32      1     NaN"
            ]
          },
          "execution_count": 672,
          "metadata": {},
          "output_type": "execute_result"
        }
      ],
      "source": [
        "pd.concat((df_train.rooms.value_counts(dropna=False),\n",
        "           df_test.rooms.value_counts(dropna=False)),axis=1).sort_index()"
      ]
    },
    {
      "cell_type": "code",
      "execution_count": 673,
      "metadata": {
        "colab": {
          "base_uri": "https://localhost:8080/"
        },
        "id": "Fzzqo43QAUi-",
        "outputId": "c3af62b8-c301-4ee9-e71d-86a4b5aedaef"
      },
      "outputs": [
        {
          "data": {
            "text/plain": [
              "(100250, 31)"
            ]
          },
          "execution_count": 673,
          "metadata": {},
          "output_type": "execute_result"
        }
      ],
      "source": [
        "df_train = df_train[(df_train.rooms<6) |(df_train.rooms.isnull())]\n",
        "df_train.shape"
      ]
    },
    {
      "cell_type": "code",
      "execution_count": 674,
      "metadata": {
        "colab": {
          "base_uri": "https://localhost:8080/",
          "height": 677
        },
        "id": "4Tszl6jKAUi_",
        "outputId": "31540542-d429-49d6-9ad2-31c892776301"
      },
      "outputs": [
        {
          "data": {
            "text/html": [
              "<div>\n",
              "<style scoped>\n",
              "    .dataframe tbody tr th:only-of-type {\n",
              "        vertical-align: middle;\n",
              "    }\n",
              "\n",
              "    .dataframe tbody tr th {\n",
              "        vertical-align: top;\n",
              "    }\n",
              "\n",
              "    .dataframe thead th {\n",
              "        text-align: right;\n",
              "    }\n",
              "</style>\n",
              "<table border=\"1\" class=\"dataframe\">\n",
              "  <thead>\n",
              "    <tr style=\"text-align: right;\">\n",
              "      <th></th>\n",
              "      <th>bedrooms</th>\n",
              "      <th>bedrooms</th>\n",
              "    </tr>\n",
              "  </thead>\n",
              "  <tbody>\n",
              "    <tr>\n",
              "      <th>0</th>\n",
              "      <td>15240</td>\n",
              "      <td>3.0</td>\n",
              "    </tr>\n",
              "    <tr>\n",
              "      <th>1</th>\n",
              "      <td>38196</td>\n",
              "      <td>3268.0</td>\n",
              "    </tr>\n",
              "    <tr>\n",
              "      <th>2</th>\n",
              "      <td>27835</td>\n",
              "      <td>2704.0</td>\n",
              "    </tr>\n",
              "    <tr>\n",
              "      <th>3</th>\n",
              "      <td>16094</td>\n",
              "      <td>23.0</td>\n",
              "    </tr>\n",
              "    <tr>\n",
              "      <th>4</th>\n",
              "      <td>2854</td>\n",
              "      <td>1.0</td>\n",
              "    </tr>\n",
              "    <tr>\n",
              "      <th>5</th>\n",
              "      <td>20</td>\n",
              "      <td>1.0</td>\n",
              "    </tr>\n",
              "    <tr>\n",
              "      <th>6</th>\n",
              "      <td>4</td>\n",
              "      <td>NaN</td>\n",
              "    </tr>\n",
              "    <tr>\n",
              "      <th>7</th>\n",
              "      <td>1</td>\n",
              "      <td>NaN</td>\n",
              "    </tr>\n",
              "    <tr>\n",
              "      <th>9</th>\n",
              "      <td>1</td>\n",
              "      <td>NaN</td>\n",
              "    </tr>\n",
              "    <tr>\n",
              "      <th>10</th>\n",
              "      <td>1</td>\n",
              "      <td>NaN</td>\n",
              "    </tr>\n",
              "    <tr>\n",
              "      <th>11</th>\n",
              "      <td>2</td>\n",
              "      <td>NaN</td>\n",
              "    </tr>\n",
              "    <tr>\n",
              "      <th>15</th>\n",
              "      <td>1</td>\n",
              "      <td>NaN</td>\n",
              "    </tr>\n",
              "    <tr>\n",
              "      <th>60</th>\n",
              "      <td>1</td>\n",
              "      <td>NaN</td>\n",
              "    </tr>\n",
              "  </tbody>\n",
              "</table>\n",
              "</div>"
            ],
            "text/plain": [
              "    bedrooms  bedrooms\n",
              "0      15240       3.0\n",
              "1      38196    3268.0\n",
              "2      27835    2704.0\n",
              "3      16094      23.0\n",
              "4       2854       1.0\n",
              "5         20       1.0\n",
              "6          4       NaN\n",
              "7          1       NaN\n",
              "9          1       NaN\n",
              "10         1       NaN\n",
              "11         2       NaN\n",
              "15         1       NaN\n",
              "60         1       NaN"
            ]
          },
          "execution_count": 674,
          "metadata": {},
          "output_type": "execute_result"
        }
      ],
      "source": [
        "pd.concat((df_train.bedrooms.value_counts(dropna=False),\n",
        "           df_test.bedrooms.value_counts(dropna=False)),axis=1).sort_index()"
      ]
    },
    {
      "cell_type": "code",
      "execution_count": 675,
      "metadata": {
        "colab": {
          "base_uri": "https://localhost:8080/"
        },
        "id": "GWAl_drOAUjA",
        "outputId": "334da39d-0644-48ac-af5d-5dc1acf7994c"
      },
      "outputs": [
        {
          "data": {
            "text/plain": [
              "(100250, 31)"
            ]
          },
          "execution_count": 675,
          "metadata": {},
          "output_type": "execute_result"
        }
      ],
      "source": [
        "df_train.loc[df_train.bedrooms==-1,'bedrooms'] = 0\n",
        "# df_train = df_train[(df_train.bedrooms<6) |(df_train.bedrooms.isnull())]\n",
        "df_train.shape"
      ]
    },
    {
      "cell_type": "code",
      "execution_count": 676,
      "metadata": {
        "colab": {
          "base_uri": "https://localhost:8080/",
          "height": 513
        },
        "id": "bl7Glh5wAUjB",
        "outputId": "086bca70-1b66-4ea3-b5b3-710f7240cfbb"
      },
      "outputs": [
        {
          "data": {
            "text/plain": [
              "<AxesSubplot: xlabel='surface_covered'>"
            ]
          },
          "execution_count": 676,
          "metadata": {},
          "output_type": "execute_result"
        },
        {
          "data": {
            "image/png": "[encoded data removed]",
            "text/plain": [
              "<Figure size 2000x800 with 2 Axes>"
            ]
          },
          "metadata": {},
          "output_type": "display_data"
        }
      ],
      "source": [
        "fig, ax = plt.subplots(nrows=2,figsize=(20,8))\n",
        "sns.boxplot(data=df_train,x='surface_covered',ax=ax[0])\n",
        "sns.boxplot(data=df_test,x='surface_covered',ax=ax[1])"
      ]
    },
    {
      "cell_type": "code",
      "execution_count": 677,
      "metadata": {
        "colab": {
          "base_uri": "https://localhost:8080/",
          "height": 112
        },
        "id": "DGeQDbr-AUjB",
        "outputId": "c87c2d92-b6af-43bf-f105-00adc5146b56"
      },
      "outputs": [
        {
          "data": {
            "text/html": [
              "<div>\n",
              "<style scoped>\n",
              "    .dataframe tbody tr th:only-of-type {\n",
              "        vertical-align: middle;\n",
              "    }\n",
              "\n",
              "    .dataframe tbody tr th {\n",
              "        vertical-align: top;\n",
              "    }\n",
              "\n",
              "    .dataframe thead th {\n",
              "        text-align: right;\n",
              "    }\n",
              "</style>\n",
              "<table border=\"1\" class=\"dataframe\">\n",
              "  <thead>\n",
              "    <tr style=\"text-align: right;\">\n",
              "      <th></th>\n",
              "      <th>count</th>\n",
              "      <th>mean</th>\n",
              "      <th>std</th>\n",
              "      <th>min</th>\n",
              "      <th>25%</th>\n",
              "      <th>50%</th>\n",
              "      <th>75%</th>\n",
              "      <th>max</th>\n",
              "    </tr>\n",
              "  </thead>\n",
              "  <tbody>\n",
              "    <tr>\n",
              "      <th>surface_covered</th>\n",
              "      <td>100250.0</td>\n",
              "      <td>78.398369</td>\n",
              "      <td>727.052052</td>\n",
              "      <td>1.0</td>\n",
              "      <td>40.0</td>\n",
              "      <td>57.0</td>\n",
              "      <td>85.0</td>\n",
              "      <td>126062.0</td>\n",
              "    </tr>\n",
              "    <tr>\n",
              "      <th>surface_total</th>\n",
              "      <td>100250.0</td>\n",
              "      <td>95.607483</td>\n",
              "      <td>848.275866</td>\n",
              "      <td>0.0</td>\n",
              "      <td>44.0</td>\n",
              "      <td>68.0</td>\n",
              "      <td>102.0</td>\n",
              "      <td>126062.0</td>\n",
              "    </tr>\n",
              "  </tbody>\n",
              "</table>\n",
              "</div>"
            ],
            "text/plain": [
              "                    count       mean         std  min   25%   50%    75%  \\\n",
              "surface_covered  100250.0  78.398369  727.052052  1.0  40.0  57.0   85.0   \n",
              "surface_total    100250.0  95.607483  848.275866  0.0  44.0  68.0  102.0   \n",
              "\n",
              "                      max  \n",
              "surface_covered  126062.0  \n",
              "surface_total    126062.0  "
            ]
          },
          "execution_count": 677,
          "metadata": {},
          "output_type": "execute_result"
        }
      ],
      "source": [
        "df_train[['surface_covered','surface_total']].describe().T"
      ]
    },
    {
      "cell_type": "code",
      "execution_count": 678,
      "metadata": {
        "colab": {
          "base_uri": "https://localhost:8080/",
          "height": 112
        },
        "id": "iBqBxMX3AUjB",
        "outputId": "0745d300-b3ab-41f6-fe6c-db8bce2c66c9"
      },
      "outputs": [
        {
          "data": {
            "text/html": [
              "<div>\n",
              "<style scoped>\n",
              "    .dataframe tbody tr th:only-of-type {\n",
              "        vertical-align: middle;\n",
              "    }\n",
              "\n",
              "    .dataframe tbody tr th {\n",
              "        vertical-align: top;\n",
              "    }\n",
              "\n",
              "    .dataframe thead th {\n",
              "        text-align: right;\n",
              "    }\n",
              "</style>\n",
              "<table border=\"1\" class=\"dataframe\">\n",
              "  <thead>\n",
              "    <tr style=\"text-align: right;\">\n",
              "      <th></th>\n",
              "      <th>count</th>\n",
              "      <th>mean</th>\n",
              "      <th>std</th>\n",
              "      <th>min</th>\n",
              "      <th>25%</th>\n",
              "      <th>50%</th>\n",
              "      <th>75%</th>\n",
              "      <th>max</th>\n",
              "    </tr>\n",
              "  </thead>\n",
              "  <tbody>\n",
              "    <tr>\n",
              "      <th>surface_covered</th>\n",
              "      <td>6000.0</td>\n",
              "      <td>76.651663</td>\n",
              "      <td>672.817535</td>\n",
              "      <td>10.0</td>\n",
              "      <td>45.0</td>\n",
              "      <td>56.353441</td>\n",
              "      <td>73.0000</td>\n",
              "      <td>47360.0</td>\n",
              "    </tr>\n",
              "    <tr>\n",
              "      <th>surface_total</th>\n",
              "      <td>6000.0</td>\n",
              "      <td>91.493766</td>\n",
              "      <td>751.472659</td>\n",
              "      <td>21.0</td>\n",
              "      <td>51.0</td>\n",
              "      <td>68.000000</td>\n",
              "      <td>84.7017</td>\n",
              "      <td>47360.0</td>\n",
              "    </tr>\n",
              "  </tbody>\n",
              "</table>\n",
              "</div>"
            ],
            "text/plain": [
              "                  count       mean         std   min   25%        50%  \\\n",
              "surface_covered  6000.0  76.651663  672.817535  10.0  45.0  56.353441   \n",
              "surface_total    6000.0  91.493766  751.472659  21.0  51.0  68.000000   \n",
              "\n",
              "                     75%      max  \n",
              "surface_covered  73.0000  47360.0  \n",
              "surface_total    84.7017  47360.0  "
            ]
          },
          "execution_count": 678,
          "metadata": {},
          "output_type": "execute_result"
        }
      ],
      "source": [
        "df_test[['surface_covered','surface_total']].describe().T"
      ]
    },
    {
      "cell_type": "code",
      "execution_count": 679,
      "metadata": {
        "colab": {
          "base_uri": "https://localhost:8080/"
        },
        "id": "bJG3o_KNAUjC",
        "outputId": "5611391c-dfef-444b-a10f-a24f634f618b"
      },
      "outputs": [
        {
          "data": {
            "text/plain": [
              "(100184, 31)"
            ]
          },
          "execution_count": 679,
          "metadata": {},
          "output_type": "execute_result"
        }
      ],
      "source": [
        "df_train = df_train[((df_train['surface_covered']>=5)&(df_train['surface_covered']<50000))]#|(df_train['surface_covered'].isnull())]\n",
        "df_train.shape"
      ]
    },
    {
      "cell_type": "code",
      "execution_count": 680,
      "metadata": {
        "colab": {
          "base_uri": "https://localhost:8080/",
          "height": 513
        },
        "id": "sKYNXHR8AUjC",
        "outputId": "5a7008aa-5053-4ed8-a8c3-5cbf043d926a"
      },
      "outputs": [
        {
          "data": {
            "text/plain": [
              "<AxesSubplot: xlabel='surface_total'>"
            ]
          },
          "execution_count": 680,
          "metadata": {},
          "output_type": "execute_result"
        },
        {
          "data": {
            "image/png": "[encoded data removed]",
            "text/plain": [
              "<Figure size 2000x800 with 2 Axes>"
            ]
          },
          "metadata": {},
          "output_type": "display_data"
        }
      ],
      "source": [
        "fig, ax = plt.subplots(nrows=2,figsize=(20,8))\n",
        "sns.boxplot(data=df_train,x='surface_total',ax=ax[0])\n",
        "sns.boxplot(data=df_test,x='surface_total',ax=ax[1])"
      ]
    },
    {
      "cell_type": "code",
      "execution_count": 681,
      "metadata": {
        "colab": {
          "base_uri": "https://localhost:8080/",
          "height": 112
        },
        "id": "C0D3rfy7AUjC",
        "outputId": "af10cfd2-60a8-4b93-daea-45ede8a03e3a"
      },
      "outputs": [
        {
          "data": {
            "text/html": [
              "<div>\n",
              "<style scoped>\n",
              "    .dataframe tbody tr th:only-of-type {\n",
              "        vertical-align: middle;\n",
              "    }\n",
              "\n",
              "    .dataframe tbody tr th {\n",
              "        vertical-align: top;\n",
              "    }\n",
              "\n",
              "    .dataframe thead th {\n",
              "        text-align: right;\n",
              "    }\n",
              "</style>\n",
              "<table border=\"1\" class=\"dataframe\">\n",
              "  <thead>\n",
              "    <tr style=\"text-align: right;\">\n",
              "      <th></th>\n",
              "      <th>count</th>\n",
              "      <th>mean</th>\n",
              "      <th>std</th>\n",
              "      <th>min</th>\n",
              "      <th>25%</th>\n",
              "      <th>50%</th>\n",
              "      <th>75%</th>\n",
              "      <th>max</th>\n",
              "    </tr>\n",
              "  </thead>\n",
              "  <tbody>\n",
              "    <tr>\n",
              "      <th>surface_covered</th>\n",
              "      <td>100184.0</td>\n",
              "      <td>74.049738</td>\n",
              "      <td>203.812334</td>\n",
              "      <td>5.0</td>\n",
              "      <td>40.0</td>\n",
              "      <td>57.0</td>\n",
              "      <td>85.0</td>\n",
              "      <td>31550.0</td>\n",
              "    </tr>\n",
              "    <tr>\n",
              "      <th>surface_total</th>\n",
              "      <td>100184.0</td>\n",
              "      <td>91.253958</td>\n",
              "      <td>482.476855</td>\n",
              "      <td>0.0</td>\n",
              "      <td>44.0</td>\n",
              "      <td>68.0</td>\n",
              "      <td>102.0</td>\n",
              "      <td>108960.0</td>\n",
              "    </tr>\n",
              "  </tbody>\n",
              "</table>\n",
              "</div>"
            ],
            "text/plain": [
              "                    count       mean         std  min   25%   50%    75%  \\\n",
              "surface_covered  100184.0  74.049738  203.812334  5.0  40.0  57.0   85.0   \n",
              "surface_total    100184.0  91.253958  482.476855  0.0  44.0  68.0  102.0   \n",
              "\n",
              "                      max  \n",
              "surface_covered   31550.0  \n",
              "surface_total    108960.0  "
            ]
          },
          "execution_count": 681,
          "metadata": {},
          "output_type": "execute_result"
        }
      ],
      "source": [
        "df_train[['surface_covered','surface_total']].describe().T"
      ]
    },
    {
      "cell_type": "code",
      "execution_count": 682,
      "metadata": {
        "colab": {
          "base_uri": "https://localhost:8080/",
          "height": 112
        },
        "id": "1Mj6fePWAUjD",
        "outputId": "b682b22f-9a49-4886-fe98-91524ea692aa"
      },
      "outputs": [
        {
          "data": {
            "text/html": [
              "<div>\n",
              "<style scoped>\n",
              "    .dataframe tbody tr th:only-of-type {\n",
              "        vertical-align: middle;\n",
              "    }\n",
              "\n",
              "    .dataframe tbody tr th {\n",
              "        vertical-align: top;\n",
              "    }\n",
              "\n",
              "    .dataframe thead th {\n",
              "        text-align: right;\n",
              "    }\n",
              "</style>\n",
              "<table border=\"1\" class=\"dataframe\">\n",
              "  <thead>\n",
              "    <tr style=\"text-align: right;\">\n",
              "      <th></th>\n",
              "      <th>count</th>\n",
              "      <th>mean</th>\n",
              "      <th>std</th>\n",
              "      <th>min</th>\n",
              "      <th>25%</th>\n",
              "      <th>50%</th>\n",
              "      <th>75%</th>\n",
              "      <th>max</th>\n",
              "    </tr>\n",
              "  </thead>\n",
              "  <tbody>\n",
              "    <tr>\n",
              "      <th>surface_covered</th>\n",
              "      <td>6000.0</td>\n",
              "      <td>76.651663</td>\n",
              "      <td>672.817535</td>\n",
              "      <td>10.0</td>\n",
              "      <td>45.0</td>\n",
              "      <td>56.353441</td>\n",
              "      <td>73.0000</td>\n",
              "      <td>47360.0</td>\n",
              "    </tr>\n",
              "    <tr>\n",
              "      <th>surface_total</th>\n",
              "      <td>6000.0</td>\n",
              "      <td>91.493766</td>\n",
              "      <td>751.472659</td>\n",
              "      <td>21.0</td>\n",
              "      <td>51.0</td>\n",
              "      <td>68.000000</td>\n",
              "      <td>84.7017</td>\n",
              "      <td>47360.0</td>\n",
              "    </tr>\n",
              "  </tbody>\n",
              "</table>\n",
              "</div>"
            ],
            "text/plain": [
              "                  count       mean         std   min   25%        50%  \\\n",
              "surface_covered  6000.0  76.651663  672.817535  10.0  45.0  56.353441   \n",
              "surface_total    6000.0  91.493766  751.472659  21.0  51.0  68.000000   \n",
              "\n",
              "                     75%      max  \n",
              "surface_covered  73.0000  47360.0  \n",
              "surface_total    84.7017  47360.0  "
            ]
          },
          "execution_count": 682,
          "metadata": {},
          "output_type": "execute_result"
        }
      ],
      "source": [
        "df_test[['surface_covered','surface_total']].describe().T"
      ]
    },
    {
      "cell_type": "code",
      "execution_count": 683,
      "metadata": {
        "colab": {
          "base_uri": "https://localhost:8080/"
        },
        "id": "L55ygcYWAUjD",
        "outputId": "7ef41292-1063-468f-ca69-e3ea70674d14"
      },
      "outputs": [
        {
          "data": {
            "text/plain": [
              "(100178, 31)"
            ]
          },
          "execution_count": 683,
          "metadata": {},
          "output_type": "execute_result"
        }
      ],
      "source": [
        "df_train = df_train[((df_train['surface_total']>=2)&(df_train['surface_total']<50000))|(df_train['surface_total'].isnull())]\n",
        "df_train.shape"
      ]
    },
    {
      "cell_type": "code",
      "execution_count": 684,
      "metadata": {
        "colab": {
          "base_uri": "https://localhost:8080/",
          "height": 112
        },
        "id": "wlCVJcLgAUjD",
        "outputId": "af381dbf-06db-48ae-f4cd-b02d16586d30"
      },
      "outputs": [
        {
          "data": {
            "text/html": [
              "<div>\n",
              "<style scoped>\n",
              "    .dataframe tbody tr th:only-of-type {\n",
              "        vertical-align: middle;\n",
              "    }\n",
              "\n",
              "    .dataframe tbody tr th {\n",
              "        vertical-align: top;\n",
              "    }\n",
              "\n",
              "    .dataframe thead th {\n",
              "        text-align: right;\n",
              "    }\n",
              "</style>\n",
              "<table border=\"1\" class=\"dataframe\">\n",
              "  <thead>\n",
              "    <tr style=\"text-align: right;\">\n",
              "      <th></th>\n",
              "      <th>count</th>\n",
              "      <th>mean</th>\n",
              "      <th>std</th>\n",
              "      <th>min</th>\n",
              "      <th>25%</th>\n",
              "      <th>50%</th>\n",
              "      <th>75%</th>\n",
              "      <th>max</th>\n",
              "    </tr>\n",
              "  </thead>\n",
              "  <tbody>\n",
              "    <tr>\n",
              "      <th>surface_covered</th>\n",
              "      <td>100178.0</td>\n",
              "      <td>74.052910</td>\n",
              "      <td>203.817929</td>\n",
              "      <td>5.0</td>\n",
              "      <td>40.0</td>\n",
              "      <td>57.000000</td>\n",
              "      <td>85.0000</td>\n",
              "      <td>31550.0</td>\n",
              "    </tr>\n",
              "    <tr>\n",
              "      <th>surface_total</th>\n",
              "      <td>100178.0</td>\n",
              "      <td>90.171759</td>\n",
              "      <td>338.351370</td>\n",
              "      <td>10.0</td>\n",
              "      <td>44.0</td>\n",
              "      <td>68.000000</td>\n",
              "      <td>102.0000</td>\n",
              "      <td>48170.0</td>\n",
              "    </tr>\n",
              "    <tr>\n",
              "      <th>surface_covered</th>\n",
              "      <td>6000.0</td>\n",
              "      <td>76.651663</td>\n",
              "      <td>672.817535</td>\n",
              "      <td>10.0</td>\n",
              "      <td>45.0</td>\n",
              "      <td>56.353441</td>\n",
              "      <td>73.0000</td>\n",
              "      <td>47360.0</td>\n",
              "    </tr>\n",
              "    <tr>\n",
              "      <th>surface_total</th>\n",
              "      <td>6000.0</td>\n",
              "      <td>91.493766</td>\n",
              "      <td>751.472659</td>\n",
              "      <td>21.0</td>\n",
              "      <td>51.0</td>\n",
              "      <td>68.000000</td>\n",
              "      <td>84.7017</td>\n",
              "      <td>47360.0</td>\n",
              "    </tr>\n",
              "  </tbody>\n",
              "</table>\n",
              "</div>"
            ],
            "text/plain": [
              "                    count       mean         std   min   25%        50%  \\\n",
              "surface_covered  100178.0  74.052910  203.817929   5.0  40.0  57.000000   \n",
              "surface_total    100178.0  90.171759  338.351370  10.0  44.0  68.000000   \n",
              "surface_covered    6000.0  76.651663  672.817535  10.0  45.0  56.353441   \n",
              "surface_total      6000.0  91.493766  751.472659  21.0  51.0  68.000000   \n",
              "\n",
              "                      75%      max  \n",
              "surface_covered   85.0000  31550.0  \n",
              "surface_total    102.0000  48170.0  \n",
              "surface_covered   73.0000  47360.0  \n",
              "surface_total     84.7017  47360.0  "
            ]
          },
          "execution_count": 684,
          "metadata": {},
          "output_type": "execute_result"
        }
      ],
      "source": [
        "pd.concat((df_train[['surface_covered','surface_total']].describe().T,\n",
        "           df_test[['surface_covered','surface_total']].describe().T),axis=0)"
      ]
    },
    {
      "attachments": {},
      "cell_type": "markdown",
      "metadata": {
        "id": "Yw6Mm3GEAUi2"
      },
      "source": [
        "## Imputación de nulos"
      ]
    },
    {
      "attachments": {},
      "cell_type": "markdown",
      "metadata": {
        "id": "Hq0rV6jxAUjF"
      },
      "source": [
        "## Armado de variables"
      ]
    },
    {
      "cell_type": "code",
      "execution_count": 685,
      "metadata": {
        "colab": {
          "base_uri": "https://localhost:8080/"
        },
        "id": "1nWJvsiiAUjF",
        "outputId": "72a03121-ca89-4e0c-991f-a6e80f107960"
      },
      "outputs": [
        {
          "name": "stderr",
          "output_type": "stream",
          "text": [
            "C:\\Users\\Usuario\\AppData\\Local\\Temp\\ipykernel_8420\\2069691848.py:25: UserWarning: This pattern is interpreted as a regular expression, and has match groups. To actually get the groups, use str.extract.\n",
            "  df[f\"desc_{c}\"] = df[\"description\"].str.contains(c,regex=True)\n",
            "C:\\Users\\Usuario\\AppData\\Local\\Temp\\ipykernel_8420\\2069691848.py:25: UserWarning: This pattern is interpreted as a regular expression, and has match groups. To actually get the groups, use str.extract.\n",
            "  df[f\"desc_{c}\"] = df[\"description\"].str.contains(c,regex=True)\n",
            "C:\\Users\\Usuario\\AppData\\Local\\Temp\\ipykernel_8420\\2069691848.py:25: UserWarning: This pattern is interpreted as a regular expression, and has match groups. To actually get the groups, use str.extract.\n",
            "  df[f\"desc_{c}\"] = df[\"description\"].str.contains(c,regex=True)\n",
            "C:\\Users\\Usuario\\AppData\\Local\\Temp\\ipykernel_8420\\2069691848.py:25: UserWarning: This pattern is interpreted as a regular expression, and has match groups. To actually get the groups, use str.extract.\n",
            "  df[f\"desc_{c}\"] = df[\"description\"].str.contains(c,regex=True)\n",
            "C:\\Users\\Usuario\\AppData\\Local\\Temp\\ipykernel_8420\\2069691848.py:25: UserWarning: This pattern is interpreted as a regular expression, and has match groups. To actually get the groups, use str.extract.\n",
            "  df[f\"desc_{c}\"] = df[\"description\"].str.contains(c,regex=True)\n",
            "C:\\Users\\Usuario\\AppData\\Local\\Temp\\ipykernel_8420\\2069691848.py:25: UserWarning: This pattern is interpreted as a regular expression, and has match groups. To actually get the groups, use str.extract.\n",
            "  df[f\"desc_{c}\"] = df[\"description\"].str.contains(c,regex=True)\n"
          ]
        }
      ],
      "source": [
        "df = pd.concat((df_train,df_test),axis=0)\n",
        "\n",
        "df['bathrooms_rooms'] = df['bathrooms']/df['rooms']\n",
        "df['bedrooms_rooms'] = df['bedrooms']/df['rooms']\n",
        "df['covered'] = df['surface_covered']/df['surface_total']\n",
        "\n",
        "df['start_year']  = pd.to_datetime(df['start_date']).dt.year\n",
        "df['start_month'] = pd.to_datetime(df['start_date']).dt.month\n",
        "df['start_day'] = pd.to_datetime(df['start_date']).dt.month\n",
        "\n",
        "df['tiene_esp_abierto'] = 0\n",
        "df.loc[(df['surface_total']-df['surface_covered'])!=0,'tiene_esp_abierto'] = 1\n",
        "\n",
        "df['description'] = df[\"description\"].str.lower().str.replace('á','a').str.replace('é','e').str.replace('í','i').str.replace('ó','o').str.replace('ú','u')\n",
        "#df['title'] = df[\"title\"].str.lower().str.replace('á','a').str.replace('é','e').str.replace('í','i').str.replace('ó','o').str.replace('ú','u')\n",
        "\n",
        "for c in [\"barrio privado\", \"corredor\",'suite','monoambiente','amueblado',\n",
        "          'ascensor','parrilla','patio','balcon','jardin','linea (a|b|b|c|d|e|h)',\n",
        "          'obelisco','catedral','metrobus','barrancas','barrio chino','river',\n",
        "          'universidad','facultad','subte','tren','estacion','museo','parque','jacuzzi',\n",
        "          '(j|y)acu(z|zz)i','sho(pp|p)ing','country','terminal','avenida','av.','av',\n",
        "          'expensa','expensas','a(mm|m)enities','inmobiliaria','dueñ(o|a) direct(o|a)',\n",
        "          'balcon','pileta|piscina','escuela|colegio','centro','microcentro','lago','estilo franc(é|e)s',\n",
        "          'libertador','baulera','hotel','emprendimiento']:\n",
        "    df[f\"desc_{c}\"] = df[\"description\"].str.contains(c,regex=True)\n",
        "    #df[f\"title_{c}\"] = df[\"title\"].str.contains(c,regex=True)"
      ]
    },
    {
      "cell_type": "code",
      "execution_count": 686,
      "metadata": {
        "id": "YnffhsjQAUjH"
      },
      "outputs": [],
      "source": [
        "df_train = df[~df.price.isnull()]\n",
        "df_test = df[df.price.isnull()]"
      ]
    },
    {
      "attachments": {},
      "cell_type": "markdown",
      "metadata": {
        "id": "FIBo-xtfAUjH"
      },
      "source": [
        "## Selección de atributos"
      ]
    },
    {
      "cell_type": "code",
      "execution_count": 687,
      "metadata": {
        "colab": {
          "base_uri": "https://localhost:8080/"
        },
        "id": "cM8kP8ryAUjH",
        "outputId": "d370bbb7-83a4-4688-d10a-ac1d93845b3a"
      },
      "outputs": [
        {
          "name": "stderr",
          "output_type": "stream",
          "text": [
            "C:\\Users\\Usuario\\AppData\\Local\\Temp\\ipykernel_8420\\1215703700.py:2: SettingWithCopyWarning: \n",
            "A value is trying to be set on a copy of a slice from a DataFrame\n",
            "\n",
            "See the caveats in the documentation: https://pandas.pydata.org/pandas-docs/stable/user_guide/indexing.html#returning-a-view-versus-a-copy\n",
            "  df_train.drop(columns=cols,inplace=True)\n",
            "C:\\Users\\Usuario\\AppData\\Local\\Temp\\ipykernel_8420\\1215703700.py:3: SettingWithCopyWarning: \n",
            "A value is trying to be set on a copy of a slice from a DataFrame\n",
            "\n",
            "See the caveats in the documentation: https://pandas.pydata.org/pandas-docs/stable/user_guide/indexing.html#returning-a-view-versus-a-copy\n",
            "  df_test.drop(columns=cols,inplace=True)\n"
          ]
        }
      ],
      "source": [
        "cols = ['l1','l5','l6','ad_type','currency','operation_type']\n",
        "df_train.drop(columns=cols,inplace=True)\n",
        "df_test.drop(columns=cols,inplace=True)"
      ]
    },
    {
      "attachments": {},
      "cell_type": "markdown",
      "metadata": {
        "id": "Zn72NpRYAUjI"
      },
      "source": [
        "## Dummies"
      ]
    },
    {
      "cell_type": "code",
      "execution_count": 688,
      "metadata": {
        "id": "0PINalyBAUjI"
      },
      "outputs": [],
      "source": [
        "cols_dummies = [#'l2','l3','l4',\n",
        "                'property_type']\n",
        "train_dummies = pd.get_dummies(df_train[cols_dummies],dummy_na=True)\n",
        "df_train = pd.concat((df_train,train_dummies),axis=1)\n",
        "\n",
        "test_dummies = pd.get_dummies(df_test[cols_dummies],dummy_na=True)\n",
        "df_test = pd.concat((df_test,test_dummies),axis=1)"
      ]
    },
    {
      "cell_type": "code",
      "execution_count": 689,
      "metadata": {
        "id": "IO1A57JGAUjJ"
      },
      "outputs": [],
      "source": [
        "cols = pd.concat((df_train,df_test),axis=0,join='inner').columns\n",
        "\n",
        "df_train = df_train[cols]\n",
        "df_test = df_test[cols]"
      ]
    },
    {
      "attachments": {},
      "cell_type": "markdown",
      "metadata": {},
      "source": [
        "## Ajuste de outliers en Pto Madero"
      ]
    },
    {
      "cell_type": "code",
      "execution_count": 690,
      "metadata": {},
      "outputs": [
        {
          "data": {
            "text/plain": [
              "<AxesSubplot: xlabel='lat', ylabel='lon'>"
            ]
          },
          "execution_count": 690,
          "metadata": {},
          "output_type": "execute_result"
        },
        {
          "data": {
            "image/png": "[encoded data removed]",
            "text/plain": [
              "<Figure size 640x480 with 1 Axes>"
            ]
          },
          "metadata": {},
          "output_type": "display_data"
        }
      ],
      "source": [
        "sns.scatterplot(data=df_train[(df_train.l3=='Puerto Madero')|(df_train.l3=='Catalinas')],x='lat',y='lon',hue='price')"
      ]
    },
    {
      "cell_type": "code",
      "execution_count": 691,
      "metadata": {},
      "outputs": [],
      "source": [
        "df_train.loc[((df_train.l3=='Puerto Madero')|(df_train.l3=='Catalinas'))&(df_train.lat<-58.42),'lat'] = -58.361\n",
        "df_test.loc[((df_test.l3=='Puerto Madero')|(df_test.l3=='Catalinas'))&(df_test.lat<-58.4),'lat'] = -58.361"
      ]
    },
    {
      "cell_type": "code",
      "execution_count": 692,
      "metadata": {},
      "outputs": [
        {
          "data": {
            "text/plain": [
              "<AxesSubplot: xlabel='lat', ylabel='lon'>"
            ]
          },
          "execution_count": 692,
          "metadata": {},
          "output_type": "execute_result"
        },
        {
          "data": {
            "image/png": "[encoded data removed]",
            "text/plain": [
              "<Figure size 640x480 with 1 Axes>"
            ]
          },
          "metadata": {},
          "output_type": "display_data"
        }
      ],
      "source": [
        "sns.scatterplot(data=df_train[(df_train.l3=='Puerto Madero')|(df_train.l3=='Catalinas')],x='lat',y='lon',hue='price')"
      ]
    },
    {
      "attachments": {},
      "cell_type": "markdown",
      "metadata": {},
      "source": [
        "## División de base"
      ]
    },
    {
      "cell_type": "code",
      "execution_count": 693,
      "metadata": {},
      "outputs": [],
      "source": [
        "df_test_la_plata = df_test[(df_test.lat>-58.2)&(df_test.lon<-34.8)]\n",
        "df_train_la_plata = df_train[(df_train.lat>-58.2)&(df_train.lon<-34)]\n",
        "\n",
        "df_test_caba = df_test[(df_test.lat<=-58.2)&(df_test.lon>=-34.8)&~((df_test.l3=='Puerto Madero')|(df_test.l3=='Catalinas'))]\n",
        "df_train_caba = df_train[~((df_train.lat>-58.2)&(df_train.lon<-34))&~((df_train.l3=='Puerto Madero')|(df_train.l3=='Catalinas'))]"
      ]
    },
    {
      "cell_type": "code",
      "execution_count": 694,
      "metadata": {},
      "outputs": [],
      "source": [
        "df_test_madero = df_test[(df_test.lat<=-58.2)&(df_test.lon>=-34.8)&((df_test.l3=='Puerto Madero')|(df_test.l3=='Catalinas'))]\n",
        "\n",
        "df_train_madero = df_train[~((df_train.lat>-58.2)&(df_train.lon<-34))&((df_train.l3=='Puerto Madero')|(df_train.l3=='Catalinas'))]\n",
        "\n",
        "corredor_norte = ['Retiro','Recoleta','Barrio Norte']#,'Nuñez','Distrito Audiovisual','Palermo','Belgrano','Coghlan','Las Cañitas',]\n",
        "\n",
        "df_train_corredor_norte = df_train_caba[df_train_caba.l3.isin(corredor_norte)]\n",
        "df_test_corredor_norte = df_test_caba[df_test_caba.l3.isin(corredor_norte)]\n",
        "\n",
        "df_train_caba = df_train_caba[~df_train_caba.l3.isin(corredor_norte)]\n",
        "df_test_caba = df_test_caba[~df_test_caba.l3.isin(corredor_norte)]\n",
        "\n",
        "corredor_sur = ['Villa Riachuelo','Villa Lugano','Villa Soldati','Pompeya','Boca','Constitución']#'Barracas','Parque Patricios']\n",
        "\n",
        "df_train_corredor_sur = df_train_caba[df_train_caba.l3.isin(corredor_sur)]\n",
        "df_test_corredor_sur = df_test_caba[df_test_caba.l3.isin(corredor_sur)]\n",
        "\n",
        "df_train_caba = df_train_caba[~df_train_caba.l3.isin(corredor_sur)]\n",
        "df_test_caba = df_test_caba[~df_test_caba.l3.isin(corredor_sur)]\n",
        "\n",
        "caballito = ['Almagro','Caballito','Parque Centenario','Villa Crespo']\n",
        "\n",
        "df_train_caballito = df_train_caba[df_train_caba.l3.isin(caballito)]\n",
        "df_test_caballito= df_test_caba[df_test_caba.l3.isin(caballito)]\n",
        "\n",
        "df_train_caba = df_train_caba[~df_train_caba.l3.isin(caballito)]\n",
        "df_test_caba = df_test_caba[~df_test_caba.l3.isin(caballito)]\n",
        "\n",
        "palermo = ['Palermo','Distrito Audiovisual','Las Cañitas']\n",
        "df_train_palermo = df_train_caba[df_train_caba.l3.isin(palermo)]\n",
        "df_test_palermo= df_test_caba[df_test_caba.l3.isin(palermo)]\n",
        "\n",
        "df_train_caba = df_train_caba[~df_train_caba.l3.isin(palermo)]\n",
        "df_test_caba = df_test_caba[~df_test_caba.l3.isin(palermo)]\n",
        "\n",
        "belgrano = ['Belgrano','Nuñez','Coghlan']\n",
        "df_train_belgrano = df_train_caba[df_train_caba.l3.isin(belgrano)]\n",
        "df_test_belgrano= df_test_caba[df_test_caba.l3.isin(belgrano)]\n",
        "\n",
        "df_train_caba = df_train_caba[~df_train_caba.l3.isin(belgrano)]\n",
        "df_test_caba = df_test_caba[~df_test_caba.l3.isin(belgrano)]\n",
        "\n",
        "#devoto\n",
        "df_train_devoto = df_train_caba[df_train_caba.l3=='Villa Devoto']\n",
        "df_test_devoto = df_test_caba[df_test_caba.l3=='Villa Devoto']\n",
        "\n",
        "df_train_caba = df_train_caba[df_train_caba.l3!='Villa Devoto']\n",
        "df_test_caba= df_test_caba[df_test_caba.l3!='Villa Devoto']"
      ]
    },
    {
      "cell_type": "code",
      "execution_count": 695,
      "metadata": {},
      "outputs": [],
      "source": [
        "ballester_test = df_test[~((df_test.lat<=-58.2)&(df_test.lon>=-34.8))&(df_test.l3.isnull())]\n",
        "\n",
        "df_test_caba = pd.concat((df_test_caba,ballester_test),axis=0)"
      ]
    },
    {
      "cell_type": "code",
      "execution_count": 696,
      "metadata": {},
      "outputs": [
        {
          "data": {
            "text/plain": [
              "<AxesSubplot: xlabel='price', ylabel='l3'>"
            ]
          },
          "execution_count": 696,
          "metadata": {},
          "output_type": "execute_result"
        },
        {
          "data": {
            "image/png": "[encoded data removed]",
            "text/plain": [
              "<Figure size 1000x1000 with 1 Axes>"
            ]
          },
          "metadata": {},
          "output_type": "display_data"
        }
      ],
      "source": [
        "fig, ax = plt.subplots(figsize=(10,10))\n",
        "sns.barplot(data=df_train_caba.groupby('l3').agg({'price':'mean'}).reset_index().sort_values('price'),y='l3',x='price')"
      ]
    },
    {
      "cell_type": "code",
      "execution_count": 697,
      "metadata": {},
      "outputs": [],
      "source": [
        "def filtrado_columnas(df_test,df_train):\n",
        "    F = df_train[~df_train.price.isnull()]\n",
        "    X = F[F.select_dtypes(include=['float64' ,'float32','int64', 'int32', 'int16', 'int8', 'bool','uint8']).columns.drop('price')]\n",
        "    y = F['price']\n",
        "\n",
        "    clf = sk.ensemble.RandomForestRegressor(n_estimators=50, n_jobs=-1,random_state=42)\n",
        "    clf.fit(X, y)\n",
        "\n",
        "    importancias = pd.DataFrame({'atributo': clf.feature_names_in_, 'importancia': clf.feature_importances_})\n",
        "    cols = list(importancias[importancias['importancia']>0.0001].sort_values('importancia',ascending=False).reset_index(drop=True).atributo)\n",
        "\n",
        "    cols.append('price')\n",
        "\n",
        "    display(importancias.sort_values('importancia').tail(10))\n",
        "\n",
        "    df_train = df_train[cols]\n",
        "    df_test = df_test[cols]\n",
        "\n",
        "    print(df_train.shape)\n",
        "    return df_test, df_train"
      ]
    },
    {
      "cell_type": "code",
      "execution_count": 698,
      "metadata": {},
      "outputs": [
        {
          "name": "stdout",
          "output_type": "stream",
          "text": [
            "La plata tiene 58 en train y 264 en test\n",
            "CABA tiene 34868 en train y 2183 en test\n",
            "Pto Madero y Catalinas tiene 1455 en train y 100 en test\n",
            "Corr norte tiene 8564 en train y 428 en test\n",
            "Corr sur tiene 1873 en train y 111 en test\n",
            "Caballito tiene 25303 en train y 1373 en test\n",
            "Palermo tiene 15427 en train y 875 en test\n",
            "Belgrano tiene 11087 en train y 576 en test\n",
            "Devoto tiene 1543 en train y 90 en test\n"
          ]
        }
      ],
      "source": [
        "print(f\"La plata tiene {df_train_la_plata.shape[0]} en train y {df_test_la_plata.shape[0]} en test\")\n",
        "print(f\"CABA tiene {df_train_caba.shape[0]} en train y {df_test_caba.shape[0]} en test\")\n",
        "print(f\"Pto Madero y Catalinas tiene {df_train_madero.shape[0]} en train y {df_test_madero.shape[0]} en test\")\n",
        "print(f\"Corr norte tiene {df_train_corredor_norte.shape[0]} en train y {df_test_corredor_norte.shape[0]} en test\")\n",
        "print(f\"Corr sur tiene {df_train_corredor_sur.shape[0]} en train y {df_test_corredor_sur.shape[0]} en test\")\n",
        "print(f\"Caballito tiene {df_train_caballito.shape[0]} en train y {df_test_caballito.shape[0]} en test\")\n",
        "print(f\"Palermo tiene {df_train_palermo.shape[0]} en train y {df_test_palermo.shape[0]} en test\")\n",
        "print(f\"Belgrano tiene {df_train_belgrano.shape[0]} en train y {df_test_belgrano.shape[0]} en test\")\n",
        "# print(f\"Noroeste tiene {df_train_noroeste.shape[0]} en train y {df_test_noroeste.shape[0]} en test\")\n",
        "print(f\"Devoto tiene {df_train_devoto.shape[0]} en train y {df_test_devoto.shape[0]} en test\")\n",
        "# print(f\"Barracas tiene {df_train_barracas.shape[0]} en train y {df_test_barracas.shape[0]} en test\")"
      ]
    },
    {
      "cell_type": "code",
      "execution_count": 699,
      "metadata": {},
      "outputs": [
        {
          "name": "stdout",
          "output_type": "stream",
          "text": [
            "La Plata\n"
          ]
        },
        {
          "data": {
            "text/html": [
              "<div>\n",
              "<style scoped>\n",
              "    .dataframe tbody tr th:only-of-type {\n",
              "        vertical-align: middle;\n",
              "    }\n",
              "\n",
              "    .dataframe tbody tr th {\n",
              "        vertical-align: top;\n",
              "    }\n",
              "\n",
              "    .dataframe thead th {\n",
              "        text-align: right;\n",
              "    }\n",
              "</style>\n",
              "<table border=\"1\" class=\"dataframe\">\n",
              "  <thead>\n",
              "    <tr style=\"text-align: right;\">\n",
              "      <th></th>\n",
              "      <th>atributo</th>\n",
              "      <th>importancia</th>\n",
              "    </tr>\n",
              "  </thead>\n",
              "  <tbody>\n",
              "    <tr>\n",
              "      <th>0</th>\n",
              "      <td>lat</td>\n",
              "      <td>0.023169</td>\n",
              "    </tr>\n",
              "    <tr>\n",
              "      <th>2</th>\n",
              "      <td>rooms</td>\n",
              "      <td>0.024342</td>\n",
              "    </tr>\n",
              "    <tr>\n",
              "      <th>14</th>\n",
              "      <td>bathrooms_rooms</td>\n",
              "      <td>0.031332</td>\n",
              "    </tr>\n",
              "    <tr>\n",
              "      <th>27</th>\n",
              "      <td>desc_parrilla</td>\n",
              "      <td>0.051130</td>\n",
              "    </tr>\n",
              "    <tr>\n",
              "      <th>16</th>\n",
              "      <td>covered</td>\n",
              "      <td>0.058213</td>\n",
              "    </tr>\n",
              "    <tr>\n",
              "      <th>19</th>\n",
              "      <td>start_day</td>\n",
              "      <td>0.067502</td>\n",
              "    </tr>\n",
              "    <tr>\n",
              "      <th>18</th>\n",
              "      <td>start_month</td>\n",
              "      <td>0.079399</td>\n",
              "    </tr>\n",
              "    <tr>\n",
              "      <th>1</th>\n",
              "      <td>lon</td>\n",
              "      <td>0.091411</td>\n",
              "    </tr>\n",
              "    <tr>\n",
              "      <th>5</th>\n",
              "      <td>surface_total</td>\n",
              "      <td>0.101482</td>\n",
              "    </tr>\n",
              "    <tr>\n",
              "      <th>6</th>\n",
              "      <td>surface_covered</td>\n",
              "      <td>0.358140</td>\n",
              "    </tr>\n",
              "  </tbody>\n",
              "</table>\n",
              "</div>"
            ],
            "text/plain": [
              "           atributo  importancia\n",
              "0               lat     0.023169\n",
              "2             rooms     0.024342\n",
              "14  bathrooms_rooms     0.031332\n",
              "27    desc_parrilla     0.051130\n",
              "16          covered     0.058213\n",
              "19        start_day     0.067502\n",
              "18      start_month     0.079399\n",
              "1               lon     0.091411\n",
              "5     surface_total     0.101482\n",
              "6   surface_covered     0.358140"
            ]
          },
          "metadata": {},
          "output_type": "display_data"
        },
        {
          "name": "stdout",
          "output_type": "stream",
          "text": [
            "(58, 39)\n",
            "Resto de Caba\n"
          ]
        },
        {
          "data": {
            "text/html": [
              "<div>\n",
              "<style scoped>\n",
              "    .dataframe tbody tr th:only-of-type {\n",
              "        vertical-align: middle;\n",
              "    }\n",
              "\n",
              "    .dataframe tbody tr th {\n",
              "        vertical-align: top;\n",
              "    }\n",
              "\n",
              "    .dataframe thead th {\n",
              "        text-align: right;\n",
              "    }\n",
              "</style>\n",
              "<table border=\"1\" class=\"dataframe\">\n",
              "  <thead>\n",
              "    <tr style=\"text-align: right;\">\n",
              "      <th></th>\n",
              "      <th>atributo</th>\n",
              "      <th>importancia</th>\n",
              "    </tr>\n",
              "  </thead>\n",
              "  <tbody>\n",
              "    <tr>\n",
              "      <th>51</th>\n",
              "      <td>desc_av.</td>\n",
              "      <td>0.016363</td>\n",
              "    </tr>\n",
              "    <tr>\n",
              "      <th>58</th>\n",
              "      <td>desc_pileta|piscina</td>\n",
              "      <td>0.016648</td>\n",
              "    </tr>\n",
              "    <tr>\n",
              "      <th>16</th>\n",
              "      <td>covered</td>\n",
              "      <td>0.019359</td>\n",
              "    </tr>\n",
              "    <tr>\n",
              "      <th>60</th>\n",
              "      <td>desc_centro</td>\n",
              "      <td>0.019372</td>\n",
              "    </tr>\n",
              "    <tr>\n",
              "      <th>23</th>\n",
              "      <td>desc_suite</td>\n",
              "      <td>0.020575</td>\n",
              "    </tr>\n",
              "    <tr>\n",
              "      <th>18</th>\n",
              "      <td>start_month</td>\n",
              "      <td>0.024854</td>\n",
              "    </tr>\n",
              "    <tr>\n",
              "      <th>0</th>\n",
              "      <td>lat</td>\n",
              "      <td>0.054659</td>\n",
              "    </tr>\n",
              "    <tr>\n",
              "      <th>1</th>\n",
              "      <td>lon</td>\n",
              "      <td>0.122852</td>\n",
              "    </tr>\n",
              "    <tr>\n",
              "      <th>5</th>\n",
              "      <td>surface_total</td>\n",
              "      <td>0.224981</td>\n",
              "    </tr>\n",
              "    <tr>\n",
              "      <th>6</th>\n",
              "      <td>surface_covered</td>\n",
              "      <td>0.274970</td>\n",
              "    </tr>\n",
              "  </tbody>\n",
              "</table>\n",
              "</div>"
            ],
            "text/plain": [
              "               atributo  importancia\n",
              "51             desc_av.     0.016363\n",
              "58  desc_pileta|piscina     0.016648\n",
              "16              covered     0.019359\n",
              "60          desc_centro     0.019372\n",
              "23           desc_suite     0.020575\n",
              "18          start_month     0.024854\n",
              "0                   lat     0.054659\n",
              "1                   lon     0.122852\n",
              "5         surface_total     0.224981\n",
              "6       surface_covered     0.274970"
            ]
          },
          "metadata": {},
          "output_type": "display_data"
        },
        {
          "name": "stdout",
          "output_type": "stream",
          "text": [
            "(34868, 59)\n",
            "Madero y Catalinas\n"
          ]
        },
        {
          "data": {
            "text/html": [
              "<div>\n",
              "<style scoped>\n",
              "    .dataframe tbody tr th:only-of-type {\n",
              "        vertical-align: middle;\n",
              "    }\n",
              "\n",
              "    .dataframe tbody tr th {\n",
              "        vertical-align: top;\n",
              "    }\n",
              "\n",
              "    .dataframe thead th {\n",
              "        text-align: right;\n",
              "    }\n",
              "</style>\n",
              "<table border=\"1\" class=\"dataframe\">\n",
              "  <thead>\n",
              "    <tr style=\"text-align: right;\">\n",
              "      <th></th>\n",
              "      <th>atributo</th>\n",
              "      <th>importancia</th>\n",
              "    </tr>\n",
              "  </thead>\n",
              "  <tbody>\n",
              "    <tr>\n",
              "      <th>42</th>\n",
              "      <td>desc_estacion</td>\n",
              "      <td>0.003787</td>\n",
              "    </tr>\n",
              "    <tr>\n",
              "      <th>15</th>\n",
              "      <td>bedrooms_rooms</td>\n",
              "      <td>0.005751</td>\n",
              "    </tr>\n",
              "    <tr>\n",
              "      <th>16</th>\n",
              "      <td>covered</td>\n",
              "      <td>0.006795</td>\n",
              "    </tr>\n",
              "    <tr>\n",
              "      <th>14</th>\n",
              "      <td>bathrooms_rooms</td>\n",
              "      <td>0.007335</td>\n",
              "    </tr>\n",
              "    <tr>\n",
              "      <th>58</th>\n",
              "      <td>desc_pileta|piscina</td>\n",
              "      <td>0.007535</td>\n",
              "    </tr>\n",
              "    <tr>\n",
              "      <th>26</th>\n",
              "      <td>desc_ascensor</td>\n",
              "      <td>0.010470</td>\n",
              "    </tr>\n",
              "    <tr>\n",
              "      <th>0</th>\n",
              "      <td>lat</td>\n",
              "      <td>0.012909</td>\n",
              "    </tr>\n",
              "    <tr>\n",
              "      <th>1</th>\n",
              "      <td>lon</td>\n",
              "      <td>0.013971</td>\n",
              "    </tr>\n",
              "    <tr>\n",
              "      <th>5</th>\n",
              "      <td>surface_total</td>\n",
              "      <td>0.324035</td>\n",
              "    </tr>\n",
              "    <tr>\n",
              "      <th>6</th>\n",
              "      <td>surface_covered</td>\n",
              "      <td>0.565735</td>\n",
              "    </tr>\n",
              "  </tbody>\n",
              "</table>\n",
              "</div>"
            ],
            "text/plain": [
              "               atributo  importancia\n",
              "42        desc_estacion     0.003787\n",
              "15       bedrooms_rooms     0.005751\n",
              "16              covered     0.006795\n",
              "14      bathrooms_rooms     0.007335\n",
              "58  desc_pileta|piscina     0.007535\n",
              "26        desc_ascensor     0.010470\n",
              "0                   lat     0.012909\n",
              "1                   lon     0.013971\n",
              "5         surface_total     0.324035\n",
              "6       surface_covered     0.565735"
            ]
          },
          "metadata": {},
          "output_type": "display_data"
        },
        {
          "name": "stdout",
          "output_type": "stream",
          "text": [
            "(1455, 47)\n",
            "Corredor Norte\n"
          ]
        },
        {
          "data": {
            "text/html": [
              "<div>\n",
              "<style scoped>\n",
              "    .dataframe tbody tr th:only-of-type {\n",
              "        vertical-align: middle;\n",
              "    }\n",
              "\n",
              "    .dataframe tbody tr th {\n",
              "        vertical-align: top;\n",
              "    }\n",
              "\n",
              "    .dataframe thead th {\n",
              "        text-align: right;\n",
              "    }\n",
              "</style>\n",
              "<table border=\"1\" class=\"dataframe\">\n",
              "  <thead>\n",
              "    <tr style=\"text-align: right;\">\n",
              "      <th></th>\n",
              "      <th>atributo</th>\n",
              "      <th>importancia</th>\n",
              "    </tr>\n",
              "  </thead>\n",
              "  <tbody>\n",
              "    <tr>\n",
              "      <th>16</th>\n",
              "      <td>covered</td>\n",
              "      <td>0.015294</td>\n",
              "    </tr>\n",
              "    <tr>\n",
              "      <th>58</th>\n",
              "      <td>desc_pileta|piscina</td>\n",
              "      <td>0.015636</td>\n",
              "    </tr>\n",
              "    <tr>\n",
              "      <th>52</th>\n",
              "      <td>desc_av</td>\n",
              "      <td>0.016288</td>\n",
              "    </tr>\n",
              "    <tr>\n",
              "      <th>3</th>\n",
              "      <td>bedrooms</td>\n",
              "      <td>0.016651</td>\n",
              "    </tr>\n",
              "    <tr>\n",
              "      <th>51</th>\n",
              "      <td>desc_av.</td>\n",
              "      <td>0.017265</td>\n",
              "    </tr>\n",
              "    <tr>\n",
              "      <th>10</th>\n",
              "      <td>surface_total_imputed</td>\n",
              "      <td>0.029154</td>\n",
              "    </tr>\n",
              "    <tr>\n",
              "      <th>0</th>\n",
              "      <td>lat</td>\n",
              "      <td>0.047962</td>\n",
              "    </tr>\n",
              "    <tr>\n",
              "      <th>1</th>\n",
              "      <td>lon</td>\n",
              "      <td>0.131973</td>\n",
              "    </tr>\n",
              "    <tr>\n",
              "      <th>5</th>\n",
              "      <td>surface_total</td>\n",
              "      <td>0.221997</td>\n",
              "    </tr>\n",
              "    <tr>\n",
              "      <th>6</th>\n",
              "      <td>surface_covered</td>\n",
              "      <td>0.401901</td>\n",
              "    </tr>\n",
              "  </tbody>\n",
              "</table>\n",
              "</div>"
            ],
            "text/plain": [
              "                 atributo  importancia\n",
              "16                covered     0.015294\n",
              "58    desc_pileta|piscina     0.015636\n",
              "52                desc_av     0.016288\n",
              "3                bedrooms     0.016651\n",
              "51               desc_av.     0.017265\n",
              "10  surface_total_imputed     0.029154\n",
              "0                     lat     0.047962\n",
              "1                     lon     0.131973\n",
              "5           surface_total     0.221997\n",
              "6         surface_covered     0.401901"
            ]
          },
          "metadata": {},
          "output_type": "display_data"
        },
        {
          "name": "stdout",
          "output_type": "stream",
          "text": [
            "(8564, 52)\n",
            "Corredor sur\n"
          ]
        },
        {
          "data": {
            "text/html": [
              "<div>\n",
              "<style scoped>\n",
              "    .dataframe tbody tr th:only-of-type {\n",
              "        vertical-align: middle;\n",
              "    }\n",
              "\n",
              "    .dataframe tbody tr th {\n",
              "        vertical-align: top;\n",
              "    }\n",
              "\n",
              "    .dataframe thead th {\n",
              "        text-align: right;\n",
              "    }\n",
              "</style>\n",
              "<table border=\"1\" class=\"dataframe\">\n",
              "  <thead>\n",
              "    <tr style=\"text-align: right;\">\n",
              "      <th></th>\n",
              "      <th>atributo</th>\n",
              "      <th>importancia</th>\n",
              "    </tr>\n",
              "  </thead>\n",
              "  <tbody>\n",
              "    <tr>\n",
              "      <th>7</th>\n",
              "      <td>rooms_imputed</td>\n",
              "      <td>0.012936</td>\n",
              "    </tr>\n",
              "    <tr>\n",
              "      <th>14</th>\n",
              "      <td>bathrooms_rooms</td>\n",
              "      <td>0.019760</td>\n",
              "    </tr>\n",
              "    <tr>\n",
              "      <th>16</th>\n",
              "      <td>covered</td>\n",
              "      <td>0.027348</td>\n",
              "    </tr>\n",
              "    <tr>\n",
              "      <th>19</th>\n",
              "      <td>start_day</td>\n",
              "      <td>0.028892</td>\n",
              "    </tr>\n",
              "    <tr>\n",
              "      <th>18</th>\n",
              "      <td>start_month</td>\n",
              "      <td>0.034227</td>\n",
              "    </tr>\n",
              "    <tr>\n",
              "      <th>4</th>\n",
              "      <td>bathrooms</td>\n",
              "      <td>0.042642</td>\n",
              "    </tr>\n",
              "    <tr>\n",
              "      <th>0</th>\n",
              "      <td>lat</td>\n",
              "      <td>0.086347</td>\n",
              "    </tr>\n",
              "    <tr>\n",
              "      <th>5</th>\n",
              "      <td>surface_total</td>\n",
              "      <td>0.096719</td>\n",
              "    </tr>\n",
              "    <tr>\n",
              "      <th>1</th>\n",
              "      <td>lon</td>\n",
              "      <td>0.224615</td>\n",
              "    </tr>\n",
              "    <tr>\n",
              "      <th>6</th>\n",
              "      <td>surface_covered</td>\n",
              "      <td>0.257782</td>\n",
              "    </tr>\n",
              "  </tbody>\n",
              "</table>\n",
              "</div>"
            ],
            "text/plain": [
              "           atributo  importancia\n",
              "7     rooms_imputed     0.012936\n",
              "14  bathrooms_rooms     0.019760\n",
              "16          covered     0.027348\n",
              "19        start_day     0.028892\n",
              "18      start_month     0.034227\n",
              "4         bathrooms     0.042642\n",
              "0               lat     0.086347\n",
              "5     surface_total     0.096719\n",
              "1               lon     0.224615\n",
              "6   surface_covered     0.257782"
            ]
          },
          "metadata": {},
          "output_type": "display_data"
        },
        {
          "name": "stdout",
          "output_type": "stream",
          "text": [
            "(1873, 56)\n",
            "Caballito\n"
          ]
        },
        {
          "data": {
            "text/html": [
              "<div>\n",
              "<style scoped>\n",
              "    .dataframe tbody tr th:only-of-type {\n",
              "        vertical-align: middle;\n",
              "    }\n",
              "\n",
              "    .dataframe tbody tr th {\n",
              "        vertical-align: top;\n",
              "    }\n",
              "\n",
              "    .dataframe thead th {\n",
              "        text-align: right;\n",
              "    }\n",
              "</style>\n",
              "<table border=\"1\" class=\"dataframe\">\n",
              "  <thead>\n",
              "    <tr style=\"text-align: right;\">\n",
              "      <th></th>\n",
              "      <th>atributo</th>\n",
              "      <th>importancia</th>\n",
              "    </tr>\n",
              "  </thead>\n",
              "  <tbody>\n",
              "    <tr>\n",
              "      <th>8</th>\n",
              "      <td>bedrooms_imputed</td>\n",
              "      <td>0.020489</td>\n",
              "    </tr>\n",
              "    <tr>\n",
              "      <th>52</th>\n",
              "      <td>desc_av</td>\n",
              "      <td>0.020848</td>\n",
              "    </tr>\n",
              "    <tr>\n",
              "      <th>27</th>\n",
              "      <td>desc_parrilla</td>\n",
              "      <td>0.032312</td>\n",
              "    </tr>\n",
              "    <tr>\n",
              "      <th>67</th>\n",
              "      <td>desc_emprendimiento</td>\n",
              "      <td>0.051538</td>\n",
              "    </tr>\n",
              "    <tr>\n",
              "      <th>55</th>\n",
              "      <td>desc_a(mm|m)enities</td>\n",
              "      <td>0.061625</td>\n",
              "    </tr>\n",
              "    <tr>\n",
              "      <th>60</th>\n",
              "      <td>desc_centro</td>\n",
              "      <td>0.081036</td>\n",
              "    </tr>\n",
              "    <tr>\n",
              "      <th>5</th>\n",
              "      <td>surface_total</td>\n",
              "      <td>0.088251</td>\n",
              "    </tr>\n",
              "    <tr>\n",
              "      <th>1</th>\n",
              "      <td>lon</td>\n",
              "      <td>0.099773</td>\n",
              "    </tr>\n",
              "    <tr>\n",
              "      <th>6</th>\n",
              "      <td>surface_covered</td>\n",
              "      <td>0.128506</td>\n",
              "    </tr>\n",
              "    <tr>\n",
              "      <th>0</th>\n",
              "      <td>lat</td>\n",
              "      <td>0.304076</td>\n",
              "    </tr>\n",
              "  </tbody>\n",
              "</table>\n",
              "</div>"
            ],
            "text/plain": [
              "               atributo  importancia\n",
              "8      bedrooms_imputed     0.020489\n",
              "52              desc_av     0.020848\n",
              "27        desc_parrilla     0.032312\n",
              "67  desc_emprendimiento     0.051538\n",
              "55  desc_a(mm|m)enities     0.061625\n",
              "60          desc_centro     0.081036\n",
              "5         surface_total     0.088251\n",
              "1                   lon     0.099773\n",
              "6       surface_covered     0.128506\n",
              "0                   lat     0.304076"
            ]
          },
          "metadata": {},
          "output_type": "display_data"
        },
        {
          "name": "stdout",
          "output_type": "stream",
          "text": [
            "(25303, 52)\n",
            "Palermo\n"
          ]
        },
        {
          "data": {
            "text/html": [
              "<div>\n",
              "<style scoped>\n",
              "    .dataframe tbody tr th:only-of-type {\n",
              "        vertical-align: middle;\n",
              "    }\n",
              "\n",
              "    .dataframe tbody tr th {\n",
              "        vertical-align: top;\n",
              "    }\n",
              "\n",
              "    .dataframe thead th {\n",
              "        text-align: right;\n",
              "    }\n",
              "</style>\n",
              "<table border=\"1\" class=\"dataframe\">\n",
              "  <thead>\n",
              "    <tr style=\"text-align: right;\">\n",
              "      <th></th>\n",
              "      <th>atributo</th>\n",
              "      <th>importancia</th>\n",
              "    </tr>\n",
              "  </thead>\n",
              "  <tbody>\n",
              "    <tr>\n",
              "      <th>4</th>\n",
              "      <td>bathrooms</td>\n",
              "      <td>0.003795</td>\n",
              "    </tr>\n",
              "    <tr>\n",
              "      <th>16</th>\n",
              "      <td>covered</td>\n",
              "      <td>0.010270</td>\n",
              "    </tr>\n",
              "    <tr>\n",
              "      <th>58</th>\n",
              "      <td>desc_pileta|piscina</td>\n",
              "      <td>0.015934</td>\n",
              "    </tr>\n",
              "    <tr>\n",
              "      <th>55</th>\n",
              "      <td>desc_a(mm|m)enities</td>\n",
              "      <td>0.017446</td>\n",
              "    </tr>\n",
              "    <tr>\n",
              "      <th>23</th>\n",
              "      <td>desc_suite</td>\n",
              "      <td>0.018688</td>\n",
              "    </tr>\n",
              "    <tr>\n",
              "      <th>1</th>\n",
              "      <td>lon</td>\n",
              "      <td>0.029941</td>\n",
              "    </tr>\n",
              "    <tr>\n",
              "      <th>5</th>\n",
              "      <td>surface_total</td>\n",
              "      <td>0.031141</td>\n",
              "    </tr>\n",
              "    <tr>\n",
              "      <th>0</th>\n",
              "      <td>lat</td>\n",
              "      <td>0.035051</td>\n",
              "    </tr>\n",
              "    <tr>\n",
              "      <th>14</th>\n",
              "      <td>bathrooms_rooms</td>\n",
              "      <td>0.266682</td>\n",
              "    </tr>\n",
              "    <tr>\n",
              "      <th>6</th>\n",
              "      <td>surface_covered</td>\n",
              "      <td>0.514999</td>\n",
              "    </tr>\n",
              "  </tbody>\n",
              "</table>\n",
              "</div>"
            ],
            "text/plain": [
              "               atributo  importancia\n",
              "4             bathrooms     0.003795\n",
              "16              covered     0.010270\n",
              "58  desc_pileta|piscina     0.015934\n",
              "55  desc_a(mm|m)enities     0.017446\n",
              "23           desc_suite     0.018688\n",
              "1                   lon     0.029941\n",
              "5         surface_total     0.031141\n",
              "0                   lat     0.035051\n",
              "14      bathrooms_rooms     0.266682\n",
              "6       surface_covered     0.514999"
            ]
          },
          "metadata": {},
          "output_type": "display_data"
        },
        {
          "name": "stdout",
          "output_type": "stream",
          "text": [
            "(15427, 52)\n",
            "Belgrano\n"
          ]
        },
        {
          "data": {
            "text/html": [
              "<div>\n",
              "<style scoped>\n",
              "    .dataframe tbody tr th:only-of-type {\n",
              "        vertical-align: middle;\n",
              "    }\n",
              "\n",
              "    .dataframe tbody tr th {\n",
              "        vertical-align: top;\n",
              "    }\n",
              "\n",
              "    .dataframe thead th {\n",
              "        text-align: right;\n",
              "    }\n",
              "</style>\n",
              "<table border=\"1\" class=\"dataframe\">\n",
              "  <thead>\n",
              "    <tr style=\"text-align: right;\">\n",
              "      <th></th>\n",
              "      <th>atributo</th>\n",
              "      <th>importancia</th>\n",
              "    </tr>\n",
              "  </thead>\n",
              "  <tbody>\n",
              "    <tr>\n",
              "      <th>55</th>\n",
              "      <td>desc_a(mm|m)enities</td>\n",
              "      <td>0.011115</td>\n",
              "    </tr>\n",
              "    <tr>\n",
              "      <th>16</th>\n",
              "      <td>covered</td>\n",
              "      <td>0.014298</td>\n",
              "    </tr>\n",
              "    <tr>\n",
              "      <th>14</th>\n",
              "      <td>bathrooms_rooms</td>\n",
              "      <td>0.014709</td>\n",
              "    </tr>\n",
              "    <tr>\n",
              "      <th>4</th>\n",
              "      <td>bathrooms</td>\n",
              "      <td>0.015661</td>\n",
              "    </tr>\n",
              "    <tr>\n",
              "      <th>0</th>\n",
              "      <td>lat</td>\n",
              "      <td>0.048128</td>\n",
              "    </tr>\n",
              "    <tr>\n",
              "      <th>1</th>\n",
              "      <td>lon</td>\n",
              "      <td>0.048776</td>\n",
              "    </tr>\n",
              "    <tr>\n",
              "      <th>58</th>\n",
              "      <td>desc_pileta|piscina</td>\n",
              "      <td>0.050199</td>\n",
              "    </tr>\n",
              "    <tr>\n",
              "      <th>67</th>\n",
              "      <td>desc_emprendimiento</td>\n",
              "      <td>0.053642</td>\n",
              "    </tr>\n",
              "    <tr>\n",
              "      <th>5</th>\n",
              "      <td>surface_total</td>\n",
              "      <td>0.054699</td>\n",
              "    </tr>\n",
              "    <tr>\n",
              "      <th>6</th>\n",
              "      <td>surface_covered</td>\n",
              "      <td>0.609109</td>\n",
              "    </tr>\n",
              "  </tbody>\n",
              "</table>\n",
              "</div>"
            ],
            "text/plain": [
              "               atributo  importancia\n",
              "55  desc_a(mm|m)enities     0.011115\n",
              "16              covered     0.014298\n",
              "14      bathrooms_rooms     0.014709\n",
              "4             bathrooms     0.015661\n",
              "0                   lat     0.048128\n",
              "1                   lon     0.048776\n",
              "58  desc_pileta|piscina     0.050199\n",
              "67  desc_emprendimiento     0.053642\n",
              "5         surface_total     0.054699\n",
              "6       surface_covered     0.609109"
            ]
          },
          "metadata": {},
          "output_type": "display_data"
        },
        {
          "name": "stdout",
          "output_type": "stream",
          "text": [
            "(11087, 54)\n",
            "Devoto\n"
          ]
        },
        {
          "data": {
            "text/html": [
              "<div>\n",
              "<style scoped>\n",
              "    .dataframe tbody tr th:only-of-type {\n",
              "        vertical-align: middle;\n",
              "    }\n",
              "\n",
              "    .dataframe tbody tr th {\n",
              "        vertical-align: top;\n",
              "    }\n",
              "\n",
              "    .dataframe thead th {\n",
              "        text-align: right;\n",
              "    }\n",
              "</style>\n",
              "<table border=\"1\" class=\"dataframe\">\n",
              "  <thead>\n",
              "    <tr style=\"text-align: right;\">\n",
              "      <th></th>\n",
              "      <th>atributo</th>\n",
              "      <th>importancia</th>\n",
              "    </tr>\n",
              "  </thead>\n",
              "  <tbody>\n",
              "    <tr>\n",
              "      <th>19</th>\n",
              "      <td>start_day</td>\n",
              "      <td>0.017208</td>\n",
              "    </tr>\n",
              "    <tr>\n",
              "      <th>29</th>\n",
              "      <td>desc_balcon</td>\n",
              "      <td>0.018481</td>\n",
              "    </tr>\n",
              "    <tr>\n",
              "      <th>16</th>\n",
              "      <td>covered</td>\n",
              "      <td>0.020430</td>\n",
              "    </tr>\n",
              "    <tr>\n",
              "      <th>18</th>\n",
              "      <td>start_month</td>\n",
              "      <td>0.025091</td>\n",
              "    </tr>\n",
              "    <tr>\n",
              "      <th>5</th>\n",
              "      <td>surface_total</td>\n",
              "      <td>0.046052</td>\n",
              "    </tr>\n",
              "    <tr>\n",
              "      <th>14</th>\n",
              "      <td>bathrooms_rooms</td>\n",
              "      <td>0.053000</td>\n",
              "    </tr>\n",
              "    <tr>\n",
              "      <th>1</th>\n",
              "      <td>lon</td>\n",
              "      <td>0.108079</td>\n",
              "    </tr>\n",
              "    <tr>\n",
              "      <th>7</th>\n",
              "      <td>rooms_imputed</td>\n",
              "      <td>0.151740</td>\n",
              "    </tr>\n",
              "    <tr>\n",
              "      <th>0</th>\n",
              "      <td>lat</td>\n",
              "      <td>0.219104</td>\n",
              "    </tr>\n",
              "    <tr>\n",
              "      <th>6</th>\n",
              "      <td>surface_covered</td>\n",
              "      <td>0.223476</td>\n",
              "    </tr>\n",
              "  </tbody>\n",
              "</table>\n",
              "</div>"
            ],
            "text/plain": [
              "           atributo  importancia\n",
              "19        start_day     0.017208\n",
              "29      desc_balcon     0.018481\n",
              "16          covered     0.020430\n",
              "18      start_month     0.025091\n",
              "5     surface_total     0.046052\n",
              "14  bathrooms_rooms     0.053000\n",
              "1               lon     0.108079\n",
              "7     rooms_imputed     0.151740\n",
              "0               lat     0.219104\n",
              "6   surface_covered     0.223476"
            ]
          },
          "metadata": {},
          "output_type": "display_data"
        },
        {
          "name": "stdout",
          "output_type": "stream",
          "text": [
            "(1543, 51)\n"
          ]
        }
      ],
      "source": [
        "print(\"La Plata\")\n",
        "df_test_la_plata, df_train_la_plata = filtrado_columnas(df_test_la_plata,df_train_la_plata)\n",
        "print(\"Resto de Caba\")\n",
        "df_test_caba, df_train_caba = filtrado_columnas(df_test_caba,df_train_caba)\n",
        "print(\"Madero y Catalinas\")\n",
        "df_test_madero, df_train_madero = filtrado_columnas(df_test_madero,df_train_madero)\n",
        "print(\"Corredor Norte\")\n",
        "df_test_corredor_norte, df_train_corredor_norte = filtrado_columnas(df_test_corredor_norte,df_train_corredor_norte)\n",
        "print(\"Corredor sur\")\n",
        "df_test_corredor_sur, df_train_corredor_sur = filtrado_columnas(df_test_corredor_sur,df_train_corredor_sur)\n",
        "print(\"Caballito\")\n",
        "df_test_caballito, df_train_caballito = filtrado_columnas(df_test_caballito,df_train_caballito)\n",
        "print(\"Palermo\")\n",
        "df_test_palermo, df_train_palermo = filtrado_columnas(df_test_palermo,df_train_palermo)\n",
        "print(\"Belgrano\")\n",
        "df_test_belgrano, df_train_belgrano = filtrado_columnas(df_test_belgrano,df_train_belgrano)\n",
        "print(\"Devoto\")\n",
        "df_test_devoto, df_train_devoto = filtrado_columnas(df_test_devoto,df_train_devoto)"
      ]
    },
    {
      "attachments": {},
      "cell_type": "markdown",
      "metadata": {},
      "source": [
        "# Entrenamiento del modelo"
      ]
    },
    {
      "attachments": {},
      "cell_type": "markdown",
      "metadata": {},
      "source": [
        "## Territorio de Aprendizaje Automático\n",
        "☢☢☢☢☢☢ Se mira y no se toca ☢☢☢☢☢☢☢"
      ]
    },
    {
      "cell_type": "code",
      "execution_count": 700,
      "metadata": {},
      "outputs": [],
      "source": [
        "# Funcion de limpieza (usada en la siguiente sección) que usa y_train\n",
        "def limpiar_fold(X_train, y_train, X_test):\n",
        "    ## TODO: limpiar los datos           \n",
        "    \n",
        "    return (X_train, y_train, X_test)"
      ]
    },
    {
      "cell_type": "code",
      "execution_count": 701,
      "metadata": {},
      "outputs": [],
      "source": [
        "def CV(df_train):\n",
        "    # Datos para probar\n",
        "    df_train = df_train.select_dtypes(include=['float64', 'int64', 'int32', 'int16', 'int8', 'bool'])\n",
        "\n",
        "    X = df_train[df_train.columns.drop('price')]\n",
        "    y = df_train['price']\n",
        "\n",
        "    reg = sk.ensemble.RandomForestRegressor(n_estimators=500, max_depth=5, n_jobs=-1, random_state=42)\n",
        "    \n",
        "    # Partimos en entrenamiento+prueba y validación\n",
        "    X_train_test, X_val, y_train_test, y_val = sk.model_selection.train_test_split(X, y, test_size=0.2, random_state=42)\n",
        "\n",
        "    scores_train = []\n",
        "    scores_test = []\n",
        "    # Validación cruzada, 10 folds, shuffle antes\n",
        "    kf = sk.model_selection.KFold(n_splits=10, shuffle=True, random_state=42)\n",
        "    for fold, (train_index, test_index) in enumerate(kf.split(X_train_test, y_train_test)):\n",
        "        X_train, X_test, y_train, y_test = X_train_test.iloc[train_index], X_train_test.iloc[test_index], y_train_test.iloc[train_index], y_train_test.iloc[test_index]\n",
        "\n",
        "        X_train, y_train, X_test = limpiar_fold(X_train, y_train, X_test)\n",
        "\n",
        "        # Entrenamos el modelo\n",
        "        reg.fit(X_train, y_train)\n",
        "\n",
        "        # Predecimos en train\n",
        "        y_pred = reg.predict(X_train)\n",
        "\n",
        "        # Medimos la performance de la predicción en test\n",
        "        score_train = sk.metrics.mean_squared_error(y_train, y_pred,squared=False).round()\n",
        "        scores_train.append(score_train)\n",
        "\n",
        "        # Predecimos en test\n",
        "        y_pred = reg.predict(X_test)\n",
        "\n",
        "        # Medimos la performance de la predicción en test\n",
        "        score_test = sk.metrics.mean_squared_error(y_test, y_pred,squared=False).round()\n",
        "        scores_test.append(score_test)\n",
        "        \n",
        "        print(f\"{fold=}, {score_train=} {score_test=}\\n\")\n",
        "        \n",
        "\n",
        "    print(f\"Train scores mean={pd.Series(scores_train).mean()}, std={pd.Series(scores_train).std()}\\n\")\n",
        "    print(f\"Test scores mean={pd.Series(scores_test).mean()}, std={pd.Series(scores_test).std()}\\n\")"
      ]
    },
    {
      "cell_type": "code",
      "execution_count": 702,
      "metadata": {},
      "outputs": [],
      "source": [
        "def modelado(df_train,df_test,n_estimators=500,min_samples_split=2,max_depth=5):\n",
        "    reg = sk.ensemble.RandomForestRegressor(n_estimators=n_estimators, max_depth=max_depth, n_jobs=-1, random_state=42,min_samples_split=min_samples_split)\n",
        "        \n",
        "    ## Datos a predecir \n",
        "    X = df_train[df_train.columns.drop('price')]\n",
        "    y = df_train['price']\n",
        "    X_prueba = df_test[df_train.columns.drop('price')] # cuidado:\n",
        "\n",
        "    # Entrenamos el modelo con todos los datos\n",
        "    reg.fit(X, y)\n",
        "\n",
        "    # Predecimos\n",
        "    df_test['price'] = reg.predict(X_prueba)\n",
        "\n",
        "    # Grabamos\n",
        "    # df_test['price'].to_csv('solucion_la_plata.csv', index=True)\n",
        "\n",
        "    print(pd.DataFrame(zip(df_train.columns.drop('price'), \n",
        "                             reg.feature_importances_*100), \n",
        "                         columns=[\"column\", \"feature_importance\"]).sort_values(by=\"feature_importance\", ascending=False).head(10).to_markdown())\n",
        "\n",
        "    return df_test['price']"
      ]
    },
    {
      "cell_type": "code",
      "execution_count": 703,
      "metadata": {},
      "outputs": [
        {
          "name": "stdout",
          "output_type": "stream",
          "text": [
            "## Resto de CABA\n",
            "\n",
            "fold=0, score_train=103498.0 score_test=65977.0\n",
            "\n",
            "fold=1, score_train=102084.0 score_test=94500.0\n",
            "\n",
            "fold=2, score_train=102927.0 score_test=62254.0\n",
            "\n",
            "fold=3, score_train=98173.0 score_test=113080.0\n",
            "\n",
            "fold=4, score_train=92854.0 score_test=206696.0\n",
            "\n",
            "fold=5, score_train=104005.0 score_test=48258.0\n",
            "\n",
            "fold=6, score_train=103451.0 score_test=55019.0\n",
            "\n",
            "fold=7, score_train=78269.0 score_test=234543.0\n",
            "\n",
            "fold=8, score_train=103736.0 score_test=55175.0\n",
            "\n",
            "fold=9, score_train=101717.0 score_test=84954.0\n",
            "\n",
            "Train scores mean=99071.4, std=8083.029041695254\n",
            "\n",
            "Test scores mean=102045.6, std=65966.2031164444\n",
            "\n",
            "## La Plata\n",
            "\n",
            "fold=0, score_train=6473.0 score_test=24160.0\n",
            "\n",
            "fold=1, score_train=6608.0 score_test=35715.0\n",
            "\n",
            "fold=2, score_train=7398.0 score_test=10345.0\n",
            "\n",
            "fold=3, score_train=6735.0 score_test=6592.0\n",
            "\n",
            "fold=4, score_train=6729.0 score_test=7957.0\n",
            "\n",
            "fold=5, score_train=6581.0 score_test=8121.0\n",
            "\n",
            "fold=6, score_train=6429.0 score_test=12236.0\n",
            "\n",
            "fold=7, score_train=6362.0 score_test=7905.0\n",
            "\n",
            "fold=8, score_train=6843.0 score_test=9759.0\n",
            "\n",
            "fold=9, score_train=7130.0 score_test=25791.0\n",
            "\n",
            "Train scores mean=6728.8, std=324.57897515259845\n",
            "\n",
            "Test scores mean=14858.1, std=10022.175029514412\n",
            "\n",
            "## Puerto Madero y Catalinas\n",
            "\n",
            "fold=0, score_train=186885.0 score_test=207089.0\n",
            "\n",
            "fold=1, score_train=184834.0 score_test=214704.0\n",
            "\n",
            "fold=2, score_train=186305.0 score_test=330310.0\n",
            "\n",
            "fold=3, score_train=188723.0 score_test=189129.0\n",
            "\n",
            "fold=4, score_train=177502.0 score_test=371077.0\n",
            "\n",
            "fold=5, score_train=188042.0 score_test=194951.0\n",
            "\n",
            "fold=6, score_train=179035.0 score_test=462327.0\n",
            "\n",
            "fold=7, score_train=188081.0 score_test=185770.0\n",
            "\n",
            "fold=8, score_train=189639.0 score_test=211196.0\n",
            "\n",
            "fold=9, score_train=184202.0 score_test=276253.0\n",
            "\n",
            "Train scores mean=185324.8, std=4093.2771928832008\n",
            "\n",
            "Test scores mean=264280.6, std=94455.18131685525\n",
            "\n",
            "## Corredor Norte\n",
            "\n",
            "fold=0, score_train=115005.0 score_test=97146.0\n",
            "\n",
            "fold=1, score_train=109935.0 score_test=108380.0\n",
            "\n",
            "fold=2, score_train=110756.0 score_test=108076.0\n",
            "\n",
            "fold=3, score_train=114668.0 score_test=189431.0\n",
            "\n",
            "fold=4, score_train=100759.0 score_test=294438.0\n",
            "\n",
            "fold=5, score_train=111779.0 score_test=90695.0\n",
            "\n",
            "fold=6, score_train=114166.0 score_test=79465.0\n",
            "\n",
            "fold=7, score_train=111808.0 score_test=118847.0\n",
            "\n",
            "fold=8, score_train=108333.0 score_test=97867.0\n",
            "\n",
            "fold=9, score_train=91982.0 score_test=473326.0\n",
            "\n",
            "Train scores mean=108919.1, std=7244.5007258379555\n",
            "\n",
            "Test scores mean=165767.1, std=126022.41744886327\n",
            "\n",
            "## Corredor Sur\n",
            "\n",
            "fold=0, score_train=39049.0 score_test=40022.0\n",
            "\n",
            "fold=1, score_train=39562.0 score_test=37486.0\n",
            "\n",
            "fold=2, score_train=39097.0 score_test=32809.0\n",
            "\n",
            "fold=3, score_train=39621.0 score_test=30085.0\n",
            "\n",
            "fold=4, score_train=38918.0 score_test=31184.0\n",
            "\n",
            "fold=5, score_train=39734.0 score_test=26124.0\n",
            "\n",
            "fold=6, score_train=39257.0 score_test=37780.0\n",
            "\n",
            "fold=7, score_train=33188.0 score_test=67813.0\n",
            "\n",
            "fold=8, score_train=39170.0 score_test=27145.0\n",
            "\n",
            "fold=9, score_train=31564.0 score_test=92360.0\n",
            "\n",
            "Train scores mean=37916.0, std=2956.6611048425702\n",
            "\n",
            "Test scores mean=42280.8, std=21239.10210908173\n",
            "\n",
            "## Caballito\n",
            "\n",
            "fold=0, score_train=116043.0 score_test=94212.0\n",
            "\n",
            "fold=1, score_train=125083.0 score_test=121821.0\n",
            "\n",
            "fold=2, score_train=120699.0 score_test=150607.0\n",
            "\n",
            "fold=3, score_train=123172.0 score_test=69644.0\n",
            "\n",
            "fold=4, score_train=125693.0 score_test=48167.0\n",
            "\n",
            "fold=5, score_train=85221.0 score_test=443860.0\n",
            "\n",
            "fold=6, score_train=124814.0 score_test=133318.0\n",
            "\n",
            "fold=7, score_train=124000.0 score_test=64639.0\n",
            "\n",
            "fold=8, score_train=121058.0 score_test=65931.0\n",
            "\n",
            "fold=9, score_train=120371.0 score_test=67450.0\n",
            "\n",
            "Train scores mean=118615.4, std=12088.996109410133\n",
            "\n",
            "Test scores mean=125964.9, std=116789.22136571983\n",
            "\n",
            "## Palermo\n",
            "\n",
            "fold=0, score_train=176233.0 score_test=228764.0\n",
            "\n",
            "fold=1, score_train=182930.0 score_test=132899.0\n",
            "\n",
            "fold=2, score_train=182828.0 score_test=120236.0\n",
            "\n",
            "fold=3, score_train=183019.0 score_test=172141.0\n",
            "\n",
            "fold=4, score_train=182972.0 score_test=138678.0\n",
            "\n",
            "fold=5, score_train=175981.0 score_test=180116.0\n",
            "\n",
            "fold=6, score_train=184213.0 score_test=166859.0\n",
            "\n",
            "fold=7, score_train=181381.0 score_test=213801.0\n",
            "\n",
            "fold=8, score_train=183683.0 score_test=129360.0\n",
            "\n",
            "fold=9, score_train=132455.0 score_test=925478.0\n",
            "\n",
            "Train scores mean=176569.5, std=15779.5121051881\n",
            "\n",
            "Test scores mean=240833.2, std=243252.89126010405\n",
            "\n",
            "## Belgrano\n",
            "\n",
            "fold=0, score_train=140049.0 score_test=104091.0\n",
            "\n",
            "fold=1, score_train=132261.0 score_test=254251.0\n",
            "\n",
            "fold=2, score_train=137980.0 score_test=127221.0\n",
            "\n",
            "fold=3, score_train=135167.0 score_test=142818.0\n",
            "\n",
            "fold=4, score_train=115261.0 score_test=378953.0\n",
            "\n",
            "fold=5, score_train=138524.0 score_test=123090.0\n",
            "\n",
            "fold=6, score_train=136733.0 score_test=206259.0\n",
            "\n",
            "fold=7, score_train=137097.0 score_test=152122.0\n",
            "\n",
            "fold=8, score_train=139620.0 score_test=122493.0\n",
            "\n",
            "fold=9, score_train=133713.0 score_test=151883.0\n",
            "\n",
            "Train scores mean=134640.5, std=7249.9699041520935\n",
            "\n",
            "Test scores mean=176318.1, std=84125.12531468295\n",
            "\n",
            "## devoto\n",
            "\n",
            "fold=0, score_train=49382.0 score_test=1086855.0\n",
            "\n",
            "fold=1, score_train=173067.0 score_test=73652.0\n",
            "\n",
            "fold=2, score_train=173998.0 score_test=74357.0\n",
            "\n",
            "fold=3, score_train=168127.0 score_test=57357.0\n",
            "\n",
            "fold=4, score_train=171019.0 score_test=54840.0\n",
            "\n",
            "fold=5, score_train=172602.0 score_test=124814.0\n",
            "\n",
            "fold=6, score_train=166814.0 score_test=60595.0\n",
            "\n",
            "fold=7, score_train=173141.0 score_test=58708.0\n",
            "\n",
            "fold=8, score_train=172332.0 score_test=71424.0\n",
            "\n",
            "fold=9, score_train=163185.0 score_test=918322.0\n",
            "\n",
            "Train scores mean=158366.7, std=38447.614502072815\n",
            "\n",
            "Test scores mean=258092.4, std=394898.2083460665\n",
            "\n"
          ]
        }
      ],
      "source": [
        "print(\"## Resto de CABA\\n\")\n",
        "caba_pred = CV(df_train_caba)\n",
        "print(\"## La Plata\\n\")\n",
        "la_plata_pred = CV(df_train_la_plata)\n",
        "print(\"## Puerto Madero y Catalinas\\n\")\n",
        "madero_pred = CV(df_train_madero)\n",
        "print(\"## Corredor Norte\\n\")\n",
        "norte_pred = CV(df_train_corredor_norte)\n",
        "print(\"## Corredor Sur\\n\")\n",
        "sur_pred = CV(df_train_corredor_sur)\n",
        "print(\"## Caballito\\n\")\n",
        "cab_pred = CV(df_train_caballito)\n",
        "print(\"## Palermo\\n\")\n",
        "palermo_pred = CV(df_train_palermo)\n",
        "print(\"## Belgrano\\n\")\n",
        "bel_pred = CV(df_train_belgrano)\n",
        "print(\"## devoto\\n\")\n",
        "devoto_pred = CV(df_train_devoto)"
      ]
    },
    {
      "cell_type": "code",
      "execution_count": 704,
      "metadata": {},
      "outputs": [
        {
          "name": "stdout",
          "output_type": "stream",
          "text": [
            "## Resto de CABA\n",
            "\n",
            "|    | column                  |   feature_importance |\n",
            "|---:|:------------------------|---------------------:|\n",
            "|  0 | surface_covered         |             40.2824  |\n",
            "|  1 | surface_total           |             33.9001  |\n",
            "|  2 | lon                     |              6.64862 |\n",
            "| 10 | surface_covered_imputed |              3.2706  |\n",
            "|  5 | desc_suite              |              2.69611 |\n",
            "|  8 | desc_pileta|piscina     |              2.48261 |\n",
            "| 12 | bathrooms               |              1.74516 |\n",
            "| 17 | bedrooms_rooms          |              1.66442 |\n",
            "| 25 | desc_hotel              |              1.5336  |\n",
            "|  7 | covered                 |              1.40029 |\n",
            "## La Plata\n",
            "\n",
            "|    | column                  |   feature_importance |\n",
            "|---:|:------------------------|---------------------:|\n",
            "|  0 | surface_covered         |             36.9819  |\n",
            "|  1 | surface_total           |              9.92442 |\n",
            "|  2 | lon                     |              9.06603 |\n",
            "|  3 | start_month             |              6.76688 |\n",
            "|  6 | desc_parrilla           |              6.29417 |\n",
            "|  4 | start_day               |              5.78809 |\n",
            "|  5 | covered                 |              5.28389 |\n",
            "|  8 | rooms                   |              2.85858 |\n",
            "|  7 | bathrooms_rooms         |              2.72106 |\n",
            "| 12 | surface_covered_imputed |              2.32493 |\n",
            "## Puerto Madero y Catalinas\n",
            "\n",
            "|    | column              |   feature_importance |\n",
            "|---:|:--------------------|---------------------:|\n",
            "|  0 | surface_covered     |            58.8394   |\n",
            "|  1 | surface_total       |            34.4093   |\n",
            "|  4 | desc_ascensor       |             0.97404  |\n",
            "|  2 | lon                 |             0.823318 |\n",
            "|  3 | lat                 |             0.820709 |\n",
            "|  5 | desc_pileta|piscina |             0.67675  |\n",
            "|  7 | covered             |             0.565971 |\n",
            "|  6 | bathrooms_rooms     |             0.366432 |\n",
            "|  8 | bedrooms_rooms      |             0.333459 |\n",
            "|  9 | desc_estacion       |             0.279228 |\n",
            "## Corredor Norte\n",
            "\n",
            "|    | column                |   feature_importance |\n",
            "|---:|:----------------------|---------------------:|\n",
            "|  0 | surface_covered       |             41.7622  |\n",
            "|  1 | surface_total         |             26.868   |\n",
            "|  2 | lon                   |             12.0917  |\n",
            "|  3 | lat                   |              3.38144 |\n",
            "|  4 | surface_total_imputed |              2.8169  |\n",
            "|  5 | desc_av.              |              2.02925 |\n",
            "|  7 | desc_av               |              1.92256 |\n",
            "|  8 | desc_pileta|piscina   |              1.31171 |\n",
            "| 14 | bedrooms_rooms        |              1.15174 |\n",
            "|  6 | bedrooms              |              1.12304 |\n",
            "## Corredor Sur\n",
            "\n",
            "|    | column          |   feature_importance |\n",
            "|---:|:----------------|---------------------:|\n",
            "|  0 | surface_covered |             35.4727  |\n",
            "|  1 | lon             |             19.2739  |\n",
            "|  2 | surface_total   |             13.7246  |\n",
            "|  4 | bathrooms       |              7.9084  |\n",
            "|  6 | start_day       |              2.93879 |\n",
            "|  8 | bathrooms_rooms |              2.82974 |\n",
            "|  5 | start_month     |              2.80316 |\n",
            "|  3 | lat             |              2.21641 |\n",
            "|  7 | covered         |              1.73355 |\n",
            "| 11 | desc_tren       |              1.58461 |\n",
            "## Caballito\n",
            "\n",
            "|    | column              |   feature_importance |\n",
            "|---:|:--------------------|---------------------:|\n",
            "|  0 | lat                 |            29.7575   |\n",
            "|  1 | surface_covered     |            18.9965   |\n",
            "|  4 | desc_centro         |            17.0315   |\n",
            "|  3 | surface_total       |            12.5979   |\n",
            "|  2 | lon                 |             5.67034  |\n",
            "|  6 | desc_emprendimiento |             4.21501  |\n",
            "| 14 | desc_subte          |             2.51672  |\n",
            "|  9 | bedrooms_imputed    |             1.91928  |\n",
            "| 10 | desc_avenida        |             1.72213  |\n",
            "|  5 | desc_a(mm|m)enities |             0.942802 |\n",
            "## Palermo\n",
            "\n",
            "|    | column                  |   feature_importance |\n",
            "|---:|:------------------------|---------------------:|\n",
            "|  0 | surface_covered         |            59.2005   |\n",
            "|  1 | bathrooms_rooms         |            28.8588   |\n",
            "|  3 | surface_total           |             2.12426  |\n",
            "|  5 | desc_suite              |             1.90054  |\n",
            "|  2 | lat                     |             1.83533  |\n",
            "|  6 | desc_a(mm|m)enities     |             1.72169  |\n",
            "|  7 | desc_pileta|piscina     |             1.37308  |\n",
            "|  4 | lon                     |             1.1721   |\n",
            "|  8 | covered                 |             0.382064 |\n",
            "| 13 | desc_estilo franc(é|e)s |             0.194463 |\n",
            "## Belgrano\n",
            "\n",
            "|    | column              |   feature_importance |\n",
            "|---:|:--------------------|---------------------:|\n",
            "|  0 | surface_covered     |             71.6243  |\n",
            "|  3 | desc_pileta|piscina |              5.89961 |\n",
            "|  1 | surface_total       |              4.76617 |\n",
            "|  2 | desc_emprendimiento |              3.96361 |\n",
            "|  5 | lat                 |              3.06756 |\n",
            "|  7 | bathrooms_rooms     |              1.58406 |\n",
            "|  4 | lon                 |              1.55865 |\n",
            "|  6 | bathrooms           |              1.35181 |\n",
            "|  8 | covered             |              1.31357 |\n",
            "|  9 | desc_a(mm|m)enities |              1.01461 |\n",
            "## devoto\n",
            "\n",
            "|    | column                |   feature_importance |\n",
            "|---:|:----------------------|---------------------:|\n",
            "|  0 | surface_covered       |             27.2044  |\n",
            "|  1 | lat                   |             26.9876  |\n",
            "|  3 | lon                   |             10.8242  |\n",
            "|  2 | rooms_imputed         |              9.31862 |\n",
            "|  5 | surface_total         |              5.56875 |\n",
            "|  4 | bathrooms_rooms       |              2.60609 |\n",
            "|  9 | start_day             |              2.28029 |\n",
            "|  8 | desc_balcon           |              2.10871 |\n",
            "| 11 | desc_suite            |              1.71765 |\n",
            "| 10 | surface_total_imputed |              1.37583 |\n"
          ]
        }
      ],
      "source": [
        "print(\"## Resto de CABA\\n\")\n",
        "solucion_caba = modelado(df_train_caba,df_test_caba)\n",
        "print(\"## La Plata\\n\")\n",
        "solucion_la_plata = modelado(df_train_la_plata,df_test_la_plata)\n",
        "print(\"## Puerto Madero y Catalinas\\n\")\n",
        "solucion_madero = modelado(df_train_madero,df_test_madero)\n",
        "print(\"## Corredor Norte\\n\")\n",
        "solucion_corredor_norte = modelado(df_train_corredor_norte,df_test_corredor_norte)\n",
        "print(\"## Corredor Sur\\n\")\n",
        "solucion_corredor_sur = modelado(df_train_corredor_sur,df_test_corredor_sur)\n",
        "print(\"## Caballito\\n\")\n",
        "solucion_caballito = modelado(df_train_caballito,df_test_caballito)\n",
        "print(\"## Palermo\\n\")\n",
        "solucion_palermo= modelado(df_train_palermo,df_test_palermo)\n",
        "print(\"## Belgrano\\n\")\n",
        "solucion_belgrano = modelado(df_train_belgrano,df_test_belgrano)\n",
        "print(\"## devoto\\n\")\n",
        "solucion_devoto = modelado(df_train_devoto,df_test_devoto)"
      ]
    },
    {
      "attachments": {},
      "cell_type": "markdown",
      "metadata": {},
      "source": [
        "## Entrega final"
      ]
    },
    {
      "cell_type": "code",
      "execution_count": 705,
      "metadata": {},
      "outputs": [],
      "source": [
        "pd.concat((solucion_caba,solucion_la_plata,\n",
        "           solucion_madero,\n",
        "           solucion_corredor_norte,\n",
        "           solucion_corredor_sur,\n",
        "           solucion_caballito,\n",
        "           solucion_palermo,\n",
        "           solucion_belgrano,\n",
        "           solucion_devoto)).to_csv('solucion.csv', index=True)"
      ]
    }
  ],
  "metadata": {
    "colab": {
      "provenance": []
    },
    "kernelspec": {
      "display_name": "Python 3",
      "name": "python3"
    },
    "language_info": {
      "codemirror_mode": {
        "name": "ipython",
        "version": 3
      },
      "file_extension": ".py",
      "mimetype": "text/x-python",
      "name": "python",
      "nbconvert_exporter": "python",
      "pygments_lexer": "ipython3",
      "version": "3.10.11"
    }
  },
  "nbformat": 4,
  "nbformat_minor": 0
}
