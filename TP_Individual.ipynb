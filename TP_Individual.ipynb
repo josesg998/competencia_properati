{
  "cells": [
    {
      "cell_type": "code",
      "execution_count": 550,
      "metadata": {
        "id": "jw8ogMDOpvKP"
      },
      "outputs": [],
      "source": [
        "import pandas as pd\n",
        "import matplotlib.pyplot as plt\n",
        "import seaborn as sns\n",
        "import numpy as np\n",
        "import geopandas as gpd\n",
        "\n",
        "import sklearn as sk\n",
        "from sklearn import model_selection\n",
        "from sklearn import ensemble\n",
        "from sklearn import metrics"
      ]
    },
    {
      "cell_type": "code",
      "execution_count": 551,
      "metadata": {
        "colab": {
          "base_uri": "https://localhost:8080/"
        },
        "id": "b8SSObwGJo2Q",
        "outputId": "db6e762f-a49f-4a4b-b085-75e2cae4feba"
      },
      "outputs": [],
      "source": [
        "# from google.colab import drive\n",
        "# drive.mount('/content/drive')"
      ]
    },
    {
      "attachments": {},
      "cell_type": "markdown",
      "metadata": {
        "id": "20D-m6GPyefp"
      },
      "source": [
        "# Lectura de datos"
      ]
    },
    {
      "cell_type": "code",
      "execution_count": 552,
      "metadata": {
        "id": "CtV0wOGsqJLC"
      },
      "outputs": [],
      "source": [
        "# DIR = \"/content/drive/MyDrive/Data Mining Properati/\"\n",
        "#df_train = pd.read_csv(DIR + \"properati_entrenamiento.zip\", index_col=\"id\")  \n",
        "#df_test = pd.read_csv(DIR + \"properati_a_predecir.zip\", index_col=\"id\")  \n",
        "df_test = pd.read_feather('bases/properati_a_predecir.ftr').set_index('id')\n",
        "df_train = pd.read_feather('bases/properati_entrenamiento.ftr').set_index('id')\n",
        "\n",
        "# df_test = pd.read_feather(DIR+'properati_a_predecir.ftr').set_index('id')\n",
        "# df_train = pd.read_feather(DIR+'properati_entrenamiento.ftr').set_index('id')\n",
        "# df_test.head()"
      ]
    },
    {
      "attachments": {},
      "cell_type": "markdown",
      "metadata": {
        "id": "byV0dQi-yiEd"
      },
      "source": [
        "# Entendimiento (magia parte 1 -- AID)"
      ]
    },
    {
      "attachments": {},
      "cell_type": "markdown",
      "metadata": {
        "id": "zjaTnfxkyvo8"
      },
      "source": [
        "# Limpieza y transformación de datos (magia parte 2 -- MD)"
      ]
    },
    {
      "attachments": {},
      "cell_type": "markdown",
      "metadata": {},
      "source": [
        "## Filtrado por ubicación, tipo de propiedad y moneda"
      ]
    },
    {
      "cell_type": "code",
      "execution_count": 553,
      "metadata": {
        "id": "wLR_WTy_AUiy"
      },
      "outputs": [],
      "source": [
        "#invierto casos que tengan surface_total menor a covered\n",
        "raro = df_test['surface_total']<df_test['surface_covered']\n",
        "\n",
        "df_test.loc[raro,'surface_total'], df_test.loc[raro,'surface_covered'] = df_test.loc[raro,'surface_covered'], df_test.loc[raro,'surface_total']\n",
        "\n",
        "raro = df_train['surface_total']<df_train['surface_covered']\n",
        "\n",
        "df_train.loc[raro,'surface_total'], df_train.loc[raro,'surface_covered'] = df_train.loc[raro,'surface_covered'], df_train.loc[raro,'surface_total']"
      ]
    },
    {
      "cell_type": "code",
      "execution_count": 554,
      "metadata": {
        "colab": {
          "base_uri": "https://localhost:8080/"
        },
        "id": "yPdDQB-TAUi1",
        "outputId": "179996f9-6edc-44ed-8b72-5a1781ec411f"
      },
      "outputs": [
        {
          "data": {
            "text/plain": [
              "(102477, 24)"
            ]
          },
          "execution_count": 554,
          "metadata": {},
          "output_type": "execute_result"
        }
      ],
      "source": [
        "#me quedo en train con los casos dentro de CABA y La Plata\n",
        "en_amba_train = (df_train.lat>-60)&(df_train['lon']>-35.5)&(df_train['lon']<-34)& (df_train.lat<-56.5) & (df_train.l1=='Argentina')\n",
        "en_amba_test  =  (df_test.lat>-60)&(df_test['lon']>-35.5)&(df_test['lon']<-34)& (df_test.lat<-56.5) & (df_test.l1=='Argentina')\n",
        "\n",
        "# en_ballester = ((df_train.title.str.upper().str.contains('BALLESTER')) | (df_train.description.str.upper().str.contains('BALLESTER'))&\n",
        "#                 en_amba_train)\n",
        "# ballester = df_train[en_ballester]\n",
        "\n",
        "no_lugares = ['Bs.As. G.B.A. Zona Sur','Bs.As. G.B.A. Zona Norte','Bs.As. G.B.A. Zona Oeste']\n",
        "\n",
        "#Filtramos los que se encuentran dentro del rango de AMBA y que no son del conurbano\n",
        "df_train = df_train[en_amba_train & (~df_train.l2.isin(no_lugares))]\n",
        "\n",
        "#Pulimos la zona circundante a la plata para que coincida con el test\n",
        "df_train = df_train[(df_train.l2=='Capital Federal')|((df_train.l2=='Buenos Aires Interior')&(df_train.lat>-58.15)&(df_train.lon<-34.7)&(df_train.lon>-35.1))]\n",
        "\n",
        "# df_train = pd.concat((df_train,ballester),axis=0)\n",
        "\n",
        "df_train = df_train[(df_train.price_period=='Mensual')|(df_train.price_period.isnull())] #TODO ver si sacarlo \n",
        "\n",
        "df_train.loc[df_train.l2=='Buenos Aires Interior','l2'] = 'Bs.As. G.B.A. Zona Sur'\n",
        "\n",
        "df_train = df_train[df_train.operation_type=='Venta']\n",
        "\n",
        "df_test.loc[df_test.title.str.contains('en Las Cañitas'),'l3'] = \"Las Cañitas\"\n",
        "df_test.loc[((df_test.l3=='Puerto Madero')|(df_test.l3=='Catalinas')) & (df_test.lat<-58.4),'lat'] = np.nan\n",
        "\n",
        "df_train.loc[((df_train.l3=='Puerto Madero')|(df_train.l3=='Catalinas')) & (df_train.lat<-58.47),'l3'] = 'Villa Urquiza'\n",
        "df_train.loc[((df_train.l3=='Puerto Madero')|(df_train.l3=='Catalinas')) & (df_train.lat<-58.44),['lat','lon']] = np.nan\n",
        "\n",
        "df_train = df_train[df_train.property_type.isin(['PH','Departamento'])]\n",
        "\n",
        "df_train = df_train[df_train.currency=='USD'] #saco tambien los nulos porque no tienen precio\n",
        "\n",
        "df_train.shape"
      ]
    },
    {
      "attachments": {},
      "cell_type": "markdown",
      "metadata": {},
      "source": [
        "## Imputación de nulos"
      ]
    },
    {
      "cell_type": "code",
      "execution_count": 555,
      "metadata": {
        "id": "hTl8epCQAUi3"
      },
      "outputs": [],
      "source": [
        "df_test.loc[~en_amba_test,['lat','lon']] = np.nan"
      ]
    },
    {
      "cell_type": "code",
      "execution_count": 556,
      "metadata": {
        "id": "Yvg2k8SEAUi4"
      },
      "outputs": [],
      "source": [
        "cols_a_imputar = ['rooms','bedrooms','bathrooms','surface_total','surface_covered','lat','lon']\n",
        "# crear nuevas columnas para indicar los valores imputados\n",
        "for column in cols_a_imputar:\n",
        "    is_imputed_train = np.where(df_train[column].isnull(), True, False)\n",
        "    is_imputed_test = np.where(df_test[column].isnull(), True, False)\n",
        "    df_train[column + '_imputed'] = is_imputed_train\n",
        "    df_test[column + '_imputed'] = is_imputed_test"
      ]
    },
    {
      "cell_type": "code",
      "execution_count": 557,
      "metadata": {
        "id": "d9zhRKhQAUi5"
      },
      "outputs": [],
      "source": [
        "from sklearn.experimental import enable_iterative_imputer\n",
        "from sklearn.impute import IterativeImputer"
      ]
    },
    {
      "cell_type": "code",
      "execution_count": 558,
      "metadata": {
        "colab": {
          "base_uri": "https://localhost:8080/"
        },
        "id": "hih_mFzjAUi5",
        "outputId": "891717fa-987b-439b-dd90-447cd4b99456"
      },
      "outputs": [],
      "source": [
        "imp = IterativeImputer(max_iter=20, random_state=42)  # tiene add_indicator\n",
        "\n",
        "grupo_columnas = [['rooms','bedrooms','bathrooms','surface_total','surface_covered'],['lat','lon']]\n",
        "for lista_columnas in grupo_columnas:\n",
        "    df_train[lista_columnas] = imp.fit_transform(df_train[lista_columnas])\n",
        "    df_test[lista_columnas] = imp.transform(df_test[lista_columnas])"
      ]
    },
    {
      "cell_type": "code",
      "execution_count": 559,
      "metadata": {
        "id": "9QyRXAdmAUi6"
      },
      "outputs": [],
      "source": [
        "df_test.rooms      = df_test.rooms.astype('int')\n",
        "df_train.rooms     = df_train.rooms.astype('int')\n",
        "df_test.bedrooms   = df_test.bedrooms.astype('int')\n",
        "df_train.bedrooms  = df_train.bedrooms.astype('int')\n",
        "df_test.bathrooms  = df_test.bathrooms.astype('int')\n",
        "df_train.bathrooms = df_train.bathrooms.astype('int')"
      ]
    },
    {
      "attachments": {},
      "cell_type": "markdown",
      "metadata": {},
      "source": [
        "## Filtrado por surface y rooms"
      ]
    },
    {
      "attachments": {},
      "cell_type": "markdown",
      "metadata": {},
      "source": [
        "Compararemos la distribución de variables entre train y test y trataremos de que train se ajuste a test para las mismas."
      ]
    },
    {
      "cell_type": "code",
      "execution_count": 560,
      "metadata": {
        "colab": {
          "base_uri": "https://localhost:8080/",
          "height": 363
        },
        "id": "hXD_GgV-AUi7",
        "outputId": "47eeb67f-bf59-4eae-eb14-703368ceaa84"
      },
      "outputs": [
        {
          "data": {
            "text/html": [
              "<div>\n",
              "<style scoped>\n",
              "    .dataframe tbody tr th:only-of-type {\n",
              "        vertical-align: middle;\n",
              "    }\n",
              "\n",
              "    .dataframe tbody tr th {\n",
              "        vertical-align: top;\n",
              "    }\n",
              "\n",
              "    .dataframe thead th {\n",
              "        text-align: right;\n",
              "    }\n",
              "</style>\n",
              "<table border=\"1\" class=\"dataframe\">\n",
              "  <thead>\n",
              "    <tr style=\"text-align: right;\">\n",
              "      <th></th>\n",
              "      <th>property_type</th>\n",
              "      <th>property_type</th>\n",
              "    </tr>\n",
              "  </thead>\n",
              "  <tbody>\n",
              "    <tr>\n",
              "      <th>Departamento</th>\n",
              "      <td>92599</td>\n",
              "      <td>5426</td>\n",
              "    </tr>\n",
              "    <tr>\n",
              "      <th>PH</th>\n",
              "      <td>9878</td>\n",
              "      <td>574</td>\n",
              "    </tr>\n",
              "  </tbody>\n",
              "</table>\n",
              "</div>"
            ],
            "text/plain": [
              "              property_type  property_type\n",
              "Departamento          92599           5426\n",
              "PH                     9878            574"
            ]
          },
          "execution_count": 560,
          "metadata": {},
          "output_type": "execute_result"
        }
      ],
      "source": [
        "pd.concat((df_train.property_type.value_counts(dropna=False),\n",
        "           df_test.property_type.value_counts(dropna=False)),axis=1).sort_index()"
      ]
    },
    {
      "cell_type": "code",
      "execution_count": 561,
      "metadata": {
        "colab": {
          "base_uri": "https://localhost:8080/",
          "height": 771
        },
        "id": "K6sOe6yxAUi7",
        "outputId": "eac4c0e0-17a7-4ed0-b584-be20e7f7628e"
      },
      "outputs": [
        {
          "data": {
            "text/html": [
              "<div>\n",
              "<style scoped>\n",
              "    .dataframe tbody tr th:only-of-type {\n",
              "        vertical-align: middle;\n",
              "    }\n",
              "\n",
              "    .dataframe tbody tr th {\n",
              "        vertical-align: top;\n",
              "    }\n",
              "\n",
              "    .dataframe thead th {\n",
              "        text-align: right;\n",
              "    }\n",
              "</style>\n",
              "<table border=\"1\" class=\"dataframe\">\n",
              "  <thead>\n",
              "    <tr style=\"text-align: right;\">\n",
              "      <th></th>\n",
              "      <th>bathrooms</th>\n",
              "      <th>bathrooms</th>\n",
              "    </tr>\n",
              "  </thead>\n",
              "  <tbody>\n",
              "    <tr>\n",
              "      <th>1</th>\n",
              "      <td>68986</td>\n",
              "      <td>4605.0</td>\n",
              "    </tr>\n",
              "    <tr>\n",
              "      <th>2</th>\n",
              "      <td>22962</td>\n",
              "      <td>1227.0</td>\n",
              "    </tr>\n",
              "    <tr>\n",
              "      <th>3</th>\n",
              "      <td>6732</td>\n",
              "      <td>144.0</td>\n",
              "    </tr>\n",
              "    <tr>\n",
              "      <th>4</th>\n",
              "      <td>2188</td>\n",
              "      <td>20.0</td>\n",
              "    </tr>\n",
              "    <tr>\n",
              "      <th>0</th>\n",
              "      <td>860</td>\n",
              "      <td>NaN</td>\n",
              "    </tr>\n",
              "    <tr>\n",
              "      <th>5</th>\n",
              "      <td>588</td>\n",
              "      <td>1.0</td>\n",
              "    </tr>\n",
              "    <tr>\n",
              "      <th>6</th>\n",
              "      <td>107</td>\n",
              "      <td>3.0</td>\n",
              "    </tr>\n",
              "    <tr>\n",
              "      <th>7</th>\n",
              "      <td>20</td>\n",
              "      <td>NaN</td>\n",
              "    </tr>\n",
              "    <tr>\n",
              "      <th>8</th>\n",
              "      <td>9</td>\n",
              "      <td>NaN</td>\n",
              "    </tr>\n",
              "    <tr>\n",
              "      <th>16</th>\n",
              "      <td>4</td>\n",
              "      <td>NaN</td>\n",
              "    </tr>\n",
              "    <tr>\n",
              "      <th>11</th>\n",
              "      <td>4</td>\n",
              "      <td>NaN</td>\n",
              "    </tr>\n",
              "    <tr>\n",
              "      <th>9</th>\n",
              "      <td>4</td>\n",
              "      <td>NaN</td>\n",
              "    </tr>\n",
              "    <tr>\n",
              "      <th>33</th>\n",
              "      <td>3</td>\n",
              "      <td>NaN</td>\n",
              "    </tr>\n",
              "    <tr>\n",
              "      <th>10</th>\n",
              "      <td>2</td>\n",
              "      <td>NaN</td>\n",
              "    </tr>\n",
              "    <tr>\n",
              "      <th>66</th>\n",
              "      <td>2</td>\n",
              "      <td>NaN</td>\n",
              "    </tr>\n",
              "    <tr>\n",
              "      <th>30</th>\n",
              "      <td>1</td>\n",
              "      <td>NaN</td>\n",
              "    </tr>\n",
              "    <tr>\n",
              "      <th>131</th>\n",
              "      <td>1</td>\n",
              "      <td>NaN</td>\n",
              "    </tr>\n",
              "    <tr>\n",
              "      <th>56</th>\n",
              "      <td>1</td>\n",
              "      <td>NaN</td>\n",
              "    </tr>\n",
              "    <tr>\n",
              "      <th>12</th>\n",
              "      <td>1</td>\n",
              "      <td>NaN</td>\n",
              "    </tr>\n",
              "    <tr>\n",
              "      <th>18</th>\n",
              "      <td>1</td>\n",
              "      <td>NaN</td>\n",
              "    </tr>\n",
              "    <tr>\n",
              "      <th>20</th>\n",
              "      <td>1</td>\n",
              "      <td>NaN</td>\n",
              "    </tr>\n",
              "  </tbody>\n",
              "</table>\n",
              "</div>"
            ],
            "text/plain": [
              "     bathrooms  bathrooms\n",
              "1        68986     4605.0\n",
              "2        22962     1227.0\n",
              "3         6732      144.0\n",
              "4         2188       20.0\n",
              "0          860        NaN\n",
              "5          588        1.0\n",
              "6          107        3.0\n",
              "7           20        NaN\n",
              "8            9        NaN\n",
              "16           4        NaN\n",
              "11           4        NaN\n",
              "9            4        NaN\n",
              "33           3        NaN\n",
              "10           2        NaN\n",
              "66           2        NaN\n",
              "30           1        NaN\n",
              "131          1        NaN\n",
              "56           1        NaN\n",
              "12           1        NaN\n",
              "18           1        NaN\n",
              "20           1        NaN"
            ]
          },
          "execution_count": 561,
          "metadata": {},
          "output_type": "execute_result"
        }
      ],
      "source": [
        "pd.concat((df_train.bathrooms.value_counts(dropna=False),\n",
        "           df_test.bathrooms.value_counts(dropna=False)),axis=1)"
      ]
    },
    {
      "cell_type": "code",
      "execution_count": 562,
      "metadata": {
        "colab": {
          "base_uri": "https://localhost:8080/"
        },
        "id": "TP3MXGKzAUi8",
        "outputId": "b58cb15a-6a16-49ec-cb77-2c592fc47095"
      },
      "outputs": [
        {
          "data": {
            "text/plain": [
              "(102458, 31)"
            ]
          },
          "execution_count": 562,
          "metadata": {},
          "output_type": "execute_result"
        }
      ],
      "source": [
        "df_train = df_train[(df_train['bathrooms']<=10) | (df_train['bathrooms'].isnull())]\n",
        "df_train.shape"
      ]
    },
    {
      "cell_type": "code",
      "execution_count": 563,
      "metadata": {
        "colab": {
          "base_uri": "https://localhost:8080/",
          "height": 645
        },
        "id": "KbopOZ1jAUi9",
        "outputId": "e8e2729d-83ec-4950-82e3-9cf941bbbac6"
      },
      "outputs": [
        {
          "data": {
            "text/html": [
              "<div>\n",
              "<style scoped>\n",
              "    .dataframe tbody tr th:only-of-type {\n",
              "        vertical-align: middle;\n",
              "    }\n",
              "\n",
              "    .dataframe tbody tr th {\n",
              "        vertical-align: top;\n",
              "    }\n",
              "\n",
              "    .dataframe thead th {\n",
              "        text-align: right;\n",
              "    }\n",
              "</style>\n",
              "<table border=\"1\" class=\"dataframe\">\n",
              "  <thead>\n",
              "    <tr style=\"text-align: right;\">\n",
              "      <th></th>\n",
              "      <th>rooms</th>\n",
              "      <th>rooms</th>\n",
              "    </tr>\n",
              "  </thead>\n",
              "  <tbody>\n",
              "    <tr>\n",
              "      <th>1</th>\n",
              "      <td>20683</td>\n",
              "      <td>NaN</td>\n",
              "    </tr>\n",
              "    <tr>\n",
              "      <th>2</th>\n",
              "      <td>30539</td>\n",
              "      <td>2984.0</td>\n",
              "    </tr>\n",
              "    <tr>\n",
              "      <th>3</th>\n",
              "      <td>26686</td>\n",
              "      <td>3016.0</td>\n",
              "    </tr>\n",
              "    <tr>\n",
              "      <th>4</th>\n",
              "      <td>17708</td>\n",
              "      <td>NaN</td>\n",
              "    </tr>\n",
              "    <tr>\n",
              "      <th>5</th>\n",
              "      <td>4634</td>\n",
              "      <td>NaN</td>\n",
              "    </tr>\n",
              "    <tr>\n",
              "      <th>6</th>\n",
              "      <td>1301</td>\n",
              "      <td>NaN</td>\n",
              "    </tr>\n",
              "    <tr>\n",
              "      <th>7</th>\n",
              "      <td>491</td>\n",
              "      <td>NaN</td>\n",
              "    </tr>\n",
              "    <tr>\n",
              "      <th>8</th>\n",
              "      <td>263</td>\n",
              "      <td>NaN</td>\n",
              "    </tr>\n",
              "    <tr>\n",
              "      <th>9</th>\n",
              "      <td>46</td>\n",
              "      <td>NaN</td>\n",
              "    </tr>\n",
              "    <tr>\n",
              "      <th>10</th>\n",
              "      <td>48</td>\n",
              "      <td>NaN</td>\n",
              "    </tr>\n",
              "    <tr>\n",
              "      <th>11</th>\n",
              "      <td>15</td>\n",
              "      <td>NaN</td>\n",
              "    </tr>\n",
              "    <tr>\n",
              "      <th>12</th>\n",
              "      <td>20</td>\n",
              "      <td>NaN</td>\n",
              "    </tr>\n",
              "    <tr>\n",
              "      <th>14</th>\n",
              "      <td>6</td>\n",
              "      <td>NaN</td>\n",
              "    </tr>\n",
              "    <tr>\n",
              "      <th>15</th>\n",
              "      <td>8</td>\n",
              "      <td>NaN</td>\n",
              "    </tr>\n",
              "    <tr>\n",
              "      <th>16</th>\n",
              "      <td>3</td>\n",
              "      <td>NaN</td>\n",
              "    </tr>\n",
              "    <tr>\n",
              "      <th>18</th>\n",
              "      <td>1</td>\n",
              "      <td>NaN</td>\n",
              "    </tr>\n",
              "    <tr>\n",
              "      <th>20</th>\n",
              "      <td>2</td>\n",
              "      <td>NaN</td>\n",
              "    </tr>\n",
              "    <tr>\n",
              "      <th>21</th>\n",
              "      <td>1</td>\n",
              "      <td>NaN</td>\n",
              "    </tr>\n",
              "    <tr>\n",
              "      <th>22</th>\n",
              "      <td>1</td>\n",
              "      <td>NaN</td>\n",
              "    </tr>\n",
              "    <tr>\n",
              "      <th>30</th>\n",
              "      <td>1</td>\n",
              "      <td>NaN</td>\n",
              "    </tr>\n",
              "    <tr>\n",
              "      <th>32</th>\n",
              "      <td>1</td>\n",
              "      <td>NaN</td>\n",
              "    </tr>\n",
              "  </tbody>\n",
              "</table>\n",
              "</div>"
            ],
            "text/plain": [
              "    rooms   rooms\n",
              "1   20683     NaN\n",
              "2   30539  2984.0\n",
              "3   26686  3016.0\n",
              "4   17708     NaN\n",
              "5    4634     NaN\n",
              "6    1301     NaN\n",
              "7     491     NaN\n",
              "8     263     NaN\n",
              "9      46     NaN\n",
              "10     48     NaN\n",
              "11     15     NaN\n",
              "12     20     NaN\n",
              "14      6     NaN\n",
              "15      8     NaN\n",
              "16      3     NaN\n",
              "18      1     NaN\n",
              "20      2     NaN\n",
              "21      1     NaN\n",
              "22      1     NaN\n",
              "30      1     NaN\n",
              "32      1     NaN"
            ]
          },
          "execution_count": 563,
          "metadata": {},
          "output_type": "execute_result"
        }
      ],
      "source": [
        "pd.concat((df_train.rooms.value_counts(dropna=False),\n",
        "           df_test.rooms.value_counts(dropna=False)),axis=1).sort_index()"
      ]
    },
    {
      "cell_type": "code",
      "execution_count": 564,
      "metadata": {
        "colab": {
          "base_uri": "https://localhost:8080/"
        },
        "id": "Fzzqo43QAUi-",
        "outputId": "c3af62b8-c301-4ee9-e71d-86a4b5aedaef"
      },
      "outputs": [
        {
          "data": {
            "text/plain": [
              "(57225, 31)"
            ]
          },
          "execution_count": 564,
          "metadata": {},
          "output_type": "execute_result"
        }
      ],
      "source": [
        "df_train = df_train[((df_train.rooms<4)&((df_train.rooms>1))) |(df_train.rooms.isnull())]\n",
        "df_train.shape"
      ]
    },
    {
      "cell_type": "code",
      "execution_count": 565,
      "metadata": {
        "colab": {
          "base_uri": "https://localhost:8080/",
          "height": 677
        },
        "id": "4Tszl6jKAUi_",
        "outputId": "31540542-d429-49d6-9ad2-31c892776301"
      },
      "outputs": [
        {
          "data": {
            "text/html": [
              "<div>\n",
              "<style scoped>\n",
              "    .dataframe tbody tr th:only-of-type {\n",
              "        vertical-align: middle;\n",
              "    }\n",
              "\n",
              "    .dataframe tbody tr th {\n",
              "        vertical-align: top;\n",
              "    }\n",
              "\n",
              "    .dataframe thead th {\n",
              "        text-align: right;\n",
              "    }\n",
              "</style>\n",
              "<table border=\"1\" class=\"dataframe\">\n",
              "  <thead>\n",
              "    <tr style=\"text-align: right;\">\n",
              "      <th></th>\n",
              "      <th>bedrooms</th>\n",
              "      <th>bedrooms</th>\n",
              "    </tr>\n",
              "  </thead>\n",
              "  <tbody>\n",
              "    <tr>\n",
              "      <th>0</th>\n",
              "      <td>18.0</td>\n",
              "      <td>3.0</td>\n",
              "    </tr>\n",
              "    <tr>\n",
              "      <th>1</th>\n",
              "      <td>32743.0</td>\n",
              "      <td>3268.0</td>\n",
              "    </tr>\n",
              "    <tr>\n",
              "      <th>2</th>\n",
              "      <td>24233.0</td>\n",
              "      <td>2704.0</td>\n",
              "    </tr>\n",
              "    <tr>\n",
              "      <th>3</th>\n",
              "      <td>223.0</td>\n",
              "      <td>23.0</td>\n",
              "    </tr>\n",
              "    <tr>\n",
              "      <th>4</th>\n",
              "      <td>5.0</td>\n",
              "      <td>1.0</td>\n",
              "    </tr>\n",
              "    <tr>\n",
              "      <th>5</th>\n",
              "      <td>NaN</td>\n",
              "      <td>1.0</td>\n",
              "    </tr>\n",
              "    <tr>\n",
              "      <th>11</th>\n",
              "      <td>2.0</td>\n",
              "      <td>NaN</td>\n",
              "    </tr>\n",
              "    <tr>\n",
              "      <th>15</th>\n",
              "      <td>1.0</td>\n",
              "      <td>NaN</td>\n",
              "    </tr>\n",
              "  </tbody>\n",
              "</table>\n",
              "</div>"
            ],
            "text/plain": [
              "    bedrooms  bedrooms\n",
              "0       18.0       3.0\n",
              "1    32743.0    3268.0\n",
              "2    24233.0    2704.0\n",
              "3      223.0      23.0\n",
              "4        5.0       1.0\n",
              "5        NaN       1.0\n",
              "11       2.0       NaN\n",
              "15       1.0       NaN"
            ]
          },
          "execution_count": 565,
          "metadata": {},
          "output_type": "execute_result"
        }
      ],
      "source": [
        "pd.concat((df_train.bedrooms.value_counts(dropna=False),\n",
        "           df_test.bedrooms.value_counts(dropna=False)),axis=1).sort_index()"
      ]
    },
    {
      "cell_type": "code",
      "execution_count": 566,
      "metadata": {
        "colab": {
          "base_uri": "https://localhost:8080/"
        },
        "id": "GWAl_drOAUjA",
        "outputId": "334da39d-0644-48ac-af5d-5dc1acf7994c"
      },
      "outputs": [
        {
          "data": {
            "text/plain": [
              "(57225, 31)"
            ]
          },
          "execution_count": 566,
          "metadata": {},
          "output_type": "execute_result"
        }
      ],
      "source": [
        "df_train.loc[df_train.bedrooms==-1,'bedrooms'] = 0\n",
        "# df_train = df_train[(df_train.bedrooms<6) |(df_train.bedrooms.isnull())]\n",
        "df_train.shape"
      ]
    },
    {
      "cell_type": "code",
      "execution_count": 567,
      "metadata": {
        "colab": {
          "base_uri": "https://localhost:8080/",
          "height": 513
        },
        "id": "bl7Glh5wAUjB",
        "outputId": "086bca70-1b66-4ea3-b5b3-710f7240cfbb"
      },
      "outputs": [
        {
          "data": {
            "text/plain": [
              "<AxesSubplot: xlabel='surface_covered'>"
            ]
          },
          "execution_count": 567,
          "metadata": {},
          "output_type": "execute_result"
        },
        {
          "data": {
            "image/png": "[encoded data removed]",
            "text/plain": [
              "<Figure size 2000x800 with 2 Axes>"
            ]
          },
          "metadata": {},
          "output_type": "display_data"
        }
      ],
      "source": [
        "fig, ax = plt.subplots(nrows=2,figsize=(20,8))\n",
        "sns.boxplot(data=df_train,x='surface_covered',ax=ax[0])\n",
        "sns.boxplot(data=df_test,x='surface_covered',ax=ax[1])"
      ]
    },
    {
      "cell_type": "code",
      "execution_count": 568,
      "metadata": {
        "colab": {
          "base_uri": "https://localhost:8080/",
          "height": 112
        },
        "id": "DGeQDbr-AUjB",
        "outputId": "c87c2d92-b6af-43bf-f105-00adc5146b56"
      },
      "outputs": [
        {
          "data": {
            "text/html": [
              "<div>\n",
              "<style scoped>\n",
              "    .dataframe tbody tr th:only-of-type {\n",
              "        vertical-align: middle;\n",
              "    }\n",
              "\n",
              "    .dataframe tbody tr th {\n",
              "        vertical-align: top;\n",
              "    }\n",
              "\n",
              "    .dataframe thead th {\n",
              "        text-align: right;\n",
              "    }\n",
              "</style>\n",
              "<table border=\"1\" class=\"dataframe\">\n",
              "  <thead>\n",
              "    <tr style=\"text-align: right;\">\n",
              "      <th></th>\n",
              "      <th>count</th>\n",
              "      <th>mean</th>\n",
              "      <th>std</th>\n",
              "      <th>min</th>\n",
              "      <th>25%</th>\n",
              "      <th>50%</th>\n",
              "      <th>75%</th>\n",
              "      <th>max</th>\n",
              "    </tr>\n",
              "  </thead>\n",
              "  <tbody>\n",
              "    <tr>\n",
              "      <th>surface_covered</th>\n",
              "      <td>57225.0</td>\n",
              "      <td>65.412454</td>\n",
              "      <td>198.519329</td>\n",
              "      <td>1.0</td>\n",
              "      <td>45.0</td>\n",
              "      <td>56.353441</td>\n",
              "      <td>72.000000</td>\n",
              "      <td>31550.0</td>\n",
              "    </tr>\n",
              "    <tr>\n",
              "      <th>surface_total</th>\n",
              "      <td>57225.0</td>\n",
              "      <td>82.632708</td>\n",
              "      <td>579.201816</td>\n",
              "      <td>0.0</td>\n",
              "      <td>50.0</td>\n",
              "      <td>67.000000</td>\n",
              "      <td>84.679193</td>\n",
              "      <td>108960.0</td>\n",
              "    </tr>\n",
              "  </tbody>\n",
              "</table>\n",
              "</div>"
            ],
            "text/plain": [
              "                   count       mean         std  min   25%        50%  \\\n",
              "surface_covered  57225.0  65.412454  198.519329  1.0  45.0  56.353441   \n",
              "surface_total    57225.0  82.632708  579.201816  0.0  50.0  67.000000   \n",
              "\n",
              "                       75%       max  \n",
              "surface_covered  72.000000   31550.0  \n",
              "surface_total    84.679193  108960.0  "
            ]
          },
          "execution_count": 568,
          "metadata": {},
          "output_type": "execute_result"
        }
      ],
      "source": [
        "df_train[['surface_covered','surface_total']].describe().T"
      ]
    },
    {
      "cell_type": "code",
      "execution_count": 569,
      "metadata": {
        "colab": {
          "base_uri": "https://localhost:8080/",
          "height": 112
        },
        "id": "iBqBxMX3AUjB",
        "outputId": "0745d300-b3ab-41f6-fe6c-db8bce2c66c9"
      },
      "outputs": [
        {
          "data": {
            "text/html": [
              "<div>\n",
              "<style scoped>\n",
              "    .dataframe tbody tr th:only-of-type {\n",
              "        vertical-align: middle;\n",
              "    }\n",
              "\n",
              "    .dataframe tbody tr th {\n",
              "        vertical-align: top;\n",
              "    }\n",
              "\n",
              "    .dataframe thead th {\n",
              "        text-align: right;\n",
              "    }\n",
              "</style>\n",
              "<table border=\"1\" class=\"dataframe\">\n",
              "  <thead>\n",
              "    <tr style=\"text-align: right;\">\n",
              "      <th></th>\n",
              "      <th>count</th>\n",
              "      <th>mean</th>\n",
              "      <th>std</th>\n",
              "      <th>min</th>\n",
              "      <th>25%</th>\n",
              "      <th>50%</th>\n",
              "      <th>75%</th>\n",
              "      <th>max</th>\n",
              "    </tr>\n",
              "  </thead>\n",
              "  <tbody>\n",
              "    <tr>\n",
              "      <th>surface_covered</th>\n",
              "      <td>6000.0</td>\n",
              "      <td>76.651663</td>\n",
              "      <td>672.817535</td>\n",
              "      <td>10.0</td>\n",
              "      <td>45.0</td>\n",
              "      <td>56.353441</td>\n",
              "      <td>73.0000</td>\n",
              "      <td>47360.0</td>\n",
              "    </tr>\n",
              "    <tr>\n",
              "      <th>surface_total</th>\n",
              "      <td>6000.0</td>\n",
              "      <td>91.493766</td>\n",
              "      <td>751.472659</td>\n",
              "      <td>21.0</td>\n",
              "      <td>51.0</td>\n",
              "      <td>68.000000</td>\n",
              "      <td>84.7017</td>\n",
              "      <td>47360.0</td>\n",
              "    </tr>\n",
              "  </tbody>\n",
              "</table>\n",
              "</div>"
            ],
            "text/plain": [
              "                  count       mean         std   min   25%        50%  \\\n",
              "surface_covered  6000.0  76.651663  672.817535  10.0  45.0  56.353441   \n",
              "surface_total    6000.0  91.493766  751.472659  21.0  51.0  68.000000   \n",
              "\n",
              "                     75%      max  \n",
              "surface_covered  73.0000  47360.0  \n",
              "surface_total    84.7017  47360.0  "
            ]
          },
          "execution_count": 569,
          "metadata": {},
          "output_type": "execute_result"
        }
      ],
      "source": [
        "df_test[['surface_covered','surface_total']].describe().T"
      ]
    },
    {
      "cell_type": "code",
      "execution_count": 570,
      "metadata": {
        "colab": {
          "base_uri": "https://localhost:8080/"
        },
        "id": "bJG3o_KNAUjC",
        "outputId": "5611391c-dfef-444b-a10f-a24f634f618b"
      },
      "outputs": [
        {
          "data": {
            "text/plain": [
              "(57185, 31)"
            ]
          },
          "execution_count": 570,
          "metadata": {},
          "output_type": "execute_result"
        }
      ],
      "source": [
        "df_train = df_train[((df_train['surface_covered']>=5)&(df_train['surface_covered']<50000))]#|(df_train['surface_covered'].isnull())]\n",
        "df_train.shape"
      ]
    },
    {
      "cell_type": "code",
      "execution_count": 571,
      "metadata": {
        "colab": {
          "base_uri": "https://localhost:8080/",
          "height": 513
        },
        "id": "sKYNXHR8AUjC",
        "outputId": "5a7008aa-5053-4ed8-a8c3-5cbf043d926a"
      },
      "outputs": [
        {
          "data": {
            "text/plain": [
              "<AxesSubplot: xlabel='surface_total'>"
            ]
          },
          "execution_count": 571,
          "metadata": {},
          "output_type": "execute_result"
        },
        {
          "data": {
            "image/png": "[encoded data removed]",
            "text/plain": [
              "<Figure size 2000x800 with 2 Axes>"
            ]
          },
          "metadata": {},
          "output_type": "display_data"
        }
      ],
      "source": [
        "fig, ax = plt.subplots(nrows=2,figsize=(20,8))\n",
        "sns.boxplot(data=df_train,x='surface_total',ax=ax[0])\n",
        "sns.boxplot(data=df_test,x='surface_total',ax=ax[1])"
      ]
    },
    {
      "cell_type": "code",
      "execution_count": 572,
      "metadata": {
        "colab": {
          "base_uri": "https://localhost:8080/",
          "height": 112
        },
        "id": "C0D3rfy7AUjC",
        "outputId": "af10cfd2-60a8-4b93-daea-45ede8a03e3a"
      },
      "outputs": [
        {
          "data": {
            "text/html": [
              "<div>\n",
              "<style scoped>\n",
              "    .dataframe tbody tr th:only-of-type {\n",
              "        vertical-align: middle;\n",
              "    }\n",
              "\n",
              "    .dataframe tbody tr th {\n",
              "        vertical-align: top;\n",
              "    }\n",
              "\n",
              "    .dataframe thead th {\n",
              "        text-align: right;\n",
              "    }\n",
              "</style>\n",
              "<table border=\"1\" class=\"dataframe\">\n",
              "  <thead>\n",
              "    <tr style=\"text-align: right;\">\n",
              "      <th></th>\n",
              "      <th>count</th>\n",
              "      <th>mean</th>\n",
              "      <th>std</th>\n",
              "      <th>min</th>\n",
              "      <th>25%</th>\n",
              "      <th>50%</th>\n",
              "      <th>75%</th>\n",
              "      <th>max</th>\n",
              "    </tr>\n",
              "  </thead>\n",
              "  <tbody>\n",
              "    <tr>\n",
              "      <th>surface_covered</th>\n",
              "      <td>57185.0</td>\n",
              "      <td>65.456906</td>\n",
              "      <td>198.581627</td>\n",
              "      <td>5.0</td>\n",
              "      <td>45.0</td>\n",
              "      <td>56.353441</td>\n",
              "      <td>72.000000</td>\n",
              "      <td>31550.0</td>\n",
              "    </tr>\n",
              "    <tr>\n",
              "      <th>surface_total</th>\n",
              "      <td>57185.0</td>\n",
              "      <td>82.675128</td>\n",
              "      <td>579.401988</td>\n",
              "      <td>0.0</td>\n",
              "      <td>50.0</td>\n",
              "      <td>67.000000</td>\n",
              "      <td>84.679193</td>\n",
              "      <td>108960.0</td>\n",
              "    </tr>\n",
              "  </tbody>\n",
              "</table>\n",
              "</div>"
            ],
            "text/plain": [
              "                   count       mean         std  min   25%        50%  \\\n",
              "surface_covered  57185.0  65.456906  198.581627  5.0  45.0  56.353441   \n",
              "surface_total    57185.0  82.675128  579.401988  0.0  50.0  67.000000   \n",
              "\n",
              "                       75%       max  \n",
              "surface_covered  72.000000   31550.0  \n",
              "surface_total    84.679193  108960.0  "
            ]
          },
          "execution_count": 572,
          "metadata": {},
          "output_type": "execute_result"
        }
      ],
      "source": [
        "df_train[['surface_covered','surface_total']].describe().T"
      ]
    },
    {
      "cell_type": "code",
      "execution_count": 573,
      "metadata": {
        "colab": {
          "base_uri": "https://localhost:8080/",
          "height": 112
        },
        "id": "1Mj6fePWAUjD",
        "outputId": "b682b22f-9a49-4886-fe98-91524ea692aa"
      },
      "outputs": [
        {
          "data": {
            "text/html": [
              "<div>\n",
              "<style scoped>\n",
              "    .dataframe tbody tr th:only-of-type {\n",
              "        vertical-align: middle;\n",
              "    }\n",
              "\n",
              "    .dataframe tbody tr th {\n",
              "        vertical-align: top;\n",
              "    }\n",
              "\n",
              "    .dataframe thead th {\n",
              "        text-align: right;\n",
              "    }\n",
              "</style>\n",
              "<table border=\"1\" class=\"dataframe\">\n",
              "  <thead>\n",
              "    <tr style=\"text-align: right;\">\n",
              "      <th></th>\n",
              "      <th>count</th>\n",
              "      <th>mean</th>\n",
              "      <th>std</th>\n",
              "      <th>min</th>\n",
              "      <th>25%</th>\n",
              "      <th>50%</th>\n",
              "      <th>75%</th>\n",
              "      <th>max</th>\n",
              "    </tr>\n",
              "  </thead>\n",
              "  <tbody>\n",
              "    <tr>\n",
              "      <th>surface_covered</th>\n",
              "      <td>6000.0</td>\n",
              "      <td>76.651663</td>\n",
              "      <td>672.817535</td>\n",
              "      <td>10.0</td>\n",
              "      <td>45.0</td>\n",
              "      <td>56.353441</td>\n",
              "      <td>73.0000</td>\n",
              "      <td>47360.0</td>\n",
              "    </tr>\n",
              "    <tr>\n",
              "      <th>surface_total</th>\n",
              "      <td>6000.0</td>\n",
              "      <td>91.493766</td>\n",
              "      <td>751.472659</td>\n",
              "      <td>21.0</td>\n",
              "      <td>51.0</td>\n",
              "      <td>68.000000</td>\n",
              "      <td>84.7017</td>\n",
              "      <td>47360.0</td>\n",
              "    </tr>\n",
              "  </tbody>\n",
              "</table>\n",
              "</div>"
            ],
            "text/plain": [
              "                  count       mean         std   min   25%        50%  \\\n",
              "surface_covered  6000.0  76.651663  672.817535  10.0  45.0  56.353441   \n",
              "surface_total    6000.0  91.493766  751.472659  21.0  51.0  68.000000   \n",
              "\n",
              "                     75%      max  \n",
              "surface_covered  73.0000  47360.0  \n",
              "surface_total    84.7017  47360.0  "
            ]
          },
          "execution_count": 573,
          "metadata": {},
          "output_type": "execute_result"
        }
      ],
      "source": [
        "df_test[['surface_covered','surface_total']].describe().T"
      ]
    },
    {
      "cell_type": "code",
      "execution_count": 574,
      "metadata": {
        "colab": {
          "base_uri": "https://localhost:8080/"
        },
        "id": "L55ygcYWAUjD",
        "outputId": "7ef41292-1063-468f-ca69-e3ea70674d14"
      },
      "outputs": [
        {
          "data": {
            "text/plain": [
              "(57182, 31)"
            ]
          },
          "execution_count": 574,
          "metadata": {},
          "output_type": "execute_result"
        }
      ],
      "source": [
        "df_train = df_train[((df_train['surface_total']>=2)&(df_train['surface_total']<50000))|(df_train['surface_total'].isnull())]\n",
        "df_train.shape"
      ]
    },
    {
      "cell_type": "code",
      "execution_count": 575,
      "metadata": {
        "colab": {
          "base_uri": "https://localhost:8080/",
          "height": 112
        },
        "id": "wlCVJcLgAUjD",
        "outputId": "af381dbf-06db-48ae-f4cd-b02d16586d30"
      },
      "outputs": [
        {
          "data": {
            "text/html": [
              "<div>\n",
              "<style scoped>\n",
              "    .dataframe tbody tr th:only-of-type {\n",
              "        vertical-align: middle;\n",
              "    }\n",
              "\n",
              "    .dataframe tbody tr th {\n",
              "        vertical-align: top;\n",
              "    }\n",
              "\n",
              "    .dataframe thead th {\n",
              "        text-align: right;\n",
              "    }\n",
              "</style>\n",
              "<table border=\"1\" class=\"dataframe\">\n",
              "  <thead>\n",
              "    <tr style=\"text-align: right;\">\n",
              "      <th></th>\n",
              "      <th>count</th>\n",
              "      <th>mean</th>\n",
              "      <th>std</th>\n",
              "      <th>min</th>\n",
              "      <th>25%</th>\n",
              "      <th>50%</th>\n",
              "      <th>75%</th>\n",
              "      <th>max</th>\n",
              "    </tr>\n",
              "  </thead>\n",
              "  <tbody>\n",
              "    <tr>\n",
              "      <th>surface_covered</th>\n",
              "      <td>57182.0</td>\n",
              "      <td>65.458603</td>\n",
              "      <td>198.586565</td>\n",
              "      <td>5.0</td>\n",
              "      <td>45.0</td>\n",
              "      <td>56.353441</td>\n",
              "      <td>72.000000</td>\n",
              "      <td>31550.0</td>\n",
              "    </tr>\n",
              "    <tr>\n",
              "      <th>surface_total</th>\n",
              "      <td>57182.0</td>\n",
              "      <td>80.773970</td>\n",
              "      <td>358.342078</td>\n",
              "      <td>10.0</td>\n",
              "      <td>50.0</td>\n",
              "      <td>67.000000</td>\n",
              "      <td>84.679193</td>\n",
              "      <td>48170.0</td>\n",
              "    </tr>\n",
              "    <tr>\n",
              "      <th>surface_covered</th>\n",
              "      <td>6000.0</td>\n",
              "      <td>76.651663</td>\n",
              "      <td>672.817535</td>\n",
              "      <td>10.0</td>\n",
              "      <td>45.0</td>\n",
              "      <td>56.353441</td>\n",
              "      <td>73.000000</td>\n",
              "      <td>47360.0</td>\n",
              "    </tr>\n",
              "    <tr>\n",
              "      <th>surface_total</th>\n",
              "      <td>6000.0</td>\n",
              "      <td>91.493766</td>\n",
              "      <td>751.472659</td>\n",
              "      <td>21.0</td>\n",
              "      <td>51.0</td>\n",
              "      <td>68.000000</td>\n",
              "      <td>84.701700</td>\n",
              "      <td>47360.0</td>\n",
              "    </tr>\n",
              "  </tbody>\n",
              "</table>\n",
              "</div>"
            ],
            "text/plain": [
              "                   count       mean         std   min   25%        50%  \\\n",
              "surface_covered  57182.0  65.458603  198.586565   5.0  45.0  56.353441   \n",
              "surface_total    57182.0  80.773970  358.342078  10.0  50.0  67.000000   \n",
              "surface_covered   6000.0  76.651663  672.817535  10.0  45.0  56.353441   \n",
              "surface_total     6000.0  91.493766  751.472659  21.0  51.0  68.000000   \n",
              "\n",
              "                       75%      max  \n",
              "surface_covered  72.000000  31550.0  \n",
              "surface_total    84.679193  48170.0  \n",
              "surface_covered  73.000000  47360.0  \n",
              "surface_total    84.701700  47360.0  "
            ]
          },
          "execution_count": 575,
          "metadata": {},
          "output_type": "execute_result"
        }
      ],
      "source": [
        "pd.concat((df_train[['surface_covered','surface_total']].describe().T,\n",
        "           df_test[['surface_covered','surface_total']].describe().T),axis=0)"
      ]
    },
    {
      "attachments": {},
      "cell_type": "markdown",
      "metadata": {
        "id": "Hq0rV6jxAUjF"
      },
      "source": [
        "## Armado de variables"
      ]
    },
    {
      "cell_type": "code",
      "execution_count": 576,
      "metadata": {
        "colab": {
          "base_uri": "https://localhost:8080/"
        },
        "id": "1nWJvsiiAUjF",
        "outputId": "72a03121-ca89-4e0c-991f-a6e80f107960"
      },
      "outputs": [
        {
          "name": "stderr",
          "output_type": "stream",
          "text": [
            "C:\\Users\\Usuario\\AppData\\Local\\Temp\\ipykernel_9356\\3443246818.py:28: UserWarning: This pattern is interpreted as a regular expression, and has match groups. To actually get the groups, use str.extract.\n",
            "  df[f\"desc_{c}\"] = df[\"description\"].str.contains(c,regex=True)\n",
            "C:\\Users\\Usuario\\AppData\\Local\\Temp\\ipykernel_9356\\3443246818.py:28: UserWarning: This pattern is interpreted as a regular expression, and has match groups. To actually get the groups, use str.extract.\n",
            "  df[f\"desc_{c}\"] = df[\"description\"].str.contains(c,regex=True)\n",
            "C:\\Users\\Usuario\\AppData\\Local\\Temp\\ipykernel_9356\\3443246818.py:28: UserWarning: This pattern is interpreted as a regular expression, and has match groups. To actually get the groups, use str.extract.\n",
            "  df[f\"desc_{c}\"] = df[\"description\"].str.contains(c,regex=True)\n",
            "C:\\Users\\Usuario\\AppData\\Local\\Temp\\ipykernel_9356\\3443246818.py:28: UserWarning: This pattern is interpreted as a regular expression, and has match groups. To actually get the groups, use str.extract.\n",
            "  df[f\"desc_{c}\"] = df[\"description\"].str.contains(c,regex=True)\n",
            "C:\\Users\\Usuario\\AppData\\Local\\Temp\\ipykernel_9356\\3443246818.py:28: UserWarning: This pattern is interpreted as a regular expression, and has match groups. To actually get the groups, use str.extract.\n",
            "  df[f\"desc_{c}\"] = df[\"description\"].str.contains(c,regex=True)\n",
            "C:\\Users\\Usuario\\AppData\\Local\\Temp\\ipykernel_9356\\3443246818.py:28: UserWarning: This pattern is interpreted as a regular expression, and has match groups. To actually get the groups, use str.extract.\n",
            "  df[f\"desc_{c}\"] = df[\"description\"].str.contains(c,regex=True)\n"
          ]
        }
      ],
      "source": [
        "df = pd.concat((df_train,df_test),axis=0)\n",
        "\n",
        "#divido variables de rooms entre sí\n",
        "df['bathrooms_rooms'] = df['bathrooms']/df['rooms']\n",
        "df['bedrooms_rooms'] = df['bedrooms']/df['rooms']\n",
        "df['covered'] = df['surface_covered']/df['surface_total']\n",
        "\n",
        "df['start_year']  = pd.to_datetime(df['start_date']).dt.year\n",
        "df['start_month'] = pd.to_datetime(df['start_date']).dt.month\n",
        "df['start_day'] = pd.to_datetime(df['start_date']).dt.month\n",
        "\n",
        "#me fijo si tiene espacio abierto\n",
        "df['tiene_esp_abierto'] = 0\n",
        "df.loc[(df['surface_total']-df['surface_covered'])!=0,'tiene_esp_abierto'] = 1\n",
        "\n",
        "#hago un text mining de la variable description\n",
        "df['description'] = df[\"description\"].str.lower().str.replace('á','a').str.replace('é','e').str.replace('í','i').str.replace('ó','o').str.replace('ú','u')\n",
        "#df['title'] = df[\"title\"].str.lower().str.replace('á','a').str.replace('é','e').str.replace('í','i').str.replace('ó','o').str.replace('ú','u')\n",
        "\n",
        "for c in [\"barrio privado\", \"corredor\",'suite','monoambiente','amueblado',\n",
        "          'ascensor','parrilla','patio','balcon','jardin','linea (a|b|b|c|d|e|h)',\n",
        "          'obelisco','catedral','metrobus','barrancas','barrio chino','river',\n",
        "          'universidad','facultad','subte','tren','estacion','museo','parque','jacuzzi',\n",
        "          '(j|y)acu(z|zz)i','sho(pp|p)ing','country','terminal','avenida','av.','av',\n",
        "          'expensa','expensas','a(mm|m)enities','inmobiliaria','dueñ(o|a) direct(o|a)',\n",
        "          'balcon','pileta|piscina','escuela|colegio','centro','microcentro','lago','estilo franc(é|e)s',\n",
        "          'libertador','baulera','hotel','emprendimiento']:\n",
        "    df[f\"desc_{c}\"] = df[\"description\"].str.contains(c,regex=True)\n",
        "    #df[f\"title_{c}\"] = df[\"title\"].str.contains(c,regex=True)"
      ]
    },
    {
      "cell_type": "code",
      "execution_count": 577,
      "metadata": {
        "id": "YnffhsjQAUjH"
      },
      "outputs": [],
      "source": [
        "df_train = df[~df.price.isnull()]\n",
        "df_test = df[df.price.isnull()]"
      ]
    },
    {
      "attachments": {},
      "cell_type": "markdown",
      "metadata": {
        "id": "FIBo-xtfAUjH"
      },
      "source": [
        "## Selección de atributos"
      ]
    },
    {
      "cell_type": "code",
      "execution_count": 578,
      "metadata": {
        "colab": {
          "base_uri": "https://localhost:8080/"
        },
        "id": "cM8kP8ryAUjH",
        "outputId": "d370bbb7-83a4-4688-d10a-ac1d93845b3a"
      },
      "outputs": [
        {
          "name": "stderr",
          "output_type": "stream",
          "text": [
            "C:\\Users\\Usuario\\AppData\\Local\\Temp\\ipykernel_9356\\1215703700.py:2: SettingWithCopyWarning: \n",
            "A value is trying to be set on a copy of a slice from a DataFrame\n",
            "\n",
            "See the caveats in the documentation: https://pandas.pydata.org/pandas-docs/stable/user_guide/indexing.html#returning-a-view-versus-a-copy\n",
            "  df_train.drop(columns=cols,inplace=True)\n",
            "C:\\Users\\Usuario\\AppData\\Local\\Temp\\ipykernel_9356\\1215703700.py:3: SettingWithCopyWarning: \n",
            "A value is trying to be set on a copy of a slice from a DataFrame\n",
            "\n",
            "See the caveats in the documentation: https://pandas.pydata.org/pandas-docs/stable/user_guide/indexing.html#returning-a-view-versus-a-copy\n",
            "  df_test.drop(columns=cols,inplace=True)\n"
          ]
        }
      ],
      "source": [
        "cols = ['l1','l5','l6','ad_type','currency','operation_type']\n",
        "df_train.drop(columns=cols,inplace=True)\n",
        "df_test.drop(columns=cols,inplace=True)"
      ]
    },
    {
      "attachments": {},
      "cell_type": "markdown",
      "metadata": {
        "id": "Zn72NpRYAUjI"
      },
      "source": [
        "## Dummies"
      ]
    },
    {
      "cell_type": "code",
      "execution_count": 579,
      "metadata": {
        "id": "0PINalyBAUjI"
      },
      "outputs": [],
      "source": [
        "cols_dummies = [#'l2','l3','l4',\n",
        "                'property_type']\n",
        "train_dummies = pd.get_dummies(df_train[cols_dummies],dummy_na=True)\n",
        "df_train = pd.concat((df_train,train_dummies),axis=1)\n",
        "\n",
        "test_dummies = pd.get_dummies(df_test[cols_dummies],dummy_na=True)\n",
        "df_test = pd.concat((df_test,test_dummies),axis=1)"
      ]
    },
    {
      "cell_type": "code",
      "execution_count": 580,
      "metadata": {
        "id": "IO1A57JGAUjJ"
      },
      "outputs": [],
      "source": [
        "cols = pd.concat((df_train,df_test),axis=0,join='inner').columns\n",
        "\n",
        "df_train = df_train[cols]\n",
        "df_test = df_test[cols]"
      ]
    },
    {
      "attachments": {},
      "cell_type": "markdown",
      "metadata": {},
      "source": [
        "## Ajuste de outliers en Pto Madero"
      ]
    },
    {
      "cell_type": "code",
      "execution_count": 581,
      "metadata": {},
      "outputs": [
        {
          "data": {
            "text/plain": [
              "<AxesSubplot: xlabel='lat', ylabel='lon'>"
            ]
          },
          "execution_count": 581,
          "metadata": {},
          "output_type": "execute_result"
        },
        {
          "data": {
            "image/png": "[encoded data removed]",
            "text/plain": [
              "<Figure size 640x480 with 1 Axes>"
            ]
          },
          "metadata": {},
          "output_type": "display_data"
        }
      ],
      "source": [
        "sns.scatterplot(data=df_train[(df_train.l3=='Puerto Madero')|(df_train.l3=='Catalinas')],x='lat',y='lon',hue='price')"
      ]
    },
    {
      "cell_type": "code",
      "execution_count": 582,
      "metadata": {},
      "outputs": [],
      "source": [
        "df_train.loc[((df_train.l3=='Puerto Madero')|(df_train.l3=='Catalinas'))&(df_train.lat<-58.42),'lat'] = -58.361\n",
        "df_test.loc[((df_test.l3=='Puerto Madero')|(df_test.l3=='Catalinas'))&(df_test.lat<-58.4),'lat'] = -58.361"
      ]
    },
    {
      "cell_type": "code",
      "execution_count": 583,
      "metadata": {},
      "outputs": [
        {
          "data": {
            "text/plain": [
              "<AxesSubplot: xlabel='lat', ylabel='lon'>"
            ]
          },
          "execution_count": 583,
          "metadata": {},
          "output_type": "execute_result"
        },
        {
          "data": {
            "image/png": "[encoded data removed]",
            "text/plain": [
              "<Figure size 640x480 with 1 Axes>"
            ]
          },
          "metadata": {},
          "output_type": "display_data"
        }
      ],
      "source": [
        "sns.scatterplot(data=df_train[(df_train.l3=='Puerto Madero')|(df_train.l3=='Catalinas')],x='lat',y='lon',hue='price')"
      ]
    },
    {
      "attachments": {},
      "cell_type": "markdown",
      "metadata": {},
      "source": [
        "## División de base"
      ]
    },
    {
      "attachments": {},
      "cell_type": "markdown",
      "metadata": {},
      "source": [
        "División de train y test dependiendo del barrio."
      ]
    },
    {
      "cell_type": "code",
      "execution_count": 584,
      "metadata": {},
      "outputs": [],
      "source": [
        "df_test_la_plata = df_test[(df_test.lat>-58.2)&(df_test.lon<-34.8)]\n",
        "df_train_la_plata = df_train[(df_train.lat>-58.2)&(df_train.lon<-34)]\n",
        "\n",
        "df_test_caba = df_test[(df_test.lat<=-58.2)&(df_test.lon>=-34.8)&~((df_test.l3=='Puerto Madero')|(df_test.l3=='Catalinas'))]\n",
        "df_train_caba = df_train[~((df_train.lat>-58.2)&(df_train.lon<-34))&~((df_train.l3=='Puerto Madero')|(df_train.l3=='Catalinas'))]"
      ]
    },
    {
      "cell_type": "code",
      "execution_count": 585,
      "metadata": {},
      "outputs": [],
      "source": [
        "df_test_madero = df_test[(df_test.lat<=-58.2)&(df_test.lon>=-34.8)&((df_test.l3=='Puerto Madero')|(df_test.l3=='Catalinas'))]\n",
        "\n",
        "df_train_madero = df_train[~((df_train.lat>-58.2)&(df_train.lon<-34))&((df_train.l3=='Puerto Madero')|(df_train.l3=='Catalinas'))]\n",
        "\n",
        "corredor_norte = ['Retiro','Recoleta','Barrio Norte']#,'Nuñez','Distrito Audiovisual','Palermo','Belgrano','Coghlan','Las Cañitas',]\n",
        "\n",
        "df_train_corredor_norte = df_train_caba[df_train_caba.l3.isin(corredor_norte)]\n",
        "df_test_corredor_norte = df_test_caba[df_test_caba.l3.isin(corredor_norte)]\n",
        "\n",
        "df_train_caba = df_train_caba[~df_train_caba.l3.isin(corredor_norte)]\n",
        "df_test_caba = df_test_caba[~df_test_caba.l3.isin(corredor_norte)]\n",
        "\n",
        "corredor_sur = ['Villa Riachuelo','Villa Lugano','Villa Soldati','Pompeya','Boca','Constitución']#'Barracas','Parque Patricios']\n",
        "\n",
        "df_train_corredor_sur = df_train_caba[df_train_caba.l3.isin(corredor_sur)]\n",
        "df_test_corredor_sur = df_test_caba[df_test_caba.l3.isin(corredor_sur)]\n",
        "\n",
        "df_train_caba = df_train_caba[~df_train_caba.l3.isin(corredor_sur)]\n",
        "df_test_caba = df_test_caba[~df_test_caba.l3.isin(corredor_sur)]\n",
        "\n",
        "caballito = ['Almagro','Caballito','Parque Centenario','Villa Crespo']\n",
        "\n",
        "df_train_caballito = df_train_caba[df_train_caba.l3.isin(caballito)]\n",
        "df_test_caballito= df_test_caba[df_test_caba.l3.isin(caballito)]\n",
        "\n",
        "df_train_caba = df_train_caba[~df_train_caba.l3.isin(caballito)]\n",
        "df_test_caba = df_test_caba[~df_test_caba.l3.isin(caballito)]\n",
        "\n",
        "palermo = ['Palermo','Distrito Audiovisual','Las Cañitas']\n",
        "df_train_palermo = df_train_caba[df_train_caba.l3.isin(palermo)]\n",
        "df_test_palermo= df_test_caba[df_test_caba.l3.isin(palermo)]\n",
        "\n",
        "df_train_caba = df_train_caba[~df_train_caba.l3.isin(palermo)]\n",
        "df_test_caba = df_test_caba[~df_test_caba.l3.isin(palermo)]\n",
        "\n",
        "belgrano = ['Belgrano','Nuñez','Coghlan']\n",
        "df_train_belgrano = df_train_caba[df_train_caba.l3.isin(belgrano)]\n",
        "df_test_belgrano= df_test_caba[df_test_caba.l3.isin(belgrano)]\n",
        "\n",
        "df_train_caba = df_train_caba[~df_train_caba.l3.isin(belgrano)]\n",
        "df_test_caba = df_test_caba[~df_test_caba.l3.isin(belgrano)]\n",
        "\n",
        "#devoto\n",
        "df_train_devoto = df_train_caba[df_train_caba.l3=='Villa Devoto']\n",
        "df_test_devoto = df_test_caba[df_test_caba.l3=='Villa Devoto']\n",
        "\n",
        "df_train_caba = df_train_caba[df_train_caba.l3!='Villa Devoto']\n",
        "df_test_caba= df_test_caba[df_test_caba.l3!='Villa Devoto']"
      ]
    },
    {
      "attachments": {},
      "cell_type": "markdown",
      "metadata": {},
      "source": [
        "Incluyo el outlier de ballester en el resto de caba."
      ]
    },
    {
      "cell_type": "code",
      "execution_count": 586,
      "metadata": {},
      "outputs": [],
      "source": [
        "ballester_test = df_test[~((df_test.lat<=-58.2)&(df_test.lon>=-34.8))&(df_test.l3.isnull())]\n",
        "\n",
        "df_test_caba = pd.concat((df_test_caba,ballester_test),axis=0)"
      ]
    },
    {
      "attachments": {},
      "cell_type": "markdown",
      "metadata": {},
      "source": [
        "### Ajuste de precios atípicos"
      ]
    },
    {
      "cell_type": "code",
      "execution_count": 587,
      "metadata": {},
      "outputs": [],
      "source": [
        "df_train_devoto = df_train_devoto[~((df_train_devoto.l3=='Villa Devoto') &(df_train_devoto.price>=2215000))]\n",
        "\n",
        "df_train_caba = df_train_caba[~((df_train_caba.l3=='Barracas')&(df_train_caba.title.fillna('NA').str.contains('600000')))]\n",
        "\n",
        "df_train_belgrano = pd.concat((df_train_belgrano,df_train_caba[df_train_caba.title.fillna('NA').str.contains('Barrancas')]),axis=0)\n",
        "\n",
        "df_train_caba = df_train_caba[~df_train_caba.title.fillna('NA').str.contains('Barrancas')]\n",
        "\n",
        "\n",
        "df_train_caba = df_train_caba[~((df_train_caba.l3=='Villa Urquiza')&(df_train_caba.price==3900000.0))]\n",
        "\n",
        "df_train_madero = pd.concat((df_train_madero,df_train_caba[(df_train_caba.title.fillna('NA').str.contains(' PUERTO MADERO'))]),axis=0)\n",
        "df_train_caba = df_train_caba[~(df_train_caba.title.fillna('NA').str.contains(' PUERTO MADERO'))]\n",
        "\n",
        "df_train_madero = pd.concat((df_train_caba[(df_train_caba.l3=='Tribunales')&(df_train_caba.price>2000000)],df_train_madero),axis=0)\n",
        "df_train_caba = df_train_caba[~((df_train_caba.l3=='Tribunales')&(df_train_caba.price>2000000))]\n",
        "\n",
        "df_train_caba = df_train_caba[~((df_train_caba.l3=='Boedo')&(df_train_caba.price>3000000))] #TODO: ver si reincorporar\n",
        "df_train_caba = df_train_caba[~((df_train_caba.l3=='San Cristobal')&(df_train_caba.price>3000000))] #TODO: ver si reincorporar\n",
        "df_train_caba = df_train_caba[~((df_train_caba.l3=='Centro / Microcentro')&(df_train_caba.price>2000000))] #TODO: ver si reincorporar\n",
        "df_train_caba = df_train_caba[~((df_train_caba.l3=='Chacarita')&(df_train_caba.price>500000))]#TODO: ver si reincorporar"
      ]
    },
    {
      "cell_type": "code",
      "execution_count": 588,
      "metadata": {},
      "outputs": [],
      "source": [
        "df_train = df_train_caba[df_train_caba.price<12000000]"
      ]
    },
    {
      "cell_type": "code",
      "execution_count": 589,
      "metadata": {},
      "outputs": [
        {
          "data": {
            "text/plain": [
              "<AxesSubplot: xlabel='price', ylabel='l3'>"
            ]
          },
          "execution_count": 589,
          "metadata": {},
          "output_type": "execute_result"
        },
        {
          "data": {
            "image/png": "[encoded data removed]",
            "text/plain": [
              "<Figure size 2000x1500 with 1 Axes>"
            ]
          },
          "metadata": {},
          "output_type": "display_data"
        }
      ],
      "source": [
        "plt.figure(figsize=(20,15))\n",
        "sns.violinplot(data=df_train_caba,x='price',y='l3')"
      ]
    },
    {
      "cell_type": "code",
      "execution_count": 590,
      "metadata": {},
      "outputs": [],
      "source": [
        "df_train_palermo.loc[df_train_palermo.price==32434232,'price'] = 32434232/10"
      ]
    },
    {
      "cell_type": "code",
      "execution_count": 591,
      "metadata": {},
      "outputs": [],
      "source": [
        "df_train_caballito = df_train_caballito[~((df_train_caballito.l3=='Villa Crespo')&\n",
        "                     (df_train_caballito.price>1200000)&\n",
        "                     (df_train_caballito.title.str.lower().str.contains('emprendimiento')))]\n",
        "\n",
        "df_train_caballito = df_train_caballito[~((df_train_caballito.l3=='Caballito')&(df_train_caballito.price>4000000))] #TODO: ver si reincorporar"
      ]
    },
    {
      "cell_type": "code",
      "execution_count": 592,
      "metadata": {},
      "outputs": [],
      "source": [
        "vale_1111111 = df_train_corredor_sur.price==1111111\n",
        "vale_1115000 = df_train_corredor_sur.price==1115000\n",
        "mas_de_800000 = df_train_corredor_sur.price>800000\n",
        "\n",
        "df_train_corredor_sur.loc[vale_1111111,'price'] = df_train_corredor_sur.loc[vale_1111111,'price']/10\n",
        "df_train_corredor_sur.loc[vale_1115000,'price'] = df_train_corredor_sur.loc[vale_1115000,'price'] /10\n",
        "df_train_corredor_sur.loc[mas_de_800000,'price'] = df_train_corredor_sur.loc[mas_de_800000,'price']/10"
      ]
    },
    {
      "cell_type": "code",
      "execution_count": 593,
      "metadata": {},
      "outputs": [
        {
          "data": {
            "text/plain": [
              "(847, 82)"
            ]
          },
          "execution_count": 593,
          "metadata": {},
          "output_type": "execute_result"
        }
      ],
      "source": [
        "df_train_madero = df_train_madero[(df_train_madero.price<=4000000)] #TODO: ver si reincorporar en VERSION LAXA\n",
        "df_train_madero.shape"
      ]
    },
    {
      "cell_type": "code",
      "execution_count": 594,
      "metadata": {},
      "outputs": [
        {
          "data": {
            "text/plain": [
              "<AxesSubplot: xlabel='price', ylabel='l3'>"
            ]
          },
          "execution_count": 594,
          "metadata": {},
          "output_type": "execute_result"
        },
        {
          "data": {
            "image/png": "[encoded data removed]",
            "text/plain": [
              "<Figure size 2000x1500 with 1 Axes>"
            ]
          },
          "metadata": {},
          "output_type": "display_data"
        }
      ],
      "source": [
        "plt.figure(figsize=(20,15))\n",
        "sns.boxplot(data=df_train_madero,x='price',y='l3')"
      ]
    },
    {
      "cell_type": "code",
      "execution_count": 595,
      "metadata": {},
      "outputs": [
        {
          "data": {
            "text/plain": [
              "<AxesSubplot: xlabel='price', ylabel='l3'>"
            ]
          },
          "execution_count": 595,
          "metadata": {},
          "output_type": "execute_result"
        },
        {
          "data": {
            "image/png": "[encoded data removed]",
            "text/plain": [
              "<Figure size 2000x1500 with 1 Axes>"
            ]
          },
          "metadata": {},
          "output_type": "display_data"
        }
      ],
      "source": [
        "plt.figure(figsize=(20,15))\n",
        "sns.violinplot(data=df_train_belgrano,x='price',y='l3')"
      ]
    },
    {
      "cell_type": "code",
      "execution_count": 596,
      "metadata": {},
      "outputs": [
        {
          "data": {
            "text/plain": [
              "<AxesSubplot: xlabel='price', ylabel='l3'>"
            ]
          },
          "execution_count": 596,
          "metadata": {},
          "output_type": "execute_result"
        },
        {
          "data": {
            "image/png": "[encoded data removed]",
            "text/plain": [
              "<Figure size 1000x1000 with 1 Axes>"
            ]
          },
          "metadata": {},
          "output_type": "display_data"
        }
      ],
      "source": [
        "fig, ax = plt.subplots(figsize=(10,10))\n",
        "sns.barplot(data=df_train_caba.groupby('l3').agg({'price':'mean'}).reset_index().sort_values('price'),y='l3',x='price')"
      ]
    },
    {
      "cell_type": "code",
      "execution_count": 597,
      "metadata": {},
      "outputs": [],
      "source": [
        "def filtrado_columnas(df_test,df_train):\n",
        "    \"\"\"\n",
        "    Selecciono columnas dependiendo del treshold del feature importance de un random_forest\n",
        "    \"\"\"\n",
        "    F = df_train[~df_train.price.isnull()]\n",
        "    X = F[F.select_dtypes(include=['float64' ,'float32','int64', 'int32', 'int16', 'int8', 'bool','uint8']).columns.drop('price')]\n",
        "    y = F['price']\n",
        "\n",
        "    clf = sk.ensemble.RandomForestRegressor(n_estimators=50, n_jobs=-1,random_state=42)\n",
        "    clf.fit(X, y)\n",
        "\n",
        "    importancias = pd.DataFrame({'atributo': clf.feature_names_in_, 'importancia': clf.feature_importances_})\n",
        "    cols = list(importancias[importancias['importancia']>0.001].sort_values('importancia',ascending=False).reset_index(drop=True).atributo)\n",
        "\n",
        "    cols.append('price')\n",
        "\n",
        "    display(importancias.sort_values('importancia').tail(10))\n",
        "\n",
        "    df_train = df_train[cols]\n",
        "    df_test = df_test[cols]\n",
        "\n",
        "    print(df_train.shape)\n",
        "    return df_test, df_train"
      ]
    },
    {
      "cell_type": "code",
      "execution_count": 598,
      "metadata": {},
      "outputs": [
        {
          "name": "stdout",
          "output_type": "stream",
          "text": [
            "La plata tiene 50 en train y 264 en test\n",
            "CABA tiene 20765 en train y 2183 en test\n",
            "Pto Madero y Catalinas tiene 847 en train y 100 en test\n",
            "Corr norte tiene 4146 en train y 428 en test\n",
            "Corr sur tiene 1108 en train y 111 en test\n",
            "Caballito tiene 14621 en train y 1373 en test\n",
            "Palermo tiene 8818 en train y 875 en test\n",
            "Belgrano tiene 5875 en train y 576 en test\n",
            "Devoto tiene 948 en train y 90 en test\n"
          ]
        }
      ],
      "source": [
        "print(f\"La plata tiene {df_train_la_plata.shape[0]} en train y {df_test_la_plata.shape[0]} en test\")\n",
        "print(f\"CABA tiene {df_train_caba.shape[0]} en train y {df_test_caba.shape[0]} en test\")\n",
        "print(f\"Pto Madero y Catalinas tiene {df_train_madero.shape[0]} en train y {df_test_madero.shape[0]} en test\")\n",
        "print(f\"Corr norte tiene {df_train_corredor_norte.shape[0]} en train y {df_test_corredor_norte.shape[0]} en test\")\n",
        "print(f\"Corr sur tiene {df_train_corredor_sur.shape[0]} en train y {df_test_corredor_sur.shape[0]} en test\")\n",
        "print(f\"Caballito tiene {df_train_caballito.shape[0]} en train y {df_test_caballito.shape[0]} en test\")\n",
        "print(f\"Palermo tiene {df_train_palermo.shape[0]} en train y {df_test_palermo.shape[0]} en test\")\n",
        "print(f\"Belgrano tiene {df_train_belgrano.shape[0]} en train y {df_test_belgrano.shape[0]} en test\")\n",
        "# print(f\"Noroeste tiene {df_train_noroeste.shape[0]} en train y {df_test_noroeste.shape[0]} en test\")\n",
        "print(f\"Devoto tiene {df_train_devoto.shape[0]} en train y {df_test_devoto.shape[0]} en test\")\n",
        "# print(f\"Barracas tiene {df_train_barracas.shape[0]} en train y {df_test_barracas.shape[0]} en test\")"
      ]
    },
    {
      "cell_type": "code",
      "execution_count": 599,
      "metadata": {},
      "outputs": [
        {
          "name": "stdout",
          "output_type": "stream",
          "text": [
            "La Plata\n"
          ]
        },
        {
          "data": {
            "text/html": [
              "<div>\n",
              "<style scoped>\n",
              "    .dataframe tbody tr th:only-of-type {\n",
              "        vertical-align: middle;\n",
              "    }\n",
              "\n",
              "    .dataframe tbody tr th {\n",
              "        vertical-align: top;\n",
              "    }\n",
              "\n",
              "    .dataframe thead th {\n",
              "        text-align: right;\n",
              "    }\n",
              "</style>\n",
              "<table border=\"1\" class=\"dataframe\">\n",
              "  <thead>\n",
              "    <tr style=\"text-align: right;\">\n",
              "      <th></th>\n",
              "      <th>atributo</th>\n",
              "      <th>importancia</th>\n",
              "    </tr>\n",
              "  </thead>\n",
              "  <tbody>\n",
              "    <tr>\n",
              "      <th>11</th>\n",
              "      <td>surface_covered_imputed</td>\n",
              "      <td>0.026056</td>\n",
              "    </tr>\n",
              "    <tr>\n",
              "      <th>16</th>\n",
              "      <td>covered</td>\n",
              "      <td>0.034805</td>\n",
              "    </tr>\n",
              "    <tr>\n",
              "      <th>0</th>\n",
              "      <td>lat</td>\n",
              "      <td>0.037781</td>\n",
              "    </tr>\n",
              "    <tr>\n",
              "      <th>52</th>\n",
              "      <td>desc_av</td>\n",
              "      <td>0.042692</td>\n",
              "    </tr>\n",
              "    <tr>\n",
              "      <th>5</th>\n",
              "      <td>surface_total</td>\n",
              "      <td>0.042808</td>\n",
              "    </tr>\n",
              "    <tr>\n",
              "      <th>27</th>\n",
              "      <td>desc_parrilla</td>\n",
              "      <td>0.072404</td>\n",
              "    </tr>\n",
              "    <tr>\n",
              "      <th>19</th>\n",
              "      <td>start_day</td>\n",
              "      <td>0.122060</td>\n",
              "    </tr>\n",
              "    <tr>\n",
              "      <th>18</th>\n",
              "      <td>start_month</td>\n",
              "      <td>0.134809</td>\n",
              "    </tr>\n",
              "    <tr>\n",
              "      <th>1</th>\n",
              "      <td>lon</td>\n",
              "      <td>0.137675</td>\n",
              "    </tr>\n",
              "    <tr>\n",
              "      <th>6</th>\n",
              "      <td>surface_covered</td>\n",
              "      <td>0.238574</td>\n",
              "    </tr>\n",
              "  </tbody>\n",
              "</table>\n",
              "</div>"
            ],
            "text/plain": [
              "                   atributo  importancia\n",
              "11  surface_covered_imputed     0.026056\n",
              "16                  covered     0.034805\n",
              "0                       lat     0.037781\n",
              "52                  desc_av     0.042692\n",
              "5             surface_total     0.042808\n",
              "27            desc_parrilla     0.072404\n",
              "19                start_day     0.122060\n",
              "18              start_month     0.134809\n",
              "1                       lon     0.137675\n",
              "6           surface_covered     0.238574"
            ]
          },
          "metadata": {},
          "output_type": "display_data"
        },
        {
          "name": "stdout",
          "output_type": "stream",
          "text": [
            "(50, 30)\n",
            "Resto de Caba\n"
          ]
        },
        {
          "data": {
            "text/html": [
              "<div>\n",
              "<style scoped>\n",
              "    .dataframe tbody tr th:only-of-type {\n",
              "        vertical-align: middle;\n",
              "    }\n",
              "\n",
              "    .dataframe tbody tr th {\n",
              "        vertical-align: top;\n",
              "    }\n",
              "\n",
              "    .dataframe thead th {\n",
              "        text-align: right;\n",
              "    }\n",
              "</style>\n",
              "<table border=\"1\" class=\"dataframe\">\n",
              "  <thead>\n",
              "    <tr style=\"text-align: right;\">\n",
              "      <th></th>\n",
              "      <th>atributo</th>\n",
              "      <th>importancia</th>\n",
              "    </tr>\n",
              "  </thead>\n",
              "  <tbody>\n",
              "    <tr>\n",
              "      <th>16</th>\n",
              "      <td>covered</td>\n",
              "      <td>0.013747</td>\n",
              "    </tr>\n",
              "    <tr>\n",
              "      <th>51</th>\n",
              "      <td>desc_av.</td>\n",
              "      <td>0.018907</td>\n",
              "    </tr>\n",
              "    <tr>\n",
              "      <th>11</th>\n",
              "      <td>surface_covered_imputed</td>\n",
              "      <td>0.028326</td>\n",
              "    </tr>\n",
              "    <tr>\n",
              "      <th>19</th>\n",
              "      <td>start_day</td>\n",
              "      <td>0.040251</td>\n",
              "    </tr>\n",
              "    <tr>\n",
              "      <th>18</th>\n",
              "      <td>start_month</td>\n",
              "      <td>0.064113</td>\n",
              "    </tr>\n",
              "    <tr>\n",
              "      <th>52</th>\n",
              "      <td>desc_av</td>\n",
              "      <td>0.070717</td>\n",
              "    </tr>\n",
              "    <tr>\n",
              "      <th>5</th>\n",
              "      <td>surface_total</td>\n",
              "      <td>0.119167</td>\n",
              "    </tr>\n",
              "    <tr>\n",
              "      <th>0</th>\n",
              "      <td>lat</td>\n",
              "      <td>0.145857</td>\n",
              "    </tr>\n",
              "    <tr>\n",
              "      <th>1</th>\n",
              "      <td>lon</td>\n",
              "      <td>0.163602</td>\n",
              "    </tr>\n",
              "    <tr>\n",
              "      <th>6</th>\n",
              "      <td>surface_covered</td>\n",
              "      <td>0.195610</td>\n",
              "    </tr>\n",
              "  </tbody>\n",
              "</table>\n",
              "</div>"
            ],
            "text/plain": [
              "                   atributo  importancia\n",
              "16                  covered     0.013747\n",
              "51                 desc_av.     0.018907\n",
              "11  surface_covered_imputed     0.028326\n",
              "19                start_day     0.040251\n",
              "18              start_month     0.064113\n",
              "52                  desc_av     0.070717\n",
              "5             surface_total     0.119167\n",
              "0                       lat     0.145857\n",
              "1                       lon     0.163602\n",
              "6           surface_covered     0.195610"
            ]
          },
          "metadata": {},
          "output_type": "display_data"
        },
        {
          "name": "stdout",
          "output_type": "stream",
          "text": [
            "(20765, 46)\n",
            "Madero y Catalinas\n"
          ]
        },
        {
          "data": {
            "text/html": [
              "<div>\n",
              "<style scoped>\n",
              "    .dataframe tbody tr th:only-of-type {\n",
              "        vertical-align: middle;\n",
              "    }\n",
              "\n",
              "    .dataframe tbody tr th {\n",
              "        vertical-align: top;\n",
              "    }\n",
              "\n",
              "    .dataframe thead th {\n",
              "        text-align: right;\n",
              "    }\n",
              "</style>\n",
              "<table border=\"1\" class=\"dataframe\">\n",
              "  <thead>\n",
              "    <tr style=\"text-align: right;\">\n",
              "      <th></th>\n",
              "      <th>atributo</th>\n",
              "      <th>importancia</th>\n",
              "    </tr>\n",
              "  </thead>\n",
              "  <tbody>\n",
              "    <tr>\n",
              "      <th>66</th>\n",
              "      <td>desc_hotel</td>\n",
              "      <td>0.008176</td>\n",
              "    </tr>\n",
              "    <tr>\n",
              "      <th>31</th>\n",
              "      <td>desc_linea (a|b|b|c|d|e|h)</td>\n",
              "      <td>0.010046</td>\n",
              "    </tr>\n",
              "    <tr>\n",
              "      <th>14</th>\n",
              "      <td>bathrooms_rooms</td>\n",
              "      <td>0.010525</td>\n",
              "    </tr>\n",
              "    <tr>\n",
              "      <th>18</th>\n",
              "      <td>start_month</td>\n",
              "      <td>0.010713</td>\n",
              "    </tr>\n",
              "    <tr>\n",
              "      <th>16</th>\n",
              "      <td>covered</td>\n",
              "      <td>0.012743</td>\n",
              "    </tr>\n",
              "    <tr>\n",
              "      <th>0</th>\n",
              "      <td>lat</td>\n",
              "      <td>0.035741</td>\n",
              "    </tr>\n",
              "    <tr>\n",
              "      <th>26</th>\n",
              "      <td>desc_ascensor</td>\n",
              "      <td>0.039168</td>\n",
              "    </tr>\n",
              "    <tr>\n",
              "      <th>1</th>\n",
              "      <td>lon</td>\n",
              "      <td>0.043493</td>\n",
              "    </tr>\n",
              "    <tr>\n",
              "      <th>6</th>\n",
              "      <td>surface_covered</td>\n",
              "      <td>0.180923</td>\n",
              "    </tr>\n",
              "    <tr>\n",
              "      <th>5</th>\n",
              "      <td>surface_total</td>\n",
              "      <td>0.555925</td>\n",
              "    </tr>\n",
              "  </tbody>\n",
              "</table>\n",
              "</div>"
            ],
            "text/plain": [
              "                      atributo  importancia\n",
              "66                  desc_hotel     0.008176\n",
              "31  desc_linea (a|b|b|c|d|e|h)     0.010046\n",
              "14             bathrooms_rooms     0.010525\n",
              "18                 start_month     0.010713\n",
              "16                     covered     0.012743\n",
              "0                          lat     0.035741\n",
              "26               desc_ascensor     0.039168\n",
              "1                          lon     0.043493\n",
              "6              surface_covered     0.180923\n",
              "5                surface_total     0.555925"
            ]
          },
          "metadata": {},
          "output_type": "display_data"
        },
        {
          "name": "stdout",
          "output_type": "stream",
          "text": [
            "(847, 34)\n",
            "Corredor Norte\n"
          ]
        },
        {
          "data": {
            "text/html": [
              "<div>\n",
              "<style scoped>\n",
              "    .dataframe tbody tr th:only-of-type {\n",
              "        vertical-align: middle;\n",
              "    }\n",
              "\n",
              "    .dataframe tbody tr th {\n",
              "        vertical-align: top;\n",
              "    }\n",
              "\n",
              "    .dataframe thead th {\n",
              "        text-align: right;\n",
              "    }\n",
              "</style>\n",
              "<table border=\"1\" class=\"dataframe\">\n",
              "  <thead>\n",
              "    <tr style=\"text-align: right;\">\n",
              "      <th></th>\n",
              "      <th>atributo</th>\n",
              "      <th>importancia</th>\n",
              "    </tr>\n",
              "  </thead>\n",
              "  <tbody>\n",
              "    <tr>\n",
              "      <th>15</th>\n",
              "      <td>bedrooms_rooms</td>\n",
              "      <td>0.029176</td>\n",
              "    </tr>\n",
              "    <tr>\n",
              "      <th>18</th>\n",
              "      <td>start_month</td>\n",
              "      <td>0.030024</td>\n",
              "    </tr>\n",
              "    <tr>\n",
              "      <th>52</th>\n",
              "      <td>desc_av</td>\n",
              "      <td>0.032782</td>\n",
              "    </tr>\n",
              "    <tr>\n",
              "      <th>14</th>\n",
              "      <td>bathrooms_rooms</td>\n",
              "      <td>0.041134</td>\n",
              "    </tr>\n",
              "    <tr>\n",
              "      <th>10</th>\n",
              "      <td>surface_total_imputed</td>\n",
              "      <td>0.050039</td>\n",
              "    </tr>\n",
              "    <tr>\n",
              "      <th>0</th>\n",
              "      <td>lat</td>\n",
              "      <td>0.056294</td>\n",
              "    </tr>\n",
              "    <tr>\n",
              "      <th>51</th>\n",
              "      <td>desc_av.</td>\n",
              "      <td>0.057409</td>\n",
              "    </tr>\n",
              "    <tr>\n",
              "      <th>5</th>\n",
              "      <td>surface_total</td>\n",
              "      <td>0.119573</td>\n",
              "    </tr>\n",
              "    <tr>\n",
              "      <th>1</th>\n",
              "      <td>lon</td>\n",
              "      <td>0.197224</td>\n",
              "    </tr>\n",
              "    <tr>\n",
              "      <th>6</th>\n",
              "      <td>surface_covered</td>\n",
              "      <td>0.254846</td>\n",
              "    </tr>\n",
              "  </tbody>\n",
              "</table>\n",
              "</div>"
            ],
            "text/plain": [
              "                 atributo  importancia\n",
              "15         bedrooms_rooms     0.029176\n",
              "18            start_month     0.030024\n",
              "52                desc_av     0.032782\n",
              "14        bathrooms_rooms     0.041134\n",
              "10  surface_total_imputed     0.050039\n",
              "0                     lat     0.056294\n",
              "51               desc_av.     0.057409\n",
              "5           surface_total     0.119573\n",
              "1                     lon     0.197224\n",
              "6         surface_covered     0.254846"
            ]
          },
          "metadata": {},
          "output_type": "display_data"
        },
        {
          "name": "stdout",
          "output_type": "stream",
          "text": [
            "(4146, 34)\n",
            "Corredor sur\n"
          ]
        },
        {
          "data": {
            "text/html": [
              "<div>\n",
              "<style scoped>\n",
              "    .dataframe tbody tr th:only-of-type {\n",
              "        vertical-align: middle;\n",
              "    }\n",
              "\n",
              "    .dataframe tbody tr th {\n",
              "        vertical-align: top;\n",
              "    }\n",
              "\n",
              "    .dataframe thead th {\n",
              "        text-align: right;\n",
              "    }\n",
              "</style>\n",
              "<table border=\"1\" class=\"dataframe\">\n",
              "  <thead>\n",
              "    <tr style=\"text-align: right;\">\n",
              "      <th></th>\n",
              "      <th>atributo</th>\n",
              "      <th>importancia</th>\n",
              "    </tr>\n",
              "  </thead>\n",
              "  <tbody>\n",
              "    <tr>\n",
              "      <th>29</th>\n",
              "      <td>desc_balcon</td>\n",
              "      <td>0.016547</td>\n",
              "    </tr>\n",
              "    <tr>\n",
              "      <th>31</th>\n",
              "      <td>desc_linea (a|b|b|c|d|e|h)</td>\n",
              "      <td>0.019816</td>\n",
              "    </tr>\n",
              "    <tr>\n",
              "      <th>55</th>\n",
              "      <td>desc_a(mm|m)enities</td>\n",
              "      <td>0.020181</td>\n",
              "    </tr>\n",
              "    <tr>\n",
              "      <th>16</th>\n",
              "      <td>covered</td>\n",
              "      <td>0.040106</td>\n",
              "    </tr>\n",
              "    <tr>\n",
              "      <th>4</th>\n",
              "      <td>bathrooms</td>\n",
              "      <td>0.062733</td>\n",
              "    </tr>\n",
              "    <tr>\n",
              "      <th>14</th>\n",
              "      <td>bathrooms_rooms</td>\n",
              "      <td>0.069455</td>\n",
              "    </tr>\n",
              "    <tr>\n",
              "      <th>5</th>\n",
              "      <td>surface_total</td>\n",
              "      <td>0.085242</td>\n",
              "    </tr>\n",
              "    <tr>\n",
              "      <th>0</th>\n",
              "      <td>lat</td>\n",
              "      <td>0.118927</td>\n",
              "    </tr>\n",
              "    <tr>\n",
              "      <th>1</th>\n",
              "      <td>lon</td>\n",
              "      <td>0.148444</td>\n",
              "    </tr>\n",
              "    <tr>\n",
              "      <th>6</th>\n",
              "      <td>surface_covered</td>\n",
              "      <td>0.163129</td>\n",
              "    </tr>\n",
              "  </tbody>\n",
              "</table>\n",
              "</div>"
            ],
            "text/plain": [
              "                      atributo  importancia\n",
              "29                 desc_balcon     0.016547\n",
              "31  desc_linea (a|b|b|c|d|e|h)     0.019816\n",
              "55         desc_a(mm|m)enities     0.020181\n",
              "16                     covered     0.040106\n",
              "4                    bathrooms     0.062733\n",
              "14             bathrooms_rooms     0.069455\n",
              "5                surface_total     0.085242\n",
              "0                          lat     0.118927\n",
              "1                          lon     0.148444\n",
              "6              surface_covered     0.163129"
            ]
          },
          "metadata": {},
          "output_type": "display_data"
        },
        {
          "name": "stdout",
          "output_type": "stream",
          "text": [
            "(1108, 50)\n",
            "Caballito\n"
          ]
        },
        {
          "data": {
            "text/html": [
              "<div>\n",
              "<style scoped>\n",
              "    .dataframe tbody tr th:only-of-type {\n",
              "        vertical-align: middle;\n",
              "    }\n",
              "\n",
              "    .dataframe tbody tr th {\n",
              "        vertical-align: top;\n",
              "    }\n",
              "\n",
              "    .dataframe thead th {\n",
              "        text-align: right;\n",
              "    }\n",
              "</style>\n",
              "<table border=\"1\" class=\"dataframe\">\n",
              "  <thead>\n",
              "    <tr style=\"text-align: right;\">\n",
              "      <th></th>\n",
              "      <th>atributo</th>\n",
              "      <th>importancia</th>\n",
              "    </tr>\n",
              "  </thead>\n",
              "  <tbody>\n",
              "    <tr>\n",
              "      <th>27</th>\n",
              "      <td>desc_parrilla</td>\n",
              "      <td>0.010168</td>\n",
              "    </tr>\n",
              "    <tr>\n",
              "      <th>10</th>\n",
              "      <td>surface_total_imputed</td>\n",
              "      <td>0.014631</td>\n",
              "    </tr>\n",
              "    <tr>\n",
              "      <th>4</th>\n",
              "      <td>bathrooms</td>\n",
              "      <td>0.018536</td>\n",
              "    </tr>\n",
              "    <tr>\n",
              "      <th>14</th>\n",
              "      <td>bathrooms_rooms</td>\n",
              "      <td>0.020365</td>\n",
              "    </tr>\n",
              "    <tr>\n",
              "      <th>58</th>\n",
              "      <td>desc_pileta|piscina</td>\n",
              "      <td>0.023316</td>\n",
              "    </tr>\n",
              "    <tr>\n",
              "      <th>16</th>\n",
              "      <td>covered</td>\n",
              "      <td>0.037791</td>\n",
              "    </tr>\n",
              "    <tr>\n",
              "      <th>0</th>\n",
              "      <td>lat</td>\n",
              "      <td>0.056855</td>\n",
              "    </tr>\n",
              "    <tr>\n",
              "      <th>1</th>\n",
              "      <td>lon</td>\n",
              "      <td>0.060676</td>\n",
              "    </tr>\n",
              "    <tr>\n",
              "      <th>5</th>\n",
              "      <td>surface_total</td>\n",
              "      <td>0.184520</td>\n",
              "    </tr>\n",
              "    <tr>\n",
              "      <th>6</th>\n",
              "      <td>surface_covered</td>\n",
              "      <td>0.422402</td>\n",
              "    </tr>\n",
              "  </tbody>\n",
              "</table>\n",
              "</div>"
            ],
            "text/plain": [
              "                 atributo  importancia\n",
              "27          desc_parrilla     0.010168\n",
              "10  surface_total_imputed     0.014631\n",
              "4               bathrooms     0.018536\n",
              "14        bathrooms_rooms     0.020365\n",
              "58    desc_pileta|piscina     0.023316\n",
              "16                covered     0.037791\n",
              "0                     lat     0.056855\n",
              "1                     lon     0.060676\n",
              "5           surface_total     0.184520\n",
              "6         surface_covered     0.422402"
            ]
          },
          "metadata": {},
          "output_type": "display_data"
        },
        {
          "name": "stdout",
          "output_type": "stream",
          "text": [
            "(14621, 49)\n",
            "Palermo\n"
          ]
        },
        {
          "data": {
            "text/html": [
              "<div>\n",
              "<style scoped>\n",
              "    .dataframe tbody tr th:only-of-type {\n",
              "        vertical-align: middle;\n",
              "    }\n",
              "\n",
              "    .dataframe tbody tr th {\n",
              "        vertical-align: top;\n",
              "    }\n",
              "\n",
              "    .dataframe thead th {\n",
              "        text-align: right;\n",
              "    }\n",
              "</style>\n",
              "<table border=\"1\" class=\"dataframe\">\n",
              "  <thead>\n",
              "    <tr style=\"text-align: right;\">\n",
              "      <th></th>\n",
              "      <th>atributo</th>\n",
              "      <th>importancia</th>\n",
              "    </tr>\n",
              "  </thead>\n",
              "  <tbody>\n",
              "    <tr>\n",
              "      <th>18</th>\n",
              "      <td>start_month</td>\n",
              "      <td>0.005871</td>\n",
              "    </tr>\n",
              "    <tr>\n",
              "      <th>7</th>\n",
              "      <td>rooms_imputed</td>\n",
              "      <td>0.007206</td>\n",
              "    </tr>\n",
              "    <tr>\n",
              "      <th>9</th>\n",
              "      <td>bathrooms_imputed</td>\n",
              "      <td>0.013986</td>\n",
              "    </tr>\n",
              "    <tr>\n",
              "      <th>16</th>\n",
              "      <td>covered</td>\n",
              "      <td>0.020340</td>\n",
              "    </tr>\n",
              "    <tr>\n",
              "      <th>58</th>\n",
              "      <td>desc_pileta|piscina</td>\n",
              "      <td>0.032674</td>\n",
              "    </tr>\n",
              "    <tr>\n",
              "      <th>0</th>\n",
              "      <td>lat</td>\n",
              "      <td>0.055505</td>\n",
              "    </tr>\n",
              "    <tr>\n",
              "      <th>1</th>\n",
              "      <td>lon</td>\n",
              "      <td>0.082360</td>\n",
              "    </tr>\n",
              "    <tr>\n",
              "      <th>5</th>\n",
              "      <td>surface_total</td>\n",
              "      <td>0.113866</td>\n",
              "    </tr>\n",
              "    <tr>\n",
              "      <th>23</th>\n",
              "      <td>desc_suite</td>\n",
              "      <td>0.126015</td>\n",
              "    </tr>\n",
              "    <tr>\n",
              "      <th>6</th>\n",
              "      <td>surface_covered</td>\n",
              "      <td>0.440874</td>\n",
              "    </tr>\n",
              "  </tbody>\n",
              "</table>\n",
              "</div>"
            ],
            "text/plain": [
              "               atributo  importancia\n",
              "18          start_month     0.005871\n",
              "7         rooms_imputed     0.007206\n",
              "9     bathrooms_imputed     0.013986\n",
              "16              covered     0.020340\n",
              "58  desc_pileta|piscina     0.032674\n",
              "0                   lat     0.055505\n",
              "1                   lon     0.082360\n",
              "5         surface_total     0.113866\n",
              "23           desc_suite     0.126015\n",
              "6       surface_covered     0.440874"
            ]
          },
          "metadata": {},
          "output_type": "display_data"
        },
        {
          "name": "stdout",
          "output_type": "stream",
          "text": [
            "(8818, 42)\n",
            "Belgrano\n"
          ]
        },
        {
          "data": {
            "text/html": [
              "<div>\n",
              "<style scoped>\n",
              "    .dataframe tbody tr th:only-of-type {\n",
              "        vertical-align: middle;\n",
              "    }\n",
              "\n",
              "    .dataframe tbody tr th {\n",
              "        vertical-align: top;\n",
              "    }\n",
              "\n",
              "    .dataframe thead th {\n",
              "        text-align: right;\n",
              "    }\n",
              "</style>\n",
              "<table border=\"1\" class=\"dataframe\">\n",
              "  <thead>\n",
              "    <tr style=\"text-align: right;\">\n",
              "      <th></th>\n",
              "      <th>atributo</th>\n",
              "      <th>importancia</th>\n",
              "    </tr>\n",
              "  </thead>\n",
              "  <tbody>\n",
              "    <tr>\n",
              "      <th>18</th>\n",
              "      <td>start_month</td>\n",
              "      <td>0.015045</td>\n",
              "    </tr>\n",
              "    <tr>\n",
              "      <th>7</th>\n",
              "      <td>rooms_imputed</td>\n",
              "      <td>0.026340</td>\n",
              "    </tr>\n",
              "    <tr>\n",
              "      <th>58</th>\n",
              "      <td>desc_pileta|piscina</td>\n",
              "      <td>0.028778</td>\n",
              "    </tr>\n",
              "    <tr>\n",
              "      <th>1</th>\n",
              "      <td>lon</td>\n",
              "      <td>0.040725</td>\n",
              "    </tr>\n",
              "    <tr>\n",
              "      <th>0</th>\n",
              "      <td>lat</td>\n",
              "      <td>0.043591</td>\n",
              "    </tr>\n",
              "    <tr>\n",
              "      <th>66</th>\n",
              "      <td>desc_hotel</td>\n",
              "      <td>0.053788</td>\n",
              "    </tr>\n",
              "    <tr>\n",
              "      <th>5</th>\n",
              "      <td>surface_total</td>\n",
              "      <td>0.063459</td>\n",
              "    </tr>\n",
              "    <tr>\n",
              "      <th>9</th>\n",
              "      <td>bathrooms_imputed</td>\n",
              "      <td>0.118986</td>\n",
              "    </tr>\n",
              "    <tr>\n",
              "      <th>67</th>\n",
              "      <td>desc_emprendimiento</td>\n",
              "      <td>0.190987</td>\n",
              "    </tr>\n",
              "    <tr>\n",
              "      <th>6</th>\n",
              "      <td>surface_covered</td>\n",
              "      <td>0.319565</td>\n",
              "    </tr>\n",
              "  </tbody>\n",
              "</table>\n",
              "</div>"
            ],
            "text/plain": [
              "               atributo  importancia\n",
              "18          start_month     0.015045\n",
              "7         rooms_imputed     0.026340\n",
              "58  desc_pileta|piscina     0.028778\n",
              "1                   lon     0.040725\n",
              "0                   lat     0.043591\n",
              "66           desc_hotel     0.053788\n",
              "5         surface_total     0.063459\n",
              "9     bathrooms_imputed     0.118986\n",
              "67  desc_emprendimiento     0.190987\n",
              "6       surface_covered     0.319565"
            ]
          },
          "metadata": {},
          "output_type": "display_data"
        },
        {
          "name": "stdout",
          "output_type": "stream",
          "text": [
            "(5875, 35)\n",
            "Devoto\n"
          ]
        },
        {
          "data": {
            "text/html": [
              "<div>\n",
              "<style scoped>\n",
              "    .dataframe tbody tr th:only-of-type {\n",
              "        vertical-align: middle;\n",
              "    }\n",
              "\n",
              "    .dataframe tbody tr th {\n",
              "        vertical-align: top;\n",
              "    }\n",
              "\n",
              "    .dataframe thead th {\n",
              "        text-align: right;\n",
              "    }\n",
              "</style>\n",
              "<table border=\"1\" class=\"dataframe\">\n",
              "  <thead>\n",
              "    <tr style=\"text-align: right;\">\n",
              "      <th></th>\n",
              "      <th>atributo</th>\n",
              "      <th>importancia</th>\n",
              "    </tr>\n",
              "  </thead>\n",
              "  <tbody>\n",
              "    <tr>\n",
              "      <th>10</th>\n",
              "      <td>surface_total_imputed</td>\n",
              "      <td>0.014732</td>\n",
              "    </tr>\n",
              "    <tr>\n",
              "      <th>19</th>\n",
              "      <td>start_day</td>\n",
              "      <td>0.015434</td>\n",
              "    </tr>\n",
              "    <tr>\n",
              "      <th>14</th>\n",
              "      <td>bathrooms_rooms</td>\n",
              "      <td>0.016927</td>\n",
              "    </tr>\n",
              "    <tr>\n",
              "      <th>16</th>\n",
              "      <td>covered</td>\n",
              "      <td>0.025129</td>\n",
              "    </tr>\n",
              "    <tr>\n",
              "      <th>4</th>\n",
              "      <td>bathrooms</td>\n",
              "      <td>0.026019</td>\n",
              "    </tr>\n",
              "    <tr>\n",
              "      <th>0</th>\n",
              "      <td>lat</td>\n",
              "      <td>0.045841</td>\n",
              "    </tr>\n",
              "    <tr>\n",
              "      <th>23</th>\n",
              "      <td>desc_suite</td>\n",
              "      <td>0.083187</td>\n",
              "    </tr>\n",
              "    <tr>\n",
              "      <th>1</th>\n",
              "      <td>lon</td>\n",
              "      <td>0.088002</td>\n",
              "    </tr>\n",
              "    <tr>\n",
              "      <th>5</th>\n",
              "      <td>surface_total</td>\n",
              "      <td>0.110424</td>\n",
              "    </tr>\n",
              "    <tr>\n",
              "      <th>6</th>\n",
              "      <td>surface_covered</td>\n",
              "      <td>0.416987</td>\n",
              "    </tr>\n",
              "  </tbody>\n",
              "</table>\n",
              "</div>"
            ],
            "text/plain": [
              "                 atributo  importancia\n",
              "10  surface_total_imputed     0.014732\n",
              "19              start_day     0.015434\n",
              "14        bathrooms_rooms     0.016927\n",
              "16                covered     0.025129\n",
              "4               bathrooms     0.026019\n",
              "0                     lat     0.045841\n",
              "23             desc_suite     0.083187\n",
              "1                     lon     0.088002\n",
              "5           surface_total     0.110424\n",
              "6         surface_covered     0.416987"
            ]
          },
          "metadata": {},
          "output_type": "display_data"
        },
        {
          "name": "stdout",
          "output_type": "stream",
          "text": [
            "(948, 45)\n"
          ]
        }
      ],
      "source": [
        "print(\"La Plata\")\n",
        "df_test_la_plata, df_train_la_plata = filtrado_columnas(df_test_la_plata,df_train_la_plata)\n",
        "print(\"Resto de Caba\")\n",
        "df_test_caba, df_train_caba = filtrado_columnas(df_test_caba,df_train_caba)\n",
        "print(\"Madero y Catalinas\")\n",
        "df_test_madero, df_train_madero = filtrado_columnas(df_test_madero,df_train_madero)\n",
        "print(\"Corredor Norte\")\n",
        "df_test_corredor_norte, df_train_corredor_norte = filtrado_columnas(df_test_corredor_norte,df_train_corredor_norte)\n",
        "print(\"Corredor sur\")\n",
        "df_test_corredor_sur, df_train_corredor_sur = filtrado_columnas(df_test_corredor_sur,df_train_corredor_sur)\n",
        "print(\"Caballito\")\n",
        "df_test_caballito, df_train_caballito = filtrado_columnas(df_test_caballito,df_train_caballito)\n",
        "print(\"Palermo\")\n",
        "df_test_palermo, df_train_palermo = filtrado_columnas(df_test_palermo,df_train_palermo)\n",
        "print(\"Belgrano\")\n",
        "df_test_belgrano, df_train_belgrano = filtrado_columnas(df_test_belgrano,df_train_belgrano)\n",
        "print(\"Devoto\")\n",
        "df_test_devoto, df_train_devoto = filtrado_columnas(df_test_devoto,df_train_devoto)"
      ]
    },
    {
      "attachments": {},
      "cell_type": "markdown",
      "metadata": {},
      "source": [
        "# Entrenamiento del modelo"
      ]
    },
    {
      "attachments": {},
      "cell_type": "markdown",
      "metadata": {},
      "source": [
        "## Territorio de Aprendizaje Automático\n",
        "☢☢☢☢☢☢ Se mira y no se toca ☢☢☢☢☢☢☢"
      ]
    },
    {
      "cell_type": "code",
      "execution_count": 600,
      "metadata": {},
      "outputs": [],
      "source": [
        "# Funcion de limpieza (usada en la siguiente sección) que usa y_train\n",
        "def limpiar_fold(X_train, y_train, X_test):\n",
        "    ## TODO: limpiar los datos           \n",
        "    \n",
        "    return (X_train, y_train, X_test)"
      ]
    },
    {
      "cell_type": "code",
      "execution_count": 601,
      "metadata": {},
      "outputs": [],
      "source": [
        "def CV(df_train):\n",
        "    # Datos para probar\n",
        "    df_train = df_train.select_dtypes(include=['float64', 'int64', 'int32', 'int16', 'int8', 'bool'])\n",
        "\n",
        "    X = df_train[df_train.columns.drop('price')]\n",
        "    y = df_train['price']\n",
        "\n",
        "    # reg = sk.ensemble.RandomForestRegressor(n_estimators=500, max_depth=5, n_jobs=-1, random_state=42)\n",
        "    reg = sk.ensemble.GradientBoostingRegressor(n_estimators=500,max_depth=5,random_state=42)\n",
        "    # Partimos en entrenamiento+prueba y validación\n",
        "    X_train_test, X_val, y_train_test, y_val = sk.model_selection.train_test_split(X, y, test_size=0.2, random_state=42)\n",
        "\n",
        "    scores_train = []\n",
        "    scores_test = []\n",
        "    # Validación cruzada, 10 folds, shuffle antes\n",
        "    kf = sk.model_selection.KFold(n_splits=10, shuffle=True, random_state=42)\n",
        "    for fold, (train_index, test_index) in enumerate(kf.split(X_train_test, y_train_test)):\n",
        "        X_train, X_test, y_train, y_test = X_train_test.iloc[train_index], X_train_test.iloc[test_index], y_train_test.iloc[train_index], y_train_test.iloc[test_index]\n",
        "\n",
        "        X_train, y_train, X_test = limpiar_fold(X_train, y_train, X_test)\n",
        "\n",
        "        # Entrenamos el modelo\n",
        "        reg.fit(X_train, y_train)\n",
        "\n",
        "        # Predecimos en train\n",
        "        y_pred = reg.predict(X_train)\n",
        "\n",
        "        # Medimos la performance de la predicción en test\n",
        "        score_train = sk.metrics.mean_squared_error(y_train, y_pred,squared=False).round()\n",
        "        scores_train.append(score_train)\n",
        "\n",
        "        # Predecimos en test\n",
        "        y_pred = reg.predict(X_test)\n",
        "\n",
        "        # Medimos la performance de la predicción en test\n",
        "        score_test = sk.metrics.mean_squared_error(y_test, y_pred,squared=False).round()\n",
        "        scores_test.append(score_test)\n",
        "        \n",
        "        print(f\"{fold=}, {score_train=} {score_test=}\\n\")\n",
        "        \n",
        "\n",
        "    print(f\"Train scores mean={pd.Series(scores_train).mean()}, std={pd.Series(scores_train).std()}\\n\")\n",
        "    print(f\"Test scores mean={pd.Series(scores_test).mean()}, std={pd.Series(scores_test).std()}\\n\")"
      ]
    },
    {
      "cell_type": "code",
      "execution_count": 602,
      "metadata": {},
      "outputs": [],
      "source": [
        "def modelado(df_train,df_test,n_estimators=500,min_samples_split=2,max_depth=5):\n",
        "    # reg = sk.ensemble.RandomForestRegressor(n_estimators=n_estimators, max_depth=max_depth, n_jobs=-1, random_state=42,min_samples_split=min_samples_split)\n",
        "    reg = sk.ensemble.GradientBoostingRegressor(n_estimators=n_estimators,max_depth=max_depth,random_state=42)\n",
        "\n",
        "    ## Datos a predecir \n",
        "    X = df_train[df_train.columns.drop('price')]\n",
        "    y = df_train['price']\n",
        "    X_prueba = df_test[df_train.columns.drop('price')] # cuidado:\n",
        "\n",
        "    # Entrenamos el modelo con todos los datos\n",
        "    reg.fit(X, y)\n",
        "\n",
        "    # Predecimos\n",
        "    df_test['price'] = reg.predict(X_prueba)\n",
        "\n",
        "    # Grabamos\n",
        "    # df_test['price'].to_csv('solucion_la_plata.csv', index=True)\n",
        "\n",
        "    print(pd.DataFrame(zip(df_train.columns.drop('price'), \n",
        "                             reg.feature_importances_*100), \n",
        "                         columns=[\"column\", \"feature_importance\"]).sort_values(by=\"feature_importance\", ascending=False).head(10).to_markdown())\n",
        "\n",
        "    return df_test['price']"
      ]
    },
    {
      "cell_type": "code",
      "execution_count": 603,
      "metadata": {},
      "outputs": [
        {
          "name": "stdout",
          "output_type": "stream",
          "text": [
            "## Resto de CABA\n",
            "\n",
            "fold=0, score_train=20057.0 score_test=31620.0\n",
            "\n",
            "fold=1, score_train=19948.0 score_test=39059.0\n",
            "\n",
            "fold=2, score_train=18796.0 score_test=38181.0\n",
            "\n",
            "fold=3, score_train=19986.0 score_test=29639.0\n",
            "\n",
            "fold=4, score_train=19654.0 score_test=30687.0\n",
            "\n",
            "fold=5, score_train=20051.0 score_test=28344.0\n",
            "\n",
            "fold=6, score_train=20003.0 score_test=28190.0\n",
            "\n",
            "fold=7, score_train=19752.0 score_test=30040.0\n",
            "\n",
            "fold=8, score_train=20171.0 score_test=28869.0\n",
            "\n",
            "fold=9, score_train=19958.0 score_test=32075.0\n",
            "\n",
            "Train scores mean=19837.6, std=395.37076832315825\n",
            "\n",
            "Test scores mean=31670.4, std=3886.206267757227\n",
            "\n",
            "## La Plata\n",
            "\n",
            "fold=0, score_train=0.0 score_test=10499.0\n",
            "\n",
            "fold=1, score_train=0.0 score_test=34336.0\n",
            "\n",
            "fold=2, score_train=0.0 score_test=27126.0\n",
            "\n",
            "fold=3, score_train=0.0 score_test=5520.0\n",
            "\n",
            "fold=4, score_train=0.0 score_test=8529.0\n",
            "\n",
            "fold=5, score_train=0.0 score_test=626.0\n",
            "\n",
            "fold=6, score_train=0.0 score_test=19652.0\n",
            "\n",
            "fold=7, score_train=0.0 score_test=32307.0\n",
            "\n",
            "fold=8, score_train=0.0 score_test=8781.0\n",
            "\n",
            "fold=9, score_train=0.0 score_test=9878.0\n",
            "\n",
            "Train scores mean=0.0, std=0.0\n",
            "\n",
            "Test scores mean=15725.4, std=11833.840535608977\n",
            "\n",
            "## Puerto Madero y Catalinas\n",
            "\n",
            "fold=0, score_train=12107.0 score_test=174197.0\n",
            "\n",
            "fold=1, score_train=10600.0 score_test=214327.0\n",
            "\n",
            "fold=2, score_train=11920.0 score_test=140395.0\n",
            "\n",
            "fold=3, score_train=12395.0 score_test=101139.0\n",
            "\n",
            "fold=4, score_train=11269.0 score_test=206815.0\n",
            "\n",
            "fold=5, score_train=12742.0 score_test=144421.0\n",
            "\n",
            "fold=6, score_train=11931.0 score_test=117751.0\n",
            "\n",
            "fold=7, score_train=11500.0 score_test=164075.0\n",
            "\n",
            "fold=8, score_train=12033.0 score_test=165806.0\n",
            "\n",
            "fold=9, score_train=11866.0 score_test=135777.0\n",
            "\n",
            "Train scores mean=11836.3, std=598.5749836997124\n",
            "\n",
            "Test scores mean=156470.3, std=36107.493405263\n",
            "\n",
            "## Corredor Norte\n",
            "\n",
            "fold=0, score_train=9681.0 score_test=41795.0\n",
            "\n",
            "fold=1, score_train=9618.0 score_test=269572.0\n",
            "\n",
            "fold=2, score_train=9630.0 score_test=107893.0\n",
            "\n",
            "fold=3, score_train=9859.0 score_test=51425.0\n",
            "\n",
            "fold=4, score_train=9535.0 score_test=60229.0\n",
            "\n",
            "fold=5, score_train=9779.0 score_test=57111.0\n",
            "\n",
            "fold=6, score_train=9485.0 score_test=670987.0\n",
            "\n",
            "fold=7, score_train=9659.0 score_test=72834.0\n",
            "\n",
            "fold=8, score_train=10359.0 score_test=37218.0\n",
            "\n",
            "fold=9, score_train=10098.0 score_test=139047.0\n",
            "\n",
            "Train scores mean=9770.3, std=271.19121994964695\n",
            "\n",
            "Test scores mean=150811.1, std=195618.1736248507\n",
            "\n",
            "## Corredor Sur\n",
            "\n",
            "fold=0, score_train=1940.0 score_test=17560.0\n",
            "\n",
            "fold=1, score_train=1908.0 score_test=25629.0\n",
            "\n",
            "fold=2, score_train=1813.0 score_test=22466.0\n",
            "\n",
            "fold=3, score_train=1907.0 score_test=21503.0\n",
            "\n",
            "fold=4, score_train=1842.0 score_test=21388.0\n",
            "\n",
            "fold=5, score_train=1939.0 score_test=23559.0\n",
            "\n",
            "fold=6, score_train=1788.0 score_test=17505.0\n",
            "\n",
            "fold=7, score_train=1899.0 score_test=19399.0\n",
            "\n",
            "fold=8, score_train=1964.0 score_test=26002.0\n",
            "\n",
            "fold=9, score_train=1940.0 score_test=29185.0\n",
            "\n",
            "Train scores mean=1894.0, std=59.67318400160066\n",
            "\n",
            "Test scores mean=22419.6, std=3785.971831790499\n",
            "\n",
            "## Caballito\n",
            "\n",
            "fold=0, score_train=10984.0 score_test=35829.0\n",
            "\n",
            "fold=1, score_train=10949.0 score_test=22759.0\n",
            "\n",
            "fold=2, score_train=10814.0 score_test=19933.0\n",
            "\n",
            "fold=3, score_train=11142.0 score_test=20582.0\n",
            "\n",
            "fold=4, score_train=10966.0 score_test=22826.0\n",
            "\n",
            "fold=5, score_train=11182.0 score_test=22251.0\n",
            "\n",
            "fold=6, score_train=10880.0 score_test=32119.0\n",
            "\n",
            "fold=7, score_train=11317.0 score_test=19028.0\n",
            "\n",
            "fold=8, score_train=10951.0 score_test=23618.0\n",
            "\n",
            "fold=9, score_train=11114.0 score_test=22171.0\n",
            "\n",
            "Train scores mean=11029.9, std=153.92743600656627\n",
            "\n",
            "Test scores mean=24111.6, std=5458.239199188283\n",
            "\n",
            "## Palermo\n",
            "\n",
            "fold=0, score_train=14835.0 score_test=98633.0\n",
            "\n",
            "fold=1, score_train=14866.0 score_test=56566.0\n",
            "\n",
            "fold=2, score_train=14843.0 score_test=59095.0\n",
            "\n",
            "fold=3, score_train=14736.0 score_test=45023.0\n",
            "\n",
            "fold=4, score_train=14685.0 score_test=49938.0\n",
            "\n",
            "fold=5, score_train=14925.0 score_test=51056.0\n",
            "\n",
            "fold=6, score_train=15300.0 score_test=118187.0\n",
            "\n",
            "fold=7, score_train=14524.0 score_test=45341.0\n",
            "\n",
            "fold=8, score_train=14642.0 score_test=58149.0\n",
            "\n",
            "fold=9, score_train=15106.0 score_test=64351.0\n",
            "\n",
            "Train scores mean=14846.2, std=227.0114045103853\n",
            "\n",
            "Test scores mean=64633.9, std=24310.28574926899\n",
            "\n",
            "## Belgrano\n",
            "\n",
            "fold=0, score_train=14532.0 score_test=100748.0\n",
            "\n",
            "fold=1, score_train=14749.0 score_test=48777.0\n",
            "\n",
            "fold=2, score_train=14804.0 score_test=501454.0\n",
            "\n",
            "fold=3, score_train=14784.0 score_test=64026.0\n",
            "\n",
            "fold=4, score_train=15075.0 score_test=69520.0\n",
            "\n",
            "fold=5, score_train=15765.0 score_test=50387.0\n",
            "\n",
            "fold=6, score_train=15819.0 score_test=72828.0\n",
            "\n",
            "fold=7, score_train=15094.0 score_test=56992.0\n",
            "\n",
            "fold=8, score_train=15164.0 score_test=60015.0\n",
            "\n",
            "fold=9, score_train=14903.0 score_test=52767.0\n",
            "\n",
            "Train scores mean=15068.9, std=425.0982762190932\n",
            "\n",
            "Test scores mean=107751.4, std=139160.6578888029\n",
            "\n",
            "## devoto\n",
            "\n",
            "fold=0, score_train=5477.0 score_test=62485.0\n",
            "\n",
            "fold=1, score_train=5815.0 score_test=34760.0\n",
            "\n",
            "fold=2, score_train=5446.0 score_test=46884.0\n",
            "\n",
            "fold=3, score_train=5918.0 score_test=44814.0\n",
            "\n",
            "fold=4, score_train=6352.0 score_test=44701.0\n",
            "\n",
            "fold=5, score_train=5151.0 score_test=30226.0\n",
            "\n",
            "fold=6, score_train=6045.0 score_test=62198.0\n",
            "\n",
            "fold=7, score_train=6353.0 score_test=44981.0\n",
            "\n",
            "fold=8, score_train=5528.0 score_test=33052.0\n",
            "\n",
            "fold=9, score_train=5700.0 score_test=29527.0\n",
            "\n",
            "Train scores mean=5778.5, std=396.4977931842749\n",
            "\n",
            "Test scores mean=43362.8, std=11942.748211548482\n",
            "\n"
          ]
        }
      ],
      "source": [
        "print(\"## Resto de CABA\\n\")\n",
        "caba_pred = CV(df_train_caba)\n",
        "print(\"## La Plata\\n\")\n",
        "la_plata_pred = CV(df_train_la_plata)\n",
        "print(\"## Puerto Madero y Catalinas\\n\")\n",
        "madero_pred = CV(df_train_madero)\n",
        "print(\"## Corredor Norte\\n\")\n",
        "norte_pred = CV(df_train_corredor_norte)\n",
        "print(\"## Corredor Sur\\n\")\n",
        "sur_pred = CV(df_train_corredor_sur)\n",
        "print(\"## Caballito\\n\")\n",
        "cab_pred = CV(df_train_caballito)\n",
        "print(\"## Palermo\\n\")\n",
        "palermo_pred = CV(df_train_palermo)\n",
        "print(\"## Belgrano\\n\")\n",
        "bel_pred = CV(df_train_belgrano)\n",
        "print(\"## devoto\\n\")\n",
        "devoto_pred = CV(df_train_devoto)"
      ]
    },
    {
      "cell_type": "code",
      "execution_count": 604,
      "metadata": {},
      "outputs": [
        {
          "name": "stdout",
          "output_type": "stream",
          "text": [
            "## Resto de CABA\n",
            "\n",
            "|    | column                  |   feature_importance |\n",
            "|---:|:------------------------|---------------------:|\n",
            "|  1 | lon                     |            53.1794   |\n",
            "|  0 | surface_covered         |            12.2898   |\n",
            "|  3 | surface_total           |            11.0798   |\n",
            "|  2 | lat                     |             5.22078  |\n",
            "|  7 | surface_covered_imputed |             4.72218  |\n",
            "|  4 | desc_av                 |             4.40826  |\n",
            "| 19 | bedrooms_rooms          |             1.1964   |\n",
            "|  9 | covered                 |             0.791854 |\n",
            "| 11 | desc_suite              |             0.686347 |\n",
            "| 13 | bathrooms_rooms         |             0.636599 |\n",
            "## La Plata\n",
            "\n",
            "|    | column          |   feature_importance |\n",
            "|---:|:----------------|---------------------:|\n",
            "|  0 | surface_covered |             20.8325  |\n",
            "|  2 | start_month     |             18.5511  |\n",
            "|  3 | start_day       |             17.3869  |\n",
            "|  1 | lon             |             10.3547  |\n",
            "|  4 | desc_parrilla   |              9.56503 |\n",
            "|  5 | surface_total   |              7.5762  |\n",
            "|  8 | covered         |              7.31215 |\n",
            "|  7 | lat             |              2.58233 |\n",
            "|  6 | desc_av         |              2.45687 |\n",
            "| 17 | desc_parque     |              1.26769 |\n",
            "## Puerto Madero y Catalinas\n",
            "\n",
            "|    | column                  |   feature_importance |\n",
            "|---:|:------------------------|---------------------:|\n",
            "|  0 | surface_total           |            54.0562   |\n",
            "|  1 | surface_covered         |            17.6942   |\n",
            "|  2 | lon                     |             7.99487  |\n",
            "|  4 | lat                     |             4.52929  |\n",
            "|  3 | desc_ascensor           |             3.78829  |\n",
            "|  5 | covered                 |             1.1005   |\n",
            "|  7 | bathrooms_rooms         |             0.959578 |\n",
            "| 11 | bathrooms               |             0.959042 |\n",
            "| 10 | start_day               |             0.922849 |\n",
            "| 16 | surface_covered_imputed |             0.845933 |\n",
            "## Corredor Norte\n",
            "\n",
            "|    | column                |   feature_importance |\n",
            "|---:|:----------------------|---------------------:|\n",
            "|  7 | desc_av               |            25.2662   |\n",
            "|  0 | surface_covered       |            19.8355   |\n",
            "|  1 | lon                   |            19.2808   |\n",
            "|  9 | bedrooms_rooms        |            16.492    |\n",
            "|  2 | surface_total         |             7.75642  |\n",
            "|  5 | surface_total_imputed |             3.98098  |\n",
            "|  4 | lat                   |             1.36427  |\n",
            "| 24 | desc_balcon           |             0.886773 |\n",
            "| 13 | desc_pileta|piscina   |             0.718611 |\n",
            "| 14 | desc_suite            |             0.705985 |\n",
            "## Corredor Sur\n",
            "\n",
            "|    | column              |   feature_importance |\n",
            "|---:|:--------------------|---------------------:|\n",
            "|  0 | surface_covered     |             20.5068  |\n",
            "|  2 | lat                 |             16.7305  |\n",
            "|  1 | lon                 |             16.428   |\n",
            "|  5 | bathrooms           |              7.24728 |\n",
            "|  3 | surface_total       |              6.08539 |\n",
            "|  4 | bathrooms_rooms     |              4.28735 |\n",
            "|  6 | covered             |              3.83091 |\n",
            "|  7 | desc_a(mm|m)enities |              1.70921 |\n",
            "| 14 | desc_pileta|piscina |              1.70493 |\n",
            "| 10 | desc_patio          |              1.25985 |\n",
            "## Caballito\n",
            "\n",
            "|    | column                |   feature_importance |\n",
            "|---:|:----------------------|---------------------:|\n",
            "|  0 | surface_covered       |             38.1167  |\n",
            "|  1 | surface_total         |             24.6001  |\n",
            "|  3 | lat                   |              5.9674  |\n",
            "|  2 | lon                   |              5.87875 |\n",
            "|  7 | bathrooms             |              3.3083  |\n",
            "|  4 | covered               |              3.02981 |\n",
            "|  5 | desc_pileta|piscina   |              2.30324 |\n",
            "|  8 | surface_total_imputed |              2.07445 |\n",
            "|  6 | bathrooms_rooms       |              1.80265 |\n",
            "|  9 | desc_parrilla         |              1.12612 |\n",
            "## Palermo\n",
            "\n",
            "|    | column              |   feature_importance |\n",
            "|---:|:--------------------|---------------------:|\n",
            "|  0 | surface_covered     |            44.3271   |\n",
            "|  3 | lon                 |            11.0915   |\n",
            "|  1 | desc_suite          |            11.0176   |\n",
            "|  2 | surface_total       |            10.9647   |\n",
            "|  4 | lat                 |             6.10404  |\n",
            "|  5 | desc_pileta|piscina |             3.9169   |\n",
            "|  6 | covered             |             1.75507  |\n",
            "| 18 | desc_balcon         |             0.862844 |\n",
            "| 16 | bathrooms_rooms     |             0.782036 |\n",
            "|  7 | bathrooms_imputed   |             0.768166 |\n",
            "## Belgrano\n",
            "\n",
            "|    | column              |   feature_importance |\n",
            "|---:|:--------------------|---------------------:|\n",
            "|  1 | desc_emprendimiento |             41.9844  |\n",
            "|  0 | surface_covered     |             21.8278  |\n",
            "|  6 | lon                 |              7.60968 |\n",
            "|  3 | surface_total       |              7.22052 |\n",
            "|  4 | desc_hotel          |              4.57158 |\n",
            "|  5 | lat                 |              4.24151 |\n",
            "|  7 | desc_pileta|piscina |              2.87038 |\n",
            "|  2 | bathrooms_imputed   |              1.99113 |\n",
            "| 10 | desc_a(mm|m)enities |              1.13891 |\n",
            "| 12 | desc_suite          |              1.00912 |\n",
            "## devoto\n",
            "\n",
            "|    | column                |   feature_importance |\n",
            "|---:|:----------------------|---------------------:|\n",
            "|  0 | surface_covered       |             39.8012  |\n",
            "|  1 | surface_total         |             13.2946  |\n",
            "|  2 | lon                   |             10.358   |\n",
            "|  3 | desc_suite            |              8.34827 |\n",
            "|  4 | lat                   |              4.39835 |\n",
            "|  5 | bathrooms             |              2.27816 |\n",
            "|  9 | surface_total_imputed |              1.92851 |\n",
            "|  6 | covered               |              1.85049 |\n",
            "|  8 | start_day             |              1.6148  |\n",
            "| 12 | desc_baulera          |              1.50076 |\n"
          ]
        }
      ],
      "source": [
        "print(\"## Resto de CABA\\n\")\n",
        "solucion_caba = modelado(df_train_caba,df_test_caba)\n",
        "print(\"## La Plata\\n\")\n",
        "solucion_la_plata = modelado(df_train_la_plata,df_test_la_plata)\n",
        "print(\"## Puerto Madero y Catalinas\\n\")\n",
        "solucion_madero = modelado(df_train_madero,df_test_madero)\n",
        "print(\"## Corredor Norte\\n\")\n",
        "solucion_corredor_norte = modelado(df_train_corredor_norte,df_test_corredor_norte)\n",
        "print(\"## Corredor Sur\\n\")\n",
        "solucion_corredor_sur = modelado(df_train_corredor_sur,df_test_corredor_sur)\n",
        "print(\"## Caballito\\n\")\n",
        "solucion_caballito = modelado(df_train_caballito,df_test_caballito)\n",
        "print(\"## Palermo\\n\")\n",
        "solucion_palermo= modelado(df_train_palermo,df_test_palermo)\n",
        "print(\"## Belgrano\\n\")\n",
        "solucion_belgrano = modelado(df_train_belgrano,df_test_belgrano)\n",
        "print(\"## devoto\\n\")\n",
        "solucion_devoto = modelado(df_train_devoto,df_test_devoto)"
      ]
    },
    {
      "attachments": {},
      "cell_type": "markdown",
      "metadata": {},
      "source": [
        "## Entrega final"
      ]
    },
    {
      "cell_type": "code",
      "execution_count": 605,
      "metadata": {},
      "outputs": [],
      "source": [
        "pd.concat((solucion_caba,solucion_la_plata,\n",
        "           solucion_madero,\n",
        "           solucion_corredor_norte,\n",
        "           solucion_corredor_sur,\n",
        "           solucion_caballito,\n",
        "           solucion_palermo,\n",
        "           solucion_belgrano,\n",
        "           solucion_devoto)).to_csv('solucion.csv', index=True)"
      ]
    }
  ],
  "metadata": {
    "colab": {
      "provenance": []
    },
    "kernelspec": {
      "display_name": "Python 3",
      "name": "python3"
    },
    "language_info": {
      "codemirror_mode": {
        "name": "ipython",
        "version": 3
      },
      "file_extension": ".py",
      "mimetype": "text/x-python",
      "name": "python",
      "nbconvert_exporter": "python",
      "pygments_lexer": "ipython3",
      "version": "3.10.11"
    }
  },
  "nbformat": 4,
  "nbformat_minor": 0
}
