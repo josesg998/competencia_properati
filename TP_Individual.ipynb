{
  "cells": [
    {
      "cell_type": "code",
      "execution_count": 716,
      "metadata": {
        "id": "jw8ogMDOpvKP"
      },
      "outputs": [],
      "source": [
        "import pandas as pd\n",
        "import matplotlib.pyplot as plt\n",
        "import seaborn as sns\n",
        "import numpy as np\n",
        "\n",
        "import sklearn as sk\n",
        "from sklearn import model_selection\n",
        "from sklearn import ensemble\n",
        "from sklearn import metrics"
      ]
    },
    {
      "cell_type": "code",
      "execution_count": 717,
      "metadata": {
        "colab": {
          "base_uri": "https://localhost:8080/"
        },
        "id": "b8SSObwGJo2Q",
        "outputId": "db6e762f-a49f-4a4b-b085-75e2cae4feba"
      },
      "outputs": [],
      "source": [
        "# from google.colab import drive\n",
        "# drive.mount('/content/drive')"
      ]
    },
    {
      "attachments": {},
      "cell_type": "markdown",
      "metadata": {
        "id": "20D-m6GPyefp"
      },
      "source": [
        "# Lectura de datos"
      ]
    },
    {
      "cell_type": "code",
      "execution_count": 718,
      "metadata": {
        "id": "CtV0wOGsqJLC"
      },
      "outputs": [],
      "source": [
        "# DIR = \"/content/drive/MyDrive/Data Mining Properati/\"\n",
        "#df_train = pd.read_csv(DIR + \"properati_entrenamiento.zip\", index_col=\"id\")  \n",
        "#df_test = pd.read_csv(DIR + \"properati_a_predecir.zip\", index_col=\"id\")  \n",
        "df_test = pd.read_feather('bases/properati_a_predecir.ftr').set_index('id')\n",
        "df_train = pd.read_feather('bases/properati_entrenamiento.ftr').set_index('id')\n",
        "\n",
        "# df_test = pd.read_feather(DIR+'properati_a_predecir.ftr').set_index('id')\n",
        "# df_train = pd.read_feather(DIR+'properati_entrenamiento.ftr').set_index('id')\n",
        "# df_test.head()"
      ]
    },
    {
      "attachments": {},
      "cell_type": "markdown",
      "metadata": {
        "id": "byV0dQi-yiEd"
      },
      "source": [
        "# Entendimiento (magia parte 1 -- AID)"
      ]
    },
    {
      "cell_type": "code",
      "execution_count": 719,
      "metadata": {
        "colab": {
          "base_uri": "https://localhost:8080/",
          "height": 643
        },
        "id": "qRo-HRTkBlhc",
        "outputId": "ac30894a-255d-4c48-d40e-ec574314954a"
      },
      "outputs": [
        {
          "data": {
            "text/html": [
              "<div>\n",
              "<style scoped>\n",
              "    .dataframe tbody tr th:only-of-type {\n",
              "        vertical-align: middle;\n",
              "    }\n",
              "\n",
              "    .dataframe tbody tr th {\n",
              "        vertical-align: top;\n",
              "    }\n",
              "\n",
              "    .dataframe thead th {\n",
              "        text-align: right;\n",
              "    }\n",
              "</style>\n",
              "<table border=\"1\" class=\"dataframe\">\n",
              "  <thead>\n",
              "    <tr style=\"text-align: right;\">\n",
              "      <th></th>\n",
              "      <th>ad_type</th>\n",
              "      <th>start_date</th>\n",
              "      <th>end_date</th>\n",
              "      <th>created_on</th>\n",
              "      <th>lat</th>\n",
              "      <th>lon</th>\n",
              "      <th>l1</th>\n",
              "      <th>l2</th>\n",
              "      <th>l3</th>\n",
              "      <th>l4</th>\n",
              "      <th>...</th>\n",
              "      <th>bathrooms</th>\n",
              "      <th>surface_total</th>\n",
              "      <th>surface_covered</th>\n",
              "      <th>price</th>\n",
              "      <th>currency</th>\n",
              "      <th>price_period</th>\n",
              "      <th>title</th>\n",
              "      <th>description</th>\n",
              "      <th>property_type</th>\n",
              "      <th>operation_type</th>\n",
              "    </tr>\n",
              "    <tr>\n",
              "      <th>id</th>\n",
              "      <th></th>\n",
              "      <th></th>\n",
              "      <th></th>\n",
              "      <th></th>\n",
              "      <th></th>\n",
              "      <th></th>\n",
              "      <th></th>\n",
              "      <th></th>\n",
              "      <th></th>\n",
              "      <th></th>\n",
              "      <th></th>\n",
              "      <th></th>\n",
              "      <th></th>\n",
              "      <th></th>\n",
              "      <th></th>\n",
              "      <th></th>\n",
              "      <th></th>\n",
              "      <th></th>\n",
              "      <th></th>\n",
              "      <th></th>\n",
              "      <th></th>\n",
              "    </tr>\n",
              "  </thead>\n",
              "  <tbody>\n",
              "    <tr>\n",
              "      <th>556713</th>\n",
              "      <td>Propiedad</td>\n",
              "      <td>2019-11-29</td>\n",
              "      <td>9999-12-31</td>\n",
              "      <td>2019-11-29</td>\n",
              "      <td>-58.442399</td>\n",
              "      <td>-34.573623</td>\n",
              "      <td>Argentina</td>\n",
              "      <td>Capital Federal</td>\n",
              "      <td>Colegiales</td>\n",
              "      <td>None</td>\n",
              "      <td>...</td>\n",
              "      <td>2.0</td>\n",
              "      <td>NaN</td>\n",
              "      <td>NaN</td>\n",
              "      <td>NaN</td>\n",
              "      <td>USD</td>\n",
              "      <td>None</td>\n",
              "      <td>Departamento en Venta en Belgrano, Capital fed...</td>\n",
              "      <td>Sup total por escritura: 96,47 m2 (cubiertos: ...</td>\n",
              "      <td>Departamento</td>\n",
              "      <td>Venta</td>\n",
              "    </tr>\n",
              "    <tr>\n",
              "      <th>192912</th>\n",
              "      <td>Propiedad</td>\n",
              "      <td>2020-06-05</td>\n",
              "      <td>2020-06-08</td>\n",
              "      <td>2020-06-05</td>\n",
              "      <td>-58.430493</td>\n",
              "      <td>-34.606620</td>\n",
              "      <td>Argentina</td>\n",
              "      <td>Capital Federal</td>\n",
              "      <td>Almagro</td>\n",
              "      <td>None</td>\n",
              "      <td>...</td>\n",
              "      <td>2.0</td>\n",
              "      <td>77.0</td>\n",
              "      <td>67.0</td>\n",
              "      <td>NaN</td>\n",
              "      <td>USD</td>\n",
              "      <td>None</td>\n",
              "      <td>Departamento de 3 ambientes en Venta en Almagro</td>\n",
              "      <td>Excelente departamento de tres ambientes ampli...</td>\n",
              "      <td>Departamento</td>\n",
              "      <td>Venta</td>\n",
              "    </tr>\n",
              "    <tr>\n",
              "      <th>238224</th>\n",
              "      <td>Propiedad</td>\n",
              "      <td>2020-07-01</td>\n",
              "      <td>9999-12-31</td>\n",
              "      <td>2020-07-01</td>\n",
              "      <td>-58.491760</td>\n",
              "      <td>-34.574123</td>\n",
              "      <td>Argentina</td>\n",
              "      <td>Capital Federal</td>\n",
              "      <td>Villa Urquiza</td>\n",
              "      <td>None</td>\n",
              "      <td>...</td>\n",
              "      <td>1.0</td>\n",
              "      <td>60.0</td>\n",
              "      <td>55.0</td>\n",
              "      <td>NaN</td>\n",
              "      <td>USD</td>\n",
              "      <td>None</td>\n",
              "      <td>Andonaegui   2600 4°  -  - Departamento en Venta</td>\n",
              "      <td>Excelente 3 ambientes al frente con balcón. Vi...</td>\n",
              "      <td>Departamento</td>\n",
              "      <td>Venta</td>\n",
              "    </tr>\n",
              "    <tr>\n",
              "      <th>257134</th>\n",
              "      <td>Propiedad</td>\n",
              "      <td>2019-08-17</td>\n",
              "      <td>9999-12-31</td>\n",
              "      <td>2019-08-17</td>\n",
              "      <td>-58.420737</td>\n",
              "      <td>-34.631770</td>\n",
              "      <td>Argentina</td>\n",
              "      <td>Capital Federal</td>\n",
              "      <td>Boedo</td>\n",
              "      <td>None</td>\n",
              "      <td>...</td>\n",
              "      <td>1.0</td>\n",
              "      <td>74.0</td>\n",
              "      <td>47.0</td>\n",
              "      <td>NaN</td>\n",
              "      <td>USD</td>\n",
              "      <td>None</td>\n",
              "      <td>PH Venta Boedo 2 amb Patio</td>\n",
              "      <td>Corredor Responsable: MARCELO TRUJILLO -  CPI ...</td>\n",
              "      <td>PH</td>\n",
              "      <td>Venta</td>\n",
              "    </tr>\n",
              "    <tr>\n",
              "      <th>521738</th>\n",
              "      <td>Propiedad</td>\n",
              "      <td>2019-08-05</td>\n",
              "      <td>2019-08-31</td>\n",
              "      <td>2019-08-05</td>\n",
              "      <td>-58.429983</td>\n",
              "      <td>-34.607225</td>\n",
              "      <td>Argentina</td>\n",
              "      <td>Capital Federal</td>\n",
              "      <td>Almagro</td>\n",
              "      <td>None</td>\n",
              "      <td>...</td>\n",
              "      <td>1.0</td>\n",
              "      <td>66.0</td>\n",
              "      <td>64.0</td>\n",
              "      <td>NaN</td>\n",
              "      <td>USD</td>\n",
              "      <td>None</td>\n",
              "      <td>Venta 3 Ambientes - Almagro - Balcón - Ameniti...</td>\n",
              "      <td>Corredor Responsable: Marcelo Trujillo - CUCIC...</td>\n",
              "      <td>Departamento</td>\n",
              "      <td>Venta</td>\n",
              "    </tr>\n",
              "  </tbody>\n",
              "</table>\n",
              "<p>5 rows × 24 columns</p>\n",
              "</div>"
            ],
            "text/plain": [
              "          ad_type  start_date    end_date  created_on        lat        lon  \\\n",
              "id                                                                            \n",
              "556713  Propiedad  2019-11-29  9999-12-31  2019-11-29 -58.442399 -34.573623   \n",
              "192912  Propiedad  2020-06-05  2020-06-08  2020-06-05 -58.430493 -34.606620   \n",
              "238224  Propiedad  2020-07-01  9999-12-31  2020-07-01 -58.491760 -34.574123   \n",
              "257134  Propiedad  2019-08-17  9999-12-31  2019-08-17 -58.420737 -34.631770   \n",
              "521738  Propiedad  2019-08-05  2019-08-31  2019-08-05 -58.429983 -34.607225   \n",
              "\n",
              "               l1               l2             l3    l4  ...  bathrooms  \\\n",
              "id                                                       ...              \n",
              "556713  Argentina  Capital Federal     Colegiales  None  ...        2.0   \n",
              "192912  Argentina  Capital Federal        Almagro  None  ...        2.0   \n",
              "238224  Argentina  Capital Federal  Villa Urquiza  None  ...        1.0   \n",
              "257134  Argentina  Capital Federal          Boedo  None  ...        1.0   \n",
              "521738  Argentina  Capital Federal        Almagro  None  ...        1.0   \n",
              "\n",
              "        surface_total  surface_covered  price  currency  price_period  \\\n",
              "id                                                                      \n",
              "556713            NaN              NaN    NaN       USD          None   \n",
              "192912           77.0             67.0    NaN       USD          None   \n",
              "238224           60.0             55.0    NaN       USD          None   \n",
              "257134           74.0             47.0    NaN       USD          None   \n",
              "521738           66.0             64.0    NaN       USD          None   \n",
              "\n",
              "                                                    title  \\\n",
              "id                                                          \n",
              "556713  Departamento en Venta en Belgrano, Capital fed...   \n",
              "192912    Departamento de 3 ambientes en Venta en Almagro   \n",
              "238224   Andonaegui   2600 4°  -  - Departamento en Venta   \n",
              "257134                         PH Venta Boedo 2 amb Patio   \n",
              "521738  Venta 3 Ambientes - Almagro - Balcón - Ameniti...   \n",
              "\n",
              "                                              description property_type  \\\n",
              "id                                                                        \n",
              "556713  Sup total por escritura: 96,47 m2 (cubiertos: ...  Departamento   \n",
              "192912  Excelente departamento de tres ambientes ampli...  Departamento   \n",
              "238224  Excelente 3 ambientes al frente con balcón. Vi...  Departamento   \n",
              "257134  Corredor Responsable: MARCELO TRUJILLO -  CPI ...            PH   \n",
              "521738  Corredor Responsable: Marcelo Trujillo - CUCIC...  Departamento   \n",
              "\n",
              "       operation_type  \n",
              "id                     \n",
              "556713          Venta  \n",
              "192912          Venta  \n",
              "238224          Venta  \n",
              "257134          Venta  \n",
              "521738          Venta  \n",
              "\n",
              "[5 rows x 24 columns]"
            ]
          },
          "execution_count": 719,
          "metadata": {},
          "output_type": "execute_result"
        }
      ],
      "source": [
        "df_test.head()"
      ]
    },
    {
      "cell_type": "code",
      "execution_count": 720,
      "metadata": {
        "id": "IyTQYaHOC5q8"
      },
      "outputs": [],
      "source": [
        "prueba = df_test.copy()\n",
        "\n",
        "prueba.start_date = pd.to_datetime(prueba.start_date)\n",
        "\n",
        "prueba.loc[prueba.end_date=='9999-12-31','end_date'] = np.nan\n",
        "\n",
        "prueba.end_date = pd.to_datetime(prueba.end_date)\n",
        "prueba.created_on = pd.to_datetime(prueba.created_on)"
      ]
    },
    {
      "cell_type": "code",
      "execution_count": 721,
      "metadata": {
        "id": "ioQ5TWjnEOpi"
      },
      "outputs": [],
      "source": [
        "train = df_train.copy()\n",
        "\n",
        "train.start_date = pd.to_datetime(train.start_date)\n",
        "\n",
        "train.loc[train.end_date=='9999-12-31','end_date'] = np.nan\n",
        "\n",
        "train.end_date = pd.to_datetime(train.end_date)\n",
        "train.created_on = pd.to_datetime(train.created_on)"
      ]
    },
    {
      "cell_type": "code",
      "execution_count": 722,
      "metadata": {
        "colab": {
          "base_uri": "https://localhost:8080/",
          "height": 617
        },
        "id": "GR7BHaynDLlw",
        "outputId": "2f21e939-ff7a-4a1e-eaea-e76a79448d15"
      },
      "outputs": [
        {
          "data": {
            "image/png": "[encoded data removed]",
            "text/plain": [
              "<Figure size 1500x800 with 4 Axes>"
            ]
          },
          "metadata": {},
          "output_type": "display_data"
        }
      ],
      "source": [
        "fig, ax = plt.subplots(ncols=2,nrows=2,figsize=(15,8))\n",
        "prueba.start_date.hist(ax=ax[0,0])\n",
        "ax[0,0] = plt.title('test, start')\n",
        "prueba.end_date.hist(ax=ax[1,0])\n",
        "ax[1,0] = plt.title('test, end')\n",
        "train.start_date.hist(ax=ax[0,1])\n",
        "ax[0,1] = plt.title('train, start')\n",
        "train.end_date.hist(ax=ax[1,1])\n",
        "ax[1,1] = plt.title('train, end')\n"
      ]
    },
    {
      "attachments": {},
      "cell_type": "markdown",
      "metadata": {
        "id": "zjaTnfxkyvo8"
      },
      "source": [
        "# Limpieza y transformación de datos (magia parte 2 -- MD)"
      ]
    },
    {
      "cell_type": "code",
      "execution_count": 723,
      "metadata": {
        "id": "wLR_WTy_AUiy"
      },
      "outputs": [],
      "source": [
        "raro = df_test['surface_total']<df_test['surface_covered']\n",
        "\n",
        "df_test.loc[raro,'surface_total'], df_test.loc[raro,'surface_covered'] = df_test.loc[raro,'surface_covered'], df_test.loc[raro,'surface_total']"
      ]
    },
    {
      "cell_type": "code",
      "execution_count": 724,
      "metadata": {
        "id": "Rvrbq-GCAUiz"
      },
      "outputs": [],
      "source": [
        "raro = df_train['surface_total']<df_train['surface_covered']\n",
        "\n",
        "df_train.loc[raro,'surface_total'], df_train.loc[raro,'surface_covered'] = df_train.loc[raro,'surface_covered'], df_train.loc[raro,'surface_total']"
      ]
    },
    {
      "cell_type": "code",
      "execution_count": 725,
      "metadata": {
        "colab": {
          "base_uri": "https://localhost:8080/"
        },
        "id": "yPdDQB-TAUi1",
        "outputId": "179996f9-6edc-44ed-8b72-5a1781ec411f"
      },
      "outputs": [
        {
          "data": {
            "text/plain": [
              "(152720, 24)"
            ]
          },
          "execution_count": 725,
          "metadata": {},
          "output_type": "execute_result"
        }
      ],
      "source": [
        "en_amba_train = (df_train.lat>-60)&(df_train['lon']>-35.5)&(df_train['lon']<-34)& (df_train.lat<-56.5) & (df_train.l1=='Argentina')\n",
        "en_amba_test  =  (df_test.lat>-60)&(df_test['lon']>-35.5)&(df_test['lon']<-34)& (df_test.lat<-56.5) & (df_test.l1=='Argentina')\n",
        "\n",
        "# en_ballester = ((df_train.title.str.upper().str.contains('BALLESTER')) | (df_train.description.str.upper().str.contains('BALLESTER'))&\n",
        "#                 en_amba_train)\n",
        "# ballester = df_train[en_ballester]\n",
        "\n",
        "no_lugares = ['Bs.As. G.B.A. Zona Sur','Bs.As. G.B.A. Zona Norte','Bs.As. G.B.A. Zona Oeste']\n",
        "\n",
        "#Filtramos los que se encuentran dentro del rango de AMBA y que no son del conurbano\n",
        "df_train = df_train[en_amba_train & (~df_train.l2.isin(no_lugares))]\n",
        "\n",
        "#Pulimos la zona circundante a la plata para que coincida con el test\n",
        "df_train = df_train[(df_train.l2=='Capital Federal')|((df_train.l2=='Buenos Aires Interior')&(df_train.lat>-58.15)&(df_train.lon<-34.7)&(df_train.lon>-35.1))]\n",
        "\n",
        "# df_train = pd.concat((df_train,ballester),axis=0)\n",
        "\n",
        "df_train = df_train[(df_train.price_period=='Mensual')|(df_train.price_period.isnull())] #TODO ver si sacarlo \n",
        "\n",
        "df_train.loc[df_train.l2=='Buenos Aires Interior','l2'] = 'Bs.As. G.B.A. Zona Sur'\n",
        "\n",
        "df_train = df_train[df_train.operation_type=='Venta']\n",
        "\n",
        "df_test.loc[df_test.title.str.contains('en Las Cañitas'),'l3'] = \"Las Cañitas\"\n",
        "df_test.loc[((df_test.l3=='Puerto Madero')|(df_test.l3=='Catalinas')) & (df_test.lat<-58.4),'lat'] = np.nan\n",
        "\n",
        "df_train.loc[((df_train.l3=='Puerto Madero')|(df_train.l3=='Catalinas')) & (df_train.lat<-58.47),'l3'] = 'Villa Urquiza'\n",
        "df_train.loc[((df_train.l3=='Puerto Madero')|(df_train.l3=='Catalinas')) & (df_train.lat<-58.44),['lat','lon']] = np.nan\n",
        "\n",
        "df_train.shape"
      ]
    },
    {
      "cell_type": "code",
      "execution_count": 726,
      "metadata": {
        "id": "hTl8epCQAUi3"
      },
      "outputs": [],
      "source": [
        "df_test.loc[~en_amba_test,['lat','lon']] = np.nan"
      ]
    },
    {
      "cell_type": "code",
      "execution_count": 727,
      "metadata": {
        "id": "Yvg2k8SEAUi4"
      },
      "outputs": [],
      "source": [
        "cols_a_imputar = ['rooms','bedrooms','bathrooms','surface_total','surface_covered','lat','lon']\n",
        "# crear nuevas columnas para indicar los valores imputados\n",
        "for column in cols_a_imputar:\n",
        "    is_imputed_train = np.where(df_train[column].isnull(), True, False)\n",
        "    is_imputed_test = np.where(df_test[column].isnull(), True, False)\n",
        "    df_train[column + '_imputed'] = is_imputed_train\n",
        "    df_test[column + '_imputed'] = is_imputed_test"
      ]
    },
    {
      "cell_type": "code",
      "execution_count": 728,
      "metadata": {
        "id": "_0-9OWF-_Sbl"
      },
      "outputs": [],
      "source": [
        "#df_train['train_test'] = 'train'\n",
        "#df_test['train_test'] = 'test'\n",
        "\n",
        "#df = pd.concat((df_train,df_test),axis=0)\n",
        "\n",
        "#df.loc[(df.bathrooms.isna())&(df.description.str.contains('(dos|2) baños'))   ,'bathrooms'] = 2\n",
        "#df.loc[(df.bathrooms.isna())&(df.description.str.contains('(tres|3) baños'))  ,'bathrooms'] = 3\n",
        "#df.loc[(df.bathrooms.isna())&(df.description.str.contains('(cuatro|4) baños')),'bathrooms'] = 4\n",
        "#df.loc[(df.bathrooms.isna())&(df.description.str.contains('(cinco|5) baños')) ,'bathrooms'] = 5\n",
        "#df.loc[(df.bathrooms.isna())&(df.description.str.contains('(seis|6) baños'))  ,'bathrooms'] = 6\n",
        "#df.loc[(df.bathrooms.isna())&(df.description.str.contains('baño(\\ |\\.|\\,)'))  ,'bathrooms'] = 1\n",
        "\n",
        "#df_train = df[df.train_test=='train']\n",
        "#df_test = df[df.train_test=='test']\n",
        "\n",
        "#df_train.drop(columns='train_test',inplace=True)\n",
        "#df_test.drop(columns='train_test',inplace=True)"
      ]
    },
    {
      "cell_type": "code",
      "execution_count": 729,
      "metadata": {
        "id": "d9zhRKhQAUi5"
      },
      "outputs": [],
      "source": [
        "from sklearn.experimental import enable_iterative_imputer\n",
        "from sklearn.impute import IterativeImputer"
      ]
    },
    {
      "cell_type": "code",
      "execution_count": 730,
      "metadata": {
        "colab": {
          "base_uri": "https://localhost:8080/"
        },
        "id": "hih_mFzjAUi5",
        "outputId": "891717fa-987b-439b-dd90-447cd4b99456"
      },
      "outputs": [
        {
          "name": "stderr",
          "output_type": "stream",
          "text": [
            "c:\\Users\\Usuario\\AppData\\Local\\Programs\\Python\\Python310\\lib\\site-packages\\sklearn\\impute\\_iterative.py:785: ConvergenceWarning: [IterativeImputer] Early stopping criterion not reached.\n",
            "  warnings.warn(\n"
          ]
        }
      ],
      "source": [
        "imp = IterativeImputer(max_iter=10, random_state=42)  # tiene add_indicator\n",
        "\n",
        "cols_a_imputar = ['rooms','bedrooms','bathrooms', 'surface_total','surface_covered']\n",
        "df_test[cols_a_imputar] = imp.fit_transform(df_test[cols_a_imputar])\n",
        "df_train[cols_a_imputar] = imp.fit_transform(df_train[cols_a_imputar])\n",
        "\n",
        "cols_a_imputar = ['lat','lon']\n",
        "df_test[cols_a_imputar] = imp.fit_transform(df_test[cols_a_imputar])\n",
        "df_train[cols_a_imputar] = imp.fit_transform(df_train[cols_a_imputar])"
      ]
    },
    {
      "cell_type": "code",
      "execution_count": 731,
      "metadata": {
        "id": "9QyRXAdmAUi6"
      },
      "outputs": [],
      "source": [
        "\n",
        "df_test.rooms      = df_test.rooms.astype('int')\n",
        "df_train.rooms     = df_train.rooms.astype('int')\n",
        "df_test.bedrooms   = df_test.bedrooms.astype('int')\n",
        "df_train.bedrooms  = df_train.bedrooms.astype('int')\n",
        "df_test.bathrooms  = df_test.bathrooms.astype('int')\n",
        "df_train.bathrooms = df_train.bathrooms.astype('int')"
      ]
    },
    {
      "attachments": {},
      "cell_type": "markdown",
      "metadata": {},
      "source": [
        "## Filtrado"
      ]
    },
    {
      "cell_type": "code",
      "execution_count": 732,
      "metadata": {
        "colab": {
          "base_uri": "https://localhost:8080/",
          "height": 363
        },
        "id": "hXD_GgV-AUi7",
        "outputId": "47eeb67f-bf59-4eae-eb14-703368ceaa84"
      },
      "outputs": [
        {
          "data": {
            "text/html": [
              "<div>\n",
              "<style scoped>\n",
              "    .dataframe tbody tr th:only-of-type {\n",
              "        vertical-align: middle;\n",
              "    }\n",
              "\n",
              "    .dataframe tbody tr th {\n",
              "        vertical-align: top;\n",
              "    }\n",
              "\n",
              "    .dataframe thead th {\n",
              "        text-align: right;\n",
              "    }\n",
              "</style>\n",
              "<table border=\"1\" class=\"dataframe\">\n",
              "  <thead>\n",
              "    <tr style=\"text-align: right;\">\n",
              "      <th></th>\n",
              "      <th>property_type</th>\n",
              "      <th>property_type</th>\n",
              "    </tr>\n",
              "  </thead>\n",
              "  <tbody>\n",
              "    <tr>\n",
              "      <th>Casa</th>\n",
              "      <td>6878</td>\n",
              "      <td>NaN</td>\n",
              "    </tr>\n",
              "    <tr>\n",
              "      <th>Casa de campo</th>\n",
              "      <td>7</td>\n",
              "      <td>NaN</td>\n",
              "    </tr>\n",
              "    <tr>\n",
              "      <th>Cochera</th>\n",
              "      <td>2894</td>\n",
              "      <td>NaN</td>\n",
              "    </tr>\n",
              "    <tr>\n",
              "      <th>Departamento</th>\n",
              "      <td>97209</td>\n",
              "      <td>5426.0</td>\n",
              "    </tr>\n",
              "    <tr>\n",
              "      <th>Depósito</th>\n",
              "      <td>917</td>\n",
              "      <td>NaN</td>\n",
              "    </tr>\n",
              "    <tr>\n",
              "      <th>Local comercial</th>\n",
              "      <td>5940</td>\n",
              "      <td>NaN</td>\n",
              "    </tr>\n",
              "    <tr>\n",
              "      <th>Lote</th>\n",
              "      <td>8230</td>\n",
              "      <td>NaN</td>\n",
              "    </tr>\n",
              "    <tr>\n",
              "      <th>Oficina</th>\n",
              "      <td>4983</td>\n",
              "      <td>NaN</td>\n",
              "    </tr>\n",
              "    <tr>\n",
              "      <th>Otro</th>\n",
              "      <td>15649</td>\n",
              "      <td>NaN</td>\n",
              "    </tr>\n",
              "    <tr>\n",
              "      <th>PH</th>\n",
              "      <td>10013</td>\n",
              "      <td>574.0</td>\n",
              "    </tr>\n",
              "  </tbody>\n",
              "</table>\n",
              "</div>"
            ],
            "text/plain": [
              "                 property_type  property_type\n",
              "Casa                      6878            NaN\n",
              "Casa de campo                7            NaN\n",
              "Cochera                   2894            NaN\n",
              "Departamento             97209         5426.0\n",
              "Depósito                   917            NaN\n",
              "Local comercial           5940            NaN\n",
              "Lote                      8230            NaN\n",
              "Oficina                   4983            NaN\n",
              "Otro                     15649            NaN\n",
              "PH                       10013          574.0"
            ]
          },
          "execution_count": 732,
          "metadata": {},
          "output_type": "execute_result"
        }
      ],
      "source": [
        "pd.concat((df_train.property_type.value_counts(dropna=False),\n",
        "           df_test.property_type.value_counts(dropna=False)),axis=1).sort_index()"
      ]
    },
    {
      "cell_type": "code",
      "execution_count": 733,
      "metadata": {
        "id": "SYuM5rUQAUi7"
      },
      "outputs": [],
      "source": [
        "df_train = df_train[df_train.property_type.isin(['PH','Departamento'])]"
      ]
    },
    {
      "cell_type": "code",
      "execution_count": 734,
      "metadata": {
        "colab": {
          "base_uri": "https://localhost:8080/",
          "height": 771
        },
        "id": "K6sOe6yxAUi7",
        "outputId": "eac4c0e0-17a7-4ed0-b584-be20e7f7628e"
      },
      "outputs": [
        {
          "data": {
            "text/html": [
              "<div>\n",
              "<style scoped>\n",
              "    .dataframe tbody tr th:only-of-type {\n",
              "        vertical-align: middle;\n",
              "    }\n",
              "\n",
              "    .dataframe tbody tr th {\n",
              "        vertical-align: top;\n",
              "    }\n",
              "\n",
              "    .dataframe thead th {\n",
              "        text-align: right;\n",
              "    }\n",
              "</style>\n",
              "<table border=\"1\" class=\"dataframe\">\n",
              "  <thead>\n",
              "    <tr style=\"text-align: right;\">\n",
              "      <th></th>\n",
              "      <th>bathrooms</th>\n",
              "      <th>bathrooms</th>\n",
              "    </tr>\n",
              "  </thead>\n",
              "  <tbody>\n",
              "    <tr>\n",
              "      <th>1</th>\n",
              "      <td>72464</td>\n",
              "      <td>4605.0</td>\n",
              "    </tr>\n",
              "    <tr>\n",
              "      <th>2</th>\n",
              "      <td>23804</td>\n",
              "      <td>1227.0</td>\n",
              "    </tr>\n",
              "    <tr>\n",
              "      <th>3</th>\n",
              "      <td>6969</td>\n",
              "      <td>144.0</td>\n",
              "    </tr>\n",
              "    <tr>\n",
              "      <th>4</th>\n",
              "      <td>2254</td>\n",
              "      <td>20.0</td>\n",
              "    </tr>\n",
              "    <tr>\n",
              "      <th>0</th>\n",
              "      <td>915</td>\n",
              "      <td>NaN</td>\n",
              "    </tr>\n",
              "    <tr>\n",
              "      <th>5</th>\n",
              "      <td>633</td>\n",
              "      <td>1.0</td>\n",
              "    </tr>\n",
              "    <tr>\n",
              "      <th>6</th>\n",
              "      <td>113</td>\n",
              "      <td>3.0</td>\n",
              "    </tr>\n",
              "    <tr>\n",
              "      <th>7</th>\n",
              "      <td>28</td>\n",
              "      <td>NaN</td>\n",
              "    </tr>\n",
              "    <tr>\n",
              "      <th>8</th>\n",
              "      <td>12</td>\n",
              "      <td>NaN</td>\n",
              "    </tr>\n",
              "    <tr>\n",
              "      <th>11</th>\n",
              "      <td>4</td>\n",
              "      <td>NaN</td>\n",
              "    </tr>\n",
              "    <tr>\n",
              "      <th>17</th>\n",
              "      <td>3</td>\n",
              "      <td>NaN</td>\n",
              "    </tr>\n",
              "    <tr>\n",
              "      <th>10</th>\n",
              "      <td>3</td>\n",
              "      <td>NaN</td>\n",
              "    </tr>\n",
              "    <tr>\n",
              "      <th>16</th>\n",
              "      <td>3</td>\n",
              "      <td>NaN</td>\n",
              "    </tr>\n",
              "    <tr>\n",
              "      <th>37</th>\n",
              "      <td>3</td>\n",
              "      <td>NaN</td>\n",
              "    </tr>\n",
              "    <tr>\n",
              "      <th>9</th>\n",
              "      <td>3</td>\n",
              "      <td>NaN</td>\n",
              "    </tr>\n",
              "    <tr>\n",
              "      <th>33</th>\n",
              "      <td>2</td>\n",
              "      <td>NaN</td>\n",
              "    </tr>\n",
              "    <tr>\n",
              "      <th>14</th>\n",
              "      <td>2</td>\n",
              "      <td>NaN</td>\n",
              "    </tr>\n",
              "    <tr>\n",
              "      <th>73</th>\n",
              "      <td>2</td>\n",
              "      <td>NaN</td>\n",
              "    </tr>\n",
              "    <tr>\n",
              "      <th>144</th>\n",
              "      <td>1</td>\n",
              "      <td>NaN</td>\n",
              "    </tr>\n",
              "    <tr>\n",
              "      <th>62</th>\n",
              "      <td>1</td>\n",
              "      <td>NaN</td>\n",
              "    </tr>\n",
              "    <tr>\n",
              "      <th>18</th>\n",
              "      <td>1</td>\n",
              "      <td>NaN</td>\n",
              "    </tr>\n",
              "    <tr>\n",
              "      <th>13</th>\n",
              "      <td>1</td>\n",
              "      <td>NaN</td>\n",
              "    </tr>\n",
              "    <tr>\n",
              "      <th>20</th>\n",
              "      <td>1</td>\n",
              "      <td>NaN</td>\n",
              "    </tr>\n",
              "  </tbody>\n",
              "</table>\n",
              "</div>"
            ],
            "text/plain": [
              "     bathrooms  bathrooms\n",
              "1        72464     4605.0\n",
              "2        23804     1227.0\n",
              "3         6969      144.0\n",
              "4         2254       20.0\n",
              "0          915        NaN\n",
              "5          633        1.0\n",
              "6          113        3.0\n",
              "7           28        NaN\n",
              "8           12        NaN\n",
              "11           4        NaN\n",
              "17           3        NaN\n",
              "10           3        NaN\n",
              "16           3        NaN\n",
              "37           3        NaN\n",
              "9            3        NaN\n",
              "33           2        NaN\n",
              "14           2        NaN\n",
              "73           2        NaN\n",
              "144          1        NaN\n",
              "62           1        NaN\n",
              "18           1        NaN\n",
              "13           1        NaN\n",
              "20           1        NaN"
            ]
          },
          "execution_count": 734,
          "metadata": {},
          "output_type": "execute_result"
        }
      ],
      "source": [
        "pd.concat((df_train.bathrooms.value_counts(dropna=False),\n",
        "           df_test.bathrooms.value_counts(dropna=False)),axis=1)"
      ]
    },
    {
      "cell_type": "code",
      "execution_count": 735,
      "metadata": {
        "colab": {
          "base_uri": "https://localhost:8080/"
        },
        "id": "TP3MXGKzAUi8",
        "outputId": "b58cb15a-6a16-49ec-cb77-2c592fc47095"
      },
      "outputs": [
        {
          "data": {
            "text/plain": [
              "(107152, 31)"
            ]
          },
          "execution_count": 735,
          "metadata": {},
          "output_type": "execute_result"
        }
      ],
      "source": [
        "df_train = df_train[(df_train['bathrooms']<=6) | (df_train['bathrooms'].isnull())]\n",
        "df_train.shape"
      ]
    },
    {
      "cell_type": "code",
      "execution_count": 736,
      "metadata": {
        "colab": {
          "base_uri": "https://localhost:8080/",
          "height": 143
        },
        "id": "TKmNgjMOAUi8",
        "outputId": "6243a86f-1159-4f24-80d9-d7ff68c65e1f"
      },
      "outputs": [
        {
          "data": {
            "text/html": [
              "<div>\n",
              "<style scoped>\n",
              "    .dataframe tbody tr th:only-of-type {\n",
              "        vertical-align: middle;\n",
              "    }\n",
              "\n",
              "    .dataframe tbody tr th {\n",
              "        vertical-align: top;\n",
              "    }\n",
              "\n",
              "    .dataframe thead th {\n",
              "        text-align: right;\n",
              "    }\n",
              "</style>\n",
              "<table border=\"1\" class=\"dataframe\">\n",
              "  <thead>\n",
              "    <tr style=\"text-align: right;\">\n",
              "      <th></th>\n",
              "      <th>currency</th>\n",
              "      <th>currency</th>\n",
              "    </tr>\n",
              "  </thead>\n",
              "  <tbody>\n",
              "    <tr>\n",
              "      <th>USD</th>\n",
              "      <td>102422</td>\n",
              "      <td>6000.0</td>\n",
              "    </tr>\n",
              "    <tr>\n",
              "      <th>None</th>\n",
              "      <td>3910</td>\n",
              "      <td>NaN</td>\n",
              "    </tr>\n",
              "    <tr>\n",
              "      <th>ARS</th>\n",
              "      <td>820</td>\n",
              "      <td>NaN</td>\n",
              "    </tr>\n",
              "  </tbody>\n",
              "</table>\n",
              "</div>"
            ],
            "text/plain": [
              "      currency  currency\n",
              "USD     102422    6000.0\n",
              "None      3910       NaN\n",
              "ARS        820       NaN"
            ]
          },
          "execution_count": 736,
          "metadata": {},
          "output_type": "execute_result"
        }
      ],
      "source": [
        "pd.concat((df_train.currency.value_counts(dropna=False),\n",
        "           df_test.currency.value_counts(dropna=False)),axis=1)"
      ]
    },
    {
      "cell_type": "code",
      "execution_count": 737,
      "metadata": {
        "colab": {
          "base_uri": "https://localhost:8080/"
        },
        "id": "qnSDu6JmAUi8",
        "outputId": "dec91dfa-cf8d-4332-dd57-52ce67a23a14"
      },
      "outputs": [
        {
          "data": {
            "text/plain": [
              "(102422, 31)"
            ]
          },
          "execution_count": 737,
          "metadata": {},
          "output_type": "execute_result"
        }
      ],
      "source": [
        "df_train = df_train[df_train.currency=='USD'] #saco tambien los nulos porque no tienen precio\n",
        "df_train.shape"
      ]
    },
    {
      "cell_type": "code",
      "execution_count": 738,
      "metadata": {
        "colab": {
          "base_uri": "https://localhost:8080/",
          "height": 645
        },
        "id": "KbopOZ1jAUi9",
        "outputId": "e8e2729d-83ec-4950-82e3-9cf941bbbac6"
      },
      "outputs": [
        {
          "data": {
            "text/html": [
              "<div>\n",
              "<style scoped>\n",
              "    .dataframe tbody tr th:only-of-type {\n",
              "        vertical-align: middle;\n",
              "    }\n",
              "\n",
              "    .dataframe tbody tr th {\n",
              "        vertical-align: top;\n",
              "    }\n",
              "\n",
              "    .dataframe thead th {\n",
              "        text-align: right;\n",
              "    }\n",
              "</style>\n",
              "<table border=\"1\" class=\"dataframe\">\n",
              "  <thead>\n",
              "    <tr style=\"text-align: right;\">\n",
              "      <th></th>\n",
              "      <th>rooms</th>\n",
              "      <th>rooms</th>\n",
              "    </tr>\n",
              "  </thead>\n",
              "  <tbody>\n",
              "    <tr>\n",
              "      <th>1</th>\n",
              "      <td>20682</td>\n",
              "      <td>NaN</td>\n",
              "    </tr>\n",
              "    <tr>\n",
              "      <th>2</th>\n",
              "      <td>30582</td>\n",
              "      <td>2984.0</td>\n",
              "    </tr>\n",
              "    <tr>\n",
              "      <th>3</th>\n",
              "      <td>26593</td>\n",
              "      <td>3016.0</td>\n",
              "    </tr>\n",
              "    <tr>\n",
              "      <th>4</th>\n",
              "      <td>17756</td>\n",
              "      <td>NaN</td>\n",
              "    </tr>\n",
              "    <tr>\n",
              "      <th>5</th>\n",
              "      <td>4668</td>\n",
              "      <td>NaN</td>\n",
              "    </tr>\n",
              "    <tr>\n",
              "      <th>6</th>\n",
              "      <td>1264</td>\n",
              "      <td>NaN</td>\n",
              "    </tr>\n",
              "    <tr>\n",
              "      <th>7</th>\n",
              "      <td>481</td>\n",
              "      <td>NaN</td>\n",
              "    </tr>\n",
              "    <tr>\n",
              "      <th>8</th>\n",
              "      <td>258</td>\n",
              "      <td>NaN</td>\n",
              "    </tr>\n",
              "    <tr>\n",
              "      <th>9</th>\n",
              "      <td>46</td>\n",
              "      <td>NaN</td>\n",
              "    </tr>\n",
              "    <tr>\n",
              "      <th>10</th>\n",
              "      <td>45</td>\n",
              "      <td>NaN</td>\n",
              "    </tr>\n",
              "    <tr>\n",
              "      <th>11</th>\n",
              "      <td>11</td>\n",
              "      <td>NaN</td>\n",
              "    </tr>\n",
              "    <tr>\n",
              "      <th>12</th>\n",
              "      <td>19</td>\n",
              "      <td>NaN</td>\n",
              "    </tr>\n",
              "    <tr>\n",
              "      <th>14</th>\n",
              "      <td>5</td>\n",
              "      <td>NaN</td>\n",
              "    </tr>\n",
              "    <tr>\n",
              "      <th>15</th>\n",
              "      <td>5</td>\n",
              "      <td>NaN</td>\n",
              "    </tr>\n",
              "    <tr>\n",
              "      <th>16</th>\n",
              "      <td>3</td>\n",
              "      <td>NaN</td>\n",
              "    </tr>\n",
              "    <tr>\n",
              "      <th>18</th>\n",
              "      <td>1</td>\n",
              "      <td>NaN</td>\n",
              "    </tr>\n",
              "    <tr>\n",
              "      <th>20</th>\n",
              "      <td>1</td>\n",
              "      <td>NaN</td>\n",
              "    </tr>\n",
              "    <tr>\n",
              "      <th>21</th>\n",
              "      <td>1</td>\n",
              "      <td>NaN</td>\n",
              "    </tr>\n",
              "    <tr>\n",
              "      <th>30</th>\n",
              "      <td>1</td>\n",
              "      <td>NaN</td>\n",
              "    </tr>\n",
              "  </tbody>\n",
              "</table>\n",
              "</div>"
            ],
            "text/plain": [
              "    rooms   rooms\n",
              "1   20682     NaN\n",
              "2   30582  2984.0\n",
              "3   26593  3016.0\n",
              "4   17756     NaN\n",
              "5    4668     NaN\n",
              "6    1264     NaN\n",
              "7     481     NaN\n",
              "8     258     NaN\n",
              "9      46     NaN\n",
              "10     45     NaN\n",
              "11     11     NaN\n",
              "12     19     NaN\n",
              "14      5     NaN\n",
              "15      5     NaN\n",
              "16      3     NaN\n",
              "18      1     NaN\n",
              "20      1     NaN\n",
              "21      1     NaN\n",
              "30      1     NaN"
            ]
          },
          "execution_count": 738,
          "metadata": {},
          "output_type": "execute_result"
        }
      ],
      "source": [
        "pd.concat((df_train.rooms.value_counts(dropna=False),\n",
        "           df_test.rooms.value_counts(dropna=False)),axis=1).sort_index()"
      ]
    },
    {
      "cell_type": "code",
      "execution_count": 739,
      "metadata": {
        "colab": {
          "base_uri": "https://localhost:8080/"
        },
        "id": "Fzzqo43QAUi-",
        "outputId": "c3af62b8-c301-4ee9-e71d-86a4b5aedaef"
      },
      "outputs": [
        {
          "data": {
            "text/plain": [
              "(102422, 31)"
            ]
          },
          "execution_count": 739,
          "metadata": {},
          "output_type": "execute_result"
        }
      ],
      "source": [
        "# df_train = df_train[(df_train.rooms<7) |(df_train.rooms.isnull())]\n",
        "df_train.shape"
      ]
    },
    {
      "cell_type": "code",
      "execution_count": 740,
      "metadata": {
        "colab": {
          "base_uri": "https://localhost:8080/",
          "height": 677
        },
        "id": "4Tszl6jKAUi_",
        "outputId": "31540542-d429-49d6-9ad2-31c892776301"
      },
      "outputs": [
        {
          "data": {
            "text/html": [
              "<div>\n",
              "<style scoped>\n",
              "    .dataframe tbody tr th:only-of-type {\n",
              "        vertical-align: middle;\n",
              "    }\n",
              "\n",
              "    .dataframe tbody tr th {\n",
              "        vertical-align: top;\n",
              "    }\n",
              "\n",
              "    .dataframe thead th {\n",
              "        text-align: right;\n",
              "    }\n",
              "</style>\n",
              "<table border=\"1\" class=\"dataframe\">\n",
              "  <thead>\n",
              "    <tr style=\"text-align: right;\">\n",
              "      <th></th>\n",
              "      <th>bedrooms</th>\n",
              "      <th>bedrooms</th>\n",
              "    </tr>\n",
              "  </thead>\n",
              "  <tbody>\n",
              "    <tr>\n",
              "      <th>-1</th>\n",
              "      <td>2</td>\n",
              "      <td>NaN</td>\n",
              "    </tr>\n",
              "    <tr>\n",
              "      <th>0</th>\n",
              "      <td>15245</td>\n",
              "      <td>3.0</td>\n",
              "    </tr>\n",
              "    <tr>\n",
              "      <th>1</th>\n",
              "      <td>38133</td>\n",
              "      <td>3312.0</td>\n",
              "    </tr>\n",
              "    <tr>\n",
              "      <th>2</th>\n",
              "      <td>27821</td>\n",
              "      <td>2660.0</td>\n",
              "    </tr>\n",
              "    <tr>\n",
              "      <th>3</th>\n",
              "      <td>16558</td>\n",
              "      <td>23.0</td>\n",
              "    </tr>\n",
              "    <tr>\n",
              "      <th>4</th>\n",
              "      <td>3729</td>\n",
              "      <td>1.0</td>\n",
              "    </tr>\n",
              "    <tr>\n",
              "      <th>5</th>\n",
              "      <td>507</td>\n",
              "      <td>1.0</td>\n",
              "    </tr>\n",
              "    <tr>\n",
              "      <th>6</th>\n",
              "      <td>227</td>\n",
              "      <td>NaN</td>\n",
              "    </tr>\n",
              "    <tr>\n",
              "      <th>7</th>\n",
              "      <td>144</td>\n",
              "      <td>NaN</td>\n",
              "    </tr>\n",
              "    <tr>\n",
              "      <th>8</th>\n",
              "      <td>22</td>\n",
              "      <td>NaN</td>\n",
              "    </tr>\n",
              "    <tr>\n",
              "      <th>9</th>\n",
              "      <td>5</td>\n",
              "      <td>NaN</td>\n",
              "    </tr>\n",
              "    <tr>\n",
              "      <th>10</th>\n",
              "      <td>10</td>\n",
              "      <td>NaN</td>\n",
              "    </tr>\n",
              "    <tr>\n",
              "      <th>11</th>\n",
              "      <td>4</td>\n",
              "      <td>NaN</td>\n",
              "    </tr>\n",
              "    <tr>\n",
              "      <th>12</th>\n",
              "      <td>2</td>\n",
              "      <td>NaN</td>\n",
              "    </tr>\n",
              "    <tr>\n",
              "      <th>13</th>\n",
              "      <td>1</td>\n",
              "      <td>NaN</td>\n",
              "    </tr>\n",
              "    <tr>\n",
              "      <th>14</th>\n",
              "      <td>4</td>\n",
              "      <td>NaN</td>\n",
              "    </tr>\n",
              "    <tr>\n",
              "      <th>15</th>\n",
              "      <td>5</td>\n",
              "      <td>NaN</td>\n",
              "    </tr>\n",
              "    <tr>\n",
              "      <th>17</th>\n",
              "      <td>1</td>\n",
              "      <td>NaN</td>\n",
              "    </tr>\n",
              "    <tr>\n",
              "      <th>23</th>\n",
              "      <td>1</td>\n",
              "      <td>NaN</td>\n",
              "    </tr>\n",
              "    <tr>\n",
              "      <th>60</th>\n",
              "      <td>1</td>\n",
              "      <td>NaN</td>\n",
              "    </tr>\n",
              "  </tbody>\n",
              "</table>\n",
              "</div>"
            ],
            "text/plain": [
              "     bedrooms  bedrooms\n",
              "-1          2       NaN\n",
              " 0      15245       3.0\n",
              " 1      38133    3312.0\n",
              " 2      27821    2660.0\n",
              " 3      16558      23.0\n",
              " 4       3729       1.0\n",
              " 5        507       1.0\n",
              " 6        227       NaN\n",
              " 7        144       NaN\n",
              " 8         22       NaN\n",
              " 9          5       NaN\n",
              " 10        10       NaN\n",
              " 11         4       NaN\n",
              " 12         2       NaN\n",
              " 13         1       NaN\n",
              " 14         4       NaN\n",
              " 15         5       NaN\n",
              " 17         1       NaN\n",
              " 23         1       NaN\n",
              " 60         1       NaN"
            ]
          },
          "execution_count": 740,
          "metadata": {},
          "output_type": "execute_result"
        }
      ],
      "source": [
        "pd.concat((df_train.bedrooms.value_counts(dropna=False),\n",
        "           df_test.bedrooms.value_counts(dropna=False)),axis=1).sort_index()"
      ]
    },
    {
      "cell_type": "code",
      "execution_count": 741,
      "metadata": {
        "colab": {
          "base_uri": "https://localhost:8080/"
        },
        "id": "GWAl_drOAUjA",
        "outputId": "334da39d-0644-48ac-af5d-5dc1acf7994c"
      },
      "outputs": [
        {
          "data": {
            "text/plain": [
              "(102422, 31)"
            ]
          },
          "execution_count": 741,
          "metadata": {},
          "output_type": "execute_result"
        }
      ],
      "source": [
        "# df_train = df_train[(df_train.bedrooms<6) |(df_train.bedrooms.isnull())]\n",
        "df_train.shape"
      ]
    },
    {
      "cell_type": "code",
      "execution_count": 742,
      "metadata": {
        "colab": {
          "base_uri": "https://localhost:8080/",
          "height": 513
        },
        "id": "bl7Glh5wAUjB",
        "outputId": "086bca70-1b66-4ea3-b5b3-710f7240cfbb"
      },
      "outputs": [
        {
          "data": {
            "text/plain": [
              "<AxesSubplot: xlabel='surface_covered'>"
            ]
          },
          "execution_count": 742,
          "metadata": {},
          "output_type": "execute_result"
        },
        {
          "data": {
            "image/png": "[encoded data removed]",
            "text/plain": [
              "<Figure size 2000x800 with 2 Axes>"
            ]
          },
          "metadata": {},
          "output_type": "display_data"
        }
      ],
      "source": [
        "fig, ax = plt.subplots(nrows=2,figsize=(20,8))\n",
        "sns.boxplot(data=df_train,x='surface_covered',ax=ax[0])\n",
        "sns.boxplot(data=df_test,x='surface_covered',ax=ax[1])"
      ]
    },
    {
      "cell_type": "code",
      "execution_count": 743,
      "metadata": {
        "colab": {
          "base_uri": "https://localhost:8080/",
          "height": 112
        },
        "id": "DGeQDbr-AUjB",
        "outputId": "c87c2d92-b6af-43bf-f105-00adc5146b56"
      },
      "outputs": [
        {
          "data": {
            "text/html": [
              "<div>\n",
              "<style scoped>\n",
              "    .dataframe tbody tr th:only-of-type {\n",
              "        vertical-align: middle;\n",
              "    }\n",
              "\n",
              "    .dataframe tbody tr th {\n",
              "        vertical-align: top;\n",
              "    }\n",
              "\n",
              "    .dataframe thead th {\n",
              "        text-align: right;\n",
              "    }\n",
              "</style>\n",
              "<table border=\"1\" class=\"dataframe\">\n",
              "  <thead>\n",
              "    <tr style=\"text-align: right;\">\n",
              "      <th></th>\n",
              "      <th>count</th>\n",
              "      <th>mean</th>\n",
              "      <th>std</th>\n",
              "      <th>min</th>\n",
              "      <th>25%</th>\n",
              "      <th>50%</th>\n",
              "      <th>75%</th>\n",
              "      <th>max</th>\n",
              "    </tr>\n",
              "  </thead>\n",
              "  <tbody>\n",
              "    <tr>\n",
              "      <th>surface_covered</th>\n",
              "      <td>102422.0</td>\n",
              "      <td>87.192914</td>\n",
              "      <td>720.887917</td>\n",
              "      <td>-4432.263411</td>\n",
              "      <td>41.0</td>\n",
              "      <td>61.0</td>\n",
              "      <td>98.0</td>\n",
              "      <td>126062.0</td>\n",
              "    </tr>\n",
              "    <tr>\n",
              "      <th>surface_total</th>\n",
              "      <td>102422.0</td>\n",
              "      <td>138.086412</td>\n",
              "      <td>1024.722444</td>\n",
              "      <td>-149575.086421</td>\n",
              "      <td>43.0</td>\n",
              "      <td>69.0</td>\n",
              "      <td>130.0</td>\n",
              "      <td>126062.0</td>\n",
              "    </tr>\n",
              "  </tbody>\n",
              "</table>\n",
              "</div>"
            ],
            "text/plain": [
              "                    count        mean          std            min   25%   50%  \\\n",
              "surface_covered  102422.0   87.192914   720.887917   -4432.263411  41.0  61.0   \n",
              "surface_total    102422.0  138.086412  1024.722444 -149575.086421  43.0  69.0   \n",
              "\n",
              "                   75%       max  \n",
              "surface_covered   98.0  126062.0  \n",
              "surface_total    130.0  126062.0  "
            ]
          },
          "execution_count": 743,
          "metadata": {},
          "output_type": "execute_result"
        }
      ],
      "source": [
        "df_train[['surface_covered','surface_total']].describe().T"
      ]
    },
    {
      "cell_type": "code",
      "execution_count": 744,
      "metadata": {
        "colab": {
          "base_uri": "https://localhost:8080/",
          "height": 112
        },
        "id": "iBqBxMX3AUjB",
        "outputId": "0745d300-b3ab-41f6-fe6c-db8bce2c66c9"
      },
      "outputs": [
        {
          "data": {
            "text/html": [
              "<div>\n",
              "<style scoped>\n",
              "    .dataframe tbody tr th:only-of-type {\n",
              "        vertical-align: middle;\n",
              "    }\n",
              "\n",
              "    .dataframe tbody tr th {\n",
              "        vertical-align: top;\n",
              "    }\n",
              "\n",
              "    .dataframe thead th {\n",
              "        text-align: right;\n",
              "    }\n",
              "</style>\n",
              "<table border=\"1\" class=\"dataframe\">\n",
              "  <thead>\n",
              "    <tr style=\"text-align: right;\">\n",
              "      <th></th>\n",
              "      <th>count</th>\n",
              "      <th>mean</th>\n",
              "      <th>std</th>\n",
              "      <th>min</th>\n",
              "      <th>25%</th>\n",
              "      <th>50%</th>\n",
              "      <th>75%</th>\n",
              "      <th>max</th>\n",
              "    </tr>\n",
              "  </thead>\n",
              "  <tbody>\n",
              "    <tr>\n",
              "      <th>surface_covered</th>\n",
              "      <td>6000.0</td>\n",
              "      <td>76.894979</td>\n",
              "      <td>672.776879</td>\n",
              "      <td>10.0</td>\n",
              "      <td>45.0</td>\n",
              "      <td>59.000000</td>\n",
              "      <td>76.738295</td>\n",
              "      <td>47360.0</td>\n",
              "    </tr>\n",
              "    <tr>\n",
              "      <th>surface_total</th>\n",
              "      <td>6000.0</td>\n",
              "      <td>91.262284</td>\n",
              "      <td>751.427838</td>\n",
              "      <td>21.0</td>\n",
              "      <td>51.0</td>\n",
              "      <td>67.796492</td>\n",
              "      <td>91.032708</td>\n",
              "      <td>47360.0</td>\n",
              "    </tr>\n",
              "  </tbody>\n",
              "</table>\n",
              "</div>"
            ],
            "text/plain": [
              "                  count       mean         std   min   25%        50%  \\\n",
              "surface_covered  6000.0  76.894979  672.776879  10.0  45.0  59.000000   \n",
              "surface_total    6000.0  91.262284  751.427838  21.0  51.0  67.796492   \n",
              "\n",
              "                       75%      max  \n",
              "surface_covered  76.738295  47360.0  \n",
              "surface_total    91.032708  47360.0  "
            ]
          },
          "execution_count": 744,
          "metadata": {},
          "output_type": "execute_result"
        }
      ],
      "source": [
        "df_test[['surface_covered','surface_total']].describe().T"
      ]
    },
    {
      "cell_type": "code",
      "execution_count": 745,
      "metadata": {
        "colab": {
          "base_uri": "https://localhost:8080/"
        },
        "id": "bJG3o_KNAUjC",
        "outputId": "5611391c-dfef-444b-a10f-a24f634f618b"
      },
      "outputs": [
        {
          "data": {
            "text/plain": [
              "(100591, 31)"
            ]
          },
          "execution_count": 745,
          "metadata": {},
          "output_type": "execute_result"
        }
      ],
      "source": [
        "df_train = df_train[((df_train['surface_covered']>=20)&(df_train['surface_covered']<50000))|(df_train['surface_covered'].isnull())]\n",
        "df_train.shape"
      ]
    },
    {
      "cell_type": "code",
      "execution_count": 746,
      "metadata": {
        "colab": {
          "base_uri": "https://localhost:8080/",
          "height": 513
        },
        "id": "sKYNXHR8AUjC",
        "outputId": "5a7008aa-5053-4ed8-a8c3-5cbf043d926a"
      },
      "outputs": [
        {
          "data": {
            "text/plain": [
              "<AxesSubplot: xlabel='surface_total'>"
            ]
          },
          "execution_count": 746,
          "metadata": {},
          "output_type": "execute_result"
        },
        {
          "data": {
            "image/png": "[encoded data removed]",
            "text/plain": [
              "<Figure size 2000x800 with 2 Axes>"
            ]
          },
          "metadata": {},
          "output_type": "display_data"
        }
      ],
      "source": [
        "fig, ax = plt.subplots(nrows=2,figsize=(20,8))\n",
        "sns.boxplot(data=df_train,x='surface_total',ax=ax[0])\n",
        "sns.boxplot(data=df_test,x='surface_total',ax=ax[1])"
      ]
    },
    {
      "cell_type": "code",
      "execution_count": 747,
      "metadata": {
        "colab": {
          "base_uri": "https://localhost:8080/",
          "height": 112
        },
        "id": "C0D3rfy7AUjC",
        "outputId": "af10cfd2-60a8-4b93-daea-45ede8a03e3a"
      },
      "outputs": [
        {
          "data": {
            "text/html": [
              "<div>\n",
              "<style scoped>\n",
              "    .dataframe tbody tr th:only-of-type {\n",
              "        vertical-align: middle;\n",
              "    }\n",
              "\n",
              "    .dataframe tbody tr th {\n",
              "        vertical-align: top;\n",
              "    }\n",
              "\n",
              "    .dataframe thead th {\n",
              "        text-align: right;\n",
              "    }\n",
              "</style>\n",
              "<table border=\"1\" class=\"dataframe\">\n",
              "  <thead>\n",
              "    <tr style=\"text-align: right;\">\n",
              "      <th></th>\n",
              "      <th>count</th>\n",
              "      <th>mean</th>\n",
              "      <th>std</th>\n",
              "      <th>min</th>\n",
              "      <th>25%</th>\n",
              "      <th>50%</th>\n",
              "      <th>75%</th>\n",
              "      <th>max</th>\n",
              "    </tr>\n",
              "  </thead>\n",
              "  <tbody>\n",
              "    <tr>\n",
              "      <th>surface_covered</th>\n",
              "      <td>100591.0</td>\n",
              "      <td>85.257393</td>\n",
              "      <td>207.768667</td>\n",
              "      <td>20.000000</td>\n",
              "      <td>41.044627</td>\n",
              "      <td>62.0</td>\n",
              "      <td>100.0</td>\n",
              "      <td>31550.0</td>\n",
              "    </tr>\n",
              "    <tr>\n",
              "      <th>surface_total</th>\n",
              "      <td>100591.0</td>\n",
              "      <td>146.328567</td>\n",
              "      <td>580.711035</td>\n",
              "      <td>-6008.880032</td>\n",
              "      <td>43.000000</td>\n",
              "      <td>70.0</td>\n",
              "      <td>130.0</td>\n",
              "      <td>108960.0</td>\n",
              "    </tr>\n",
              "  </tbody>\n",
              "</table>\n",
              "</div>"
            ],
            "text/plain": [
              "                    count        mean         std          min        25%  \\\n",
              "surface_covered  100591.0   85.257393  207.768667    20.000000  41.044627   \n",
              "surface_total    100591.0  146.328567  580.711035 -6008.880032  43.000000   \n",
              "\n",
              "                  50%    75%       max  \n",
              "surface_covered  62.0  100.0   31550.0  \n",
              "surface_total    70.0  130.0  108960.0  "
            ]
          },
          "execution_count": 747,
          "metadata": {},
          "output_type": "execute_result"
        }
      ],
      "source": [
        "df_train[['surface_covered','surface_total']].describe().T"
      ]
    },
    {
      "cell_type": "code",
      "execution_count": 748,
      "metadata": {
        "colab": {
          "base_uri": "https://localhost:8080/",
          "height": 112
        },
        "id": "1Mj6fePWAUjD",
        "outputId": "b682b22f-9a49-4886-fe98-91524ea692aa"
      },
      "outputs": [
        {
          "data": {
            "text/html": [
              "<div>\n",
              "<style scoped>\n",
              "    .dataframe tbody tr th:only-of-type {\n",
              "        vertical-align: middle;\n",
              "    }\n",
              "\n",
              "    .dataframe tbody tr th {\n",
              "        vertical-align: top;\n",
              "    }\n",
              "\n",
              "    .dataframe thead th {\n",
              "        text-align: right;\n",
              "    }\n",
              "</style>\n",
              "<table border=\"1\" class=\"dataframe\">\n",
              "  <thead>\n",
              "    <tr style=\"text-align: right;\">\n",
              "      <th></th>\n",
              "      <th>count</th>\n",
              "      <th>mean</th>\n",
              "      <th>std</th>\n",
              "      <th>min</th>\n",
              "      <th>25%</th>\n",
              "      <th>50%</th>\n",
              "      <th>75%</th>\n",
              "      <th>max</th>\n",
              "    </tr>\n",
              "  </thead>\n",
              "  <tbody>\n",
              "    <tr>\n",
              "      <th>surface_covered</th>\n",
              "      <td>6000.0</td>\n",
              "      <td>76.894979</td>\n",
              "      <td>672.776879</td>\n",
              "      <td>10.0</td>\n",
              "      <td>45.0</td>\n",
              "      <td>59.000000</td>\n",
              "      <td>76.738295</td>\n",
              "      <td>47360.0</td>\n",
              "    </tr>\n",
              "    <tr>\n",
              "      <th>surface_total</th>\n",
              "      <td>6000.0</td>\n",
              "      <td>91.262284</td>\n",
              "      <td>751.427838</td>\n",
              "      <td>21.0</td>\n",
              "      <td>51.0</td>\n",
              "      <td>67.796492</td>\n",
              "      <td>91.032708</td>\n",
              "      <td>47360.0</td>\n",
              "    </tr>\n",
              "  </tbody>\n",
              "</table>\n",
              "</div>"
            ],
            "text/plain": [
              "                  count       mean         std   min   25%        50%  \\\n",
              "surface_covered  6000.0  76.894979  672.776879  10.0  45.0  59.000000   \n",
              "surface_total    6000.0  91.262284  751.427838  21.0  51.0  67.796492   \n",
              "\n",
              "                       75%      max  \n",
              "surface_covered  76.738295  47360.0  \n",
              "surface_total    91.032708  47360.0  "
            ]
          },
          "execution_count": 748,
          "metadata": {},
          "output_type": "execute_result"
        }
      ],
      "source": [
        "df_test[['surface_covered','surface_total']].describe().T"
      ]
    },
    {
      "cell_type": "code",
      "execution_count": 749,
      "metadata": {
        "colab": {
          "base_uri": "https://localhost:8080/"
        },
        "id": "L55ygcYWAUjD",
        "outputId": "7ef41292-1063-468f-ca69-e3ea70674d14"
      },
      "outputs": [
        {
          "data": {
            "text/plain": [
              "(95914, 31)"
            ]
          },
          "execution_count": 749,
          "metadata": {},
          "output_type": "execute_result"
        }
      ],
      "source": [
        "df_train = df_train[((df_train['surface_total']>=10)&(df_train['surface_total']<50000))|(df_train['surface_total'].isnull())]\n",
        "df_train.shape"
      ]
    },
    {
      "cell_type": "code",
      "execution_count": 750,
      "metadata": {
        "colab": {
          "base_uri": "https://localhost:8080/",
          "height": 112
        },
        "id": "wlCVJcLgAUjD",
        "outputId": "af381dbf-06db-48ae-f4cd-b02d16586d30"
      },
      "outputs": [
        {
          "data": {
            "text/html": [
              "<div>\n",
              "<style scoped>\n",
              "    .dataframe tbody tr th:only-of-type {\n",
              "        vertical-align: middle;\n",
              "    }\n",
              "\n",
              "    .dataframe tbody tr th {\n",
              "        vertical-align: top;\n",
              "    }\n",
              "\n",
              "    .dataframe thead th {\n",
              "        text-align: right;\n",
              "    }\n",
              "</style>\n",
              "<table border=\"1\" class=\"dataframe\">\n",
              "  <thead>\n",
              "    <tr style=\"text-align: right;\">\n",
              "      <th></th>\n",
              "      <th>count</th>\n",
              "      <th>mean</th>\n",
              "      <th>std</th>\n",
              "      <th>min</th>\n",
              "      <th>25%</th>\n",
              "      <th>50%</th>\n",
              "      <th>75%</th>\n",
              "      <th>max</th>\n",
              "    </tr>\n",
              "  </thead>\n",
              "  <tbody>\n",
              "    <tr>\n",
              "      <th>surface_covered</th>\n",
              "      <td>95914.0</td>\n",
              "      <td>82.577618</td>\n",
              "      <td>212.001841</td>\n",
              "      <td>20.0</td>\n",
              "      <td>41.0</td>\n",
              "      <td>60.0</td>\n",
              "      <td>91.0</td>\n",
              "      <td>31550.0</td>\n",
              "    </tr>\n",
              "    <tr>\n",
              "      <th>surface_total</th>\n",
              "      <td>95914.0</td>\n",
              "      <td>169.079044</td>\n",
              "      <td>457.650534</td>\n",
              "      <td>12.0</td>\n",
              "      <td>46.0</td>\n",
              "      <td>73.0</td>\n",
              "      <td>138.0</td>\n",
              "      <td>48170.0</td>\n",
              "    </tr>\n",
              "  </tbody>\n",
              "</table>\n",
              "</div>"
            ],
            "text/plain": [
              "                   count        mean         std   min   25%   50%    75%  \\\n",
              "surface_covered  95914.0   82.577618  212.001841  20.0  41.0  60.0   91.0   \n",
              "surface_total    95914.0  169.079044  457.650534  12.0  46.0  73.0  138.0   \n",
              "\n",
              "                     max  \n",
              "surface_covered  31550.0  \n",
              "surface_total    48170.0  "
            ]
          },
          "execution_count": 750,
          "metadata": {},
          "output_type": "execute_result"
        }
      ],
      "source": [
        "df_train[['surface_covered','surface_total']].describe().T"
      ]
    },
    {
      "cell_type": "code",
      "execution_count": 751,
      "metadata": {
        "colab": {
          "base_uri": "https://localhost:8080/",
          "height": 112
        },
        "id": "--asLNKiAUjE",
        "outputId": "3f3928fa-78ab-40e1-af74-88d71715a789"
      },
      "outputs": [
        {
          "data": {
            "text/html": [
              "<div>\n",
              "<style scoped>\n",
              "    .dataframe tbody tr th:only-of-type {\n",
              "        vertical-align: middle;\n",
              "    }\n",
              "\n",
              "    .dataframe tbody tr th {\n",
              "        vertical-align: top;\n",
              "    }\n",
              "\n",
              "    .dataframe thead th {\n",
              "        text-align: right;\n",
              "    }\n",
              "</style>\n",
              "<table border=\"1\" class=\"dataframe\">\n",
              "  <thead>\n",
              "    <tr style=\"text-align: right;\">\n",
              "      <th></th>\n",
              "      <th>count</th>\n",
              "      <th>mean</th>\n",
              "      <th>std</th>\n",
              "      <th>min</th>\n",
              "      <th>25%</th>\n",
              "      <th>50%</th>\n",
              "      <th>75%</th>\n",
              "      <th>max</th>\n",
              "    </tr>\n",
              "  </thead>\n",
              "  <tbody>\n",
              "    <tr>\n",
              "      <th>surface_covered</th>\n",
              "      <td>6000.0</td>\n",
              "      <td>76.894979</td>\n",
              "      <td>672.776879</td>\n",
              "      <td>10.0</td>\n",
              "      <td>45.0</td>\n",
              "      <td>59.000000</td>\n",
              "      <td>76.738295</td>\n",
              "      <td>47360.0</td>\n",
              "    </tr>\n",
              "    <tr>\n",
              "      <th>surface_total</th>\n",
              "      <td>6000.0</td>\n",
              "      <td>91.262284</td>\n",
              "      <td>751.427838</td>\n",
              "      <td>21.0</td>\n",
              "      <td>51.0</td>\n",
              "      <td>67.796492</td>\n",
              "      <td>91.032708</td>\n",
              "      <td>47360.0</td>\n",
              "    </tr>\n",
              "  </tbody>\n",
              "</table>\n",
              "</div>"
            ],
            "text/plain": [
              "                  count       mean         std   min   25%        50%  \\\n",
              "surface_covered  6000.0  76.894979  672.776879  10.0  45.0  59.000000   \n",
              "surface_total    6000.0  91.262284  751.427838  21.0  51.0  67.796492   \n",
              "\n",
              "                       75%      max  \n",
              "surface_covered  76.738295  47360.0  \n",
              "surface_total    91.032708  47360.0  "
            ]
          },
          "execution_count": 751,
          "metadata": {},
          "output_type": "execute_result"
        }
      ],
      "source": [
        "df_test[['surface_covered','surface_total']].describe().T"
      ]
    },
    {
      "cell_type": "code",
      "execution_count": 752,
      "metadata": {
        "colab": {
          "base_uri": "https://localhost:8080/"
        },
        "id": "zR27M3ovAUjE",
        "outputId": "82ab18bf-770c-4074-8733-567cf54c04a9"
      },
      "outputs": [
        {
          "data": {
            "text/plain": [
              "5000.0        1\n",
              "9500.0        1\n",
              "10000.0       5\n",
              "10500.0       2\n",
              "11111.0       1\n",
              "             ..\n",
              "9477000.0     3\n",
              "11111111.0    1\n",
              "12345678.0    1\n",
              "15011160.0    1\n",
              "32434232.0    1\n",
              "Name: price, Length: 6371, dtype: int64"
            ]
          },
          "execution_count": 752,
          "metadata": {},
          "output_type": "execute_result"
        }
      ],
      "source": [
        "df_train.price.value_counts().sort_index()"
      ]
    },
    {
      "attachments": {},
      "cell_type": "markdown",
      "metadata": {
        "id": "Yw6Mm3GEAUi2"
      },
      "source": [
        "## Imputación de nulos"
      ]
    },
    {
      "attachments": {},
      "cell_type": "markdown",
      "metadata": {
        "id": "Hq0rV6jxAUjF"
      },
      "source": [
        "## Armado de variables"
      ]
    },
    {
      "cell_type": "code",
      "execution_count": 753,
      "metadata": {
        "colab": {
          "base_uri": "https://localhost:8080/"
        },
        "id": "1nWJvsiiAUjF",
        "outputId": "72a03121-ca89-4e0c-991f-a6e80f107960"
      },
      "outputs": [
        {
          "name": "stderr",
          "output_type": "stream",
          "text": [
            "C:\\Users\\Usuario\\AppData\\Local\\Temp\\ipykernel_8936\\2937259013.py:24: UserWarning: This pattern is interpreted as a regular expression, and has match groups. To actually get the groups, use str.extract.\n",
            "  df[f\"desc_{c}\"] = df[\"description\"].str.contains(c,regex=True)\n",
            "C:\\Users\\Usuario\\AppData\\Local\\Temp\\ipykernel_8936\\2937259013.py:24: UserWarning: This pattern is interpreted as a regular expression, and has match groups. To actually get the groups, use str.extract.\n",
            "  df[f\"desc_{c}\"] = df[\"description\"].str.contains(c,regex=True)\n",
            "C:\\Users\\Usuario\\AppData\\Local\\Temp\\ipykernel_8936\\2937259013.py:24: UserWarning: This pattern is interpreted as a regular expression, and has match groups. To actually get the groups, use str.extract.\n",
            "  df[f\"desc_{c}\"] = df[\"description\"].str.contains(c,regex=True)\n",
            "C:\\Users\\Usuario\\AppData\\Local\\Temp\\ipykernel_8936\\2937259013.py:24: UserWarning: This pattern is interpreted as a regular expression, and has match groups. To actually get the groups, use str.extract.\n",
            "  df[f\"desc_{c}\"] = df[\"description\"].str.contains(c,regex=True)\n",
            "C:\\Users\\Usuario\\AppData\\Local\\Temp\\ipykernel_8936\\2937259013.py:24: UserWarning: This pattern is interpreted as a regular expression, and has match groups. To actually get the groups, use str.extract.\n",
            "  df[f\"desc_{c}\"] = df[\"description\"].str.contains(c,regex=True)\n"
          ]
        }
      ],
      "source": [
        "df = pd.concat((df_train,df_test),axis=0)\n",
        "\n",
        "df['bathrooms_rooms'] = df['bathrooms']/df['rooms']\n",
        "df['bedrooms_rooms'] = df['bedrooms']/df['rooms']\n",
        "df['covered'] = df['surface_covered']/df['surface_total']\n",
        "\n",
        "df['start_year']  = pd.to_datetime(df['start_date']).dt.year\n",
        "df['start_month'] = pd.to_datetime(df['start_date']).dt.month\n",
        "df['start_day'] = pd.to_datetime(df['start_date']).dt.month\n",
        "\n",
        "df['tiene_esp_abierto'] = 0\n",
        "df.loc[(df['surface_total']-df['surface_covered'])!=0,'tiene_esp_abierto'] = 1\n",
        "\n",
        "df['description'] = df[\"description\"].str.lower().str.replace('á','a').str.replace('é','e').str.replace('í','i').str.replace('ó','o').str.replace('ú','u')\n",
        "#df['title'] = df[\"title\"].str.lower().str.replace('á','a').str.replace('é','e').str.replace('í','i').str.replace('ó','o').str.replace('ú','u')\n",
        "\n",
        "for c in [\"barrio privado\", \"corredor\",'suite','monoambiente','amueblado',\n",
        "          'ascensor','parrilla','patio','balcon','jardin','linea (a|b|b|c|d|e|h)',\n",
        "          'obelisco','catedral','metrobus','barrancas','barrio chino','river',\n",
        "          'universidad','facultad','subte','tren','estacion','museo','parque','jacuzzi',\n",
        "          '(j|y)acu(z|zz)i','sho(pp|p)ing','country','terminal','avenida','av.','av',\n",
        "          'expensa','expensas','a(mm|m)enities','inmobiliaria','dueñ(o|a) direct(o|a)',\n",
        "          'balcon','pileta|piscina','escuela|colegio','centro','microcentro','lago']:\n",
        "    df[f\"desc_{c}\"] = df[\"description\"].str.contains(c,regex=True)\n",
        "    #df[f\"title_{c}\"] = df[\"title\"].str.contains(c,regex=True)"
      ]
    },
    {
      "cell_type": "code",
      "execution_count": 754,
      "metadata": {
        "colab": {
          "base_uri": "https://localhost:8080/"
        },
        "id": "h-bouR7TAUjF",
        "outputId": "ccf9ab46-2413-4d67-f437-40a0f61b9cda"
      },
      "outputs": [
        {
          "data": {
            "text/plain": [
              "0.000851     1\n",
              "0.004233     1\n",
              "0.004679     1\n",
              "0.005105     1\n",
              "0.007350     1\n",
              "            ..\n",
              "19.352209    2\n",
              "20.143609    1\n",
              "21.003826    2\n",
              "24.100608    1\n",
              "26.738608    1\n",
              "Name: covered, Length: 5677, dtype: int64"
            ]
          },
          "execution_count": 754,
          "metadata": {},
          "output_type": "execute_result"
        }
      ],
      "source": [
        "df.covered.value_counts(dropna=False).sort_index()"
      ]
    },
    {
      "cell_type": "code",
      "execution_count": 755,
      "metadata": {
        "id": "YnffhsjQAUjH"
      },
      "outputs": [],
      "source": [
        "df_train = df[~df.price.isnull()]\n",
        "df_test = df[df.price.isnull()]"
      ]
    },
    {
      "attachments": {},
      "cell_type": "markdown",
      "metadata": {
        "id": "FIBo-xtfAUjH"
      },
      "source": [
        "## Selección de atributos"
      ]
    },
    {
      "cell_type": "code",
      "execution_count": 756,
      "metadata": {
        "colab": {
          "base_uri": "https://localhost:8080/"
        },
        "id": "cM8kP8ryAUjH",
        "outputId": "d370bbb7-83a4-4688-d10a-ac1d93845b3a"
      },
      "outputs": [
        {
          "name": "stderr",
          "output_type": "stream",
          "text": [
            "C:\\Users\\Usuario\\AppData\\Local\\Temp\\ipykernel_8936\\2438721469.py:2: SettingWithCopyWarning: \n",
            "A value is trying to be set on a copy of a slice from a DataFrame\n",
            "\n",
            "See the caveats in the documentation: https://pandas.pydata.org/pandas-docs/stable/user_guide/indexing.html#returning-a-view-versus-a-copy\n",
            "  df_train.drop(cols,inplace=True,axis=1)\n",
            "C:\\Users\\Usuario\\AppData\\Local\\Temp\\ipykernel_8936\\2438721469.py:3: SettingWithCopyWarning: \n",
            "A value is trying to be set on a copy of a slice from a DataFrame\n",
            "\n",
            "See the caveats in the documentation: https://pandas.pydata.org/pandas-docs/stable/user_guide/indexing.html#returning-a-view-versus-a-copy\n",
            "  df_test.drop(cols,inplace=True,axis=1)\n"
          ]
        }
      ],
      "source": [
        "cols = ['l1','l5','l6','ad_type','currency','operation_type']\n",
        "df_train.drop(cols,inplace=True,axis=1)\n",
        "df_test.drop(cols,inplace=True,axis=1)"
      ]
    },
    {
      "attachments": {},
      "cell_type": "markdown",
      "metadata": {
        "id": "Zn72NpRYAUjI"
      },
      "source": [
        "## Dummies"
      ]
    },
    {
      "cell_type": "code",
      "execution_count": 757,
      "metadata": {
        "id": "0PINalyBAUjI"
      },
      "outputs": [],
      "source": [
        "cols_dummies = ['l2','l3','l4','property_type']\n",
        "train_dummies = pd.get_dummies(df_train[cols_dummies],dummy_na=True)\n",
        "df_train = pd.concat((df_train,train_dummies),axis=1)\n",
        "\n",
        "test_dummies = pd.get_dummies(df_test[cols_dummies],dummy_na=True)\n",
        "df_test = pd.concat((df_test,test_dummies),axis=1)"
      ]
    },
    {
      "cell_type": "code",
      "execution_count": 758,
      "metadata": {
        "id": "IO1A57JGAUjJ"
      },
      "outputs": [],
      "source": [
        "cols = pd.concat((df_train,df_test),axis=0,join='inner').columns\n",
        "\n",
        "df_train = df_train[cols]\n",
        "df_test = df_test[cols]"
      ]
    },
    {
      "attachments": {},
      "cell_type": "markdown",
      "metadata": {
        "id": "X_6u01XDAUjJ"
      },
      "source": [
        "## Borrado por varianza"
      ]
    },
    {
      "cell_type": "code",
      "execution_count": 759,
      "metadata": {
        "id": "icHGi5h1AUjJ"
      },
      "outputs": [],
      "source": [
        "from sklearn.feature_selection import VarianceThreshold"
      ]
    },
    {
      "cell_type": "code",
      "execution_count": 760,
      "metadata": {
        "id": "q2Tc8Wa7AUjJ"
      },
      "outputs": [],
      "source": [
        "# F = df_train[~df_train.price.isnull()]\n",
        "# X = F[F.select_dtypes(include=['float64' ,'float32','int64', 'int32', 'int16', 'int8', 'bool','uint8']).columns.drop('price')]\n",
        "# y = F['price']\n",
        "\n",
        "# print(X.shape)\n",
        "# fs = VarianceThreshold(threshold=0.005)\n",
        "# X_new = fs.fit_transform(X) # threshold = limite superior de la varianza\n",
        "# print(X_new.shape)\n",
        "\n",
        "# cols = list(X.columns[fs.get_support()])\n",
        "# cols.append('price')\n",
        "\n",
        "# df_train = df_train[cols]\n",
        "# df_test = df_test[cols]"
      ]
    },
    {
      "cell_type": "code",
      "execution_count": 761,
      "metadata": {},
      "outputs": [],
      "source": [
        "df_train.loc[((df_train.l3=='Puerto Madero')|(df_train.l3=='Catalinas'))&(df_train.lat<-58.42),'lat'] = -58.361"
      ]
    },
    {
      "cell_type": "code",
      "execution_count": 762,
      "metadata": {},
      "outputs": [],
      "source": [
        "df_test.loc[((df_test.l3=='Puerto Madero')|(df_test.l3=='Catalinas'))&(df_test.lat<-58.4),'lat'] = -58.361"
      ]
    },
    {
      "cell_type": "code",
      "execution_count": 763,
      "metadata": {},
      "outputs": [
        {
          "data": {
            "text/plain": [
              "<AxesSubplot: xlabel='lat', ylabel='lon'>"
            ]
          },
          "execution_count": 763,
          "metadata": {},
          "output_type": "execute_result"
        },
        {
          "data": {
            "image/png": "[encoded data removed]",
            "text/plain": [
              "<Figure size 640x480 with 1 Axes>"
            ]
          },
          "metadata": {},
          "output_type": "display_data"
        }
      ],
      "source": [
        "sns.scatterplot(data=df_train[(df_train.l3=='Puerto Madero')|(df_train.l3=='Catalinas')],x='lat',y='lon',hue='l3')"
      ]
    },
    {
      "cell_type": "code",
      "execution_count": 764,
      "metadata": {},
      "outputs": [],
      "source": [
        "df_test_la_plata = df_test[(df_test.lat>-58.2)&(df_test.lon<-34.8)]\n",
        "df_train_la_plata = df_train[(df_train.lat>-58.2)&(df_train.lon<-34)]\n",
        "\n",
        "df_test_caba = df_test[(df_test.lat<=-58.2)&(df_test.lon>=-34.8)&~((df_test.l3=='Puerto Madero')|(df_test.l3=='Catalinas'))]\n",
        "df_test_madero = df_test[(df_test.lat<=-58.2)&(df_test.lon>=-34.8)&((df_test.l3=='Puerto Madero')|(df_test.l3=='Catalinas'))]\n",
        "df_train_caba = df_train[~((df_train.lat>-58.2)&(df_train.lon<-34))&~((df_train.l3=='Puerto Madero')|(df_train.l3=='Catalinas'))]\n",
        "df_train_madero = df_train[~((df_train.lat>-58.2)&(df_train.lon<-34))&((df_train.l3=='Puerto Madero')|(df_train.l3=='Catalinas'))]\n"
      ]
    },
    {
      "cell_type": "code",
      "execution_count": 765,
      "metadata": {},
      "outputs": [],
      "source": [
        "def filtrado_columnas(df_test,df_train):\n",
        "    F = df_train[~df_train.price.isnull()]\n",
        "    X = F[F.select_dtypes(include=['float64' ,'float32','int64', 'int32', 'int16', 'int8', 'bool','uint8']).columns.drop('price')]\n",
        "    y = F['price']\n",
        "\n",
        "    clf = sk.ensemble.RandomForestRegressor(n_estimators=50, n_jobs=-1,random_state=42)\n",
        "    clf.fit(X, y)\n",
        "\n",
        "    importancias = pd.DataFrame({'atributo': clf.feature_names_in_, 'importancia': clf.feature_importances_})\n",
        "    cols = list(importancias[importancias['importancia']>0.0001].sort_values('importancia',ascending=False).reset_index(drop=True).atributo)\n",
        "\n",
        "    cols.append('price')\n",
        "\n",
        "    display(importancias.sort_values('importancia'))\n",
        "\n",
        "    df_train = df_train[cols]\n",
        "    df_test = df_test[cols]\n",
        "    return df_test, df_train"
      ]
    },
    {
      "cell_type": "code",
      "execution_count": 766,
      "metadata": {},
      "outputs": [],
      "source": [
        "# Funcion de limpieza (usada en la siguiente sección) que usa y_train\n",
        "def limpiar_fold(X_train, y_train, X_test):\n",
        "    ## TODO: limpiar los datos\n",
        "\n",
        "    return (X_train, y_train, X_test)"
      ]
    },
    {
      "attachments": {},
      "cell_type": "markdown",
      "metadata": {},
      "source": [
        "# Entrenamiento del modelo"
      ]
    },
    {
      "attachments": {},
      "cell_type": "markdown",
      "metadata": {},
      "source": [
        "## Territorio de Aprendizaje Automático\n",
        "☢☢☢☢☢☢ Se mira y no se toca ☢☢☢☢☢☢☢"
      ]
    },
    {
      "attachments": {},
      "cell_type": "markdown",
      "metadata": {},
      "source": [
        "### La Plata"
      ]
    },
    {
      "cell_type": "code",
      "execution_count": 767,
      "metadata": {},
      "outputs": [
        {
          "data": {
            "text/html": [
              "<div>\n",
              "<style scoped>\n",
              "    .dataframe tbody tr th:only-of-type {\n",
              "        vertical-align: middle;\n",
              "    }\n",
              "\n",
              "    .dataframe tbody tr th {\n",
              "        vertical-align: top;\n",
              "    }\n",
              "\n",
              "    .dataframe thead th {\n",
              "        text-align: right;\n",
              "    }\n",
              "</style>\n",
              "<table border=\"1\" class=\"dataframe\">\n",
              "  <thead>\n",
              "    <tr style=\"text-align: right;\">\n",
              "      <th></th>\n",
              "      <th>atributo</th>\n",
              "      <th>importancia</th>\n",
              "    </tr>\n",
              "  </thead>\n",
              "  <tbody>\n",
              "    <tr>\n",
              "      <th>65</th>\n",
              "      <td>l2_nan</td>\n",
              "      <td>0.000000</td>\n",
              "    </tr>\n",
              "    <tr>\n",
              "      <th>94</th>\n",
              "      <td>l3_Parque Centenario</td>\n",
              "      <td>0.000000</td>\n",
              "    </tr>\n",
              "    <tr>\n",
              "      <th>93</th>\n",
              "      <td>l3_Parque Avellaneda</td>\n",
              "      <td>0.000000</td>\n",
              "    </tr>\n",
              "    <tr>\n",
              "      <th>92</th>\n",
              "      <td>l3_Palermo</td>\n",
              "      <td>0.000000</td>\n",
              "    </tr>\n",
              "    <tr>\n",
              "      <th>91</th>\n",
              "      <td>l3_Once</td>\n",
              "      <td>0.000000</td>\n",
              "    </tr>\n",
              "    <tr>\n",
              "      <th>...</th>\n",
              "      <td>...</td>\n",
              "      <td>...</td>\n",
              "    </tr>\n",
              "    <tr>\n",
              "      <th>5</th>\n",
              "      <td>surface_total</td>\n",
              "      <td>0.053908</td>\n",
              "    </tr>\n",
              "    <tr>\n",
              "      <th>19</th>\n",
              "      <td>start_day</td>\n",
              "      <td>0.056989</td>\n",
              "    </tr>\n",
              "    <tr>\n",
              "      <th>1</th>\n",
              "      <td>lon</td>\n",
              "      <td>0.088047</td>\n",
              "    </tr>\n",
              "    <tr>\n",
              "      <th>2</th>\n",
              "      <td>rooms</td>\n",
              "      <td>0.106677</td>\n",
              "    </tr>\n",
              "    <tr>\n",
              "      <th>6</th>\n",
              "      <td>surface_covered</td>\n",
              "      <td>0.315435</td>\n",
              "    </tr>\n",
              "  </tbody>\n",
              "</table>\n",
              "<p>132 rows × 2 columns</p>\n",
              "</div>"
            ],
            "text/plain": [
              "                atributo  importancia\n",
              "65                l2_nan     0.000000\n",
              "94  l3_Parque Centenario     0.000000\n",
              "93  l3_Parque Avellaneda     0.000000\n",
              "92            l3_Palermo     0.000000\n",
              "91               l3_Once     0.000000\n",
              "..                   ...          ...\n",
              "5          surface_total     0.053908\n",
              "19             start_day     0.056989\n",
              "1                    lon     0.088047\n",
              "2                  rooms     0.106677\n",
              "6        surface_covered     0.315435\n",
              "\n",
              "[132 rows x 2 columns]"
            ]
          },
          "metadata": {},
          "output_type": "display_data"
        }
      ],
      "source": [
        "df_test_la_plata, df_train_la_plata = filtrado_columnas(df_test_la_plata,df_train_la_plata)"
      ]
    },
    {
      "cell_type": "code",
      "execution_count": 768,
      "metadata": {},
      "outputs": [],
      "source": [
        "df_train = df_train_la_plata.copy()\n",
        "\n",
        "# Datos para probar\n",
        "df_train = df_train.select_dtypes(include=['float64', 'int64', 'int32', 'int16', 'int8', 'bool'])\n",
        "\n",
        "X = df_train[df_train.columns.drop('price')]\n",
        "y = df_train['price']"
      ]
    },
    {
      "cell_type": "code",
      "execution_count": 769,
      "metadata": {},
      "outputs": [
        {
          "name": "stdout",
          "output_type": "stream",
          "text": [
            "fold=0, score_train=71057442.98238891 score_test=2544963800.6185913\n",
            "fold=1, score_train=92296299.79821949 score_test=104973634.10516052\n",
            "fold=2, score_train=108675687.04301603 score_test=547982124.3568027\n",
            "fold=3, score_train=96944558.11868683 score_test=726858111.451972\n",
            "fold=4, score_train=91732597.257481 score_test=295272026.0740694\n",
            "fold=5, score_train=87153188.47871496 score_test=784238133.2482708\n",
            "fold=6, score_train=99543956.97159794 score_test=673104942.4394323\n",
            "fold=7, score_train=106463939.14041483 score_test=71124648.32727548\n",
            "fold=8, score_train=110810943.56253973 score_test=84019612.50781764\n",
            "fold=9, score_train=97250667.00532101 score_test=286812900.69971806\n",
            "Train scores mean=96192928.03583807, std=11721301.768457321\n",
            "Test scores mean=611934993.382911, std=731929558.3366078\n"
          ]
        }
      ],
      "source": [
        "# Creamos el modelo\n",
        "reg = sk.ensemble.RandomForestRegressor(n_estimators=500, max_depth=5, n_jobs=-1, random_state=42)\n",
        "\n",
        "# Partimos en entrenamiento+prueba y validación\n",
        "X_train_test, X_val, y_train_test, y_val = sk.model_selection.train_test_split(X, y, test_size=0.2, random_state=42)\n",
        "\n",
        "scores_train = []\n",
        "scores_test = []\n",
        "# Validación cruzada, 10 folds, shuffle antes\n",
        "kf = sk.model_selection.KFold(n_splits=10, shuffle=True, random_state=42)\n",
        "for fold, (train_index, test_index) in enumerate(kf.split(X_train_test, y_train_test)):\n",
        "    X_train, X_test, y_train, y_test = X_train_test.iloc[train_index], X_train_test.iloc[test_index], y_train_test.iloc[train_index], y_train_test.iloc[test_index]\n",
        "\n",
        "    X_train, y_train, X_test = limpiar_fold(X_train, y_train, X_test)\n",
        "\n",
        "    # Entrenamos el modelo\n",
        "    reg.fit(X_train, y_train)\n",
        "\n",
        "    # Predecimos en train\n",
        "    y_pred = reg.predict(X_train)\n",
        "\n",
        "    # Medimos la performance de la predicción en test\n",
        "    score_train = sk.metrics.mean_squared_error(y_train, y_pred)\n",
        "    scores_train.append(score_train)\n",
        "\n",
        "    # Predecimos en test\n",
        "    y_pred = reg.predict(X_test)    \n",
        "\n",
        "    # Medimos la performance de la predicción en test\n",
        "    score_test = sk.metrics.mean_squared_error(y_test, y_pred)\n",
        "    scores_test.append(score_test)\n",
        "    \n",
        "    print(f\"{fold=}, {score_train=} {score_test=}\")\n",
        "    \n",
        "\n",
        "print(f\"Train scores mean={pd.Series(scores_train).mean()}, std={pd.Series(scores_train).std()}\")\n",
        "print(f\"Test scores mean={pd.Series(scores_test).mean()}, std={pd.Series(scores_test).std()}\")"
      ]
    },
    {
      "attachments": {},
      "cell_type": "markdown",
      "metadata": {},
      "source": [
        "#### Predicción para kaggle\n"
      ]
    },
    {
      "cell_type": "code",
      "execution_count": 770,
      "metadata": {},
      "outputs": [],
      "source": [
        "df_test = df_test_la_plata.copy()\n",
        "\n",
        "## Datos a predecir \n",
        "X = df_train[df_train.columns.drop('price')]\n",
        "y = df_train['price']\n",
        "X_prueba = df_test[df_train.columns.drop('price')] # cuidado:\n",
        "\n",
        "# Entrenamos el modelo con todos los datos\n",
        "reg.fit(X, y)\n",
        "\n",
        "# Predecimos\n",
        "df_test['price'] = reg.predict(X_prueba)\n",
        "\n",
        "# Grabamos\n",
        "# df_test['price'].to_csv('solucion_la_plata.csv', index=True)\n",
        "\n",
        "solucion_la_plata = df_test['price']"
      ]
    },
    {
      "cell_type": "code",
      "execution_count": 771,
      "metadata": {},
      "outputs": [
        {
          "data": {
            "text/html": [
              "<div>\n",
              "<style scoped>\n",
              "    .dataframe tbody tr th:only-of-type {\n",
              "        vertical-align: middle;\n",
              "    }\n",
              "\n",
              "    .dataframe tbody tr th {\n",
              "        vertical-align: top;\n",
              "    }\n",
              "\n",
              "    .dataframe thead th {\n",
              "        text-align: right;\n",
              "    }\n",
              "</style>\n",
              "<table border=\"1\" class=\"dataframe\">\n",
              "  <thead>\n",
              "    <tr style=\"text-align: right;\">\n",
              "      <th></th>\n",
              "      <th>column</th>\n",
              "      <th>feature_importance</th>\n",
              "    </tr>\n",
              "  </thead>\n",
              "  <tbody>\n",
              "    <tr>\n",
              "      <th>0</th>\n",
              "      <td>surface_covered</td>\n",
              "      <td>33.649296</td>\n",
              "    </tr>\n",
              "    <tr>\n",
              "      <th>1</th>\n",
              "      <td>rooms</td>\n",
              "      <td>10.036678</td>\n",
              "    </tr>\n",
              "    <tr>\n",
              "      <th>4</th>\n",
              "      <td>surface_total</td>\n",
              "      <td>7.809845</td>\n",
              "    </tr>\n",
              "    <tr>\n",
              "      <th>2</th>\n",
              "      <td>lon</td>\n",
              "      <td>7.688251</td>\n",
              "    </tr>\n",
              "    <tr>\n",
              "      <th>8</th>\n",
              "      <td>start_month</td>\n",
              "      <td>6.513865</td>\n",
              "    </tr>\n",
              "    <tr>\n",
              "      <th>3</th>\n",
              "      <td>start_day</td>\n",
              "      <td>4.946746</td>\n",
              "    </tr>\n",
              "    <tr>\n",
              "      <th>5</th>\n",
              "      <td>bedrooms</td>\n",
              "      <td>3.825807</td>\n",
              "    </tr>\n",
              "    <tr>\n",
              "      <th>10</th>\n",
              "      <td>surface_covered_imputed</td>\n",
              "      <td>3.760644</td>\n",
              "    </tr>\n",
              "    <tr>\n",
              "      <th>6</th>\n",
              "      <td>desc_parrilla</td>\n",
              "      <td>3.757008</td>\n",
              "    </tr>\n",
              "    <tr>\n",
              "      <th>11</th>\n",
              "      <td>lat</td>\n",
              "      <td>2.858100</td>\n",
              "    </tr>\n",
              "  </tbody>\n",
              "</table>\n",
              "</div>"
            ],
            "text/plain": [
              "                     column  feature_importance\n",
              "0           surface_covered           33.649296\n",
              "1                     rooms           10.036678\n",
              "4             surface_total            7.809845\n",
              "2                       lon            7.688251\n",
              "8               start_month            6.513865\n",
              "3                 start_day            4.946746\n",
              "5                  bedrooms            3.825807\n",
              "10  surface_covered_imputed            3.760644\n",
              "6             desc_parrilla            3.757008\n",
              "11                      lat            2.858100"
            ]
          },
          "execution_count": 771,
          "metadata": {},
          "output_type": "execute_result"
        }
      ],
      "source": [
        "pd.DataFrame(zip(df_train.columns.drop('price'), reg.feature_importances_*100), columns=[\"column\", \"feature_importance\"]).sort_values(by=\"feature_importance\", ascending=False).head(10)"
      ]
    },
    {
      "attachments": {},
      "cell_type": "markdown",
      "metadata": {},
      "source": [
        "### CABA"
      ]
    },
    {
      "cell_type": "code",
      "execution_count": 772,
      "metadata": {},
      "outputs": [
        {
          "data": {
            "text/html": [
              "<div>\n",
              "<style scoped>\n",
              "    .dataframe tbody tr th:only-of-type {\n",
              "        vertical-align: middle;\n",
              "    }\n",
              "\n",
              "    .dataframe tbody tr th {\n",
              "        vertical-align: top;\n",
              "    }\n",
              "\n",
              "    .dataframe thead th {\n",
              "        text-align: right;\n",
              "    }\n",
              "</style>\n",
              "<table border=\"1\" class=\"dataframe\">\n",
              "  <thead>\n",
              "    <tr style=\"text-align: right;\">\n",
              "      <th></th>\n",
              "      <th>atributo</th>\n",
              "      <th>importancia</th>\n",
              "    </tr>\n",
              "  </thead>\n",
              "  <tbody>\n",
              "    <tr>\n",
              "      <th>65</th>\n",
              "      <td>l2_nan</td>\n",
              "      <td>0.000000</td>\n",
              "    </tr>\n",
              "    <tr>\n",
              "      <th>100</th>\n",
              "      <td>l3_Puerto Madero</td>\n",
              "      <td>0.000000</td>\n",
              "    </tr>\n",
              "    <tr>\n",
              "      <th>76</th>\n",
              "      <td>l3_Catalinas</td>\n",
              "      <td>0.000000</td>\n",
              "    </tr>\n",
              "    <tr>\n",
              "      <th>64</th>\n",
              "      <td>l2_Capital Federal</td>\n",
              "      <td>0.000000</td>\n",
              "    </tr>\n",
              "    <tr>\n",
              "      <th>63</th>\n",
              "      <td>l2_Bs.As. G.B.A. Zona Sur</td>\n",
              "      <td>0.000000</td>\n",
              "    </tr>\n",
              "    <tr>\n",
              "      <th>...</th>\n",
              "      <td>...</td>\n",
              "      <td>...</td>\n",
              "    </tr>\n",
              "    <tr>\n",
              "      <th>5</th>\n",
              "      <td>surface_total</td>\n",
              "      <td>0.043241</td>\n",
              "    </tr>\n",
              "    <tr>\n",
              "      <th>0</th>\n",
              "      <td>lat</td>\n",
              "      <td>0.054040</td>\n",
              "    </tr>\n",
              "    <tr>\n",
              "      <th>11</th>\n",
              "      <td>surface_covered_imputed</td>\n",
              "      <td>0.056451</td>\n",
              "    </tr>\n",
              "    <tr>\n",
              "      <th>1</th>\n",
              "      <td>lon</td>\n",
              "      <td>0.183450</td>\n",
              "    </tr>\n",
              "    <tr>\n",
              "      <th>6</th>\n",
              "      <td>surface_covered</td>\n",
              "      <td>0.349547</td>\n",
              "    </tr>\n",
              "  </tbody>\n",
              "</table>\n",
              "<p>132 rows × 2 columns</p>\n",
              "</div>"
            ],
            "text/plain": [
              "                      atributo  importancia\n",
              "65                      l2_nan     0.000000\n",
              "100           l3_Puerto Madero     0.000000\n",
              "76                l3_Catalinas     0.000000\n",
              "64          l2_Capital Federal     0.000000\n",
              "63   l2_Bs.As. G.B.A. Zona Sur     0.000000\n",
              "..                         ...          ...\n",
              "5                surface_total     0.043241\n",
              "0                          lat     0.054040\n",
              "11     surface_covered_imputed     0.056451\n",
              "1                          lon     0.183450\n",
              "6              surface_covered     0.349547\n",
              "\n",
              "[132 rows x 2 columns]"
            ]
          },
          "metadata": {},
          "output_type": "display_data"
        }
      ],
      "source": [
        "df_test_caba, df_train_caba = filtrado_columnas(df_test_caba,df_train_caba)"
      ]
    },
    {
      "cell_type": "code",
      "execution_count": 773,
      "metadata": {},
      "outputs": [],
      "source": [
        "df_train = df_train_caba.copy()\n",
        "\n",
        "# Datos para probar\n",
        "df_train = df_train.select_dtypes(include=['float64', 'int64', 'int32', 'int16', 'int8', 'bool'])\n",
        "\n",
        "X = df_train[df_train.columns.drop('price')]\n",
        "y = df_train['price']"
      ]
    },
    {
      "cell_type": "code",
      "execution_count": 774,
      "metadata": {},
      "outputs": [
        {
          "name": "stdout",
          "output_type": "stream",
          "text": [
            "fold=0, score_train=25858208137.369267 score_test=26572017978.36957\n",
            "fold=1, score_train=27281085768.239708 score_test=13479081433.229498\n",
            "fold=2, score_train=17950722454.16101 score_test=214065129746.378\n",
            "fold=3, score_train=27218250299.89589 score_test=14160537452.190504\n",
            "fold=4, score_train=26912810581.034973 score_test=18043324592.00871\n",
            "fold=5, score_train=27004887015.94346 score_test=14744284398.542585\n",
            "fold=6, score_train=27272869449.212994 score_test=13691948926.665007\n",
            "fold=7, score_train=26649392949.776592 score_test=14688493955.440815\n",
            "fold=8, score_train=26062876421.285355 score_test=21728106183.4731\n",
            "fold=9, score_train=25230629895.149593 score_test=31884858480.506836\n",
            "Train scores mean=25744173297.206886, std=2823760852.610702\n",
            "Test scores mean=38305778314.68046, std=62069641398.95147\n"
          ]
        }
      ],
      "source": [
        "# Creamos el modelo\n",
        "reg = sk.ensemble.RandomForestRegressor(n_estimators=500, max_depth=5, n_jobs=-1, random_state=42)\n",
        "\n",
        "# Partimos en entrenamiento+prueba y validación\n",
        "X_train_test, X_val, y_train_test, y_val = sk.model_selection.train_test_split(X, y, test_size=0.2, random_state=42)\n",
        "\n",
        "scores_train = []\n",
        "scores_test = []\n",
        "# Validación cruzada, 10 folds, shuffle antes\n",
        "kf = sk.model_selection.KFold(n_splits=10, shuffle=True, random_state=42)\n",
        "for fold, (train_index, test_index) in enumerate(kf.split(X_train_test, y_train_test)):\n",
        "    X_train, X_test, y_train, y_test = X_train_test.iloc[train_index], X_train_test.iloc[test_index], y_train_test.iloc[train_index], y_train_test.iloc[test_index]\n",
        "\n",
        "    X_train, y_train, X_test = limpiar_fold(X_train, y_train, X_test)\n",
        "\n",
        "    # Entrenamos el modelo\n",
        "    reg.fit(X_train, y_train)\n",
        "\n",
        "    # Predecimos en train\n",
        "    y_pred = reg.predict(X_train)\n",
        "\n",
        "    # Medimos la performance de la predicción en test\n",
        "    score_train = sk.metrics.mean_squared_error(y_train, y_pred)\n",
        "    scores_train.append(score_train)\n",
        "\n",
        "    # Predecimos en test\n",
        "    y_pred = reg.predict(X_test)    \n",
        "\n",
        "    # Medimos la performance de la predicción en test\n",
        "    score_test = sk.metrics.mean_squared_error(y_test, y_pred)\n",
        "    scores_test.append(score_test)\n",
        "    \n",
        "    print(f\"{fold=}, {score_train=} {score_test=}\")\n",
        "    \n",
        "\n",
        "print(f\"Train scores mean={pd.Series(scores_train).mean()}, std={pd.Series(scores_train).std()}\")\n",
        "print(f\"Test scores mean={pd.Series(scores_test).mean()}, std={pd.Series(scores_test).std()}\")"
      ]
    },
    {
      "attachments": {},
      "cell_type": "markdown",
      "metadata": {},
      "source": [
        "#### Predicción para kaggle\n"
      ]
    },
    {
      "cell_type": "code",
      "execution_count": 775,
      "metadata": {},
      "outputs": [],
      "source": [
        "df_test = df_test_caba.copy()\n",
        "\n",
        "## Datos a predecir \n",
        "X = df_train[df_train.columns.drop('price')]\n",
        "y = df_train['price']\n",
        "X_prueba = df_test[df_train.columns.drop('price')] # cuidado:\n",
        "\n",
        "# Entrenamos el modelo con todos los datos\n",
        "reg.fit(X, y)\n",
        "\n",
        "# Predecimos\n",
        "df_test['price'] = reg.predict(X_prueba)\n",
        "\n",
        "# Grabamos\n",
        "# df_test['price'].to_csv('solucion_caba.csv', index=True)\n",
        "\n",
        "solucion_caba = df_test['price']"
      ]
    },
    {
      "cell_type": "code",
      "execution_count": 776,
      "metadata": {},
      "outputs": [
        {
          "data": {
            "text/html": [
              "<div>\n",
              "<style scoped>\n",
              "    .dataframe tbody tr th:only-of-type {\n",
              "        vertical-align: middle;\n",
              "    }\n",
              "\n",
              "    .dataframe tbody tr th {\n",
              "        vertical-align: top;\n",
              "    }\n",
              "\n",
              "    .dataframe thead th {\n",
              "        text-align: right;\n",
              "    }\n",
              "</style>\n",
              "<table border=\"1\" class=\"dataframe\">\n",
              "  <thead>\n",
              "    <tr style=\"text-align: right;\">\n",
              "      <th></th>\n",
              "      <th>column</th>\n",
              "      <th>feature_importance</th>\n",
              "    </tr>\n",
              "  </thead>\n",
              "  <tbody>\n",
              "    <tr>\n",
              "      <th>0</th>\n",
              "      <td>surface_covered</td>\n",
              "      <td>50.830071</td>\n",
              "    </tr>\n",
              "    <tr>\n",
              "      <th>1</th>\n",
              "      <td>lon</td>\n",
              "      <td>13.131624</td>\n",
              "    </tr>\n",
              "    <tr>\n",
              "      <th>2</th>\n",
              "      <td>surface_covered_imputed</td>\n",
              "      <td>8.039940</td>\n",
              "    </tr>\n",
              "    <tr>\n",
              "      <th>5</th>\n",
              "      <td>bathrooms</td>\n",
              "      <td>5.641379</td>\n",
              "    </tr>\n",
              "    <tr>\n",
              "      <th>6</th>\n",
              "      <td>bathrooms_rooms</td>\n",
              "      <td>3.272327</td>\n",
              "    </tr>\n",
              "    <tr>\n",
              "      <th>8</th>\n",
              "      <td>desc_a(mm|m)enities</td>\n",
              "      <td>2.478512</td>\n",
              "    </tr>\n",
              "    <tr>\n",
              "      <th>10</th>\n",
              "      <td>desc_pileta|piscina</td>\n",
              "      <td>2.302234</td>\n",
              "    </tr>\n",
              "    <tr>\n",
              "      <th>3</th>\n",
              "      <td>lat</td>\n",
              "      <td>1.815966</td>\n",
              "    </tr>\n",
              "    <tr>\n",
              "      <th>4</th>\n",
              "      <td>surface_total</td>\n",
              "      <td>1.737857</td>\n",
              "    </tr>\n",
              "    <tr>\n",
              "      <th>13</th>\n",
              "      <td>start_day</td>\n",
              "      <td>0.986893</td>\n",
              "    </tr>\n",
              "  </tbody>\n",
              "</table>\n",
              "</div>"
            ],
            "text/plain": [
              "                     column  feature_importance\n",
              "0           surface_covered           50.830071\n",
              "1                       lon           13.131624\n",
              "2   surface_covered_imputed            8.039940\n",
              "5                 bathrooms            5.641379\n",
              "6           bathrooms_rooms            3.272327\n",
              "8       desc_a(mm|m)enities            2.478512\n",
              "10      desc_pileta|piscina            2.302234\n",
              "3                       lat            1.815966\n",
              "4             surface_total            1.737857\n",
              "13                start_day            0.986893"
            ]
          },
          "execution_count": 776,
          "metadata": {},
          "output_type": "execute_result"
        }
      ],
      "source": [
        "pd.DataFrame(zip(df_train.columns.drop('price'), reg.feature_importances_*100), columns=[\"column\", \"feature_importance\"]).sort_values(by=\"feature_importance\", ascending=False).head(10)"
      ]
    },
    {
      "attachments": {},
      "cell_type": "markdown",
      "metadata": {},
      "source": [
        "### Puerto Madero y Catalinas"
      ]
    },
    {
      "cell_type": "code",
      "execution_count": 777,
      "metadata": {},
      "outputs": [
        {
          "data": {
            "text/html": [
              "<div>\n",
              "<style scoped>\n",
              "    .dataframe tbody tr th:only-of-type {\n",
              "        vertical-align: middle;\n",
              "    }\n",
              "\n",
              "    .dataframe tbody tr th {\n",
              "        vertical-align: top;\n",
              "    }\n",
              "\n",
              "    .dataframe thead th {\n",
              "        text-align: right;\n",
              "    }\n",
              "</style>\n",
              "<table border=\"1\" class=\"dataframe\">\n",
              "  <thead>\n",
              "    <tr style=\"text-align: right;\">\n",
              "      <th></th>\n",
              "      <th>atributo</th>\n",
              "      <th>importancia</th>\n",
              "    </tr>\n",
              "  </thead>\n",
              "  <tbody>\n",
              "    <tr>\n",
              "      <th>65</th>\n",
              "      <td>l2_nan</td>\n",
              "      <td>0.000000</td>\n",
              "    </tr>\n",
              "    <tr>\n",
              "      <th>95</th>\n",
              "      <td>l3_Parque Chacabuco</td>\n",
              "      <td>0.000000</td>\n",
              "    </tr>\n",
              "    <tr>\n",
              "      <th>94</th>\n",
              "      <td>l3_Parque Centenario</td>\n",
              "      <td>0.000000</td>\n",
              "    </tr>\n",
              "    <tr>\n",
              "      <th>93</th>\n",
              "      <td>l3_Parque Avellaneda</td>\n",
              "      <td>0.000000</td>\n",
              "    </tr>\n",
              "    <tr>\n",
              "      <th>92</th>\n",
              "      <td>l3_Palermo</td>\n",
              "      <td>0.000000</td>\n",
              "    </tr>\n",
              "    <tr>\n",
              "      <th>...</th>\n",
              "      <td>...</td>\n",
              "      <td>...</td>\n",
              "    </tr>\n",
              "    <tr>\n",
              "      <th>11</th>\n",
              "      <td>surface_covered_imputed</td>\n",
              "      <td>0.010890</td>\n",
              "    </tr>\n",
              "    <tr>\n",
              "      <th>0</th>\n",
              "      <td>lat</td>\n",
              "      <td>0.013914</td>\n",
              "    </tr>\n",
              "    <tr>\n",
              "      <th>1</th>\n",
              "      <td>lon</td>\n",
              "      <td>0.018298</td>\n",
              "    </tr>\n",
              "    <tr>\n",
              "      <th>5</th>\n",
              "      <td>surface_total</td>\n",
              "      <td>0.028182</td>\n",
              "    </tr>\n",
              "    <tr>\n",
              "      <th>6</th>\n",
              "      <td>surface_covered</td>\n",
              "      <td>0.842884</td>\n",
              "    </tr>\n",
              "  </tbody>\n",
              "</table>\n",
              "<p>132 rows × 2 columns</p>\n",
              "</div>"
            ],
            "text/plain": [
              "                   atributo  importancia\n",
              "65                   l2_nan     0.000000\n",
              "95      l3_Parque Chacabuco     0.000000\n",
              "94     l3_Parque Centenario     0.000000\n",
              "93     l3_Parque Avellaneda     0.000000\n",
              "92               l3_Palermo     0.000000\n",
              "..                      ...          ...\n",
              "11  surface_covered_imputed     0.010890\n",
              "0                       lat     0.013914\n",
              "1                       lon     0.018298\n",
              "5             surface_total     0.028182\n",
              "6           surface_covered     0.842884\n",
              "\n",
              "[132 rows x 2 columns]"
            ]
          },
          "metadata": {},
          "output_type": "display_data"
        }
      ],
      "source": [
        "df_test_madero, df_train_madero = filtrado_columnas(df_test_madero,df_train_madero)"
      ]
    },
    {
      "cell_type": "code",
      "execution_count": 778,
      "metadata": {},
      "outputs": [],
      "source": [
        "df_train = df_train_madero.copy()\n",
        "\n",
        "# Datos para probar\n",
        "df_train = df_train.select_dtypes(include=['float64', 'int64', 'int32', 'int16', 'int8', 'bool'])\n",
        "\n",
        "X = df_train[df_train.columns.drop('price')]\n",
        "y = df_train['price']"
      ]
    },
    {
      "cell_type": "code",
      "execution_count": 779,
      "metadata": {},
      "outputs": [
        {
          "name": "stdout",
          "output_type": "stream",
          "text": [
            "fold=0, score_train=42034900240.81426 score_test=67953510683.514755\n",
            "fold=1, score_train=42022865850.88539 score_test=79476769440.23868\n",
            "fold=2, score_train=41062842666.95677 score_test=67635659534.175255\n",
            "fold=3, score_train=43711764239.27918 score_test=47605000294.405945\n",
            "fold=4, score_train=41480493282.70702 score_test=75041114298.44252\n",
            "fold=5, score_train=40682502861.80443 score_test=54744351873.212616\n",
            "fold=6, score_train=39721815918.60108 score_test=156803622257.22418\n",
            "fold=7, score_train=42717938636.41616 score_test=72288303334.35072\n",
            "fold=8, score_train=37278010953.34236 score_test=182656315065.08295\n",
            "fold=9, score_train=39162700149.07435 score_test=114380583235.06572\n",
            "Train scores mean=40987583479.9881, std=1874358111.9190087\n",
            "Test scores mean=91858523001.57133, std=45070940886.66913\n"
          ]
        }
      ],
      "source": [
        "# Creamos el modelo\n",
        "reg = sk.ensemble.RandomForestRegressor(n_estimators=500, max_depth=5, n_jobs=-1, random_state=42)\n",
        "\n",
        "# Partimos en entrenamiento+prueba y validación\n",
        "X_train_test, X_val, y_train_test, y_val = sk.model_selection.train_test_split(X, y, test_size=0.2, random_state=42)\n",
        "\n",
        "scores_train = []\n",
        "scores_test = []\n",
        "# Validación cruzada, 10 folds, shuffle antes\n",
        "kf = sk.model_selection.KFold(n_splits=10, shuffle=True, random_state=42)\n",
        "for fold, (train_index, test_index) in enumerate(kf.split(X_train_test, y_train_test)):\n",
        "    X_train, X_test, y_train, y_test = X_train_test.iloc[train_index], X_train_test.iloc[test_index], y_train_test.iloc[train_index], y_train_test.iloc[test_index]\n",
        "\n",
        "    X_train, y_train, X_test = limpiar_fold(X_train, y_train, X_test)\n",
        "\n",
        "    # Entrenamos el modelo\n",
        "    reg.fit(X_train, y_train)\n",
        "\n",
        "    # Predecimos en train\n",
        "    y_pred = reg.predict(X_train)\n",
        "\n",
        "    # Medimos la performance de la predicción en test\n",
        "    score_train = sk.metrics.mean_squared_error(y_train, y_pred)\n",
        "    scores_train.append(score_train)\n",
        "\n",
        "    # Predecimos en test\n",
        "    y_pred = reg.predict(X_test)    \n",
        "\n",
        "    # Medimos la performance de la predicción en test\n",
        "    score_test = sk.metrics.mean_squared_error(y_test, y_pred)\n",
        "    scores_test.append(score_test)\n",
        "    \n",
        "    print(f\"{fold=}, {score_train=} {score_test=}\")\n",
        "    \n",
        "\n",
        "print(f\"Train scores mean={pd.Series(scores_train).mean()}, std={pd.Series(scores_train).std()}\")\n",
        "print(f\"Test scores mean={pd.Series(scores_test).mean()}, std={pd.Series(scores_test).std()}\")"
      ]
    },
    {
      "attachments": {},
      "cell_type": "markdown",
      "metadata": {},
      "source": [
        "#### Predicción para kaggle\n"
      ]
    },
    {
      "cell_type": "code",
      "execution_count": 780,
      "metadata": {},
      "outputs": [],
      "source": [
        "df_test = df_test_madero.copy()\n",
        "\n",
        "## Datos a predecir \n",
        "X = df_train[df_train.columns.drop('price')]\n",
        "y = df_train['price']\n",
        "X_prueba = df_test[df_train.columns.drop('price')] # cuidado:\n",
        "\n",
        "# Entrenamos el modelo con todos los datos\n",
        "reg.fit(X, y)\n",
        "\n",
        "# Predecimos\n",
        "df_test['price'] = reg.predict(X_prueba)\n",
        "\n",
        "# Grabamos\n",
        "# df_test['price'].to_csv('solucion_caba.csv', index=True)\n",
        "\n",
        "solucion_madero = df_test['price']"
      ]
    },
    {
      "cell_type": "code",
      "execution_count": 781,
      "metadata": {},
      "outputs": [
        {
          "data": {
            "text/html": [
              "<div>\n",
              "<style scoped>\n",
              "    .dataframe tbody tr th:only-of-type {\n",
              "        vertical-align: middle;\n",
              "    }\n",
              "\n",
              "    .dataframe tbody tr th {\n",
              "        vertical-align: top;\n",
              "    }\n",
              "\n",
              "    .dataframe thead th {\n",
              "        text-align: right;\n",
              "    }\n",
              "</style>\n",
              "<table border=\"1\" class=\"dataframe\">\n",
              "  <thead>\n",
              "    <tr style=\"text-align: right;\">\n",
              "      <th></th>\n",
              "      <th>column</th>\n",
              "      <th>feature_importance</th>\n",
              "    </tr>\n",
              "  </thead>\n",
              "  <tbody>\n",
              "    <tr>\n",
              "      <th>0</th>\n",
              "      <td>surface_covered</td>\n",
              "      <td>89.817797</td>\n",
              "    </tr>\n",
              "    <tr>\n",
              "      <th>1</th>\n",
              "      <td>surface_total</td>\n",
              "      <td>1.971587</td>\n",
              "    </tr>\n",
              "    <tr>\n",
              "      <th>2</th>\n",
              "      <td>lon</td>\n",
              "      <td>0.978095</td>\n",
              "    </tr>\n",
              "    <tr>\n",
              "      <th>5</th>\n",
              "      <td>covered</td>\n",
              "      <td>0.773090</td>\n",
              "    </tr>\n",
              "    <tr>\n",
              "      <th>7</th>\n",
              "      <td>rooms</td>\n",
              "      <td>0.772453</td>\n",
              "    </tr>\n",
              "    <tr>\n",
              "      <th>4</th>\n",
              "      <td>surface_covered_imputed</td>\n",
              "      <td>0.748393</td>\n",
              "    </tr>\n",
              "    <tr>\n",
              "      <th>6</th>\n",
              "      <td>bathrooms_rooms</td>\n",
              "      <td>0.652622</td>\n",
              "    </tr>\n",
              "    <tr>\n",
              "      <th>10</th>\n",
              "      <td>desc_pileta|piscina</td>\n",
              "      <td>0.567270</td>\n",
              "    </tr>\n",
              "    <tr>\n",
              "      <th>3</th>\n",
              "      <td>lat</td>\n",
              "      <td>0.547017</td>\n",
              "    </tr>\n",
              "    <tr>\n",
              "      <th>8</th>\n",
              "      <td>desc_ascensor</td>\n",
              "      <td>0.481166</td>\n",
              "    </tr>\n",
              "  </tbody>\n",
              "</table>\n",
              "</div>"
            ],
            "text/plain": [
              "                     column  feature_importance\n",
              "0           surface_covered           89.817797\n",
              "1             surface_total            1.971587\n",
              "2                       lon            0.978095\n",
              "5                   covered            0.773090\n",
              "7                     rooms            0.772453\n",
              "4   surface_covered_imputed            0.748393\n",
              "6           bathrooms_rooms            0.652622\n",
              "10      desc_pileta|piscina            0.567270\n",
              "3                       lat            0.547017\n",
              "8             desc_ascensor            0.481166"
            ]
          },
          "execution_count": 781,
          "metadata": {},
          "output_type": "execute_result"
        }
      ],
      "source": [
        "pd.DataFrame(zip(df_train.columns.drop('price'), reg.feature_importances_*100), columns=[\"column\", \"feature_importance\"]).sort_values(by=\"feature_importance\", ascending=False).head(10)"
      ]
    },
    {
      "attachments": {},
      "cell_type": "markdown",
      "metadata": {},
      "source": [
        "## Entrega final"
      ]
    },
    {
      "cell_type": "code",
      "execution_count": 782,
      "metadata": {},
      "outputs": [],
      "source": [
        "pd.concat((solucion_caba,solucion_la_plata,solucion_madero)).to_csv('solucion.csv', index=True)"
      ]
    }
  ],
  "metadata": {
    "colab": {
      "provenance": []
    },
    "kernelspec": {
      "display_name": "Python 3",
      "name": "python3"
    },
    "language_info": {
      "codemirror_mode": {
        "name": "ipython",
        "version": 3
      },
      "file_extension": ".py",
      "mimetype": "text/x-python",
      "name": "python",
      "nbconvert_exporter": "python",
      "pygments_lexer": "ipython3",
      "version": "3.10.11"
    }
  },
  "nbformat": 4,
  "nbformat_minor": 0
}
