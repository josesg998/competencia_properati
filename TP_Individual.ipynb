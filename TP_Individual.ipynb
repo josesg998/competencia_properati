{
  "cells": [
    {
      "cell_type": "code",
      "execution_count": 434,
      "metadata": {
        "id": "jw8ogMDOpvKP"
      },
      "outputs": [],
      "source": [
        "import pandas as pd\n",
        "import matplotlib.pyplot as plt\n",
        "import seaborn as sns\n",
        "import numpy as np\n",
        "\n",
        "import sklearn as sk\n",
        "from sklearn import model_selection\n",
        "from sklearn import ensemble\n",
        "from sklearn import metrics"
      ]
    },
    {
      "cell_type": "code",
      "execution_count": 435,
      "metadata": {
        "colab": {
          "base_uri": "https://localhost:8080/"
        },
        "id": "b8SSObwGJo2Q",
        "outputId": "db6e762f-a49f-4a4b-b085-75e2cae4feba"
      },
      "outputs": [],
      "source": [
        "# from google.colab import drive\n",
        "# drive.mount('/content/drive')"
      ]
    },
    {
      "attachments": {},
      "cell_type": "markdown",
      "metadata": {
        "id": "20D-m6GPyefp"
      },
      "source": [
        "# Lectura de datos"
      ]
    },
    {
      "cell_type": "code",
      "execution_count": 436,
      "metadata": {
        "id": "CtV0wOGsqJLC"
      },
      "outputs": [],
      "source": [
        "# DIR = \"/content/drive/MyDrive/Data Mining Properati/\"\n",
        "#df_train = pd.read_csv(DIR + \"properati_entrenamiento.zip\", index_col=\"id\")  \n",
        "#df_test = pd.read_csv(DIR + \"properati_a_predecir.zip\", index_col=\"id\")  \n",
        "df_test = pd.read_feather('bases/properati_a_predecir.ftr').set_index('id')\n",
        "df_train = pd.read_feather('bases/properati_entrenamiento.ftr').set_index('id')\n",
        "\n",
        "# df_test = pd.read_feather(DIR+'properati_a_predecir.ftr').set_index('id')\n",
        "# df_train = pd.read_feather(DIR+'properati_entrenamiento.ftr').set_index('id')\n",
        "# df_test.head()"
      ]
    },
    {
      "attachments": {},
      "cell_type": "markdown",
      "metadata": {
        "id": "byV0dQi-yiEd"
      },
      "source": [
        "# Entendimiento (magia parte 1 -- AID)"
      ]
    },
    {
      "cell_type": "code",
      "execution_count": 437,
      "metadata": {
        "colab": {
          "base_uri": "https://localhost:8080/",
          "height": 643
        },
        "id": "qRo-HRTkBlhc",
        "outputId": "ac30894a-255d-4c48-d40e-ec574314954a"
      },
      "outputs": [
        {
          "data": {
            "text/html": [
              "<div>\n",
              "<style scoped>\n",
              "    .dataframe tbody tr th:only-of-type {\n",
              "        vertical-align: middle;\n",
              "    }\n",
              "\n",
              "    .dataframe tbody tr th {\n",
              "        vertical-align: top;\n",
              "    }\n",
              "\n",
              "    .dataframe thead th {\n",
              "        text-align: right;\n",
              "    }\n",
              "</style>\n",
              "<table border=\"1\" class=\"dataframe\">\n",
              "  <thead>\n",
              "    <tr style=\"text-align: right;\">\n",
              "      <th></th>\n",
              "      <th>ad_type</th>\n",
              "      <th>start_date</th>\n",
              "      <th>end_date</th>\n",
              "      <th>created_on</th>\n",
              "      <th>lat</th>\n",
              "      <th>lon</th>\n",
              "      <th>l1</th>\n",
              "      <th>l2</th>\n",
              "      <th>l3</th>\n",
              "      <th>l4</th>\n",
              "      <th>...</th>\n",
              "      <th>bathrooms</th>\n",
              "      <th>surface_total</th>\n",
              "      <th>surface_covered</th>\n",
              "      <th>price</th>\n",
              "      <th>currency</th>\n",
              "      <th>price_period</th>\n",
              "      <th>title</th>\n",
              "      <th>description</th>\n",
              "      <th>property_type</th>\n",
              "      <th>operation_type</th>\n",
              "    </tr>\n",
              "    <tr>\n",
              "      <th>id</th>\n",
              "      <th></th>\n",
              "      <th></th>\n",
              "      <th></th>\n",
              "      <th></th>\n",
              "      <th></th>\n",
              "      <th></th>\n",
              "      <th></th>\n",
              "      <th></th>\n",
              "      <th></th>\n",
              "      <th></th>\n",
              "      <th></th>\n",
              "      <th></th>\n",
              "      <th></th>\n",
              "      <th></th>\n",
              "      <th></th>\n",
              "      <th></th>\n",
              "      <th></th>\n",
              "      <th></th>\n",
              "      <th></th>\n",
              "      <th></th>\n",
              "      <th></th>\n",
              "    </tr>\n",
              "  </thead>\n",
              "  <tbody>\n",
              "    <tr>\n",
              "      <th>556713</th>\n",
              "      <td>Propiedad</td>\n",
              "      <td>2019-11-29</td>\n",
              "      <td>9999-12-31</td>\n",
              "      <td>2019-11-29</td>\n",
              "      <td>-58.442399</td>\n",
              "      <td>-34.573623</td>\n",
              "      <td>Argentina</td>\n",
              "      <td>Capital Federal</td>\n",
              "      <td>Colegiales</td>\n",
              "      <td>None</td>\n",
              "      <td>...</td>\n",
              "      <td>2.0</td>\n",
              "      <td>NaN</td>\n",
              "      <td>NaN</td>\n",
              "      <td>NaN</td>\n",
              "      <td>USD</td>\n",
              "      <td>None</td>\n",
              "      <td>Departamento en Venta en Belgrano, Capital fed...</td>\n",
              "      <td>Sup total por escritura: 96,47 m2 (cubiertos: ...</td>\n",
              "      <td>Departamento</td>\n",
              "      <td>Venta</td>\n",
              "    </tr>\n",
              "    <tr>\n",
              "      <th>192912</th>\n",
              "      <td>Propiedad</td>\n",
              "      <td>2020-06-05</td>\n",
              "      <td>2020-06-08</td>\n",
              "      <td>2020-06-05</td>\n",
              "      <td>-58.430493</td>\n",
              "      <td>-34.606620</td>\n",
              "      <td>Argentina</td>\n",
              "      <td>Capital Federal</td>\n",
              "      <td>Almagro</td>\n",
              "      <td>None</td>\n",
              "      <td>...</td>\n",
              "      <td>2.0</td>\n",
              "      <td>77.0</td>\n",
              "      <td>67.0</td>\n",
              "      <td>NaN</td>\n",
              "      <td>USD</td>\n",
              "      <td>None</td>\n",
              "      <td>Departamento de 3 ambientes en Venta en Almagro</td>\n",
              "      <td>Excelente departamento de tres ambientes ampli...</td>\n",
              "      <td>Departamento</td>\n",
              "      <td>Venta</td>\n",
              "    </tr>\n",
              "    <tr>\n",
              "      <th>238224</th>\n",
              "      <td>Propiedad</td>\n",
              "      <td>2020-07-01</td>\n",
              "      <td>9999-12-31</td>\n",
              "      <td>2020-07-01</td>\n",
              "      <td>-58.491760</td>\n",
              "      <td>-34.574123</td>\n",
              "      <td>Argentina</td>\n",
              "      <td>Capital Federal</td>\n",
              "      <td>Villa Urquiza</td>\n",
              "      <td>None</td>\n",
              "      <td>...</td>\n",
              "      <td>1.0</td>\n",
              "      <td>60.0</td>\n",
              "      <td>55.0</td>\n",
              "      <td>NaN</td>\n",
              "      <td>USD</td>\n",
              "      <td>None</td>\n",
              "      <td>Andonaegui   2600 4°  -  - Departamento en Venta</td>\n",
              "      <td>Excelente 3 ambientes al frente con balcón. Vi...</td>\n",
              "      <td>Departamento</td>\n",
              "      <td>Venta</td>\n",
              "    </tr>\n",
              "    <tr>\n",
              "      <th>257134</th>\n",
              "      <td>Propiedad</td>\n",
              "      <td>2019-08-17</td>\n",
              "      <td>9999-12-31</td>\n",
              "      <td>2019-08-17</td>\n",
              "      <td>-58.420737</td>\n",
              "      <td>-34.631770</td>\n",
              "      <td>Argentina</td>\n",
              "      <td>Capital Federal</td>\n",
              "      <td>Boedo</td>\n",
              "      <td>None</td>\n",
              "      <td>...</td>\n",
              "      <td>1.0</td>\n",
              "      <td>74.0</td>\n",
              "      <td>47.0</td>\n",
              "      <td>NaN</td>\n",
              "      <td>USD</td>\n",
              "      <td>None</td>\n",
              "      <td>PH Venta Boedo 2 amb Patio</td>\n",
              "      <td>Corredor Responsable: MARCELO TRUJILLO -  CPI ...</td>\n",
              "      <td>PH</td>\n",
              "      <td>Venta</td>\n",
              "    </tr>\n",
              "    <tr>\n",
              "      <th>521738</th>\n",
              "      <td>Propiedad</td>\n",
              "      <td>2019-08-05</td>\n",
              "      <td>2019-08-31</td>\n",
              "      <td>2019-08-05</td>\n",
              "      <td>-58.429983</td>\n",
              "      <td>-34.607225</td>\n",
              "      <td>Argentina</td>\n",
              "      <td>Capital Federal</td>\n",
              "      <td>Almagro</td>\n",
              "      <td>None</td>\n",
              "      <td>...</td>\n",
              "      <td>1.0</td>\n",
              "      <td>66.0</td>\n",
              "      <td>64.0</td>\n",
              "      <td>NaN</td>\n",
              "      <td>USD</td>\n",
              "      <td>None</td>\n",
              "      <td>Venta 3 Ambientes - Almagro - Balcón - Ameniti...</td>\n",
              "      <td>Corredor Responsable: Marcelo Trujillo - CUCIC...</td>\n",
              "      <td>Departamento</td>\n",
              "      <td>Venta</td>\n",
              "    </tr>\n",
              "  </tbody>\n",
              "</table>\n",
              "<p>5 rows × 24 columns</p>\n",
              "</div>"
            ],
            "text/plain": [
              "          ad_type  start_date    end_date  created_on        lat        lon  \\\n",
              "id                                                                            \n",
              "556713  Propiedad  2019-11-29  9999-12-31  2019-11-29 -58.442399 -34.573623   \n",
              "192912  Propiedad  2020-06-05  2020-06-08  2020-06-05 -58.430493 -34.606620   \n",
              "238224  Propiedad  2020-07-01  9999-12-31  2020-07-01 -58.491760 -34.574123   \n",
              "257134  Propiedad  2019-08-17  9999-12-31  2019-08-17 -58.420737 -34.631770   \n",
              "521738  Propiedad  2019-08-05  2019-08-31  2019-08-05 -58.429983 -34.607225   \n",
              "\n",
              "               l1               l2             l3    l4  ...  bathrooms  \\\n",
              "id                                                       ...              \n",
              "556713  Argentina  Capital Federal     Colegiales  None  ...        2.0   \n",
              "192912  Argentina  Capital Federal        Almagro  None  ...        2.0   \n",
              "238224  Argentina  Capital Federal  Villa Urquiza  None  ...        1.0   \n",
              "257134  Argentina  Capital Federal          Boedo  None  ...        1.0   \n",
              "521738  Argentina  Capital Federal        Almagro  None  ...        1.0   \n",
              "\n",
              "        surface_total  surface_covered  price  currency  price_period  \\\n",
              "id                                                                      \n",
              "556713            NaN              NaN    NaN       USD          None   \n",
              "192912           77.0             67.0    NaN       USD          None   \n",
              "238224           60.0             55.0    NaN       USD          None   \n",
              "257134           74.0             47.0    NaN       USD          None   \n",
              "521738           66.0             64.0    NaN       USD          None   \n",
              "\n",
              "                                                    title  \\\n",
              "id                                                          \n",
              "556713  Departamento en Venta en Belgrano, Capital fed...   \n",
              "192912    Departamento de 3 ambientes en Venta en Almagro   \n",
              "238224   Andonaegui   2600 4°  -  - Departamento en Venta   \n",
              "257134                         PH Venta Boedo 2 amb Patio   \n",
              "521738  Venta 3 Ambientes - Almagro - Balcón - Ameniti...   \n",
              "\n",
              "                                              description property_type  \\\n",
              "id                                                                        \n",
              "556713  Sup total por escritura: 96,47 m2 (cubiertos: ...  Departamento   \n",
              "192912  Excelente departamento de tres ambientes ampli...  Departamento   \n",
              "238224  Excelente 3 ambientes al frente con balcón. Vi...  Departamento   \n",
              "257134  Corredor Responsable: MARCELO TRUJILLO -  CPI ...            PH   \n",
              "521738  Corredor Responsable: Marcelo Trujillo - CUCIC...  Departamento   \n",
              "\n",
              "       operation_type  \n",
              "id                     \n",
              "556713          Venta  \n",
              "192912          Venta  \n",
              "238224          Venta  \n",
              "257134          Venta  \n",
              "521738          Venta  \n",
              "\n",
              "[5 rows x 24 columns]"
            ]
          },
          "execution_count": 437,
          "metadata": {},
          "output_type": "execute_result"
        }
      ],
      "source": [
        "df_test.head()"
      ]
    },
    {
      "cell_type": "code",
      "execution_count": 438,
      "metadata": {
        "id": "IyTQYaHOC5q8"
      },
      "outputs": [],
      "source": [
        "prueba = df_test.copy()\n",
        "\n",
        "prueba.start_date = pd.to_datetime(prueba.start_date)\n",
        "\n",
        "prueba.loc[prueba.end_date=='9999-12-31','end_date'] = np.nan\n",
        "\n",
        "prueba.end_date = pd.to_datetime(prueba.end_date)\n",
        "prueba.created_on = pd.to_datetime(prueba.created_on)"
      ]
    },
    {
      "cell_type": "code",
      "execution_count": 439,
      "metadata": {
        "id": "ioQ5TWjnEOpi"
      },
      "outputs": [],
      "source": [
        "train = df_train.copy()\n",
        "\n",
        "train.start_date = pd.to_datetime(train.start_date)\n",
        "\n",
        "train.loc[train.end_date=='9999-12-31','end_date'] = np.nan\n",
        "\n",
        "train.end_date = pd.to_datetime(train.end_date)\n",
        "train.created_on = pd.to_datetime(train.created_on)"
      ]
    },
    {
      "cell_type": "code",
      "execution_count": 440,
      "metadata": {
        "colab": {
          "base_uri": "https://localhost:8080/",
          "height": 617
        },
        "id": "GR7BHaynDLlw",
        "outputId": "2f21e939-ff7a-4a1e-eaea-e76a79448d15"
      },
      "outputs": [
        {
          "data": {
            "image/png": "[encoded data removed]",
            "text/plain": [
              "<Figure size 1500x800 with 4 Axes>"
            ]
          },
          "metadata": {},
          "output_type": "display_data"
        }
      ],
      "source": [
        "fig, ax = plt.subplots(ncols=2,nrows=2,figsize=(15,8))\n",
        "prueba.start_date.hist(ax=ax[0,0])\n",
        "ax[0,0] = plt.title('test, start')\n",
        "prueba.end_date.hist(ax=ax[1,0])\n",
        "ax[1,0] = plt.title('test, end')\n",
        "train.start_date.hist(ax=ax[0,1])\n",
        "ax[0,1] = plt.title('train, start')\n",
        "train.end_date.hist(ax=ax[1,1])\n",
        "ax[1,1] = plt.title('train, end')\n"
      ]
    },
    {
      "attachments": {},
      "cell_type": "markdown",
      "metadata": {
        "id": "zjaTnfxkyvo8"
      },
      "source": [
        "# Limpieza y transformación de datos (magia parte 2 -- MD)"
      ]
    },
    {
      "cell_type": "code",
      "execution_count": 441,
      "metadata": {
        "id": "wLR_WTy_AUiy"
      },
      "outputs": [],
      "source": [
        "raro = df_test['surface_total']<df_test['surface_covered']\n",
        "\n",
        "df_test.loc[raro,'surface_total'], df_test.loc[raro,'surface_covered'] = df_test.loc[raro,'surface_covered'], df_test.loc[raro,'surface_total']"
      ]
    },
    {
      "cell_type": "code",
      "execution_count": 442,
      "metadata": {
        "id": "Rvrbq-GCAUiz"
      },
      "outputs": [],
      "source": [
        "raro = df_train['surface_total']<df_train['surface_covered']\n",
        "\n",
        "df_train.loc[raro,'surface_total'], df_train.loc[raro,'surface_covered'] = df_train.loc[raro,'surface_covered'], df_train.loc[raro,'surface_total']"
      ]
    },
    {
      "cell_type": "code",
      "execution_count": 443,
      "metadata": {
        "colab": {
          "base_uri": "https://localhost:8080/"
        },
        "id": "yPdDQB-TAUi1",
        "outputId": "179996f9-6edc-44ed-8b72-5a1781ec411f"
      },
      "outputs": [
        {
          "data": {
            "text/plain": [
              "(152720, 24)"
            ]
          },
          "execution_count": 443,
          "metadata": {},
          "output_type": "execute_result"
        }
      ],
      "source": [
        "en_amba_train = (df_train.lat>-60)&(df_train['lon']>-35.5)&(df_train['lon']<-34)& (df_train.lat<-56.5) & (df_train.l1=='Argentina')\n",
        "en_amba_test  =  (df_test.lat>-60)&(df_test['lon']>-35.5)&(df_test['lon']<-34)& (df_test.lat<-56.5) & (df_test.l1=='Argentina')\n",
        "\n",
        "# en_ballester = ((df_train.title.str.upper().str.contains('BALLESTER')) | (df_train.description.str.upper().str.contains('BALLESTER'))&\n",
        "#                 en_amba_train)\n",
        "# ballester = df_train[en_ballester]\n",
        "\n",
        "no_lugares = ['Bs.As. G.B.A. Zona Sur','Bs.As. G.B.A. Zona Norte','Bs.As. G.B.A. Zona Oeste']\n",
        "\n",
        "#Filtramos los que se encuentran dentro del rango de AMBA y que no son del conurbano\n",
        "df_train = df_train[en_amba_train & (~df_train.l2.isin(no_lugares))]\n",
        "\n",
        "#Pulimos la zona circundante a la plata para que coincida con el test\n",
        "df_train = df_train[(df_train.l2=='Capital Federal')|((df_train.l2=='Buenos Aires Interior')&(df_train.lat>-58.15)&(df_train.lon<-34.7)&(df_train.lon>-35.1))]\n",
        "\n",
        "# df_train = pd.concat((df_train,ballester),axis=0)\n",
        "\n",
        "df_train = df_train[(df_train.price_period=='Mensual')|(df_train.price_period.isnull())] #TODO ver si sacarlo \n",
        "\n",
        "df_train.loc[df_train.l2=='Buenos Aires Interior','l2'] = 'Bs.As. G.B.A. Zona Sur'\n",
        "\n",
        "df_train = df_train[df_train.operation_type=='Venta']\n",
        "\n",
        "df_test.loc[df_test.title.str.contains('en Las Cañitas'),'l3'] = \"Las Cañitas\"\n",
        "df_test.loc[((df_test.l3=='Puerto Madero')|(df_test.l3=='Catalinas')) & (df_test.lat<-58.4),'lat'] = np.nan\n",
        "\n",
        "df_train.loc[((df_train.l3=='Puerto Madero')|(df_train.l3=='Catalinas')) & (df_train.lat<-58.47),'l3'] = 'Villa Urquiza'\n",
        "df_train.loc[((df_train.l3=='Puerto Madero')|(df_train.l3=='Catalinas')) & (df_train.lat<-58.44),['lat','lon']] = np.nan\n",
        "\n",
        "df_train.shape"
      ]
    },
    {
      "cell_type": "code",
      "execution_count": 444,
      "metadata": {
        "id": "hTl8epCQAUi3"
      },
      "outputs": [],
      "source": [
        "df_test.loc[~en_amba_test,['lat','lon']] = np.nan"
      ]
    },
    {
      "cell_type": "code",
      "execution_count": 445,
      "metadata": {
        "id": "Yvg2k8SEAUi4"
      },
      "outputs": [],
      "source": [
        "cols_a_imputar = ['rooms','bedrooms','bathrooms','surface_total','surface_covered','lat','lon']\n",
        "# crear nuevas columnas para indicar los valores imputados\n",
        "for column in cols_a_imputar:\n",
        "    is_imputed_train = np.where(df_train[column].isnull(), True, False)\n",
        "    is_imputed_test = np.where(df_test[column].isnull(), True, False)\n",
        "    df_train[column + '_imputed'] = is_imputed_train\n",
        "    df_test[column + '_imputed'] = is_imputed_test"
      ]
    },
    {
      "cell_type": "code",
      "execution_count": 446,
      "metadata": {
        "id": "_0-9OWF-_Sbl"
      },
      "outputs": [],
      "source": [
        "#df_train['train_test'] = 'train'\n",
        "#df_test['train_test'] = 'test'\n",
        "\n",
        "#df = pd.concat((df_train,df_test),axis=0)\n",
        "\n",
        "#df.loc[(df.bathrooms.isna())&(df.description.str.contains('(dos|2) baños'))   ,'bathrooms'] = 2\n",
        "#df.loc[(df.bathrooms.isna())&(df.description.str.contains('(tres|3) baños'))  ,'bathrooms'] = 3\n",
        "#df.loc[(df.bathrooms.isna())&(df.description.str.contains('(cuatro|4) baños')),'bathrooms'] = 4\n",
        "#df.loc[(df.bathrooms.isna())&(df.description.str.contains('(cinco|5) baños')) ,'bathrooms'] = 5\n",
        "#df.loc[(df.bathrooms.isna())&(df.description.str.contains('(seis|6) baños'))  ,'bathrooms'] = 6\n",
        "#df.loc[(df.bathrooms.isna())&(df.description.str.contains('baño(\\ |\\.|\\,)'))  ,'bathrooms'] = 1\n",
        "\n",
        "#df_train = df[df.train_test=='train']\n",
        "#df_test = df[df.train_test=='test']\n",
        "\n",
        "#df_train.drop(columns='train_test',inplace=True)\n",
        "#df_test.drop(columns='train_test',inplace=True)"
      ]
    },
    {
      "cell_type": "code",
      "execution_count": 447,
      "metadata": {
        "id": "d9zhRKhQAUi5"
      },
      "outputs": [],
      "source": [
        "from sklearn.experimental import enable_iterative_imputer\n",
        "from sklearn.impute import IterativeImputer"
      ]
    },
    {
      "cell_type": "code",
      "execution_count": 448,
      "metadata": {
        "colab": {
          "base_uri": "https://localhost:8080/"
        },
        "id": "hih_mFzjAUi5",
        "outputId": "891717fa-987b-439b-dd90-447cd4b99456"
      },
      "outputs": [
        {
          "name": "stderr",
          "output_type": "stream",
          "text": [
            "c:\\Users\\Usuario\\AppData\\Local\\Programs\\Python\\Python310\\lib\\site-packages\\sklearn\\impute\\_iterative.py:785: ConvergenceWarning: [IterativeImputer] Early stopping criterion not reached.\n",
            "  warnings.warn(\n"
          ]
        }
      ],
      "source": [
        "imp = IterativeImputer(max_iter=10, random_state=42)  # tiene add_indicator\n",
        "\n",
        "cols_a_imputar = ['rooms','bedrooms','bathrooms', 'surface_total','surface_covered']\n",
        "df_test[cols_a_imputar] = imp.fit_transform(df_test[cols_a_imputar])\n",
        "df_train[cols_a_imputar] = imp.fit_transform(df_train[cols_a_imputar])\n",
        "\n",
        "cols_a_imputar = ['lat','lon']\n",
        "df_test[cols_a_imputar] = imp.fit_transform(df_test[cols_a_imputar])\n",
        "df_train[cols_a_imputar] = imp.fit_transform(df_train[cols_a_imputar])"
      ]
    },
    {
      "cell_type": "code",
      "execution_count": 449,
      "metadata": {
        "id": "9QyRXAdmAUi6"
      },
      "outputs": [],
      "source": [
        "\n",
        "df_test.rooms      = df_test.rooms.astype('int')\n",
        "df_train.rooms     = df_train.rooms.astype('int')\n",
        "df_test.bedrooms   = df_test.bedrooms.astype('int')\n",
        "df_train.bedrooms  = df_train.bedrooms.astype('int')\n",
        "df_test.bathrooms  = df_test.bathrooms.astype('int')\n",
        "df_train.bathrooms = df_train.bathrooms.astype('int')"
      ]
    },
    {
      "attachments": {},
      "cell_type": "markdown",
      "metadata": {},
      "source": [
        "## Filtrado"
      ]
    },
    {
      "cell_type": "code",
      "execution_count": 450,
      "metadata": {
        "colab": {
          "base_uri": "https://localhost:8080/",
          "height": 363
        },
        "id": "hXD_GgV-AUi7",
        "outputId": "47eeb67f-bf59-4eae-eb14-703368ceaa84"
      },
      "outputs": [
        {
          "data": {
            "text/html": [
              "<div>\n",
              "<style scoped>\n",
              "    .dataframe tbody tr th:only-of-type {\n",
              "        vertical-align: middle;\n",
              "    }\n",
              "\n",
              "    .dataframe tbody tr th {\n",
              "        vertical-align: top;\n",
              "    }\n",
              "\n",
              "    .dataframe thead th {\n",
              "        text-align: right;\n",
              "    }\n",
              "</style>\n",
              "<table border=\"1\" class=\"dataframe\">\n",
              "  <thead>\n",
              "    <tr style=\"text-align: right;\">\n",
              "      <th></th>\n",
              "      <th>property_type</th>\n",
              "      <th>property_type</th>\n",
              "    </tr>\n",
              "  </thead>\n",
              "  <tbody>\n",
              "    <tr>\n",
              "      <th>Casa</th>\n",
              "      <td>6878</td>\n",
              "      <td>NaN</td>\n",
              "    </tr>\n",
              "    <tr>\n",
              "      <th>Casa de campo</th>\n",
              "      <td>7</td>\n",
              "      <td>NaN</td>\n",
              "    </tr>\n",
              "    <tr>\n",
              "      <th>Cochera</th>\n",
              "      <td>2894</td>\n",
              "      <td>NaN</td>\n",
              "    </tr>\n",
              "    <tr>\n",
              "      <th>Departamento</th>\n",
              "      <td>97209</td>\n",
              "      <td>5426.0</td>\n",
              "    </tr>\n",
              "    <tr>\n",
              "      <th>Depósito</th>\n",
              "      <td>917</td>\n",
              "      <td>NaN</td>\n",
              "    </tr>\n",
              "    <tr>\n",
              "      <th>Local comercial</th>\n",
              "      <td>5940</td>\n",
              "      <td>NaN</td>\n",
              "    </tr>\n",
              "    <tr>\n",
              "      <th>Lote</th>\n",
              "      <td>8230</td>\n",
              "      <td>NaN</td>\n",
              "    </tr>\n",
              "    <tr>\n",
              "      <th>Oficina</th>\n",
              "      <td>4983</td>\n",
              "      <td>NaN</td>\n",
              "    </tr>\n",
              "    <tr>\n",
              "      <th>Otro</th>\n",
              "      <td>15649</td>\n",
              "      <td>NaN</td>\n",
              "    </tr>\n",
              "    <tr>\n",
              "      <th>PH</th>\n",
              "      <td>10013</td>\n",
              "      <td>574.0</td>\n",
              "    </tr>\n",
              "  </tbody>\n",
              "</table>\n",
              "</div>"
            ],
            "text/plain": [
              "                 property_type  property_type\n",
              "Casa                      6878            NaN\n",
              "Casa de campo                7            NaN\n",
              "Cochera                   2894            NaN\n",
              "Departamento             97209         5426.0\n",
              "Depósito                   917            NaN\n",
              "Local comercial           5940            NaN\n",
              "Lote                      8230            NaN\n",
              "Oficina                   4983            NaN\n",
              "Otro                     15649            NaN\n",
              "PH                       10013          574.0"
            ]
          },
          "execution_count": 450,
          "metadata": {},
          "output_type": "execute_result"
        }
      ],
      "source": [
        "pd.concat((df_train.property_type.value_counts(dropna=False),\n",
        "           df_test.property_type.value_counts(dropna=False)),axis=1).sort_index()"
      ]
    },
    {
      "cell_type": "code",
      "execution_count": 451,
      "metadata": {
        "id": "SYuM5rUQAUi7"
      },
      "outputs": [],
      "source": [
        "df_train = df_train[df_train.property_type.isin(['PH','Departamento'])]"
      ]
    },
    {
      "cell_type": "code",
      "execution_count": 452,
      "metadata": {
        "colab": {
          "base_uri": "https://localhost:8080/",
          "height": 771
        },
        "id": "K6sOe6yxAUi7",
        "outputId": "eac4c0e0-17a7-4ed0-b584-be20e7f7628e"
      },
      "outputs": [
        {
          "data": {
            "text/html": [
              "<div>\n",
              "<style scoped>\n",
              "    .dataframe tbody tr th:only-of-type {\n",
              "        vertical-align: middle;\n",
              "    }\n",
              "\n",
              "    .dataframe tbody tr th {\n",
              "        vertical-align: top;\n",
              "    }\n",
              "\n",
              "    .dataframe thead th {\n",
              "        text-align: right;\n",
              "    }\n",
              "</style>\n",
              "<table border=\"1\" class=\"dataframe\">\n",
              "  <thead>\n",
              "    <tr style=\"text-align: right;\">\n",
              "      <th></th>\n",
              "      <th>bathrooms</th>\n",
              "      <th>bathrooms</th>\n",
              "    </tr>\n",
              "  </thead>\n",
              "  <tbody>\n",
              "    <tr>\n",
              "      <th>1</th>\n",
              "      <td>72464</td>\n",
              "      <td>4605.0</td>\n",
              "    </tr>\n",
              "    <tr>\n",
              "      <th>2</th>\n",
              "      <td>23804</td>\n",
              "      <td>1227.0</td>\n",
              "    </tr>\n",
              "    <tr>\n",
              "      <th>3</th>\n",
              "      <td>6969</td>\n",
              "      <td>144.0</td>\n",
              "    </tr>\n",
              "    <tr>\n",
              "      <th>4</th>\n",
              "      <td>2254</td>\n",
              "      <td>20.0</td>\n",
              "    </tr>\n",
              "    <tr>\n",
              "      <th>0</th>\n",
              "      <td>915</td>\n",
              "      <td>NaN</td>\n",
              "    </tr>\n",
              "    <tr>\n",
              "      <th>5</th>\n",
              "      <td>633</td>\n",
              "      <td>1.0</td>\n",
              "    </tr>\n",
              "    <tr>\n",
              "      <th>6</th>\n",
              "      <td>113</td>\n",
              "      <td>3.0</td>\n",
              "    </tr>\n",
              "    <tr>\n",
              "      <th>7</th>\n",
              "      <td>28</td>\n",
              "      <td>NaN</td>\n",
              "    </tr>\n",
              "    <tr>\n",
              "      <th>8</th>\n",
              "      <td>12</td>\n",
              "      <td>NaN</td>\n",
              "    </tr>\n",
              "    <tr>\n",
              "      <th>11</th>\n",
              "      <td>4</td>\n",
              "      <td>NaN</td>\n",
              "    </tr>\n",
              "    <tr>\n",
              "      <th>17</th>\n",
              "      <td>3</td>\n",
              "      <td>NaN</td>\n",
              "    </tr>\n",
              "    <tr>\n",
              "      <th>10</th>\n",
              "      <td>3</td>\n",
              "      <td>NaN</td>\n",
              "    </tr>\n",
              "    <tr>\n",
              "      <th>16</th>\n",
              "      <td>3</td>\n",
              "      <td>NaN</td>\n",
              "    </tr>\n",
              "    <tr>\n",
              "      <th>37</th>\n",
              "      <td>3</td>\n",
              "      <td>NaN</td>\n",
              "    </tr>\n",
              "    <tr>\n",
              "      <th>9</th>\n",
              "      <td>3</td>\n",
              "      <td>NaN</td>\n",
              "    </tr>\n",
              "    <tr>\n",
              "      <th>33</th>\n",
              "      <td>2</td>\n",
              "      <td>NaN</td>\n",
              "    </tr>\n",
              "    <tr>\n",
              "      <th>14</th>\n",
              "      <td>2</td>\n",
              "      <td>NaN</td>\n",
              "    </tr>\n",
              "    <tr>\n",
              "      <th>73</th>\n",
              "      <td>2</td>\n",
              "      <td>NaN</td>\n",
              "    </tr>\n",
              "    <tr>\n",
              "      <th>144</th>\n",
              "      <td>1</td>\n",
              "      <td>NaN</td>\n",
              "    </tr>\n",
              "    <tr>\n",
              "      <th>62</th>\n",
              "      <td>1</td>\n",
              "      <td>NaN</td>\n",
              "    </tr>\n",
              "    <tr>\n",
              "      <th>18</th>\n",
              "      <td>1</td>\n",
              "      <td>NaN</td>\n",
              "    </tr>\n",
              "    <tr>\n",
              "      <th>13</th>\n",
              "      <td>1</td>\n",
              "      <td>NaN</td>\n",
              "    </tr>\n",
              "    <tr>\n",
              "      <th>20</th>\n",
              "      <td>1</td>\n",
              "      <td>NaN</td>\n",
              "    </tr>\n",
              "  </tbody>\n",
              "</table>\n",
              "</div>"
            ],
            "text/plain": [
              "     bathrooms  bathrooms\n",
              "1        72464     4605.0\n",
              "2        23804     1227.0\n",
              "3         6969      144.0\n",
              "4         2254       20.0\n",
              "0          915        NaN\n",
              "5          633        1.0\n",
              "6          113        3.0\n",
              "7           28        NaN\n",
              "8           12        NaN\n",
              "11           4        NaN\n",
              "17           3        NaN\n",
              "10           3        NaN\n",
              "16           3        NaN\n",
              "37           3        NaN\n",
              "9            3        NaN\n",
              "33           2        NaN\n",
              "14           2        NaN\n",
              "73           2        NaN\n",
              "144          1        NaN\n",
              "62           1        NaN\n",
              "18           1        NaN\n",
              "13           1        NaN\n",
              "20           1        NaN"
            ]
          },
          "execution_count": 452,
          "metadata": {},
          "output_type": "execute_result"
        }
      ],
      "source": [
        "pd.concat((df_train.bathrooms.value_counts(dropna=False),\n",
        "           df_test.bathrooms.value_counts(dropna=False)),axis=1)"
      ]
    },
    {
      "cell_type": "code",
      "execution_count": 453,
      "metadata": {
        "colab": {
          "base_uri": "https://localhost:8080/"
        },
        "id": "TP3MXGKzAUi8",
        "outputId": "b58cb15a-6a16-49ec-cb77-2c592fc47095"
      },
      "outputs": [
        {
          "data": {
            "text/plain": [
              "(107152, 31)"
            ]
          },
          "execution_count": 453,
          "metadata": {},
          "output_type": "execute_result"
        }
      ],
      "source": [
        "df_train = df_train[(df_train['bathrooms']<=6) | (df_train['bathrooms'].isnull())]\n",
        "df_train.shape"
      ]
    },
    {
      "cell_type": "code",
      "execution_count": 454,
      "metadata": {
        "colab": {
          "base_uri": "https://localhost:8080/",
          "height": 143
        },
        "id": "TKmNgjMOAUi8",
        "outputId": "6243a86f-1159-4f24-80d9-d7ff68c65e1f"
      },
      "outputs": [
        {
          "data": {
            "text/html": [
              "<div>\n",
              "<style scoped>\n",
              "    .dataframe tbody tr th:only-of-type {\n",
              "        vertical-align: middle;\n",
              "    }\n",
              "\n",
              "    .dataframe tbody tr th {\n",
              "        vertical-align: top;\n",
              "    }\n",
              "\n",
              "    .dataframe thead th {\n",
              "        text-align: right;\n",
              "    }\n",
              "</style>\n",
              "<table border=\"1\" class=\"dataframe\">\n",
              "  <thead>\n",
              "    <tr style=\"text-align: right;\">\n",
              "      <th></th>\n",
              "      <th>currency</th>\n",
              "      <th>currency</th>\n",
              "    </tr>\n",
              "  </thead>\n",
              "  <tbody>\n",
              "    <tr>\n",
              "      <th>USD</th>\n",
              "      <td>102422</td>\n",
              "      <td>6000.0</td>\n",
              "    </tr>\n",
              "    <tr>\n",
              "      <th>None</th>\n",
              "      <td>3910</td>\n",
              "      <td>NaN</td>\n",
              "    </tr>\n",
              "    <tr>\n",
              "      <th>ARS</th>\n",
              "      <td>820</td>\n",
              "      <td>NaN</td>\n",
              "    </tr>\n",
              "  </tbody>\n",
              "</table>\n",
              "</div>"
            ],
            "text/plain": [
              "      currency  currency\n",
              "USD     102422    6000.0\n",
              "None      3910       NaN\n",
              "ARS        820       NaN"
            ]
          },
          "execution_count": 454,
          "metadata": {},
          "output_type": "execute_result"
        }
      ],
      "source": [
        "pd.concat((df_train.currency.value_counts(dropna=False),\n",
        "           df_test.currency.value_counts(dropna=False)),axis=1)"
      ]
    },
    {
      "cell_type": "code",
      "execution_count": 455,
      "metadata": {
        "colab": {
          "base_uri": "https://localhost:8080/"
        },
        "id": "qnSDu6JmAUi8",
        "outputId": "dec91dfa-cf8d-4332-dd57-52ce67a23a14"
      },
      "outputs": [
        {
          "data": {
            "text/plain": [
              "(102422, 31)"
            ]
          },
          "execution_count": 455,
          "metadata": {},
          "output_type": "execute_result"
        }
      ],
      "source": [
        "df_train = df_train[df_train.currency=='USD'] #saco tambien los nulos porque no tienen precio\n",
        "df_train.shape"
      ]
    },
    {
      "cell_type": "code",
      "execution_count": 456,
      "metadata": {
        "colab": {
          "base_uri": "https://localhost:8080/",
          "height": 645
        },
        "id": "KbopOZ1jAUi9",
        "outputId": "e8e2729d-83ec-4950-82e3-9cf941bbbac6"
      },
      "outputs": [
        {
          "data": {
            "text/html": [
              "<div>\n",
              "<style scoped>\n",
              "    .dataframe tbody tr th:only-of-type {\n",
              "        vertical-align: middle;\n",
              "    }\n",
              "\n",
              "    .dataframe tbody tr th {\n",
              "        vertical-align: top;\n",
              "    }\n",
              "\n",
              "    .dataframe thead th {\n",
              "        text-align: right;\n",
              "    }\n",
              "</style>\n",
              "<table border=\"1\" class=\"dataframe\">\n",
              "  <thead>\n",
              "    <tr style=\"text-align: right;\">\n",
              "      <th></th>\n",
              "      <th>rooms</th>\n",
              "      <th>rooms</th>\n",
              "    </tr>\n",
              "  </thead>\n",
              "  <tbody>\n",
              "    <tr>\n",
              "      <th>1</th>\n",
              "      <td>20682</td>\n",
              "      <td>NaN</td>\n",
              "    </tr>\n",
              "    <tr>\n",
              "      <th>2</th>\n",
              "      <td>30582</td>\n",
              "      <td>2984.0</td>\n",
              "    </tr>\n",
              "    <tr>\n",
              "      <th>3</th>\n",
              "      <td>26593</td>\n",
              "      <td>3016.0</td>\n",
              "    </tr>\n",
              "    <tr>\n",
              "      <th>4</th>\n",
              "      <td>17756</td>\n",
              "      <td>NaN</td>\n",
              "    </tr>\n",
              "    <tr>\n",
              "      <th>5</th>\n",
              "      <td>4668</td>\n",
              "      <td>NaN</td>\n",
              "    </tr>\n",
              "    <tr>\n",
              "      <th>6</th>\n",
              "      <td>1264</td>\n",
              "      <td>NaN</td>\n",
              "    </tr>\n",
              "    <tr>\n",
              "      <th>7</th>\n",
              "      <td>481</td>\n",
              "      <td>NaN</td>\n",
              "    </tr>\n",
              "    <tr>\n",
              "      <th>8</th>\n",
              "      <td>258</td>\n",
              "      <td>NaN</td>\n",
              "    </tr>\n",
              "    <tr>\n",
              "      <th>9</th>\n",
              "      <td>46</td>\n",
              "      <td>NaN</td>\n",
              "    </tr>\n",
              "    <tr>\n",
              "      <th>10</th>\n",
              "      <td>45</td>\n",
              "      <td>NaN</td>\n",
              "    </tr>\n",
              "    <tr>\n",
              "      <th>11</th>\n",
              "      <td>11</td>\n",
              "      <td>NaN</td>\n",
              "    </tr>\n",
              "    <tr>\n",
              "      <th>12</th>\n",
              "      <td>19</td>\n",
              "      <td>NaN</td>\n",
              "    </tr>\n",
              "    <tr>\n",
              "      <th>14</th>\n",
              "      <td>5</td>\n",
              "      <td>NaN</td>\n",
              "    </tr>\n",
              "    <tr>\n",
              "      <th>15</th>\n",
              "      <td>5</td>\n",
              "      <td>NaN</td>\n",
              "    </tr>\n",
              "    <tr>\n",
              "      <th>16</th>\n",
              "      <td>3</td>\n",
              "      <td>NaN</td>\n",
              "    </tr>\n",
              "    <tr>\n",
              "      <th>18</th>\n",
              "      <td>1</td>\n",
              "      <td>NaN</td>\n",
              "    </tr>\n",
              "    <tr>\n",
              "      <th>20</th>\n",
              "      <td>1</td>\n",
              "      <td>NaN</td>\n",
              "    </tr>\n",
              "    <tr>\n",
              "      <th>21</th>\n",
              "      <td>1</td>\n",
              "      <td>NaN</td>\n",
              "    </tr>\n",
              "    <tr>\n",
              "      <th>30</th>\n",
              "      <td>1</td>\n",
              "      <td>NaN</td>\n",
              "    </tr>\n",
              "  </tbody>\n",
              "</table>\n",
              "</div>"
            ],
            "text/plain": [
              "    rooms   rooms\n",
              "1   20682     NaN\n",
              "2   30582  2984.0\n",
              "3   26593  3016.0\n",
              "4   17756     NaN\n",
              "5    4668     NaN\n",
              "6    1264     NaN\n",
              "7     481     NaN\n",
              "8     258     NaN\n",
              "9      46     NaN\n",
              "10     45     NaN\n",
              "11     11     NaN\n",
              "12     19     NaN\n",
              "14      5     NaN\n",
              "15      5     NaN\n",
              "16      3     NaN\n",
              "18      1     NaN\n",
              "20      1     NaN\n",
              "21      1     NaN\n",
              "30      1     NaN"
            ]
          },
          "execution_count": 456,
          "metadata": {},
          "output_type": "execute_result"
        }
      ],
      "source": [
        "pd.concat((df_train.rooms.value_counts(dropna=False),\n",
        "           df_test.rooms.value_counts(dropna=False)),axis=1).sort_index()"
      ]
    },
    {
      "cell_type": "code",
      "execution_count": 457,
      "metadata": {
        "colab": {
          "base_uri": "https://localhost:8080/"
        },
        "id": "Fzzqo43QAUi-",
        "outputId": "c3af62b8-c301-4ee9-e71d-86a4b5aedaef"
      },
      "outputs": [
        {
          "data": {
            "text/plain": [
              "(102422, 31)"
            ]
          },
          "execution_count": 457,
          "metadata": {},
          "output_type": "execute_result"
        }
      ],
      "source": [
        "# df_train = df_train[(df_train.rooms<7) |(df_train.rooms.isnull())]\n",
        "df_train.shape"
      ]
    },
    {
      "cell_type": "code",
      "execution_count": 458,
      "metadata": {
        "colab": {
          "base_uri": "https://localhost:8080/",
          "height": 677
        },
        "id": "4Tszl6jKAUi_",
        "outputId": "31540542-d429-49d6-9ad2-31c892776301"
      },
      "outputs": [
        {
          "data": {
            "text/html": [
              "<div>\n",
              "<style scoped>\n",
              "    .dataframe tbody tr th:only-of-type {\n",
              "        vertical-align: middle;\n",
              "    }\n",
              "\n",
              "    .dataframe tbody tr th {\n",
              "        vertical-align: top;\n",
              "    }\n",
              "\n",
              "    .dataframe thead th {\n",
              "        text-align: right;\n",
              "    }\n",
              "</style>\n",
              "<table border=\"1\" class=\"dataframe\">\n",
              "  <thead>\n",
              "    <tr style=\"text-align: right;\">\n",
              "      <th></th>\n",
              "      <th>bedrooms</th>\n",
              "      <th>bedrooms</th>\n",
              "    </tr>\n",
              "  </thead>\n",
              "  <tbody>\n",
              "    <tr>\n",
              "      <th>-1</th>\n",
              "      <td>2</td>\n",
              "      <td>NaN</td>\n",
              "    </tr>\n",
              "    <tr>\n",
              "      <th>0</th>\n",
              "      <td>15245</td>\n",
              "      <td>3.0</td>\n",
              "    </tr>\n",
              "    <tr>\n",
              "      <th>1</th>\n",
              "      <td>38133</td>\n",
              "      <td>3312.0</td>\n",
              "    </tr>\n",
              "    <tr>\n",
              "      <th>2</th>\n",
              "      <td>27821</td>\n",
              "      <td>2660.0</td>\n",
              "    </tr>\n",
              "    <tr>\n",
              "      <th>3</th>\n",
              "      <td>16558</td>\n",
              "      <td>23.0</td>\n",
              "    </tr>\n",
              "    <tr>\n",
              "      <th>4</th>\n",
              "      <td>3729</td>\n",
              "      <td>1.0</td>\n",
              "    </tr>\n",
              "    <tr>\n",
              "      <th>5</th>\n",
              "      <td>507</td>\n",
              "      <td>1.0</td>\n",
              "    </tr>\n",
              "    <tr>\n",
              "      <th>6</th>\n",
              "      <td>227</td>\n",
              "      <td>NaN</td>\n",
              "    </tr>\n",
              "    <tr>\n",
              "      <th>7</th>\n",
              "      <td>144</td>\n",
              "      <td>NaN</td>\n",
              "    </tr>\n",
              "    <tr>\n",
              "      <th>8</th>\n",
              "      <td>22</td>\n",
              "      <td>NaN</td>\n",
              "    </tr>\n",
              "    <tr>\n",
              "      <th>9</th>\n",
              "      <td>5</td>\n",
              "      <td>NaN</td>\n",
              "    </tr>\n",
              "    <tr>\n",
              "      <th>10</th>\n",
              "      <td>10</td>\n",
              "      <td>NaN</td>\n",
              "    </tr>\n",
              "    <tr>\n",
              "      <th>11</th>\n",
              "      <td>4</td>\n",
              "      <td>NaN</td>\n",
              "    </tr>\n",
              "    <tr>\n",
              "      <th>12</th>\n",
              "      <td>2</td>\n",
              "      <td>NaN</td>\n",
              "    </tr>\n",
              "    <tr>\n",
              "      <th>13</th>\n",
              "      <td>1</td>\n",
              "      <td>NaN</td>\n",
              "    </tr>\n",
              "    <tr>\n",
              "      <th>14</th>\n",
              "      <td>4</td>\n",
              "      <td>NaN</td>\n",
              "    </tr>\n",
              "    <tr>\n",
              "      <th>15</th>\n",
              "      <td>5</td>\n",
              "      <td>NaN</td>\n",
              "    </tr>\n",
              "    <tr>\n",
              "      <th>17</th>\n",
              "      <td>1</td>\n",
              "      <td>NaN</td>\n",
              "    </tr>\n",
              "    <tr>\n",
              "      <th>23</th>\n",
              "      <td>1</td>\n",
              "      <td>NaN</td>\n",
              "    </tr>\n",
              "    <tr>\n",
              "      <th>60</th>\n",
              "      <td>1</td>\n",
              "      <td>NaN</td>\n",
              "    </tr>\n",
              "  </tbody>\n",
              "</table>\n",
              "</div>"
            ],
            "text/plain": [
              "     bedrooms  bedrooms\n",
              "-1          2       NaN\n",
              " 0      15245       3.0\n",
              " 1      38133    3312.0\n",
              " 2      27821    2660.0\n",
              " 3      16558      23.0\n",
              " 4       3729       1.0\n",
              " 5        507       1.0\n",
              " 6        227       NaN\n",
              " 7        144       NaN\n",
              " 8         22       NaN\n",
              " 9          5       NaN\n",
              " 10        10       NaN\n",
              " 11         4       NaN\n",
              " 12         2       NaN\n",
              " 13         1       NaN\n",
              " 14         4       NaN\n",
              " 15         5       NaN\n",
              " 17         1       NaN\n",
              " 23         1       NaN\n",
              " 60         1       NaN"
            ]
          },
          "execution_count": 458,
          "metadata": {},
          "output_type": "execute_result"
        }
      ],
      "source": [
        "pd.concat((df_train.bedrooms.value_counts(dropna=False),\n",
        "           df_test.bedrooms.value_counts(dropna=False)),axis=1).sort_index()"
      ]
    },
    {
      "cell_type": "code",
      "execution_count": 459,
      "metadata": {
        "colab": {
          "base_uri": "https://localhost:8080/"
        },
        "id": "GWAl_drOAUjA",
        "outputId": "334da39d-0644-48ac-af5d-5dc1acf7994c"
      },
      "outputs": [
        {
          "data": {
            "text/plain": [
              "(102422, 31)"
            ]
          },
          "execution_count": 459,
          "metadata": {},
          "output_type": "execute_result"
        }
      ],
      "source": [
        "# df_train = df_train[(df_train.bedrooms<6) |(df_train.bedrooms.isnull())]\n",
        "df_train.shape"
      ]
    },
    {
      "cell_type": "code",
      "execution_count": 460,
      "metadata": {
        "colab": {
          "base_uri": "https://localhost:8080/",
          "height": 513
        },
        "id": "bl7Glh5wAUjB",
        "outputId": "086bca70-1b66-4ea3-b5b3-710f7240cfbb"
      },
      "outputs": [
        {
          "data": {
            "text/plain": [
              "<AxesSubplot: xlabel='surface_covered'>"
            ]
          },
          "execution_count": 460,
          "metadata": {},
          "output_type": "execute_result"
        },
        {
          "data": {
            "image/png": "[encoded data removed]",
            "text/plain": [
              "<Figure size 2000x800 with 2 Axes>"
            ]
          },
          "metadata": {},
          "output_type": "display_data"
        }
      ],
      "source": [
        "fig, ax = plt.subplots(nrows=2,figsize=(20,8))\n",
        "sns.boxplot(data=df_train,x='surface_covered',ax=ax[0])\n",
        "sns.boxplot(data=df_test,x='surface_covered',ax=ax[1])"
      ]
    },
    {
      "cell_type": "code",
      "execution_count": 461,
      "metadata": {
        "colab": {
          "base_uri": "https://localhost:8080/",
          "height": 112
        },
        "id": "DGeQDbr-AUjB",
        "outputId": "c87c2d92-b6af-43bf-f105-00adc5146b56"
      },
      "outputs": [
        {
          "data": {
            "text/html": [
              "<div>\n",
              "<style scoped>\n",
              "    .dataframe tbody tr th:only-of-type {\n",
              "        vertical-align: middle;\n",
              "    }\n",
              "\n",
              "    .dataframe tbody tr th {\n",
              "        vertical-align: top;\n",
              "    }\n",
              "\n",
              "    .dataframe thead th {\n",
              "        text-align: right;\n",
              "    }\n",
              "</style>\n",
              "<table border=\"1\" class=\"dataframe\">\n",
              "  <thead>\n",
              "    <tr style=\"text-align: right;\">\n",
              "      <th></th>\n",
              "      <th>count</th>\n",
              "      <th>mean</th>\n",
              "      <th>std</th>\n",
              "      <th>min</th>\n",
              "      <th>25%</th>\n",
              "      <th>50%</th>\n",
              "      <th>75%</th>\n",
              "      <th>max</th>\n",
              "    </tr>\n",
              "  </thead>\n",
              "  <tbody>\n",
              "    <tr>\n",
              "      <th>surface_covered</th>\n",
              "      <td>102422.0</td>\n",
              "      <td>87.192914</td>\n",
              "      <td>720.887917</td>\n",
              "      <td>-4432.263411</td>\n",
              "      <td>41.0</td>\n",
              "      <td>61.0</td>\n",
              "      <td>98.0</td>\n",
              "      <td>126062.0</td>\n",
              "    </tr>\n",
              "    <tr>\n",
              "      <th>surface_total</th>\n",
              "      <td>102422.0</td>\n",
              "      <td>138.086412</td>\n",
              "      <td>1024.722444</td>\n",
              "      <td>-149575.086421</td>\n",
              "      <td>43.0</td>\n",
              "      <td>69.0</td>\n",
              "      <td>130.0</td>\n",
              "      <td>126062.0</td>\n",
              "    </tr>\n",
              "  </tbody>\n",
              "</table>\n",
              "</div>"
            ],
            "text/plain": [
              "                    count        mean          std            min   25%   50%  \\\n",
              "surface_covered  102422.0   87.192914   720.887917   -4432.263411  41.0  61.0   \n",
              "surface_total    102422.0  138.086412  1024.722444 -149575.086421  43.0  69.0   \n",
              "\n",
              "                   75%       max  \n",
              "surface_covered   98.0  126062.0  \n",
              "surface_total    130.0  126062.0  "
            ]
          },
          "execution_count": 461,
          "metadata": {},
          "output_type": "execute_result"
        }
      ],
      "source": [
        "df_train[['surface_covered','surface_total']].describe().T"
      ]
    },
    {
      "cell_type": "code",
      "execution_count": 462,
      "metadata": {
        "colab": {
          "base_uri": "https://localhost:8080/",
          "height": 112
        },
        "id": "iBqBxMX3AUjB",
        "outputId": "0745d300-b3ab-41f6-fe6c-db8bce2c66c9"
      },
      "outputs": [
        {
          "data": {
            "text/html": [
              "<div>\n",
              "<style scoped>\n",
              "    .dataframe tbody tr th:only-of-type {\n",
              "        vertical-align: middle;\n",
              "    }\n",
              "\n",
              "    .dataframe tbody tr th {\n",
              "        vertical-align: top;\n",
              "    }\n",
              "\n",
              "    .dataframe thead th {\n",
              "        text-align: right;\n",
              "    }\n",
              "</style>\n",
              "<table border=\"1\" class=\"dataframe\">\n",
              "  <thead>\n",
              "    <tr style=\"text-align: right;\">\n",
              "      <th></th>\n",
              "      <th>count</th>\n",
              "      <th>mean</th>\n",
              "      <th>std</th>\n",
              "      <th>min</th>\n",
              "      <th>25%</th>\n",
              "      <th>50%</th>\n",
              "      <th>75%</th>\n",
              "      <th>max</th>\n",
              "    </tr>\n",
              "  </thead>\n",
              "  <tbody>\n",
              "    <tr>\n",
              "      <th>surface_covered</th>\n",
              "      <td>6000.0</td>\n",
              "      <td>76.894979</td>\n",
              "      <td>672.776879</td>\n",
              "      <td>10.0</td>\n",
              "      <td>45.0</td>\n",
              "      <td>59.000000</td>\n",
              "      <td>76.738295</td>\n",
              "      <td>47360.0</td>\n",
              "    </tr>\n",
              "    <tr>\n",
              "      <th>surface_total</th>\n",
              "      <td>6000.0</td>\n",
              "      <td>91.262284</td>\n",
              "      <td>751.427838</td>\n",
              "      <td>21.0</td>\n",
              "      <td>51.0</td>\n",
              "      <td>67.796492</td>\n",
              "      <td>91.032708</td>\n",
              "      <td>47360.0</td>\n",
              "    </tr>\n",
              "  </tbody>\n",
              "</table>\n",
              "</div>"
            ],
            "text/plain": [
              "                  count       mean         std   min   25%        50%  \\\n",
              "surface_covered  6000.0  76.894979  672.776879  10.0  45.0  59.000000   \n",
              "surface_total    6000.0  91.262284  751.427838  21.0  51.0  67.796492   \n",
              "\n",
              "                       75%      max  \n",
              "surface_covered  76.738295  47360.0  \n",
              "surface_total    91.032708  47360.0  "
            ]
          },
          "execution_count": 462,
          "metadata": {},
          "output_type": "execute_result"
        }
      ],
      "source": [
        "df_test[['surface_covered','surface_total']].describe().T"
      ]
    },
    {
      "cell_type": "code",
      "execution_count": 463,
      "metadata": {
        "colab": {
          "base_uri": "https://localhost:8080/"
        },
        "id": "bJG3o_KNAUjC",
        "outputId": "5611391c-dfef-444b-a10f-a24f634f618b"
      },
      "outputs": [
        {
          "data": {
            "text/plain": [
              "(100591, 31)"
            ]
          },
          "execution_count": 463,
          "metadata": {},
          "output_type": "execute_result"
        }
      ],
      "source": [
        "df_train = df_train[((df_train['surface_covered']>=20)&(df_train['surface_covered']<50000))|(df_train['surface_covered'].isnull())]\n",
        "df_train.shape"
      ]
    },
    {
      "cell_type": "code",
      "execution_count": 464,
      "metadata": {
        "colab": {
          "base_uri": "https://localhost:8080/",
          "height": 513
        },
        "id": "sKYNXHR8AUjC",
        "outputId": "5a7008aa-5053-4ed8-a8c3-5cbf043d926a"
      },
      "outputs": [
        {
          "data": {
            "text/plain": [
              "<AxesSubplot: xlabel='surface_total'>"
            ]
          },
          "execution_count": 464,
          "metadata": {},
          "output_type": "execute_result"
        },
        {
          "data": {
            "image/png": "[encoded data removed]",
            "text/plain": [
              "<Figure size 2000x800 with 2 Axes>"
            ]
          },
          "metadata": {},
          "output_type": "display_data"
        }
      ],
      "source": [
        "fig, ax = plt.subplots(nrows=2,figsize=(20,8))\n",
        "sns.boxplot(data=df_train,x='surface_total',ax=ax[0])\n",
        "sns.boxplot(data=df_test,x='surface_total',ax=ax[1])"
      ]
    },
    {
      "cell_type": "code",
      "execution_count": 465,
      "metadata": {
        "colab": {
          "base_uri": "https://localhost:8080/",
          "height": 112
        },
        "id": "C0D3rfy7AUjC",
        "outputId": "af10cfd2-60a8-4b93-daea-45ede8a03e3a"
      },
      "outputs": [
        {
          "data": {
            "text/html": [
              "<div>\n",
              "<style scoped>\n",
              "    .dataframe tbody tr th:only-of-type {\n",
              "        vertical-align: middle;\n",
              "    }\n",
              "\n",
              "    .dataframe tbody tr th {\n",
              "        vertical-align: top;\n",
              "    }\n",
              "\n",
              "    .dataframe thead th {\n",
              "        text-align: right;\n",
              "    }\n",
              "</style>\n",
              "<table border=\"1\" class=\"dataframe\">\n",
              "  <thead>\n",
              "    <tr style=\"text-align: right;\">\n",
              "      <th></th>\n",
              "      <th>count</th>\n",
              "      <th>mean</th>\n",
              "      <th>std</th>\n",
              "      <th>min</th>\n",
              "      <th>25%</th>\n",
              "      <th>50%</th>\n",
              "      <th>75%</th>\n",
              "      <th>max</th>\n",
              "    </tr>\n",
              "  </thead>\n",
              "  <tbody>\n",
              "    <tr>\n",
              "      <th>surface_covered</th>\n",
              "      <td>100591.0</td>\n",
              "      <td>85.257393</td>\n",
              "      <td>207.768667</td>\n",
              "      <td>20.000000</td>\n",
              "      <td>41.044627</td>\n",
              "      <td>62.0</td>\n",
              "      <td>100.0</td>\n",
              "      <td>31550.0</td>\n",
              "    </tr>\n",
              "    <tr>\n",
              "      <th>surface_total</th>\n",
              "      <td>100591.0</td>\n",
              "      <td>146.328567</td>\n",
              "      <td>580.711035</td>\n",
              "      <td>-6008.880032</td>\n",
              "      <td>43.000000</td>\n",
              "      <td>70.0</td>\n",
              "      <td>130.0</td>\n",
              "      <td>108960.0</td>\n",
              "    </tr>\n",
              "  </tbody>\n",
              "</table>\n",
              "</div>"
            ],
            "text/plain": [
              "                    count        mean         std          min        25%  \\\n",
              "surface_covered  100591.0   85.257393  207.768667    20.000000  41.044627   \n",
              "surface_total    100591.0  146.328567  580.711035 -6008.880032  43.000000   \n",
              "\n",
              "                  50%    75%       max  \n",
              "surface_covered  62.0  100.0   31550.0  \n",
              "surface_total    70.0  130.0  108960.0  "
            ]
          },
          "execution_count": 465,
          "metadata": {},
          "output_type": "execute_result"
        }
      ],
      "source": [
        "df_train[['surface_covered','surface_total']].describe().T"
      ]
    },
    {
      "cell_type": "code",
      "execution_count": 466,
      "metadata": {
        "colab": {
          "base_uri": "https://localhost:8080/",
          "height": 112
        },
        "id": "1Mj6fePWAUjD",
        "outputId": "b682b22f-9a49-4886-fe98-91524ea692aa"
      },
      "outputs": [
        {
          "data": {
            "text/html": [
              "<div>\n",
              "<style scoped>\n",
              "    .dataframe tbody tr th:only-of-type {\n",
              "        vertical-align: middle;\n",
              "    }\n",
              "\n",
              "    .dataframe tbody tr th {\n",
              "        vertical-align: top;\n",
              "    }\n",
              "\n",
              "    .dataframe thead th {\n",
              "        text-align: right;\n",
              "    }\n",
              "</style>\n",
              "<table border=\"1\" class=\"dataframe\">\n",
              "  <thead>\n",
              "    <tr style=\"text-align: right;\">\n",
              "      <th></th>\n",
              "      <th>count</th>\n",
              "      <th>mean</th>\n",
              "      <th>std</th>\n",
              "      <th>min</th>\n",
              "      <th>25%</th>\n",
              "      <th>50%</th>\n",
              "      <th>75%</th>\n",
              "      <th>max</th>\n",
              "    </tr>\n",
              "  </thead>\n",
              "  <tbody>\n",
              "    <tr>\n",
              "      <th>surface_covered</th>\n",
              "      <td>6000.0</td>\n",
              "      <td>76.894979</td>\n",
              "      <td>672.776879</td>\n",
              "      <td>10.0</td>\n",
              "      <td>45.0</td>\n",
              "      <td>59.000000</td>\n",
              "      <td>76.738295</td>\n",
              "      <td>47360.0</td>\n",
              "    </tr>\n",
              "    <tr>\n",
              "      <th>surface_total</th>\n",
              "      <td>6000.0</td>\n",
              "      <td>91.262284</td>\n",
              "      <td>751.427838</td>\n",
              "      <td>21.0</td>\n",
              "      <td>51.0</td>\n",
              "      <td>67.796492</td>\n",
              "      <td>91.032708</td>\n",
              "      <td>47360.0</td>\n",
              "    </tr>\n",
              "  </tbody>\n",
              "</table>\n",
              "</div>"
            ],
            "text/plain": [
              "                  count       mean         std   min   25%        50%  \\\n",
              "surface_covered  6000.0  76.894979  672.776879  10.0  45.0  59.000000   \n",
              "surface_total    6000.0  91.262284  751.427838  21.0  51.0  67.796492   \n",
              "\n",
              "                       75%      max  \n",
              "surface_covered  76.738295  47360.0  \n",
              "surface_total    91.032708  47360.0  "
            ]
          },
          "execution_count": 466,
          "metadata": {},
          "output_type": "execute_result"
        }
      ],
      "source": [
        "df_test[['surface_covered','surface_total']].describe().T"
      ]
    },
    {
      "cell_type": "code",
      "execution_count": 467,
      "metadata": {
        "colab": {
          "base_uri": "https://localhost:8080/"
        },
        "id": "L55ygcYWAUjD",
        "outputId": "7ef41292-1063-468f-ca69-e3ea70674d14"
      },
      "outputs": [
        {
          "data": {
            "text/plain": [
              "(95914, 31)"
            ]
          },
          "execution_count": 467,
          "metadata": {},
          "output_type": "execute_result"
        }
      ],
      "source": [
        "df_train = df_train[((df_train['surface_total']>=10)&(df_train['surface_total']<50000))|(df_train['surface_total'].isnull())]\n",
        "df_train.shape"
      ]
    },
    {
      "cell_type": "code",
      "execution_count": 468,
      "metadata": {
        "colab": {
          "base_uri": "https://localhost:8080/",
          "height": 112
        },
        "id": "wlCVJcLgAUjD",
        "outputId": "af381dbf-06db-48ae-f4cd-b02d16586d30"
      },
      "outputs": [
        {
          "data": {
            "text/html": [
              "<div>\n",
              "<style scoped>\n",
              "    .dataframe tbody tr th:only-of-type {\n",
              "        vertical-align: middle;\n",
              "    }\n",
              "\n",
              "    .dataframe tbody tr th {\n",
              "        vertical-align: top;\n",
              "    }\n",
              "\n",
              "    .dataframe thead th {\n",
              "        text-align: right;\n",
              "    }\n",
              "</style>\n",
              "<table border=\"1\" class=\"dataframe\">\n",
              "  <thead>\n",
              "    <tr style=\"text-align: right;\">\n",
              "      <th></th>\n",
              "      <th>count</th>\n",
              "      <th>mean</th>\n",
              "      <th>std</th>\n",
              "      <th>min</th>\n",
              "      <th>25%</th>\n",
              "      <th>50%</th>\n",
              "      <th>75%</th>\n",
              "      <th>max</th>\n",
              "    </tr>\n",
              "  </thead>\n",
              "  <tbody>\n",
              "    <tr>\n",
              "      <th>surface_covered</th>\n",
              "      <td>95914.0</td>\n",
              "      <td>82.577618</td>\n",
              "      <td>212.001841</td>\n",
              "      <td>20.0</td>\n",
              "      <td>41.0</td>\n",
              "      <td>60.0</td>\n",
              "      <td>91.0</td>\n",
              "      <td>31550.0</td>\n",
              "    </tr>\n",
              "    <tr>\n",
              "      <th>surface_total</th>\n",
              "      <td>95914.0</td>\n",
              "      <td>169.079044</td>\n",
              "      <td>457.650534</td>\n",
              "      <td>12.0</td>\n",
              "      <td>46.0</td>\n",
              "      <td>73.0</td>\n",
              "      <td>138.0</td>\n",
              "      <td>48170.0</td>\n",
              "    </tr>\n",
              "  </tbody>\n",
              "</table>\n",
              "</div>"
            ],
            "text/plain": [
              "                   count        mean         std   min   25%   50%    75%  \\\n",
              "surface_covered  95914.0   82.577618  212.001841  20.0  41.0  60.0   91.0   \n",
              "surface_total    95914.0  169.079044  457.650534  12.0  46.0  73.0  138.0   \n",
              "\n",
              "                     max  \n",
              "surface_covered  31550.0  \n",
              "surface_total    48170.0  "
            ]
          },
          "execution_count": 468,
          "metadata": {},
          "output_type": "execute_result"
        }
      ],
      "source": [
        "df_train[['surface_covered','surface_total']].describe().T"
      ]
    },
    {
      "cell_type": "code",
      "execution_count": 469,
      "metadata": {
        "colab": {
          "base_uri": "https://localhost:8080/",
          "height": 112
        },
        "id": "--asLNKiAUjE",
        "outputId": "3f3928fa-78ab-40e1-af74-88d71715a789"
      },
      "outputs": [
        {
          "data": {
            "text/html": [
              "<div>\n",
              "<style scoped>\n",
              "    .dataframe tbody tr th:only-of-type {\n",
              "        vertical-align: middle;\n",
              "    }\n",
              "\n",
              "    .dataframe tbody tr th {\n",
              "        vertical-align: top;\n",
              "    }\n",
              "\n",
              "    .dataframe thead th {\n",
              "        text-align: right;\n",
              "    }\n",
              "</style>\n",
              "<table border=\"1\" class=\"dataframe\">\n",
              "  <thead>\n",
              "    <tr style=\"text-align: right;\">\n",
              "      <th></th>\n",
              "      <th>count</th>\n",
              "      <th>mean</th>\n",
              "      <th>std</th>\n",
              "      <th>min</th>\n",
              "      <th>25%</th>\n",
              "      <th>50%</th>\n",
              "      <th>75%</th>\n",
              "      <th>max</th>\n",
              "    </tr>\n",
              "  </thead>\n",
              "  <tbody>\n",
              "    <tr>\n",
              "      <th>surface_covered</th>\n",
              "      <td>6000.0</td>\n",
              "      <td>76.894979</td>\n",
              "      <td>672.776879</td>\n",
              "      <td>10.0</td>\n",
              "      <td>45.0</td>\n",
              "      <td>59.000000</td>\n",
              "      <td>76.738295</td>\n",
              "      <td>47360.0</td>\n",
              "    </tr>\n",
              "    <tr>\n",
              "      <th>surface_total</th>\n",
              "      <td>6000.0</td>\n",
              "      <td>91.262284</td>\n",
              "      <td>751.427838</td>\n",
              "      <td>21.0</td>\n",
              "      <td>51.0</td>\n",
              "      <td>67.796492</td>\n",
              "      <td>91.032708</td>\n",
              "      <td>47360.0</td>\n",
              "    </tr>\n",
              "  </tbody>\n",
              "</table>\n",
              "</div>"
            ],
            "text/plain": [
              "                  count       mean         std   min   25%        50%  \\\n",
              "surface_covered  6000.0  76.894979  672.776879  10.0  45.0  59.000000   \n",
              "surface_total    6000.0  91.262284  751.427838  21.0  51.0  67.796492   \n",
              "\n",
              "                       75%      max  \n",
              "surface_covered  76.738295  47360.0  \n",
              "surface_total    91.032708  47360.0  "
            ]
          },
          "execution_count": 469,
          "metadata": {},
          "output_type": "execute_result"
        }
      ],
      "source": [
        "df_test[['surface_covered','surface_total']].describe().T"
      ]
    },
    {
      "cell_type": "code",
      "execution_count": 470,
      "metadata": {
        "colab": {
          "base_uri": "https://localhost:8080/"
        },
        "id": "zR27M3ovAUjE",
        "outputId": "82ab18bf-770c-4074-8733-567cf54c04a9"
      },
      "outputs": [
        {
          "data": {
            "text/plain": [
              "5000.0        1\n",
              "9500.0        1\n",
              "10000.0       5\n",
              "10500.0       2\n",
              "11111.0       1\n",
              "             ..\n",
              "9477000.0     3\n",
              "11111111.0    1\n",
              "12345678.0    1\n",
              "15011160.0    1\n",
              "32434232.0    1\n",
              "Name: price, Length: 6371, dtype: int64"
            ]
          },
          "execution_count": 470,
          "metadata": {},
          "output_type": "execute_result"
        }
      ],
      "source": [
        "df_train.price.value_counts().sort_index()"
      ]
    },
    {
      "attachments": {},
      "cell_type": "markdown",
      "metadata": {
        "id": "Yw6Mm3GEAUi2"
      },
      "source": [
        "## Imputación de nulos"
      ]
    },
    {
      "attachments": {},
      "cell_type": "markdown",
      "metadata": {
        "id": "Hq0rV6jxAUjF"
      },
      "source": [
        "## Armado de variables"
      ]
    },
    {
      "cell_type": "code",
      "execution_count": 471,
      "metadata": {
        "colab": {
          "base_uri": "https://localhost:8080/"
        },
        "id": "1nWJvsiiAUjF",
        "outputId": "72a03121-ca89-4e0c-991f-a6e80f107960"
      },
      "outputs": [
        {
          "name": "stderr",
          "output_type": "stream",
          "text": [
            "C:\\Users\\Usuario\\AppData\\Local\\Temp\\ipykernel_32392\\2937259013.py:24: UserWarning: This pattern is interpreted as a regular expression, and has match groups. To actually get the groups, use str.extract.\n",
            "  df[f\"desc_{c}\"] = df[\"description\"].str.contains(c,regex=True)\n",
            "C:\\Users\\Usuario\\AppData\\Local\\Temp\\ipykernel_32392\\2937259013.py:24: UserWarning: This pattern is interpreted as a regular expression, and has match groups. To actually get the groups, use str.extract.\n",
            "  df[f\"desc_{c}\"] = df[\"description\"].str.contains(c,regex=True)\n",
            "C:\\Users\\Usuario\\AppData\\Local\\Temp\\ipykernel_32392\\2937259013.py:24: UserWarning: This pattern is interpreted as a regular expression, and has match groups. To actually get the groups, use str.extract.\n",
            "  df[f\"desc_{c}\"] = df[\"description\"].str.contains(c,regex=True)\n",
            "C:\\Users\\Usuario\\AppData\\Local\\Temp\\ipykernel_32392\\2937259013.py:24: UserWarning: This pattern is interpreted as a regular expression, and has match groups. To actually get the groups, use str.extract.\n",
            "  df[f\"desc_{c}\"] = df[\"description\"].str.contains(c,regex=True)\n",
            "C:\\Users\\Usuario\\AppData\\Local\\Temp\\ipykernel_32392\\2937259013.py:24: UserWarning: This pattern is interpreted as a regular expression, and has match groups. To actually get the groups, use str.extract.\n",
            "  df[f\"desc_{c}\"] = df[\"description\"].str.contains(c,regex=True)\n"
          ]
        }
      ],
      "source": [
        "df = pd.concat((df_train,df_test),axis=0)\n",
        "\n",
        "df['bathrooms_rooms'] = df['bathrooms']/df['rooms']\n",
        "df['bedrooms_rooms'] = df['bedrooms']/df['rooms']\n",
        "df['covered'] = df['surface_covered']/df['surface_total']\n",
        "\n",
        "df['start_year']  = pd.to_datetime(df['start_date']).dt.year\n",
        "df['start_month'] = pd.to_datetime(df['start_date']).dt.month\n",
        "df['start_day'] = pd.to_datetime(df['start_date']).dt.month\n",
        "\n",
        "df['tiene_esp_abierto'] = 0\n",
        "df.loc[(df['surface_total']-df['surface_covered'])!=0,'tiene_esp_abierto'] = 1\n",
        "\n",
        "df['description'] = df[\"description\"].str.lower().str.replace('á','a').str.replace('é','e').str.replace('í','i').str.replace('ó','o').str.replace('ú','u')\n",
        "#df['title'] = df[\"title\"].str.lower().str.replace('á','a').str.replace('é','e').str.replace('í','i').str.replace('ó','o').str.replace('ú','u')\n",
        "\n",
        "for c in [\"barrio privado\", \"corredor\",'suite','monoambiente','amueblado',\n",
        "          'ascensor','parrilla','patio','balcon','jardin','linea (a|b|b|c|d|e|h)',\n",
        "          'obelisco','catedral','metrobus','barrancas','barrio chino','river',\n",
        "          'universidad','facultad','subte','tren','estacion','museo','parque','jacuzzi',\n",
        "          '(j|y)acu(z|zz)i','sho(pp|p)ing','country','terminal','avenida','av.','av',\n",
        "          'expensa','expensas','a(mm|m)enities','inmobiliaria','dueñ(o|a) direct(o|a)',\n",
        "          'balcon','pileta|piscina','escuela|colegio','centro','microcentro','lago']:\n",
        "    df[f\"desc_{c}\"] = df[\"description\"].str.contains(c,regex=True)\n",
        "    #df[f\"title_{c}\"] = df[\"title\"].str.contains(c,regex=True)"
      ]
    },
    {
      "cell_type": "code",
      "execution_count": 472,
      "metadata": {
        "colab": {
          "base_uri": "https://localhost:8080/"
        },
        "id": "h-bouR7TAUjF",
        "outputId": "ccf9ab46-2413-4d67-f437-40a0f61b9cda"
      },
      "outputs": [
        {
          "data": {
            "text/plain": [
              "0.000851     1\n",
              "0.004233     1\n",
              "0.004679     1\n",
              "0.005105     1\n",
              "0.007350     1\n",
              "            ..\n",
              "19.352209    2\n",
              "20.143609    1\n",
              "21.003826    2\n",
              "24.100608    1\n",
              "26.738608    1\n",
              "Name: covered, Length: 5677, dtype: int64"
            ]
          },
          "execution_count": 472,
          "metadata": {},
          "output_type": "execute_result"
        }
      ],
      "source": [
        "df.covered.value_counts(dropna=False).sort_index()"
      ]
    },
    {
      "cell_type": "code",
      "execution_count": 473,
      "metadata": {},
      "outputs": [],
      "source": [
        "# from sklearn.preprocessing import LabelEncoder\n",
        "\n",
        "# labelencoder = LabelEncoder()\n",
        "\n",
        "# df['l3'] = labelencoder.fit_transform(df['l3'])"
      ]
    },
    {
      "cell_type": "code",
      "execution_count": 474,
      "metadata": {
        "id": "YnffhsjQAUjH"
      },
      "outputs": [],
      "source": [
        "df_train = df[~df.price.isnull()]\n",
        "df_test = df[df.price.isnull()]"
      ]
    },
    {
      "attachments": {},
      "cell_type": "markdown",
      "metadata": {
        "id": "FIBo-xtfAUjH"
      },
      "source": [
        "## Selección de atributos"
      ]
    },
    {
      "cell_type": "code",
      "execution_count": 475,
      "metadata": {
        "colab": {
          "base_uri": "https://localhost:8080/"
        },
        "id": "cM8kP8ryAUjH",
        "outputId": "d370bbb7-83a4-4688-d10a-ac1d93845b3a"
      },
      "outputs": [
        {
          "name": "stderr",
          "output_type": "stream",
          "text": [
            "C:\\Users\\Usuario\\AppData\\Local\\Temp\\ipykernel_32392\\2438721469.py:2: SettingWithCopyWarning: \n",
            "A value is trying to be set on a copy of a slice from a DataFrame\n",
            "\n",
            "See the caveats in the documentation: https://pandas.pydata.org/pandas-docs/stable/user_guide/indexing.html#returning-a-view-versus-a-copy\n",
            "  df_train.drop(cols,inplace=True,axis=1)\n",
            "C:\\Users\\Usuario\\AppData\\Local\\Temp\\ipykernel_32392\\2438721469.py:3: SettingWithCopyWarning: \n",
            "A value is trying to be set on a copy of a slice from a DataFrame\n",
            "\n",
            "See the caveats in the documentation: https://pandas.pydata.org/pandas-docs/stable/user_guide/indexing.html#returning-a-view-versus-a-copy\n",
            "  df_test.drop(cols,inplace=True,axis=1)\n"
          ]
        }
      ],
      "source": [
        "cols = ['l1','l5','l6','ad_type','currency','operation_type']\n",
        "df_train.drop(cols,inplace=True,axis=1)\n",
        "df_test.drop(cols,inplace=True,axis=1)"
      ]
    },
    {
      "attachments": {},
      "cell_type": "markdown",
      "metadata": {
        "id": "Zn72NpRYAUjI"
      },
      "source": [
        "## Dummies"
      ]
    },
    {
      "cell_type": "code",
      "execution_count": 476,
      "metadata": {
        "id": "0PINalyBAUjI"
      },
      "outputs": [],
      "source": [
        "cols_dummies = ['l2','l3','l4','property_type']\n",
        "train_dummies = pd.get_dummies(df_train[cols_dummies],dummy_na=True)\n",
        "df_train = pd.concat((df_train,train_dummies),axis=1)\n",
        "\n",
        "test_dummies = pd.get_dummies(df_test[cols_dummies],dummy_na=True)\n",
        "df_test = pd.concat((df_test,test_dummies),axis=1)"
      ]
    },
    {
      "cell_type": "code",
      "execution_count": 477,
      "metadata": {
        "id": "IO1A57JGAUjJ"
      },
      "outputs": [],
      "source": [
        "cols = pd.concat((df_train,df_test),axis=0,join='inner').columns\n",
        "\n",
        "df_train = df_train[cols]\n",
        "df_test = df_test[cols]"
      ]
    },
    {
      "attachments": {},
      "cell_type": "markdown",
      "metadata": {
        "id": "X_6u01XDAUjJ"
      },
      "source": [
        "## Borrado por varianza"
      ]
    },
    {
      "cell_type": "code",
      "execution_count": 478,
      "metadata": {
        "id": "icHGi5h1AUjJ"
      },
      "outputs": [],
      "source": [
        "from sklearn.feature_selection import VarianceThreshold"
      ]
    },
    {
      "cell_type": "code",
      "execution_count": 479,
      "metadata": {
        "id": "q2Tc8Wa7AUjJ"
      },
      "outputs": [],
      "source": [
        "# F = df_train[~df_train.price.isnull()]\n",
        "# X = F[F.select_dtypes(include=['float64' ,'float32','int64', 'int32', 'int16', 'int8', 'bool','uint8']).columns.drop('price')]\n",
        "# y = F['price']\n",
        "\n",
        "# print(X.shape)\n",
        "# fs = VarianceThreshold(threshold=0.005)\n",
        "# X_new = fs.fit_transform(X) # threshold = limite superior de la varianza\n",
        "# print(X_new.shape)\n",
        "\n",
        "# cols = list(X.columns[fs.get_support()])\n",
        "# cols.append('price')\n",
        "\n",
        "# df_train = df_train[cols]\n",
        "# df_test = df_test[cols]"
      ]
    },
    {
      "cell_type": "code",
      "execution_count": 480,
      "metadata": {},
      "outputs": [],
      "source": [
        "df_train.loc[((df_train.l3=='Puerto Madero')|(df_train.l3=='Catalinas'))&(df_train.lat<-58.42),'lat'] = -58.361"
      ]
    },
    {
      "cell_type": "code",
      "execution_count": 481,
      "metadata": {},
      "outputs": [],
      "source": [
        "df_test.loc[((df_test.l3=='Puerto Madero')|(df_test.l3=='Catalinas'))&(df_test.lat<-58.4),'lat'] = -58.361"
      ]
    },
    {
      "cell_type": "code",
      "execution_count": 482,
      "metadata": {},
      "outputs": [
        {
          "data": {
            "text/plain": [
              "<AxesSubplot: xlabel='lat', ylabel='lon'>"
            ]
          },
          "execution_count": 482,
          "metadata": {},
          "output_type": "execute_result"
        },
        {
          "data": {
            "image/png": "[encoded data removed]",
            "text/plain": [
              "<Figure size 640x480 with 1 Axes>"
            ]
          },
          "metadata": {},
          "output_type": "display_data"
        }
      ],
      "source": [
        "sns.scatterplot(data=df_train[(df_train.l3=='Puerto Madero')|(df_train.l3=='Catalinas')],x='lat',y='lon',hue='l3')"
      ]
    },
    {
      "cell_type": "code",
      "execution_count": 483,
      "metadata": {},
      "outputs": [],
      "source": [
        "df_test_la_plata = df_test[(df_test.lat>-58.2)&(df_test.lon<-34.8)]\n",
        "df_train_la_plata = df_train[(df_train.lat>-58.2)&(df_train.lon<-34)]\n",
        "\n",
        "df_test_caba = df_test[(df_test.lat<=-58.2)&(df_test.lon>=-34.8)&~((df_test.l3=='Puerto Madero')|(df_test.l3=='Catalinas'))]\n",
        "df_test_madero = df_test[(df_test.lat<=-58.2)&(df_test.lon>=-34.8)&((df_test.l3=='Puerto Madero')|(df_test.l3=='Catalinas'))]\n",
        "\n",
        "df_train_caba = df_train[~((df_train.lat>-58.2)&(df_train.lon<-34))&~((df_train.l3=='Puerto Madero')|(df_train.l3=='Catalinas'))]\n",
        "df_train_madero = df_train[~((df_train.lat>-58.2)&(df_train.lon<-34))&((df_train.l3=='Puerto Madero')|(df_train.l3=='Catalinas'))]\n",
        "\n",
        "corredor_norte = ['Retiro','Las Cañitas','Recoleta','Barrio Norte','Nuñez','Distrito Audiovisual','Palermo','Belgrano']\n",
        "\n",
        "df_train_corredor_norte = df_train_caba[df_train_caba.l3.isin(corredor_norte)]\n",
        "df_test_corredor_norte = df_test_caba[df_test_caba.l3.isin(corredor_norte)]\n",
        "\n",
        "df_train_caba = df_train_caba[~df_train_caba.l3.isin(corredor_norte)]\n",
        "df_test_caba = df_test_caba[~df_test_caba.l3.isin(corredor_norte)]\n",
        "\n",
        "corredor_sur = ['Villa Riachuelo','Villa Lugano','Villa Soldati','Pompeya','Boca','Barracas','Parque Patricios','Constitución']\n",
        "\n",
        "df_train_corredor_sur = df_train_caba[df_train_caba.l3.isin(corredor_sur)]\n",
        "df_test_corredor_sur = df_test_caba[df_test_caba.l3.isin(corredor_sur)]\n",
        "\n",
        "df_train_caba = df_train_caba[~df_train_caba.l3.isin(corredor_sur)]\n",
        "df_test_caba = df_test_caba[~df_test_caba.l3.isin(corredor_sur)]\n",
        "\n",
        "caballito = ['Almagro','Caballito','Parque Centenario','Villa Crespo']\n",
        "\n",
        "df_train_caballito = df_train_caba[df_train_caba.l3.isin(caballito)]\n",
        "df_test_caballito= df_test_caba[df_test_caba.l3.isin(caballito)]\n",
        "\n",
        "df_train_caba = df_train_caba[~df_train_caba.l3.isin(caballito)]\n",
        "df_test_caba = df_test_caba[~df_test_caba.l3.isin(caballito)]\n",
        "\n",
        "# noroeste = ['Saavedra','Villa Ortuzar','Villa Urquiza','Coghlan']\n",
        "\n",
        "# df_train_noroeste = df_train_caba[df_train_caba.l3.isin(noroeste)]\n",
        "# df_test_noroeste= df_test_caba[df_test_caba.l3.isin(noroeste)]\n",
        "\n",
        "# df_train_caba = df_train_caba[~df_train_caba.l3.isin(noroeste)]\n",
        "# df_test_caba = df_test_caba[~df_test_caba.l3.isin(noroeste)]\n",
        "\n",
        "# centro = ['San Cristobal','Balvanera','San Nicolás','Monserrat','Congreso','San Telmo','Once','Tribunales','Abasto','Centro / Microcentro']\n",
        "\n",
        "# df_train_centro = df_train_caba[df_train_caba.l3.isin(centro)]\n",
        "# df_test_centro= df_test_caba[df_test_caba.l3.isin(centro)]\n",
        "\n",
        "# df_train_caba = df_train_caba[~df_train_caba.l3.isin(centro)]\n",
        "# df_test_caba = df_test_caba[~df_test_caba.l3.isin(centro)]"
      ]
    },
    {
      "cell_type": "code",
      "execution_count": 484,
      "metadata": {},
      "outputs": [
        {
          "data": {
            "text/plain": [
              "<AxesSubplot: xlabel='price', ylabel='l3'>"
            ]
          },
          "execution_count": 484,
          "metadata": {},
          "output_type": "execute_result"
        },
        {
          "data": {
            "image/png": "[encoded data removed]",
            "text/plain": [
              "<Figure size 1000x1000 with 1 Axes>"
            ]
          },
          "metadata": {},
          "output_type": "display_data"
        }
      ],
      "source": [
        "fig, ax = plt.subplots(figsize=(10,10))\n",
        "sns.barplot(data=df_train_caba.groupby('l3').agg({'price':'mean'}).reset_index().sort_values('price'),y='l3',x='price')"
      ]
    },
    {
      "cell_type": "code",
      "execution_count": 485,
      "metadata": {},
      "outputs": [],
      "source": [
        "def filtrado_columnas(df_test,df_train):\n",
        "    F = df_train[~df_train.price.isnull()]\n",
        "    X = F[F.select_dtypes(include=['float64' ,'float32','int64', 'int32', 'int16', 'int8', 'bool','uint8']).columns.drop('price')]\n",
        "    y = F['price']\n",
        "\n",
        "    clf = sk.ensemble.RandomForestRegressor(n_estimators=50, n_jobs=-1,random_state=42)\n",
        "    clf.fit(X, y)\n",
        "\n",
        "    importancias = pd.DataFrame({'atributo': clf.feature_names_in_, 'importancia': clf.feature_importances_})\n",
        "    cols = list(importancias[importancias['importancia']>0.0001].sort_values('importancia',ascending=False).reset_index(drop=True).atributo)\n",
        "\n",
        "    cols.append('price')\n",
        "\n",
        "    display(importancias.sort_values('importancia').tail(10))\n",
        "\n",
        "    df_train = df_train[cols]\n",
        "    df_test = df_test[cols]\n",
        "    return df_test, df_train"
      ]
    },
    {
      "cell_type": "code",
      "execution_count": 486,
      "metadata": {},
      "outputs": [],
      "source": [
        "# Funcion de limpieza (usada en la siguiente sección) que usa y_train\n",
        "def limpiar_fold(X_train, y_train, X_test):\n",
        "    ## TODO: limpiar los datos           \n",
        "    \n",
        "    return (X_train, y_train, X_test)"
      ]
    },
    {
      "cell_type": "code",
      "execution_count": 487,
      "metadata": {},
      "outputs": [],
      "source": [
        "import spacy\n",
        "import locale\n",
        "locale.getpreferredencoding = lambda: \"UTF-8\"\n",
        "# spacy.cli.download(\"es_core_news_sm\")\n",
        "from sklearn.feature_extraction.text import CountVectorizer\n",
        "nlp = spacy.load(\"es_core_news_sm\")\n",
        "stopwords = nlp.Defaults.stop_words"
      ]
    },
    {
      "cell_type": "code",
      "execution_count": 488,
      "metadata": {},
      "outputs": [],
      "source": [
        "def tokenizacion(df_test,df_train,columna):\n",
        "    df = pd.concat((df_test,df_train),axis=0)\n",
        "    \n",
        "    df[columna] = df[columna].fillna('NA')\n",
        "\n",
        "    nlp = spacy.load(\"es_core_news_sm\")\n",
        "    stopwords = nlp.Defaults.stop_words\n",
        "\n",
        "    df[columna+'_tok'] = df[columna].apply(lambda texto: [token.text for token in nlp(texto)])\n",
        "    df[columna+'_tok'] = df[columna+'_tok'].apply(lambda texto: [token for token in texto if token not in stopwords])\n",
        "    df[columna] = df[columna+'_tok'].str.join(' ')\n",
        "\n",
        "    vectorizer = CountVectorizer(ngram_range=(1, 3), min_df=0.005, max_df=0.7, strip_accents='ascii', max_features=2000)\n",
        "    vectorized_data = vectorizer.fit_transform(df[columna])\n",
        "\n",
        "    count_df = pd.DataFrame(vectorized_data.toarray(), columns=vectorizer.get_feature_names_out(), index=df.index)\n",
        "\n",
        "    df = pd.concat((df,count_df),axis=1)\n",
        "\n",
        "    df_train = df[~df.price.isnull()]\n",
        "    df_test = df[df.price.isnull()]\n",
        "\n",
        "    return df_test, df_train"
      ]
    },
    {
      "cell_type": "code",
      "execution_count": 489,
      "metadata": {},
      "outputs": [],
      "source": [
        "from joblib import Parallel, delayed\n",
        "\n",
        "def tokenize_text(text):\n",
        "    nlp = spacy.load(\"es_core_news_sm\")\n",
        "    stopwords = nlp.Defaults.stop_words\n",
        "    doc = nlp(text)\n",
        "    tokens = [token.text for token in doc if token.text not in stopwords]\n",
        "    return ' '.join(tokens)\n",
        "\n",
        "def tokenizacion(df_test, df_train, columna):\n",
        "    df = pd.concat((df_test, df_train), axis=0)\n",
        "\n",
        "    df[columna] = df[columna].fillna('NA')\n",
        "\n",
        "    # Tokenización en paralelo\n",
        "    df[columna + '_tok'] = Parallel(n_jobs=-1)(delayed(tokenize_text)(text) for text in df[columna])\n",
        "\n",
        "    vectorizer = CountVectorizer(ngram_range=(1, 3), min_df=0.005, max_df=0.7, strip_accents='ascii', max_features=2000)\n",
        "    vectorized_data = vectorizer.fit_transform(df[columna + '_tok'])\n",
        "\n",
        "    count_df = pd.DataFrame(vectorized_data.toarray(), columns=vectorizer.get_feature_names_out(), index=df.index)\n",
        "\n",
        "    df = pd.concat((df, count_df), axis=1)\n",
        "\n",
        "    df_train = df[~df.price.isnull()]\n",
        "    df_test = df[df.price.isnull()]\n",
        "\n",
        "    return df_test, df_train"
      ]
    },
    {
      "cell_type": "code",
      "execution_count": 490,
      "metadata": {},
      "outputs": [
        {
          "name": "stdout",
          "output_type": "stream",
          "text": [
            "La plata tiene 60 en train y 264 en test\n",
            "CABA tiene 33297 en train y 2231 en test\n",
            "Pto Madero y Catalinas tiene 1466 en train y 100 en test\n",
            "Corr norte tiene 33857 en train y 1837 en test\n",
            "Corr sur tiene 2871 en train y 195 en test\n",
            "Caballito tiene 24363 en train y 1373 en test\n"
          ]
        }
      ],
      "source": [
        "print(f\"La plata tiene {df_train_la_plata.shape[0]} en train y {df_test_la_plata.shape[0]} en test\")\n",
        "print(f\"CABA tiene {df_train_caba.shape[0]} en train y {df_test_caba.shape[0]} en test\")\n",
        "print(f\"Pto Madero y Catalinas tiene {df_train_madero.shape[0]} en train y {df_test_madero.shape[0]} en test\")\n",
        "print(f\"Corr norte tiene {df_train_corredor_norte.shape[0]} en train y {df_test_corredor_norte.shape[0]} en test\")\n",
        "print(f\"Corr sur tiene {df_train_corredor_sur.shape[0]} en train y {df_test_corredor_sur.shape[0]} en test\")\n",
        "print(f\"Caballito tiene {df_train_caballito.shape[0]} en train y {df_test_caballito.shape[0]} en test\")\n"
      ]
    },
    {
      "cell_type": "code",
      "execution_count": 491,
      "metadata": {},
      "outputs": [
        {
          "name": "stdout",
          "output_type": "stream",
          "text": [
            "La Plata\n",
            "Madero y Catalinas\n",
            "Corredor sur\n"
          ]
        }
      ],
      "source": [
        "print(\"La Plata\")\n",
        "df_test_la_plata, df_train_la_plata             = tokenizacion(df_test_la_plata,df_train_la_plata,'description')\n",
        "# print(\"Resto de Caba\")\n",
        "# df_test_caba, df_train_caba                     = tokenizacion(df_test_caba,df_train_caba,'title')\n",
        "print(\"Madero y Catalinas\")\n",
        "df_test_madero, df_train_madero                 = tokenizacion(df_test_madero,df_train_madero,'description')\n",
        "# print(\"Corredor Norte\")\n",
        "# df_test_corredor_norte, df_train_corredor_norte = tokenizacion(df_test_corredor_norte,df_train_corredor_norte,'description')\n",
        "print(\"Corredor sur\")\n",
        "df_test_corredor_sur, df_train_corredor_sur     = tokenizacion(df_test_corredor_sur,df_train_corredor_sur,'description')\n",
        "# print(\"Caballito\")\n",
        "# df_test_caballito, df_train_caballito           = tokenizacion(df_test_caballito,df_train_caballito,'description')"
      ]
    },
    {
      "cell_type": "code",
      "execution_count": 492,
      "metadata": {},
      "outputs": [
        {
          "name": "stdout",
          "output_type": "stream",
          "text": [
            "La Plata\n"
          ]
        },
        {
          "data": {
            "text/html": [
              "<div>\n",
              "<style scoped>\n",
              "    .dataframe tbody tr th:only-of-type {\n",
              "        vertical-align: middle;\n",
              "    }\n",
              "\n",
              "    .dataframe tbody tr th {\n",
              "        vertical-align: top;\n",
              "    }\n",
              "\n",
              "    .dataframe thead th {\n",
              "        text-align: right;\n",
              "    }\n",
              "</style>\n",
              "<table border=\"1\" class=\"dataframe\">\n",
              "  <thead>\n",
              "    <tr style=\"text-align: right;\">\n",
              "      <th></th>\n",
              "      <th>atributo</th>\n",
              "      <th>importancia</th>\n",
              "    </tr>\n",
              "  </thead>\n",
              "  <tbody>\n",
              "    <tr>\n",
              "      <th>204</th>\n",
              "      <td>25</td>\n",
              "      <td>0.017116</td>\n",
              "    </tr>\n",
              "    <tr>\n",
              "      <th>464</th>\n",
              "      <td>autopista</td>\n",
              "      <td>0.017957</td>\n",
              "    </tr>\n",
              "    <tr>\n",
              "      <th>1</th>\n",
              "      <td>lon</td>\n",
              "      <td>0.018446</td>\n",
              "    </tr>\n",
              "    <tr>\n",
              "      <th>1758</th>\n",
              "      <td>plata bs</td>\n",
              "      <td>0.021757</td>\n",
              "    </tr>\n",
              "    <tr>\n",
              "      <th>512</th>\n",
              "      <td>bano dormitorio</td>\n",
              "      <td>0.030265</td>\n",
              "    </tr>\n",
              "    <tr>\n",
              "      <th>2</th>\n",
              "      <td>rooms</td>\n",
              "      <td>0.037763</td>\n",
              "    </tr>\n",
              "    <tr>\n",
              "      <th>6</th>\n",
              "      <td>surface_total</td>\n",
              "      <td>0.043286</td>\n",
              "    </tr>\n",
              "    <tr>\n",
              "      <th>1686</th>\n",
              "      <td>pasillo</td>\n",
              "      <td>0.052474</td>\n",
              "    </tr>\n",
              "    <tr>\n",
              "      <th>1059</th>\n",
              "      <td>dormitorio</td>\n",
              "      <td>0.095848</td>\n",
              "    </tr>\n",
              "    <tr>\n",
              "      <th>7</th>\n",
              "      <td>surface_covered</td>\n",
              "      <td>0.271790</td>\n",
              "    </tr>\n",
              "  </tbody>\n",
              "</table>\n",
              "</div>"
            ],
            "text/plain": [
              "             atributo  importancia\n",
              "204                25     0.017116\n",
              "464         autopista     0.017957\n",
              "1                 lon     0.018446\n",
              "1758         plata bs     0.021757\n",
              "512   bano dormitorio     0.030265\n",
              "2               rooms     0.037763\n",
              "6       surface_total     0.043286\n",
              "1686          pasillo     0.052474\n",
              "1059       dormitorio     0.095848\n",
              "7     surface_covered     0.271790"
            ]
          },
          "metadata": {},
          "output_type": "display_data"
        },
        {
          "name": "stdout",
          "output_type": "stream",
          "text": [
            "Resto de Caba\n"
          ]
        },
        {
          "data": {
            "text/html": [
              "<div>\n",
              "<style scoped>\n",
              "    .dataframe tbody tr th:only-of-type {\n",
              "        vertical-align: middle;\n",
              "    }\n",
              "\n",
              "    .dataframe tbody tr th {\n",
              "        vertical-align: top;\n",
              "    }\n",
              "\n",
              "    .dataframe thead th {\n",
              "        text-align: right;\n",
              "    }\n",
              "</style>\n",
              "<table border=\"1\" class=\"dataframe\">\n",
              "  <thead>\n",
              "    <tr style=\"text-align: right;\">\n",
              "      <th></th>\n",
              "      <th>atributo</th>\n",
              "      <th>importancia</th>\n",
              "    </tr>\n",
              "  </thead>\n",
              "  <tbody>\n",
              "    <tr>\n",
              "      <th>19</th>\n",
              "      <td>start_day</td>\n",
              "      <td>0.013846</td>\n",
              "    </tr>\n",
              "    <tr>\n",
              "      <th>11</th>\n",
              "      <td>surface_covered_imputed</td>\n",
              "      <td>0.018351</td>\n",
              "    </tr>\n",
              "    <tr>\n",
              "      <th>58</th>\n",
              "      <td>desc_pileta|piscina</td>\n",
              "      <td>0.020228</td>\n",
              "    </tr>\n",
              "    <tr>\n",
              "      <th>23</th>\n",
              "      <td>desc_suite</td>\n",
              "      <td>0.020543</td>\n",
              "    </tr>\n",
              "    <tr>\n",
              "      <th>16</th>\n",
              "      <td>covered</td>\n",
              "      <td>0.026196</td>\n",
              "    </tr>\n",
              "    <tr>\n",
              "      <th>5</th>\n",
              "      <td>surface_total</td>\n",
              "      <td>0.041860</td>\n",
              "    </tr>\n",
              "    <tr>\n",
              "      <th>4</th>\n",
              "      <td>bathrooms</td>\n",
              "      <td>0.092865</td>\n",
              "    </tr>\n",
              "    <tr>\n",
              "      <th>1</th>\n",
              "      <td>lon</td>\n",
              "      <td>0.131317</td>\n",
              "    </tr>\n",
              "    <tr>\n",
              "      <th>0</th>\n",
              "      <td>lat</td>\n",
              "      <td>0.159799</td>\n",
              "    </tr>\n",
              "    <tr>\n",
              "      <th>6</th>\n",
              "      <td>surface_covered</td>\n",
              "      <td>0.265466</td>\n",
              "    </tr>\n",
              "  </tbody>\n",
              "</table>\n",
              "</div>"
            ],
            "text/plain": [
              "                   atributo  importancia\n",
              "19                start_day     0.013846\n",
              "11  surface_covered_imputed     0.018351\n",
              "58      desc_pileta|piscina     0.020228\n",
              "23               desc_suite     0.020543\n",
              "16                  covered     0.026196\n",
              "5             surface_total     0.041860\n",
              "4                 bathrooms     0.092865\n",
              "1                       lon     0.131317\n",
              "0                       lat     0.159799\n",
              "6           surface_covered     0.265466"
            ]
          },
          "metadata": {},
          "output_type": "display_data"
        },
        {
          "name": "stdout",
          "output_type": "stream",
          "text": [
            "Madero y Catalinas\n"
          ]
        },
        {
          "data": {
            "text/html": [
              "<div>\n",
              "<style scoped>\n",
              "    .dataframe tbody tr th:only-of-type {\n",
              "        vertical-align: middle;\n",
              "    }\n",
              "\n",
              "    .dataframe tbody tr th {\n",
              "        vertical-align: top;\n",
              "    }\n",
              "\n",
              "    .dataframe thead th {\n",
              "        text-align: right;\n",
              "    }\n",
              "</style>\n",
              "<table border=\"1\" class=\"dataframe\">\n",
              "  <thead>\n",
              "    <tr style=\"text-align: right;\">\n",
              "      <th></th>\n",
              "      <th>atributo</th>\n",
              "      <th>importancia</th>\n",
              "    </tr>\n",
              "  </thead>\n",
              "  <tbody>\n",
              "    <tr>\n",
              "      <th>11</th>\n",
              "      <td>surface_covered_imputed</td>\n",
              "      <td>0.003338</td>\n",
              "    </tr>\n",
              "    <tr>\n",
              "      <th>1860</th>\n",
              "      <td>semi integrada</td>\n",
              "      <td>0.003511</td>\n",
              "    </tr>\n",
              "    <tr>\n",
              "      <th>0</th>\n",
              "      <td>lat</td>\n",
              "      <td>0.003638</td>\n",
              "    </tr>\n",
              "    <tr>\n",
              "      <th>1</th>\n",
              "      <td>lon</td>\n",
              "      <td>0.003715</td>\n",
              "    </tr>\n",
              "    <tr>\n",
              "      <th>995</th>\n",
              "      <td>excelentes</td>\n",
              "      <td>0.004245</td>\n",
              "    </tr>\n",
              "    <tr>\n",
              "      <th>294</th>\n",
              "      <td>alvear</td>\n",
              "      <td>0.005329</td>\n",
              "    </tr>\n",
              "    <tr>\n",
              "      <th>320</th>\n",
              "      <td>amoblado</td>\n",
              "      <td>0.005556</td>\n",
              "    </tr>\n",
              "    <tr>\n",
              "      <th>628</th>\n",
              "      <td>cocheras</td>\n",
              "      <td>0.007394</td>\n",
              "    </tr>\n",
              "    <tr>\n",
              "      <th>5</th>\n",
              "      <td>surface_total</td>\n",
              "      <td>0.014468</td>\n",
              "    </tr>\n",
              "    <tr>\n",
              "      <th>6</th>\n",
              "      <td>surface_covered</td>\n",
              "      <td>0.815633</td>\n",
              "    </tr>\n",
              "  </tbody>\n",
              "</table>\n",
              "</div>"
            ],
            "text/plain": [
              "                     atributo  importancia\n",
              "11    surface_covered_imputed     0.003338\n",
              "1860           semi integrada     0.003511\n",
              "0                         lat     0.003638\n",
              "1                         lon     0.003715\n",
              "995                excelentes     0.004245\n",
              "294                    alvear     0.005329\n",
              "320                  amoblado     0.005556\n",
              "628                  cocheras     0.007394\n",
              "5               surface_total     0.014468\n",
              "6             surface_covered     0.815633"
            ]
          },
          "metadata": {},
          "output_type": "display_data"
        },
        {
          "name": "stdout",
          "output_type": "stream",
          "text": [
            "Corredor Norte\n"
          ]
        },
        {
          "data": {
            "text/html": [
              "<div>\n",
              "<style scoped>\n",
              "    .dataframe tbody tr th:only-of-type {\n",
              "        vertical-align: middle;\n",
              "    }\n",
              "\n",
              "    .dataframe tbody tr th {\n",
              "        vertical-align: top;\n",
              "    }\n",
              "\n",
              "    .dataframe thead th {\n",
              "        text-align: right;\n",
              "    }\n",
              "</style>\n",
              "<table border=\"1\" class=\"dataframe\">\n",
              "  <thead>\n",
              "    <tr style=\"text-align: right;\">\n",
              "      <th></th>\n",
              "      <th>atributo</th>\n",
              "      <th>importancia</th>\n",
              "    </tr>\n",
              "  </thead>\n",
              "  <tbody>\n",
              "    <tr>\n",
              "      <th>23</th>\n",
              "      <td>desc_suite</td>\n",
              "      <td>0.011039</td>\n",
              "    </tr>\n",
              "    <tr>\n",
              "      <th>16</th>\n",
              "      <td>covered</td>\n",
              "      <td>0.015744</td>\n",
              "    </tr>\n",
              "    <tr>\n",
              "      <th>58</th>\n",
              "      <td>desc_pileta|piscina</td>\n",
              "      <td>0.019924</td>\n",
              "    </tr>\n",
              "    <tr>\n",
              "      <th>0</th>\n",
              "      <td>lat</td>\n",
              "      <td>0.028122</td>\n",
              "    </tr>\n",
              "    <tr>\n",
              "      <th>55</th>\n",
              "      <td>desc_a(mm|m)enities</td>\n",
              "      <td>0.034089</td>\n",
              "    </tr>\n",
              "    <tr>\n",
              "      <th>5</th>\n",
              "      <td>surface_total</td>\n",
              "      <td>0.035571</td>\n",
              "    </tr>\n",
              "    <tr>\n",
              "      <th>1</th>\n",
              "      <td>lon</td>\n",
              "      <td>0.035976</td>\n",
              "    </tr>\n",
              "    <tr>\n",
              "      <th>11</th>\n",
              "      <td>surface_covered_imputed</td>\n",
              "      <td>0.060902</td>\n",
              "    </tr>\n",
              "    <tr>\n",
              "      <th>14</th>\n",
              "      <td>bathrooms_rooms</td>\n",
              "      <td>0.181383</td>\n",
              "    </tr>\n",
              "    <tr>\n",
              "      <th>6</th>\n",
              "      <td>surface_covered</td>\n",
              "      <td>0.483575</td>\n",
              "    </tr>\n",
              "  </tbody>\n",
              "</table>\n",
              "</div>"
            ],
            "text/plain": [
              "                   atributo  importancia\n",
              "23               desc_suite     0.011039\n",
              "16                  covered     0.015744\n",
              "58      desc_pileta|piscina     0.019924\n",
              "0                       lat     0.028122\n",
              "55      desc_a(mm|m)enities     0.034089\n",
              "5             surface_total     0.035571\n",
              "1                       lon     0.035976\n",
              "11  surface_covered_imputed     0.060902\n",
              "14          bathrooms_rooms     0.181383\n",
              "6           surface_covered     0.483575"
            ]
          },
          "metadata": {},
          "output_type": "display_data"
        },
        {
          "name": "stdout",
          "output_type": "stream",
          "text": [
            "Corredor sur\n"
          ]
        },
        {
          "data": {
            "text/html": [
              "<div>\n",
              "<style scoped>\n",
              "    .dataframe tbody tr th:only-of-type {\n",
              "        vertical-align: middle;\n",
              "    }\n",
              "\n",
              "    .dataframe tbody tr th {\n",
              "        vertical-align: top;\n",
              "    }\n",
              "\n",
              "    .dataframe thead th {\n",
              "        text-align: right;\n",
              "    }\n",
              "</style>\n",
              "<table border=\"1\" class=\"dataframe\">\n",
              "  <thead>\n",
              "    <tr style=\"text-align: right;\">\n",
              "      <th></th>\n",
              "      <th>atributo</th>\n",
              "      <th>importancia</th>\n",
              "    </tr>\n",
              "  </thead>\n",
              "  <tbody>\n",
              "    <tr>\n",
              "      <th>730</th>\n",
              "      <td>cochera</td>\n",
              "      <td>0.008678</td>\n",
              "    </tr>\n",
              "    <tr>\n",
              "      <th>16</th>\n",
              "      <td>covered</td>\n",
              "      <td>0.008753</td>\n",
              "    </tr>\n",
              "    <tr>\n",
              "      <th>97</th>\n",
              "      <td>l3_Parque Patricios</td>\n",
              "      <td>0.010365</td>\n",
              "    </tr>\n",
              "    <tr>\n",
              "      <th>2080</th>\n",
              "      <td>venta</td>\n",
              "      <td>0.013875</td>\n",
              "    </tr>\n",
              "    <tr>\n",
              "      <th>1</th>\n",
              "      <td>lon</td>\n",
              "      <td>0.031976</td>\n",
              "    </tr>\n",
              "    <tr>\n",
              "      <th>5</th>\n",
              "      <td>surface_total</td>\n",
              "      <td>0.052116</td>\n",
              "    </tr>\n",
              "    <tr>\n",
              "      <th>0</th>\n",
              "      <td>lat</td>\n",
              "      <td>0.056409</td>\n",
              "    </tr>\n",
              "    <tr>\n",
              "      <th>70</th>\n",
              "      <td>l3_Barracas</td>\n",
              "      <td>0.082914</td>\n",
              "    </tr>\n",
              "    <tr>\n",
              "      <th>6</th>\n",
              "      <td>surface_covered</td>\n",
              "      <td>0.141349</td>\n",
              "    </tr>\n",
              "    <tr>\n",
              "      <th>4</th>\n",
              "      <td>bathrooms</td>\n",
              "      <td>0.265903</td>\n",
              "    </tr>\n",
              "  </tbody>\n",
              "</table>\n",
              "</div>"
            ],
            "text/plain": [
              "                 atributo  importancia\n",
              "730               cochera     0.008678\n",
              "16                covered     0.008753\n",
              "97    l3_Parque Patricios     0.010365\n",
              "2080                venta     0.013875\n",
              "1                     lon     0.031976\n",
              "5           surface_total     0.052116\n",
              "0                     lat     0.056409\n",
              "70            l3_Barracas     0.082914\n",
              "6         surface_covered     0.141349\n",
              "4               bathrooms     0.265903"
            ]
          },
          "metadata": {},
          "output_type": "display_data"
        },
        {
          "name": "stdout",
          "output_type": "stream",
          "text": [
            "Caballito\n"
          ]
        },
        {
          "data": {
            "text/html": [
              "<div>\n",
              "<style scoped>\n",
              "    .dataframe tbody tr th:only-of-type {\n",
              "        vertical-align: middle;\n",
              "    }\n",
              "\n",
              "    .dataframe tbody tr th {\n",
              "        vertical-align: top;\n",
              "    }\n",
              "\n",
              "    .dataframe thead th {\n",
              "        text-align: right;\n",
              "    }\n",
              "</style>\n",
              "<table border=\"1\" class=\"dataframe\">\n",
              "  <thead>\n",
              "    <tr style=\"text-align: right;\">\n",
              "      <th></th>\n",
              "      <th>atributo</th>\n",
              "      <th>importancia</th>\n",
              "    </tr>\n",
              "  </thead>\n",
              "  <tbody>\n",
              "    <tr>\n",
              "      <th>27</th>\n",
              "      <td>desc_parrilla</td>\n",
              "      <td>0.013088</td>\n",
              "    </tr>\n",
              "    <tr>\n",
              "      <th>4</th>\n",
              "      <td>bathrooms</td>\n",
              "      <td>0.014365</td>\n",
              "    </tr>\n",
              "    <tr>\n",
              "      <th>50</th>\n",
              "      <td>desc_avenida</td>\n",
              "      <td>0.015763</td>\n",
              "    </tr>\n",
              "    <tr>\n",
              "      <th>8</th>\n",
              "      <td>bedrooms_imputed</td>\n",
              "      <td>0.016066</td>\n",
              "    </tr>\n",
              "    <tr>\n",
              "      <th>40</th>\n",
              "      <td>desc_subte</td>\n",
              "      <td>0.020858</td>\n",
              "    </tr>\n",
              "    <tr>\n",
              "      <th>60</th>\n",
              "      <td>desc_centro</td>\n",
              "      <td>0.037474</td>\n",
              "    </tr>\n",
              "    <tr>\n",
              "      <th>5</th>\n",
              "      <td>surface_total</td>\n",
              "      <td>0.065352</td>\n",
              "    </tr>\n",
              "    <tr>\n",
              "      <th>6</th>\n",
              "      <td>surface_covered</td>\n",
              "      <td>0.151177</td>\n",
              "    </tr>\n",
              "    <tr>\n",
              "      <th>1</th>\n",
              "      <td>lon</td>\n",
              "      <td>0.170404</td>\n",
              "    </tr>\n",
              "    <tr>\n",
              "      <th>0</th>\n",
              "      <td>lat</td>\n",
              "      <td>0.401193</td>\n",
              "    </tr>\n",
              "  </tbody>\n",
              "</table>\n",
              "</div>"
            ],
            "text/plain": [
              "            atributo  importancia\n",
              "27     desc_parrilla     0.013088\n",
              "4          bathrooms     0.014365\n",
              "50      desc_avenida     0.015763\n",
              "8   bedrooms_imputed     0.016066\n",
              "40        desc_subte     0.020858\n",
              "60       desc_centro     0.037474\n",
              "5      surface_total     0.065352\n",
              "6    surface_covered     0.151177\n",
              "1                lon     0.170404\n",
              "0                lat     0.401193"
            ]
          },
          "metadata": {},
          "output_type": "display_data"
        }
      ],
      "source": [
        "print(\"La Plata\")\n",
        "df_test_la_plata, df_train_la_plata = filtrado_columnas(df_test_la_plata,df_train_la_plata)\n",
        "print(\"Resto de Caba\")\n",
        "df_test_caba, df_train_caba = filtrado_columnas(df_test_caba,df_train_caba)\n",
        "print(\"Madero y Catalinas\")\n",
        "df_test_madero, df_train_madero = filtrado_columnas(df_test_madero,df_train_madero)\n",
        "print(\"Corredor Norte\")\n",
        "df_test_corredor_norte, df_train_corredor_norte = filtrado_columnas(df_test_corredor_norte,df_train_corredor_norte)\n",
        "print(\"Corredor sur\")\n",
        "df_test_corredor_sur, df_train_corredor_sur = filtrado_columnas(df_test_corredor_sur,df_train_corredor_sur)\n",
        "print(\"Caballito\")\n",
        "df_test_caballito, df_train_caballito = filtrado_columnas(df_test_caballito,df_train_caballito)\n",
        "# print(\"Noroeste\")\n",
        "# df_test_noroeste, df_train_noroeste = filtrado_columnas(df_test_noroeste,df_train_noroeste)\n",
        "# print(\"Centro\")\n",
        "# df_test_centro, df_train_centro = filtrado_columnas(df_test_centro,df_train_centro)"
      ]
    },
    {
      "attachments": {},
      "cell_type": "markdown",
      "metadata": {},
      "source": [
        "# Entrenamiento del modelo"
      ]
    },
    {
      "attachments": {},
      "cell_type": "markdown",
      "metadata": {},
      "source": [
        "## Territorio de Aprendizaje Automático\n",
        "☢☢☢☢☢☢ Se mira y no se toca ☢☢☢☢☢☢☢"
      ]
    },
    {
      "cell_type": "code",
      "execution_count": 493,
      "metadata": {},
      "outputs": [],
      "source": [
        "def modelado(df_train,df_test):\n",
        "    # Datos para probar\n",
        "    df_train = df_train.select_dtypes(include=['float64', 'int64', 'int32', 'int16', 'int8', 'bool'])\n",
        "\n",
        "    X = df_train[df_train.columns.drop('price')]\n",
        "    y = df_train['price']\n",
        "\n",
        "    # Creamos el modelo\n",
        "    reg = sk.ensemble.RandomForestRegressor(n_estimators=500, max_depth=5, n_jobs=-1, random_state=42)\n",
        "\n",
        "    # Partimos en entrenamiento+prueba y validación\n",
        "    X_train_test, X_val, y_train_test, y_val = sk.model_selection.train_test_split(X, y, test_size=0.2, random_state=42)\n",
        "\n",
        "    scores_train = []\n",
        "    scores_test = []\n",
        "    # Validación cruzada, 10 folds, shuffle antes\n",
        "    kf = sk.model_selection.KFold(n_splits=10, shuffle=True, random_state=42)\n",
        "    for fold, (train_index, test_index) in enumerate(kf.split(X_train_test, y_train_test)):\n",
        "        X_train, X_test, y_train, y_test = X_train_test.iloc[train_index], X_train_test.iloc[test_index], y_train_test.iloc[train_index], y_train_test.iloc[test_index]\n",
        "\n",
        "        X_train, y_train, X_test = limpiar_fold(X_train, y_train, X_test)\n",
        "\n",
        "        # Entrenamos el modelo\n",
        "        reg.fit(X_train, y_train)\n",
        "\n",
        "        # Predecimos en train\n",
        "        y_pred = reg.predict(X_train)\n",
        "\n",
        "        # Medimos la performance de la predicción en test\n",
        "        score_train = sk.metrics.mean_squared_error(y_train, y_pred,squared=False).round()\n",
        "        scores_train.append(score_train)\n",
        "\n",
        "        # Predecimos en test\n",
        "        y_pred = reg.predict(X_test)    \n",
        "\n",
        "        # Medimos la performance de la predicción en test\n",
        "        score_test = sk.metrics.mean_squared_error(y_test, y_pred,squared=False).round()\n",
        "        scores_test.append(score_test)\n",
        "        \n",
        "        print(f\"{fold=}, {score_train=} {score_test=}\")\n",
        "        \n",
        "\n",
        "    print(f\"Train scores mean={pd.Series(scores_train).mean()}, std={pd.Series(scores_train).std()}\")\n",
        "    print(f\"Test scores mean={pd.Series(scores_test).mean()}, std={pd.Series(scores_test).std()}\")\n",
        "\n",
        "    ## Datos a predecir \n",
        "    X = df_train[df_train.columns.drop('price')]\n",
        "    y = df_train['price']\n",
        "    X_prueba = df_test[df_train.columns.drop('price')] # cuidado:\n",
        "\n",
        "    # Entrenamos el modelo con todos los datos\n",
        "    reg.fit(X, y)\n",
        "\n",
        "    # Predecimos\n",
        "    df_test['price'] = reg.predict(X_prueba)\n",
        "\n",
        "    # Grabamos\n",
        "    # df_test['price'].to_csv('solucion_la_plata.csv', index=True)\n",
        "\n",
        "    display(pd.DataFrame(zip(df_train.columns.drop('price'), \n",
        "                             reg.feature_importances_*100), \n",
        "                         columns=[\"column\", \"feature_importance\"]).sort_values(by=\"feature_importance\", ascending=False).head(10))\n",
        "\n",
        "    return df_test['price']"
      ]
    },
    {
      "cell_type": "code",
      "execution_count": 494,
      "metadata": {},
      "outputs": [
        {
          "name": "stdout",
          "output_type": "stream",
          "text": [
            "Resto de CABA\n",
            "fold=0, score_train=95479.0 score_test=57108.0\n",
            "fold=1, score_train=97816.0 score_test=51359.0\n",
            "fold=2, score_train=95532.0 score_test=78328.0\n",
            "fold=3, score_train=95595.0 score_test=53826.0\n",
            "fold=4, score_train=95411.0 score_test=69299.0\n",
            "fold=5, score_train=93397.0 score_test=85791.0\n",
            "fold=6, score_train=94491.0 score_test=82364.0\n",
            "fold=7, score_train=62428.0 score_test=253449.0\n",
            "fold=8, score_train=95387.0 score_test=62280.0\n",
            "fold=9, score_train=94378.0 score_test=55461.0\n",
            "Train scores mean=91991.4, std=10449.609532311615\n",
            "Test scores mean=84926.5, std=60501.48986457551\n"
          ]
        },
        {
          "data": {
            "text/html": [
              "<div>\n",
              "<style scoped>\n",
              "    .dataframe tbody tr th:only-of-type {\n",
              "        vertical-align: middle;\n",
              "    }\n",
              "\n",
              "    .dataframe tbody tr th {\n",
              "        vertical-align: top;\n",
              "    }\n",
              "\n",
              "    .dataframe thead th {\n",
              "        text-align: right;\n",
              "    }\n",
              "</style>\n",
              "<table border=\"1\" class=\"dataframe\">\n",
              "  <thead>\n",
              "    <tr style=\"text-align: right;\">\n",
              "      <th></th>\n",
              "      <th>column</th>\n",
              "      <th>feature_importance</th>\n",
              "    </tr>\n",
              "  </thead>\n",
              "  <tbody>\n",
              "    <tr>\n",
              "      <th>0</th>\n",
              "      <td>surface_covered</td>\n",
              "      <td>56.547312</td>\n",
              "    </tr>\n",
              "    <tr>\n",
              "      <th>3</th>\n",
              "      <td>bathrooms</td>\n",
              "      <td>15.799908</td>\n",
              "    </tr>\n",
              "    <tr>\n",
              "      <th>2</th>\n",
              "      <td>lon</td>\n",
              "      <td>5.312617</td>\n",
              "    </tr>\n",
              "    <tr>\n",
              "      <th>6</th>\n",
              "      <td>desc_suite</td>\n",
              "      <td>3.887439</td>\n",
              "    </tr>\n",
              "    <tr>\n",
              "      <th>4</th>\n",
              "      <td>surface_total</td>\n",
              "      <td>3.680048</td>\n",
              "    </tr>\n",
              "    <tr>\n",
              "      <th>8</th>\n",
              "      <td>surface_covered_imputed</td>\n",
              "      <td>3.377092</td>\n",
              "    </tr>\n",
              "    <tr>\n",
              "      <th>7</th>\n",
              "      <td>desc_pileta|piscina</td>\n",
              "      <td>2.607506</td>\n",
              "    </tr>\n",
              "    <tr>\n",
              "      <th>1</th>\n",
              "      <td>lat</td>\n",
              "      <td>1.663913</td>\n",
              "    </tr>\n",
              "    <tr>\n",
              "      <th>9</th>\n",
              "      <td>start_day</td>\n",
              "      <td>1.090057</td>\n",
              "    </tr>\n",
              "    <tr>\n",
              "      <th>42</th>\n",
              "      <td>start_year</td>\n",
              "      <td>0.933592</td>\n",
              "    </tr>\n",
              "  </tbody>\n",
              "</table>\n",
              "</div>"
            ],
            "text/plain": [
              "                     column  feature_importance\n",
              "0           surface_covered           56.547312\n",
              "3                 bathrooms           15.799908\n",
              "2                       lon            5.312617\n",
              "6                desc_suite            3.887439\n",
              "4             surface_total            3.680048\n",
              "8   surface_covered_imputed            3.377092\n",
              "7       desc_pileta|piscina            2.607506\n",
              "1                       lat            1.663913\n",
              "9                 start_day            1.090057\n",
              "42               start_year            0.933592"
            ]
          },
          "metadata": {},
          "output_type": "display_data"
        },
        {
          "name": "stdout",
          "output_type": "stream",
          "text": [
            "La Plata\n",
            "fold=0, score_train=8390.0 score_test=61791.0\n",
            "fold=1, score_train=9713.0 score_test=19453.0\n",
            "fold=2, score_train=10993.0 score_test=22136.0\n",
            "fold=3, score_train=10880.0 score_test=27116.0\n",
            "fold=4, score_train=10980.0 score_test=13735.0\n",
            "fold=5, score_train=9934.0 score_test=37256.0\n",
            "fold=6, score_train=10266.0 score_test=22440.0\n",
            "fold=7, score_train=10821.0 score_test=7721.0\n",
            "fold=8, score_train=11185.0 score_test=10119.0\n",
            "fold=9, score_train=10716.0 score_test=7947.0\n",
            "Train scores mean=10387.8, std=853.5848327299792\n",
            "Test scores mean=22971.4, std=16500.339506271444\n"
          ]
        },
        {
          "data": {
            "text/html": [
              "<div>\n",
              "<style scoped>\n",
              "    .dataframe tbody tr th:only-of-type {\n",
              "        vertical-align: middle;\n",
              "    }\n",
              "\n",
              "    .dataframe tbody tr th {\n",
              "        vertical-align: top;\n",
              "    }\n",
              "\n",
              "    .dataframe thead th {\n",
              "        text-align: right;\n",
              "    }\n",
              "</style>\n",
              "<table border=\"1\" class=\"dataframe\">\n",
              "  <thead>\n",
              "    <tr style=\"text-align: right;\">\n",
              "      <th></th>\n",
              "      <th>column</th>\n",
              "      <th>feature_importance</th>\n",
              "    </tr>\n",
              "  </thead>\n",
              "  <tbody>\n",
              "    <tr>\n",
              "      <th>0</th>\n",
              "      <td>surface_covered</td>\n",
              "      <td>26.121694</td>\n",
              "    </tr>\n",
              "    <tr>\n",
              "      <th>2</th>\n",
              "      <td>pasillo</td>\n",
              "      <td>7.461533</td>\n",
              "    </tr>\n",
              "    <tr>\n",
              "      <th>5</th>\n",
              "      <td>bano dormitorio</td>\n",
              "      <td>6.313249</td>\n",
              "    </tr>\n",
              "    <tr>\n",
              "      <th>1</th>\n",
              "      <td>dormitorio</td>\n",
              "      <td>6.304603</td>\n",
              "    </tr>\n",
              "    <tr>\n",
              "      <th>3</th>\n",
              "      <td>surface_total</td>\n",
              "      <td>5.505675</td>\n",
              "    </tr>\n",
              "    <tr>\n",
              "      <th>4</th>\n",
              "      <td>rooms</td>\n",
              "      <td>3.189154</td>\n",
              "    </tr>\n",
              "    <tr>\n",
              "      <th>7</th>\n",
              "      <td>lon</td>\n",
              "      <td>2.806421</td>\n",
              "    </tr>\n",
              "    <tr>\n",
              "      <th>13</th>\n",
              "      <td>bathrooms</td>\n",
              "      <td>2.538298</td>\n",
              "    </tr>\n",
              "    <tr>\n",
              "      <th>19</th>\n",
              "      <td>mts</td>\n",
              "      <td>2.049968</td>\n",
              "    </tr>\n",
              "    <tr>\n",
              "      <th>18</th>\n",
              "      <td>consta</td>\n",
              "      <td>1.616701</td>\n",
              "    </tr>\n",
              "  </tbody>\n",
              "</table>\n",
              "</div>"
            ],
            "text/plain": [
              "             column  feature_importance\n",
              "0   surface_covered           26.121694\n",
              "2           pasillo            7.461533\n",
              "5   bano dormitorio            6.313249\n",
              "1        dormitorio            6.304603\n",
              "3     surface_total            5.505675\n",
              "4             rooms            3.189154\n",
              "7               lon            2.806421\n",
              "13        bathrooms            2.538298\n",
              "19              mts            2.049968\n",
              "18           consta            1.616701"
            ]
          },
          "metadata": {},
          "output_type": "display_data"
        },
        {
          "name": "stdout",
          "output_type": "stream",
          "text": [
            "Puerto Madero y Catalinas\n",
            "fold=0, score_train=178823.0 score_test=220512.0\n",
            "fold=1, score_train=178174.0 score_test=234149.0\n",
            "fold=2, score_train=177049.0 score_test=221626.0\n",
            "fold=3, score_train=180904.0 score_test=183760.0\n",
            "fold=4, score_train=174806.0 score_test=263824.0\n",
            "fold=5, score_train=178308.0 score_test=192065.0\n",
            "fold=6, score_train=173419.0 score_test=378624.0\n",
            "fold=7, score_train=181327.0 score_test=147473.0\n",
            "fold=8, score_train=165395.0 score_test=427007.0\n",
            "fold=9, score_train=173555.0 score_test=328847.0\n",
            "Train scores mean=176176.0, std=4687.696686243919\n",
            "Test scores mean=259788.7, std=90374.06529905456\n"
          ]
        },
        {
          "data": {
            "text/html": [
              "<div>\n",
              "<style scoped>\n",
              "    .dataframe tbody tr th:only-of-type {\n",
              "        vertical-align: middle;\n",
              "    }\n",
              "\n",
              "    .dataframe tbody tr th {\n",
              "        vertical-align: top;\n",
              "    }\n",
              "\n",
              "    .dataframe thead th {\n",
              "        text-align: right;\n",
              "    }\n",
              "</style>\n",
              "<table border=\"1\" class=\"dataframe\">\n",
              "  <thead>\n",
              "    <tr style=\"text-align: right;\">\n",
              "      <th></th>\n",
              "      <th>column</th>\n",
              "      <th>feature_importance</th>\n",
              "    </tr>\n",
              "  </thead>\n",
              "  <tbody>\n",
              "    <tr>\n",
              "      <th>0</th>\n",
              "      <td>surface_covered</td>\n",
              "      <td>86.045254</td>\n",
              "    </tr>\n",
              "    <tr>\n",
              "      <th>2</th>\n",
              "      <td>cocheras</td>\n",
              "      <td>0.910046</td>\n",
              "    </tr>\n",
              "    <tr>\n",
              "      <th>1</th>\n",
              "      <td>surface_total</td>\n",
              "      <td>0.877145</td>\n",
              "    </tr>\n",
              "    <tr>\n",
              "      <th>5</th>\n",
              "      <td>excelentes</td>\n",
              "      <td>0.861889</td>\n",
              "    </tr>\n",
              "    <tr>\n",
              "      <th>4</th>\n",
              "      <td>alvear</td>\n",
              "      <td>0.516843</td>\n",
              "    </tr>\n",
              "    <tr>\n",
              "      <th>3</th>\n",
              "      <td>amoblado</td>\n",
              "      <td>0.497395</td>\n",
              "    </tr>\n",
              "    <tr>\n",
              "      <th>12</th>\n",
              "      <td>real</td>\n",
              "      <td>0.445198</td>\n",
              "    </tr>\n",
              "    <tr>\n",
              "      <th>15</th>\n",
              "      <td>diario</td>\n",
              "      <td>0.384339</td>\n",
              "    </tr>\n",
              "    <tr>\n",
              "      <th>10</th>\n",
              "      <td>covered</td>\n",
              "      <td>0.315167</td>\n",
              "    </tr>\n",
              "    <tr>\n",
              "      <th>8</th>\n",
              "      <td>semi integrada</td>\n",
              "      <td>0.306127</td>\n",
              "    </tr>\n",
              "  </tbody>\n",
              "</table>\n",
              "</div>"
            ],
            "text/plain": [
              "             column  feature_importance\n",
              "0   surface_covered           86.045254\n",
              "2          cocheras            0.910046\n",
              "1     surface_total            0.877145\n",
              "5        excelentes            0.861889\n",
              "4            alvear            0.516843\n",
              "3          amoblado            0.497395\n",
              "12             real            0.445198\n",
              "15           diario            0.384339\n",
              "10          covered            0.315167\n",
              "8    semi integrada            0.306127"
            ]
          },
          "metadata": {},
          "output_type": "display_data"
        },
        {
          "name": "stdout",
          "output_type": "stream",
          "text": [
            "Corredor Norte\n",
            "fold=0, score_train=175357.0 score_test=637186.0\n",
            "fold=1, score_train=194285.0 score_test=163432.0\n",
            "fold=2, score_train=190108.0 score_test=196686.0\n",
            "fold=3, score_train=194474.0 score_test=242532.0\n",
            "fold=4, score_train=191592.0 score_test=183442.0\n",
            "fold=5, score_train=190515.0 score_test=207057.0\n",
            "fold=6, score_train=193944.0 score_test=173666.0\n",
            "fold=7, score_train=192647.0 score_test=156287.0\n",
            "fold=8, score_train=189927.0 score_test=216826.0\n",
            "fold=9, score_train=194013.0 score_test=200673.0\n",
            "Train scores mean=190686.2, std=5672.244721252582\n",
            "Test scores mean=237778.7, std=142683.92062570408\n"
          ]
        },
        {
          "data": {
            "text/html": [
              "<div>\n",
              "<style scoped>\n",
              "    .dataframe tbody tr th:only-of-type {\n",
              "        vertical-align: middle;\n",
              "    }\n",
              "\n",
              "    .dataframe tbody tr th {\n",
              "        vertical-align: top;\n",
              "    }\n",
              "\n",
              "    .dataframe thead th {\n",
              "        text-align: right;\n",
              "    }\n",
              "</style>\n",
              "<table border=\"1\" class=\"dataframe\">\n",
              "  <thead>\n",
              "    <tr style=\"text-align: right;\">\n",
              "      <th></th>\n",
              "      <th>column</th>\n",
              "      <th>feature_importance</th>\n",
              "    </tr>\n",
              "  </thead>\n",
              "  <tbody>\n",
              "    <tr>\n",
              "      <th>0</th>\n",
              "      <td>surface_covered</td>\n",
              "      <td>60.564338</td>\n",
              "    </tr>\n",
              "    <tr>\n",
              "      <th>1</th>\n",
              "      <td>bathrooms_rooms</td>\n",
              "      <td>19.476624</td>\n",
              "    </tr>\n",
              "    <tr>\n",
              "      <th>2</th>\n",
              "      <td>surface_covered_imputed</td>\n",
              "      <td>7.859003</td>\n",
              "    </tr>\n",
              "    <tr>\n",
              "      <th>5</th>\n",
              "      <td>desc_a(mm|m)enities</td>\n",
              "      <td>4.119902</td>\n",
              "    </tr>\n",
              "    <tr>\n",
              "      <th>7</th>\n",
              "      <td>desc_pileta|piscina</td>\n",
              "      <td>2.263380</td>\n",
              "    </tr>\n",
              "    <tr>\n",
              "      <th>4</th>\n",
              "      <td>surface_total</td>\n",
              "      <td>1.438625</td>\n",
              "    </tr>\n",
              "    <tr>\n",
              "      <th>9</th>\n",
              "      <td>desc_suite</td>\n",
              "      <td>1.157876</td>\n",
              "    </tr>\n",
              "    <tr>\n",
              "      <th>3</th>\n",
              "      <td>lon</td>\n",
              "      <td>1.076863</td>\n",
              "    </tr>\n",
              "    <tr>\n",
              "      <th>8</th>\n",
              "      <td>covered</td>\n",
              "      <td>0.602573</td>\n",
              "    </tr>\n",
              "    <tr>\n",
              "      <th>6</th>\n",
              "      <td>lat</td>\n",
              "      <td>0.518461</td>\n",
              "    </tr>\n",
              "  </tbody>\n",
              "</table>\n",
              "</div>"
            ],
            "text/plain": [
              "                    column  feature_importance\n",
              "0          surface_covered           60.564338\n",
              "1          bathrooms_rooms           19.476624\n",
              "2  surface_covered_imputed            7.859003\n",
              "5      desc_a(mm|m)enities            4.119902\n",
              "7      desc_pileta|piscina            2.263380\n",
              "4            surface_total            1.438625\n",
              "9               desc_suite            1.157876\n",
              "3                      lon            1.076863\n",
              "8                  covered            0.602573\n",
              "6                      lat            0.518461"
            ]
          },
          "metadata": {},
          "output_type": "display_data"
        },
        {
          "name": "stdout",
          "output_type": "stream",
          "text": [
            "Corredor Sur\n",
            "fold=0, score_train=45367.0 score_test=40927.0\n",
            "fold=1, score_train=44678.0 score_test=40555.0\n",
            "fold=2, score_train=45439.0 score_test=37905.0\n",
            "fold=3, score_train=44994.0 score_test=42182.0\n",
            "fold=4, score_train=43196.0 score_test=73276.0\n",
            "fold=5, score_train=46095.0 score_test=46150.0\n",
            "fold=6, score_train=42520.0 score_test=81551.0\n",
            "fold=7, score_train=45683.0 score_test=38687.0\n",
            "fold=8, score_train=45754.0 score_test=40778.0\n",
            "fold=9, score_train=39631.0 score_test=92820.0\n",
            "Train scores mean=44335.7, std=2013.3772649732368\n",
            "Test scores mean=53483.1, std=20699.596284039508\n"
          ]
        },
        {
          "data": {
            "text/html": [
              "<div>\n",
              "<style scoped>\n",
              "    .dataframe tbody tr th:only-of-type {\n",
              "        vertical-align: middle;\n",
              "    }\n",
              "\n",
              "    .dataframe tbody tr th {\n",
              "        vertical-align: top;\n",
              "    }\n",
              "\n",
              "    .dataframe thead th {\n",
              "        text-align: right;\n",
              "    }\n",
              "</style>\n",
              "<table border=\"1\" class=\"dataframe\">\n",
              "  <thead>\n",
              "    <tr style=\"text-align: right;\">\n",
              "      <th></th>\n",
              "      <th>column</th>\n",
              "      <th>feature_importance</th>\n",
              "    </tr>\n",
              "  </thead>\n",
              "  <tbody>\n",
              "    <tr>\n",
              "      <th>0</th>\n",
              "      <td>bathrooms</td>\n",
              "      <td>36.622131</td>\n",
              "    </tr>\n",
              "    <tr>\n",
              "      <th>1</th>\n",
              "      <td>surface_covered</td>\n",
              "      <td>19.303132</td>\n",
              "    </tr>\n",
              "    <tr>\n",
              "      <th>2</th>\n",
              "      <td>lat</td>\n",
              "      <td>10.712168</td>\n",
              "    </tr>\n",
              "    <tr>\n",
              "      <th>3</th>\n",
              "      <td>surface_total</td>\n",
              "      <td>5.259673</td>\n",
              "    </tr>\n",
              "    <tr>\n",
              "      <th>4</th>\n",
              "      <td>lon</td>\n",
              "      <td>2.920194</td>\n",
              "    </tr>\n",
              "    <tr>\n",
              "      <th>26</th>\n",
              "      <td>surface_covered_imputed</td>\n",
              "      <td>1.232062</td>\n",
              "    </tr>\n",
              "    <tr>\n",
              "      <th>15</th>\n",
              "      <td>baulera</td>\n",
              "      <td>1.054937</td>\n",
              "    </tr>\n",
              "    <tr>\n",
              "      <th>8</th>\n",
              "      <td>desc_pileta|piscina</td>\n",
              "      <td>0.895135</td>\n",
              "    </tr>\n",
              "    <tr>\n",
              "      <th>88</th>\n",
              "      <td>piscina</td>\n",
              "      <td>0.884762</td>\n",
              "    </tr>\n",
              "    <tr>\n",
              "      <th>7</th>\n",
              "      <td>cochera</td>\n",
              "      <td>0.812407</td>\n",
              "    </tr>\n",
              "  </tbody>\n",
              "</table>\n",
              "</div>"
            ],
            "text/plain": [
              "                     column  feature_importance\n",
              "0                 bathrooms           36.622131\n",
              "1           surface_covered           19.303132\n",
              "2                       lat           10.712168\n",
              "3             surface_total            5.259673\n",
              "4                       lon            2.920194\n",
              "26  surface_covered_imputed            1.232062\n",
              "15                  baulera            1.054937\n",
              "8       desc_pileta|piscina            0.895135\n",
              "88                  piscina            0.884762\n",
              "7                   cochera            0.812407"
            ]
          },
          "metadata": {},
          "output_type": "display_data"
        },
        {
          "name": "stdout",
          "output_type": "stream",
          "text": [
            "Caballito\n",
            "fold=0, score_train=129374.0 score_test=126308.0\n",
            "fold=1, score_train=123943.0 score_test=51563.0\n",
            "fold=2, score_train=61451.0 score_test=341421.0\n",
            "fold=3, score_train=124889.0 score_test=88268.0\n",
            "fold=4, score_train=128144.0 score_test=58139.0\n",
            "fold=5, score_train=130239.0 score_test=119575.0\n",
            "fold=6, score_train=126870.0 score_test=71678.0\n",
            "fold=7, score_train=125533.0 score_test=84358.0\n",
            "fold=8, score_train=126367.0 score_test=66550.0\n",
            "fold=9, score_train=125060.0 score_test=44322.0\n",
            "Train scores mean=120187.0, std=20736.63503185713\n",
            "Test scores mean=105218.2, std=87298.3204392336\n"
          ]
        },
        {
          "data": {
            "text/html": [
              "<div>\n",
              "<style scoped>\n",
              "    .dataframe tbody tr th:only-of-type {\n",
              "        vertical-align: middle;\n",
              "    }\n",
              "\n",
              "    .dataframe tbody tr th {\n",
              "        vertical-align: top;\n",
              "    }\n",
              "\n",
              "    .dataframe thead th {\n",
              "        text-align: right;\n",
              "    }\n",
              "</style>\n",
              "<table border=\"1\" class=\"dataframe\">\n",
              "  <thead>\n",
              "    <tr style=\"text-align: right;\">\n",
              "      <th></th>\n",
              "      <th>column</th>\n",
              "      <th>feature_importance</th>\n",
              "    </tr>\n",
              "  </thead>\n",
              "  <tbody>\n",
              "    <tr>\n",
              "      <th>0</th>\n",
              "      <td>lat</td>\n",
              "      <td>37.657968</td>\n",
              "    </tr>\n",
              "    <tr>\n",
              "      <th>2</th>\n",
              "      <td>surface_covered</td>\n",
              "      <td>23.701649</td>\n",
              "    </tr>\n",
              "    <tr>\n",
              "      <th>4</th>\n",
              "      <td>desc_centro</td>\n",
              "      <td>9.348639</td>\n",
              "    </tr>\n",
              "    <tr>\n",
              "      <th>3</th>\n",
              "      <td>surface_total</td>\n",
              "      <td>6.958776</td>\n",
              "    </tr>\n",
              "    <tr>\n",
              "      <th>6</th>\n",
              "      <td>bedrooms_imputed</td>\n",
              "      <td>6.058269</td>\n",
              "    </tr>\n",
              "    <tr>\n",
              "      <th>7</th>\n",
              "      <td>desc_avenida</td>\n",
              "      <td>3.630356</td>\n",
              "    </tr>\n",
              "    <tr>\n",
              "      <th>1</th>\n",
              "      <td>lon</td>\n",
              "      <td>3.063785</td>\n",
              "    </tr>\n",
              "    <tr>\n",
              "      <th>5</th>\n",
              "      <td>desc_subte</td>\n",
              "      <td>2.868881</td>\n",
              "    </tr>\n",
              "    <tr>\n",
              "      <th>8</th>\n",
              "      <td>bathrooms</td>\n",
              "      <td>2.156723</td>\n",
              "    </tr>\n",
              "    <tr>\n",
              "      <th>12</th>\n",
              "      <td>desc_estacion</td>\n",
              "      <td>1.615406</td>\n",
              "    </tr>\n",
              "  </tbody>\n",
              "</table>\n",
              "</div>"
            ],
            "text/plain": [
              "              column  feature_importance\n",
              "0                lat           37.657968\n",
              "2    surface_covered           23.701649\n",
              "4        desc_centro            9.348639\n",
              "3      surface_total            6.958776\n",
              "6   bedrooms_imputed            6.058269\n",
              "7       desc_avenida            3.630356\n",
              "1                lon            3.063785\n",
              "5         desc_subte            2.868881\n",
              "8          bathrooms            2.156723\n",
              "12     desc_estacion            1.615406"
            ]
          },
          "metadata": {},
          "output_type": "display_data"
        }
      ],
      "source": [
        "print(\"Resto de CABA\")\n",
        "solucion_caba = modelado(df_train_caba,df_test_caba)\n",
        "print(\"La Plata\")\n",
        "solucion_la_plata = modelado(df_train_la_plata,df_test_la_plata)\n",
        "print(\"Puerto Madero y Catalinas\")\n",
        "solucion_madero = modelado(df_train_madero,df_test_madero)\n",
        "print(\"Corredor Norte\")\n",
        "solucion_corredor_norte = modelado(df_train_corredor_norte,df_test_corredor_norte)\n",
        "print(\"Corredor Sur\")\n",
        "solucion_corredor_sur = modelado(df_train_corredor_sur,df_test_corredor_sur)\n",
        "print(\"Caballito\")\n",
        "solucion_caballito = modelado(df_train_caballito,df_test_caballito)\n",
        "# print(\"Noroeste\")\n",
        "# solucion_noroeste = modelado(df_train_noroeste,df_test_noroeste)\n",
        "# print(\"Centro\")\n",
        "# solucion_centro = modelado(df_train_centro,df_test_centro)"
      ]
    },
    {
      "attachments": {},
      "cell_type": "markdown",
      "metadata": {},
      "source": [
        "## Entrega final"
      ]
    },
    {
      "cell_type": "code",
      "execution_count": 495,
      "metadata": {},
      "outputs": [],
      "source": [
        "pd.concat((solucion_caba,solucion_la_plata,\n",
        "           solucion_madero,\n",
        "           solucion_corredor_norte,\n",
        "           solucion_corredor_sur,\n",
        "           solucion_caballito\n",
        "        #    solucion_noroeste,solucion_centro\n",
        "           )).to_csv('solucion.csv', index=True)"
      ]
    }
  ],
  "metadata": {
    "colab": {
      "provenance": []
    },
    "kernelspec": {
      "display_name": "Python 3",
      "name": "python3"
    },
    "language_info": {
      "codemirror_mode": {
        "name": "ipython",
        "version": 3
      },
      "file_extension": ".py",
      "mimetype": "text/x-python",
      "name": "python",
      "nbconvert_exporter": "python",
      "pygments_lexer": "ipython3",
      "version": "3.10.11"
    }
  },
  "nbformat": 4,
  "nbformat_minor": 0
}
