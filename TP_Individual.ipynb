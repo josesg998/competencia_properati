{
  "cells": [
    {
      "cell_type": "markdown",
      "metadata": {
        "id": "view-in-github",
        "colab_type": "text"
      },
      "source": [
        "<a href=\"https://colab.research.google.com/github/josesg998/competencia_properati/blob/main/TP_Individual.ipynb\" target=\"_parent\"><img src=\"https://colab.research.google.com/assets/colab-badge.svg\" alt=\"Open In Colab\"/></a>"
      ]
    },
    {
      "cell_type": "code",
      "execution_count": 1,
      "metadata": {
        "id": "jw8ogMDOpvKP"
      },
      "outputs": [],
      "source": [
        "import pandas as pd\n",
        "\n",
        "import sklearn as sk\n",
        "from sklearn import model_selection\n",
        "from sklearn import ensemble\n",
        "from sklearn import metrics"
      ]
    },
    {
      "cell_type": "code",
      "execution_count": 11,
      "metadata": {
        "id": "b8SSObwGJo2Q",
        "outputId": "a548275b-3437-4529-d8c3-ef5f77f9ee3c",
        "colab": {
          "base_uri": "https://localhost:8080/"
        }
      },
      "outputs": [
        {
          "output_type": "stream",
          "name": "stdout",
          "text": [
            "Mounted at /content/drive\n"
          ]
        }
      ],
      "source": [
        "from google.colab import drive\n",
        "drive.mount('/content/drive',force_remount=True)"
      ]
    },
    {
      "cell_type": "markdown",
      "metadata": {
        "id": "20D-m6GPyefp"
      },
      "source": [
        "# Lectura de datos"
      ]
    },
    {
      "cell_type": "code",
      "source": [
        "#DIR = \"/content/drive/MyDrive/Data Mining Properati/\"\n",
        "\n",
        "#df_train = pd.read_feather(DIR + 'properati_entrenamiento.ftr').set_index('id')\n",
        "#df_test = pd.read_feather(DIR + \"properati_a_predecir.ftr\").set_index('id')"
      ],
      "metadata": {
        "id": "kbMKE8Q4HvMq"
      },
      "execution_count": null,
      "outputs": []
    },
    {
      "cell_type": "code",
      "execution_count": 14,
      "metadata": {
        "id": "CtV0wOGsqJLC"
      },
      "outputs": [],
      "source": [
        "#df_train = pd.read_csv(DIR + \"properati_entrenamiento.zip\", index_col=\"id\")  \n",
        "#df_train.head()\n",
        "\n",
        "# df_test = pd.read_csv(DIR + \"properati_a_predecir.zip\", index_col=\"id\")  \n",
        "#df_test.head()\n",
        "\n",
        "# df_train = pd.read_csv('bases/properati_entrenamiento.csv',index_col='id')\n",
        "# df_test = pd.read_csv('bases/properati_a_predecir.csv',index_col='id')\n",
        "# df_test.head()\n",
        "\n",
        "# df_train.reset_index(drop=False).to_feather('bases/properati_entrenamiento.ftr')\n",
        "# df_test.reset_index(drop=False).to_feather('bases/properati_a_predecir.ftr')"
      ]
    },
    {
      "cell_type": "code",
      "execution_count": null,
      "metadata": {
        "id": "Ntqhc1C3DFqo",
        "outputId": "71708d59-dff1-4e21-a7c1-2941cd913ce0"
      },
      "outputs": [
        {
          "data": {
            "text/html": [
              "<div>\n",
              "<style scoped>\n",
              "    .dataframe tbody tr th:only-of-type {\n",
              "        vertical-align: middle;\n",
              "    }\n",
              "\n",
              "    .dataframe tbody tr th {\n",
              "        vertical-align: top;\n",
              "    }\n",
              "\n",
              "    .dataframe thead th {\n",
              "        text-align: right;\n",
              "    }\n",
              "</style>\n",
              "<table border=\"1\" class=\"dataframe\">\n",
              "  <thead>\n",
              "    <tr style=\"text-align: right;\">\n",
              "      <th></th>\n",
              "      <th>ad_type</th>\n",
              "      <th>start_date</th>\n",
              "      <th>end_date</th>\n",
              "      <th>created_on</th>\n",
              "      <th>lat</th>\n",
              "      <th>lon</th>\n",
              "      <th>l1</th>\n",
              "      <th>l2</th>\n",
              "      <th>l3</th>\n",
              "      <th>l4</th>\n",
              "      <th>...</th>\n",
              "      <th>bathrooms</th>\n",
              "      <th>surface_total</th>\n",
              "      <th>surface_covered</th>\n",
              "      <th>price</th>\n",
              "      <th>currency</th>\n",
              "      <th>price_period</th>\n",
              "      <th>title</th>\n",
              "      <th>description</th>\n",
              "      <th>property_type</th>\n",
              "      <th>operation_type</th>\n",
              "    </tr>\n",
              "    <tr>\n",
              "      <th>id</th>\n",
              "      <th></th>\n",
              "      <th></th>\n",
              "      <th></th>\n",
              "      <th></th>\n",
              "      <th></th>\n",
              "      <th></th>\n",
              "      <th></th>\n",
              "      <th></th>\n",
              "      <th></th>\n",
              "      <th></th>\n",
              "      <th></th>\n",
              "      <th></th>\n",
              "      <th></th>\n",
              "      <th></th>\n",
              "      <th></th>\n",
              "      <th></th>\n",
              "      <th></th>\n",
              "      <th></th>\n",
              "      <th></th>\n",
              "      <th></th>\n",
              "      <th></th>\n",
              "    </tr>\n",
              "  </thead>\n",
              "  <tbody>\n",
              "    <tr>\n",
              "      <th>1</th>\n",
              "      <td>Propiedad</td>\n",
              "      <td>2019-07-07</td>\n",
              "      <td>2019-07-10</td>\n",
              "      <td>2019-07-07</td>\n",
              "      <td>NaN</td>\n",
              "      <td>NaN</td>\n",
              "      <td>Argentina</td>\n",
              "      <td>Buenos Aires Interior</td>\n",
              "      <td>Urquiza</td>\n",
              "      <td>Urquiza</td>\n",
              "      <td>...</td>\n",
              "      <td>NaN</td>\n",
              "      <td>NaN</td>\n",
              "      <td>NaN</td>\n",
              "      <td>3800.0</td>\n",
              "      <td>ARS</td>\n",
              "      <td>Mensual</td>\n",
              "      <td>COCHERA EN ALQUILER</td>\n",
              "      <td>Xintel (SLC-SI1-560) Alquiler de Cochera en CA...</td>\n",
              "      <td>Cochera</td>\n",
              "      <td>Alquiler</td>\n",
              "    </tr>\n",
              "    <tr>\n",
              "      <th>2</th>\n",
              "      <td>Propiedad</td>\n",
              "      <td>2019-07-07</td>\n",
              "      <td>9999-12-31</td>\n",
              "      <td>2019-07-07</td>\n",
              "      <td>-64.184812</td>\n",
              "      <td>-31.421307</td>\n",
              "      <td>Argentina</td>\n",
              "      <td>Córdoba</td>\n",
              "      <td>Córdoba</td>\n",
              "      <td>None</td>\n",
              "      <td>...</td>\n",
              "      <td>NaN</td>\n",
              "      <td>12.0</td>\n",
              "      <td>12.0</td>\n",
              "      <td>16000.0</td>\n",
              "      <td>USD</td>\n",
              "      <td>Mensual</td>\n",
              "      <td>Cochera venta</td>\n",
              "      <td>VENDO COCHERA- EXCELENTE UBICACIÓN! Calle Buen...</td>\n",
              "      <td>Cochera</td>\n",
              "      <td>Venta</td>\n",
              "    </tr>\n",
              "    <tr>\n",
              "      <th>3</th>\n",
              "      <td>Propiedad</td>\n",
              "      <td>2019-07-07</td>\n",
              "      <td>2019-07-09</td>\n",
              "      <td>2019-07-07</td>\n",
              "      <td>-57.965880</td>\n",
              "      <td>-34.902568</td>\n",
              "      <td>Argentina</td>\n",
              "      <td>Bs.As. G.B.A. Zona Sur</td>\n",
              "      <td>La Plata</td>\n",
              "      <td>La Plata</td>\n",
              "      <td>...</td>\n",
              "      <td>NaN</td>\n",
              "      <td>12.0</td>\n",
              "      <td>NaN</td>\n",
              "      <td>16000.0</td>\n",
              "      <td>USD</td>\n",
              "      <td>None</td>\n",
              "      <td>Cochera cubierta con portón automatizado en ve...</td>\n",
              "      <td>Cochera Cubierta en venta ubicada en calle 7 e...</td>\n",
              "      <td>Cochera</td>\n",
              "      <td>Venta</td>\n",
              "    </tr>\n",
              "  </tbody>\n",
              "</table>\n",
              "<p>3 rows × 24 columns</p>\n",
              "</div>"
            ],
            "text/plain": [
              "      ad_type  start_date    end_date  created_on        lat        lon  \\\n",
              "id                                                                        \n",
              "1   Propiedad  2019-07-07  2019-07-10  2019-07-07        NaN        NaN   \n",
              "2   Propiedad  2019-07-07  9999-12-31  2019-07-07 -64.184812 -31.421307   \n",
              "3   Propiedad  2019-07-07  2019-07-09  2019-07-07 -57.965880 -34.902568   \n",
              "\n",
              "           l1                      l2        l3        l4  ... bathrooms  \\\n",
              "id                                                         ...             \n",
              "1   Argentina   Buenos Aires Interior   Urquiza   Urquiza  ...       NaN   \n",
              "2   Argentina                 Córdoba   Córdoba      None  ...       NaN   \n",
              "3   Argentina  Bs.As. G.B.A. Zona Sur  La Plata  La Plata  ...       NaN   \n",
              "\n",
              "    surface_total  surface_covered    price  currency  price_period  \\\n",
              "id                                                                    \n",
              "1             NaN              NaN   3800.0       ARS       Mensual   \n",
              "2            12.0             12.0  16000.0       USD       Mensual   \n",
              "3            12.0              NaN  16000.0       USD          None   \n",
              "\n",
              "                                                title  \\\n",
              "id                                                      \n",
              "1                                 COCHERA EN ALQUILER   \n",
              "2                                       Cochera venta   \n",
              "3   Cochera cubierta con portón automatizado en ve...   \n",
              "\n",
              "                                          description property_type  \\\n",
              "id                                                                    \n",
              "1   Xintel (SLC-SI1-560) Alquiler de Cochera en CA...       Cochera   \n",
              "2   VENDO COCHERA- EXCELENTE UBICACIÓN! Calle Buen...       Cochera   \n",
              "3   Cochera Cubierta en venta ubicada en calle 7 e...       Cochera   \n",
              "\n",
              "   operation_type  \n",
              "id                 \n",
              "1        Alquiler  \n",
              "2           Venta  \n",
              "3           Venta  \n",
              "\n",
              "[3 rows x 24 columns]"
            ]
          },
          "execution_count": 38,
          "metadata": {},
          "output_type": "execute_result"
        }
      ],
      "source": [
        "df_train = pd.read_feather('bases/properati_entrenamiento.ftr').set_index('id')\n",
        "df_test = pd.read_feather('bases/properati_a_predecir.ftr').set_index('id')\n",
        "df_train.head(3)"
      ]
    },
    {
      "cell_type": "markdown",
      "metadata": {
        "id": "byV0dQi-yiEd"
      },
      "source": [
        "# Entendimiento (magia parte 1 -- AID)"
      ]
    },
    {
      "cell_type": "markdown",
      "metadata": {
        "id": "zjaTnfxkyvo8"
      },
      "source": [
        "# Limpieza y transformación de datos (magia parte 2 -- MD)"
      ]
    },
    {
      "cell_type": "code",
      "execution_count": 15,
      "metadata": {
        "colab": {
          "base_uri": "https://localhost:8080/"
        },
        "id": "ckXCv9f-uia0",
        "outputId": "64137809-dfaa-4848-ff78-7e72df46a04d"
      },
      "outputs": [
        {
          "output_type": "execute_result",
          "data": {
            "text/plain": [
              "(11100, 24)"
            ]
          },
          "metadata": {},
          "execution_count": 15
        }
      ],
      "source": [
        "# Selección de datos. Solo a fines demostrativos. Cambiar!\n",
        "df_train = df_train.loc[(df_train.l2 == \"Córdoba\") & (df_train.operation_type == 'Venta') & (df_train.property_type == 'Casa')]\n",
        "df_train.shape"
      ]
    },
    {
      "cell_type": "code",
      "execution_count": null,
      "metadata": {
        "id": "yg8qNxuNrzQp"
      },
      "outputs": [],
      "source": [
        "## esto tiene que hacerse antes y mejor\n",
        "df_train.fillna(0, inplace=True, downcast= \"infer\")\n",
        "df_test.fillna(0, inplace=True, downcast= \"infer\") "
      ]
    },
    {
      "cell_type": "code",
      "execution_count": null,
      "metadata": {
        "id": "nKSwHBUEUcQy"
      },
      "outputs": [],
      "source": [
        "# Funcion de limpieza (usada en la siguiente sección) que usa y_train\n",
        "def limpiar_fold(X_train, y_train, X_test):\n",
        "    ## TODO: limpiar los datos\n",
        "\n",
        "    return (X_train, y_train, X_test)"
      ]
    },
    {
      "cell_type": "markdown",
      "metadata": {
        "id": "i2jRJmQ-tD4Z"
      },
      "source": [
        "# Entrenamiento del modelo"
      ]
    },
    {
      "cell_type": "markdown",
      "metadata": {
        "id": "PMhVsoXBVYrr"
      },
      "source": [
        "## Territorio de Aprendizaje Automático\n",
        "☢☢☢☢☢☢ Se mira y no se toca ☢☢☢☢☢☢☢"
      ]
    },
    {
      "cell_type": "code",
      "execution_count": null,
      "metadata": {
        "id": "wpS9E1RbRtYm"
      },
      "outputs": [],
      "source": [
        "# Datos para probar\n",
        "df_train = df_train.select_dtypes(include=['float64', 'int64', 'int32', 'int16', 'int8', 'bool'])\n",
        "\n",
        "X = df_train[df_train.columns.drop('price')]\n",
        "y = df_train['price']"
      ]
    },
    {
      "cell_type": "code",
      "execution_count": null,
      "metadata": {
        "colab": {
          "base_uri": "https://localhost:8080/"
        },
        "id": "PoAhfAjlr-rp",
        "outputId": "d24f9ca9-12f4-48c0-826e-63d8c5cfddbe"
      },
      "outputs": [
        {
          "ename": "NameError",
          "evalue": "name 'limpiar_fold' is not defined",
          "output_type": "error",
          "traceback": [
            "\u001b[1;31m---------------------------------------------------------------------------\u001b[0m",
            "\u001b[1;31mNameError\u001b[0m                                 Traceback (most recent call last)",
            "Cell \u001b[1;32mIn[35], line 14\u001b[0m\n\u001b[0;32m     11\u001b[0m \u001b[39mfor\u001b[39;00m fold, (train_index, test_index) \u001b[39min\u001b[39;00m \u001b[39menumerate\u001b[39m(kf\u001b[39m.\u001b[39msplit(X_train_test, y_train_test)):\n\u001b[0;32m     12\u001b[0m     X_train, X_test, y_train, y_test \u001b[39m=\u001b[39m X_train_test\u001b[39m.\u001b[39miloc[train_index], X_train_test\u001b[39m.\u001b[39miloc[test_index], y_train_test\u001b[39m.\u001b[39miloc[train_index], y_train_test\u001b[39m.\u001b[39miloc[test_index]\n\u001b[1;32m---> 14\u001b[0m     X_train, y_train, X_test \u001b[39m=\u001b[39m limpiar_fold(X_train, y_train, X_test)\n\u001b[0;32m     16\u001b[0m     \u001b[39m# Entrenamos el modelo\u001b[39;00m\n\u001b[0;32m     17\u001b[0m     reg\u001b[39m.\u001b[39mfit(X_train, y_train)\n",
            "\u001b[1;31mNameError\u001b[0m: name 'limpiar_fold' is not defined"
          ]
        }
      ],
      "source": [
        "# Creamos el modelo\n",
        "reg = sk.ensemble.RandomForestRegressor(n_estimators=500, max_depth=5, n_jobs=-1, random_state=42)\n",
        "\n",
        "# Partimos en entrenamiento+prueba y validación\n",
        "X_train_test, X_val, y_train_test, y_val = sk.model_selection.train_test_split(X, y, test_size=0.2, random_state=42)\n",
        "\n",
        "scores_train = []\n",
        "scores_test = []\n",
        "# Validación cruzada, 10 folds, shuffle antes\n",
        "kf = sk.model_selection.KFold(n_splits=10, shuffle=True, random_state=42)\n",
        "for fold, (train_index, test_index) in enumerate(kf.split(X_train_test, y_train_test)):\n",
        "    X_train, X_test, y_train, y_test = X_train_test.iloc[train_index], X_train_test.iloc[test_index], y_train_test.iloc[train_index], y_train_test.iloc[test_index]\n",
        "\n",
        "    X_train, y_train, X_test = limpiar_fold(X_train, y_train, X_test)\n",
        "\n",
        "    # Entrenamos el modelo\n",
        "    reg.fit(X_train, y_train)\n",
        "\n",
        "    # Predecimos en train\n",
        "    y_pred = reg.predict(X_train)\n",
        "\n",
        "    # Medimos la performance de la predicción en test\n",
        "    score_train = sk.metrics.mean_squared_error(y_train, y_pred)\n",
        "    scores_train.append(score_train)\n",
        "\n",
        "    # Predecimos en test\n",
        "    y_pred = reg.predict(X_test)    \n",
        "\n",
        "    # Medimos la performance de la predicción en test\n",
        "    score_test = sk.metrics.mean_squared_error(y_test, y_pred)\n",
        "    scores_test.append(score_test)\n",
        "    \n",
        "    print(f\"{fold=}, {score_train=} {score_test=}\")\n",
        "    \n",
        "\n",
        "print(f\"Train scores mean={pd.Series(scores_train).mean()}, std={pd.Series(scores_train).std()}\")\n",
        "print(f\"Test scores mean={pd.Series(scores_test).mean()}, std={pd.Series(scores_test).std()}\")"
      ]
    },
    {
      "cell_type": "markdown",
      "metadata": {
        "id": "sqVkTPzj3kV0"
      },
      "source": [
        "# Predicción para kaggle\n"
      ]
    },
    {
      "cell_type": "code",
      "execution_count": null,
      "metadata": {
        "id": "01697gx81F5Z"
      },
      "outputs": [],
      "source": [
        "## Datos a predecir \n",
        "X = df_train[df_train.columns.drop('price')]\n",
        "y = df_train['price']\n",
        "X_prueba = df_test[df_train.columns.drop('price')] # cuidado:\n",
        "\n",
        "# Entrenamos el modelo con todos los datos\n",
        "reg.fit(X, y)\n",
        "\n",
        "# Predecimos\n",
        "df_test['price'] = reg.predict(X_prueba)\n",
        "\n",
        "# Grabamos\n",
        "df_test['price'].to_csv('solucion.csv', index=True)"
      ]
    },
    {
      "cell_type": "code",
      "execution_count": null,
      "metadata": {
        "colab": {
          "base_uri": "https://localhost:8080/",
          "height": 331
        },
        "id": "xzAwUNRA1Fzb",
        "outputId": "5f4b709d-6abf-4cc4-d389-fa7186a7d124"
      },
      "outputs": [
        {
          "data": {
            "text/html": [
              "\n",
              "  <div id=\"df-4bda8ff9-acf9-448a-81d8-e7f5937f49e2\">\n",
              "    <div class=\"colab-df-container\">\n",
              "      <div>\n",
              "<style scoped>\n",
              "    .dataframe tbody tr th:only-of-type {\n",
              "        vertical-align: middle;\n",
              "    }\n",
              "\n",
              "    .dataframe tbody tr th {\n",
              "        vertical-align: top;\n",
              "    }\n",
              "\n",
              "    .dataframe thead th {\n",
              "        text-align: right;\n",
              "    }\n",
              "</style>\n",
              "<table border=\"1\" class=\"dataframe\">\n",
              "  <thead>\n",
              "    <tr style=\"text-align: right;\">\n",
              "      <th></th>\n",
              "      <th>column</th>\n",
              "      <th>feature_importance</th>\n",
              "    </tr>\n",
              "  </thead>\n",
              "  <tbody>\n",
              "    <tr>\n",
              "      <th>1</th>\n",
              "      <td>lon</td>\n",
              "      <td>0.284658</td>\n",
              "    </tr>\n",
              "    <tr>\n",
              "      <th>0</th>\n",
              "      <td>lat</td>\n",
              "      <td>0.212267</td>\n",
              "    </tr>\n",
              "    <tr>\n",
              "      <th>4</th>\n",
              "      <td>rooms</td>\n",
              "      <td>0.141806</td>\n",
              "    </tr>\n",
              "    <tr>\n",
              "      <th>8</th>\n",
              "      <td>surface_covered</td>\n",
              "      <td>0.125101</td>\n",
              "    </tr>\n",
              "    <tr>\n",
              "      <th>5</th>\n",
              "      <td>bedrooms</td>\n",
              "      <td>0.095744</td>\n",
              "    </tr>\n",
              "    <tr>\n",
              "      <th>7</th>\n",
              "      <td>surface_total</td>\n",
              "      <td>0.073814</td>\n",
              "    </tr>\n",
              "    <tr>\n",
              "      <th>6</th>\n",
              "      <td>bathrooms</td>\n",
              "      <td>0.066611</td>\n",
              "    </tr>\n",
              "    <tr>\n",
              "      <th>2</th>\n",
              "      <td>l5</td>\n",
              "      <td>0.000000</td>\n",
              "    </tr>\n",
              "    <tr>\n",
              "      <th>3</th>\n",
              "      <td>l6</td>\n",
              "      <td>0.000000</td>\n",
              "    </tr>\n",
              "  </tbody>\n",
              "</table>\n",
              "</div>\n",
              "      <button class=\"colab-df-convert\" onclick=\"convertToInteractive('df-4bda8ff9-acf9-448a-81d8-e7f5937f49e2')\"\n",
              "              title=\"Convert this dataframe to an interactive table.\"\n",
              "              style=\"display:none;\">\n",
              "        \n",
              "  <svg xmlns=\"http://www.w3.org/2000/svg\" height=\"24px\"viewBox=\"0 0 24 24\"\n",
              "       width=\"24px\">\n",
              "    <path d=\"M0 0h24v24H0V0z\" fill=\"none\"/>\n",
              "    <path d=\"M18.56 5.44l.94 2.06.94-2.06 2.06-.94-2.06-.94-.94-2.06-.94 2.06-2.06.94zm-11 1L8.5 8.5l.94-2.06 2.06-.94-2.06-.94L8.5 2.5l-.94 2.06-2.06.94zm10 10l.94 2.06.94-2.06 2.06-.94-2.06-.94-.94-2.06-.94 2.06-2.06.94z\"/><path d=\"M17.41 7.96l-1.37-1.37c-.4-.4-.92-.59-1.43-.59-.52 0-1.04.2-1.43.59L10.3 9.45l-7.72 7.72c-.78.78-.78 2.05 0 2.83L4 21.41c.39.39.9.59 1.41.59.51 0 1.02-.2 1.41-.59l7.78-7.78 2.81-2.81c.8-.78.8-2.07 0-2.86zM5.41 20L4 18.59l7.72-7.72 1.47 1.35L5.41 20z\"/>\n",
              "  </svg>\n",
              "      </button>\n",
              "      \n",
              "  <style>\n",
              "    .colab-df-container {\n",
              "      display:flex;\n",
              "      flex-wrap:wrap;\n",
              "      gap: 12px;\n",
              "    }\n",
              "\n",
              "    .colab-df-convert {\n",
              "      background-color: #E8F0FE;\n",
              "      border: none;\n",
              "      border-radius: 50%;\n",
              "      cursor: pointer;\n",
              "      display: none;\n",
              "      fill: #1967D2;\n",
              "      height: 32px;\n",
              "      padding: 0 0 0 0;\n",
              "      width: 32px;\n",
              "    }\n",
              "\n",
              "    .colab-df-convert:hover {\n",
              "      background-color: #E2EBFA;\n",
              "      box-shadow: 0px 1px 2px rgba(60, 64, 67, 0.3), 0px 1px 3px 1px rgba(60, 64, 67, 0.15);\n",
              "      fill: #174EA6;\n",
              "    }\n",
              "\n",
              "    [theme=dark] .colab-df-convert {\n",
              "      background-color: #3B4455;\n",
              "      fill: #D2E3FC;\n",
              "    }\n",
              "\n",
              "    [theme=dark] .colab-df-convert:hover {\n",
              "      background-color: #434B5C;\n",
              "      box-shadow: 0px 1px 3px 1px rgba(0, 0, 0, 0.15);\n",
              "      filter: drop-shadow(0px 1px 2px rgba(0, 0, 0, 0.3));\n",
              "      fill: #FFFFFF;\n",
              "    }\n",
              "  </style>\n",
              "\n",
              "      <script>\n",
              "        const buttonEl =\n",
              "          document.querySelector('#df-4bda8ff9-acf9-448a-81d8-e7f5937f49e2 button.colab-df-convert');\n",
              "        buttonEl.style.display =\n",
              "          google.colab.kernel.accessAllowed ? 'block' : 'none';\n",
              "\n",
              "        async function convertToInteractive(key) {\n",
              "          const element = document.querySelector('#df-4bda8ff9-acf9-448a-81d8-e7f5937f49e2');\n",
              "          const dataTable =\n",
              "            await google.colab.kernel.invokeFunction('convertToInteractive',\n",
              "                                                     [key], {});\n",
              "          if (!dataTable) return;\n",
              "\n",
              "          const docLinkHtml = 'Like what you see? Visit the ' +\n",
              "            '<a target=\"_blank\" href=https://colab.research.google.com/notebooks/data_table.ipynb>data table notebook</a>'\n",
              "            + ' to learn more about interactive tables.';\n",
              "          element.innerHTML = '';\n",
              "          dataTable['output_type'] = 'display_data';\n",
              "          await google.colab.output.renderOutput(dataTable, element);\n",
              "          const docLink = document.createElement('div');\n",
              "          docLink.innerHTML = docLinkHtml;\n",
              "          element.appendChild(docLink);\n",
              "        }\n",
              "      </script>\n",
              "    </div>\n",
              "  </div>\n",
              "  "
            ],
            "text/plain": [
              "            column  feature_importance\n",
              "1              lon            0.284658\n",
              "0              lat            0.212267\n",
              "4            rooms            0.141806\n",
              "8  surface_covered            0.125101\n",
              "5         bedrooms            0.095744\n",
              "7    surface_total            0.073814\n",
              "6        bathrooms            0.066611\n",
              "2               l5            0.000000\n",
              "3               l6            0.000000"
            ]
          },
          "execution_count": 10,
          "metadata": {},
          "output_type": "execute_result"
        }
      ],
      "source": [
        "pd.DataFrame(zip(df_train.columns.drop('price'), reg.feature_importances_), columns=[\"column\", \"feature_importance\"]).sort_values(by=\"feature_importance\", ascending=False)"
      ]
    }
  ],
  "metadata": {
    "colab": {
      "provenance": [],
      "include_colab_link": true
    },
    "kernelspec": {
      "display_name": "Python 3",
      "name": "python3"
    },
    "language_info": {
      "codemirror_mode": {
        "name": "ipython",
        "version": 3
      },
      "file_extension": ".py",
      "mimetype": "text/x-python",
      "name": "python",
      "nbconvert_exporter": "python",
      "pygments_lexer": "ipython3",
      "version": "3.11.0"
    }
  },
  "nbformat": 4,
  "nbformat_minor": 0
}