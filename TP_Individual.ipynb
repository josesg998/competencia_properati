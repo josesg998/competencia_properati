{
  "cells": [
    {
      "cell_type": "code",
      "execution_count": 337,
      "metadata": {
        "id": "jw8ogMDOpvKP"
      },
      "outputs": [],
      "source": [
        "import pandas as pd\n",
        "import matplotlib.pyplot as plt\n",
        "import seaborn as sns\n",
        "import numpy as np\n",
        "import geopandas as gpd\n",
        "\n",
        "import sklearn as sk\n",
        "from sklearn import model_selection\n",
        "from sklearn import ensemble\n",
        "from sklearn import metrics"
      ]
    },
    {
      "cell_type": "code",
      "execution_count": 338,
      "metadata": {
        "colab": {
          "base_uri": "https://localhost:8080/"
        },
        "id": "b8SSObwGJo2Q",
        "outputId": "db6e762f-a49f-4a4b-b085-75e2cae4feba"
      },
      "outputs": [],
      "source": [
        "# from google.colab import drive\n",
        "# drive.mount('/content/drive')"
      ]
    },
    {
      "attachments": {},
      "cell_type": "markdown",
      "metadata": {
        "id": "20D-m6GPyefp"
      },
      "source": [
        "# Lectura de datos"
      ]
    },
    {
      "cell_type": "code",
      "execution_count": 339,
      "metadata": {
        "id": "CtV0wOGsqJLC"
      },
      "outputs": [],
      "source": [
        "# DIR = \"/content/drive/MyDrive/Data Mining Properati/\"\n",
        "#df_train = pd.read_csv(DIR + \"properati_entrenamiento.zip\", index_col=\"id\")  \n",
        "#df_test = pd.read_csv(DIR + \"properati_a_predecir.zip\", index_col=\"id\")  \n",
        "df_test = pd.read_feather('bases/properati_a_predecir.ftr').set_index('id')\n",
        "df_train = pd.read_feather('bases/properati_entrenamiento.ftr').set_index('id')\n",
        "\n",
        "# df_test = pd.read_feather(DIR+'properati_a_predecir.ftr').set_index('id')\n",
        "# df_train = pd.read_feather(DIR+'properati_entrenamiento.ftr').set_index('id')\n",
        "# df_test.head()"
      ]
    },
    {
      "attachments": {},
      "cell_type": "markdown",
      "metadata": {
        "id": "byV0dQi-yiEd"
      },
      "source": [
        "# Entendimiento (magia parte 1 -- AID)"
      ]
    },
    {
      "attachments": {},
      "cell_type": "markdown",
      "metadata": {
        "id": "zjaTnfxkyvo8"
      },
      "source": [
        "# Limpieza y transformación de datos (magia parte 2 -- MD)"
      ]
    },
    {
      "cell_type": "code",
      "execution_count": 340,
      "metadata": {
        "id": "wLR_WTy_AUiy"
      },
      "outputs": [],
      "source": [
        "raro = df_test['surface_total']<df_test['surface_covered']\n",
        "\n",
        "df_test.loc[raro,'surface_total'], df_test.loc[raro,'surface_covered'] = df_test.loc[raro,'surface_covered'], df_test.loc[raro,'surface_total']\n",
        "\n",
        "raro = df_train['surface_total']<df_train['surface_covered']\n",
        "\n",
        "df_train.loc[raro,'surface_total'], df_train.loc[raro,'surface_covered'] = df_train.loc[raro,'surface_covered'], df_train.loc[raro,'surface_total']"
      ]
    },
    {
      "cell_type": "code",
      "execution_count": 341,
      "metadata": {
        "colab": {
          "base_uri": "https://localhost:8080/"
        },
        "id": "yPdDQB-TAUi1",
        "outputId": "179996f9-6edc-44ed-8b72-5a1781ec411f"
      },
      "outputs": [
        {
          "data": {
            "text/plain": [
              "(102477, 24)"
            ]
          },
          "execution_count": 341,
          "metadata": {},
          "output_type": "execute_result"
        }
      ],
      "source": [
        "en_amba_train = (df_train.lat>-60)&(df_train['lon']>-35.5)&(df_train['lon']<-34)& (df_train.lat<-56.5) & (df_train.l1=='Argentina')\n",
        "en_amba_test  =  (df_test.lat>-60)&(df_test['lon']>-35.5)&(df_test['lon']<-34)& (df_test.lat<-56.5) & (df_test.l1=='Argentina')\n",
        "\n",
        "# en_ballester = ((df_train.title.str.upper().str.contains('BALLESTER')) | (df_train.description.str.upper().str.contains('BALLESTER'))&\n",
        "#                 en_amba_train)\n",
        "# ballester = df_train[en_ballester]\n",
        "\n",
        "no_lugares = ['Bs.As. G.B.A. Zona Sur','Bs.As. G.B.A. Zona Norte','Bs.As. G.B.A. Zona Oeste']\n",
        "\n",
        "#Filtramos los que se encuentran dentro del rango de AMBA y que no son del conurbano\n",
        "df_train = df_train[en_amba_train & (~df_train.l2.isin(no_lugares))]\n",
        "\n",
        "#Pulimos la zona circundante a la plata para que coincida con el test\n",
        "df_train = df_train[(df_train.l2=='Capital Federal')|((df_train.l2=='Buenos Aires Interior')&(df_train.lat>-58.15)&(df_train.lon<-34.7)&(df_train.lon>-35.1))]\n",
        "\n",
        "# df_train = pd.concat((df_train,ballester),axis=0)\n",
        "\n",
        "df_train = df_train[(df_train.price_period=='Mensual')|(df_train.price_period.isnull())] #TODO ver si sacarlo \n",
        "\n",
        "df_train.loc[df_train.l2=='Buenos Aires Interior','l2'] = 'Bs.As. G.B.A. Zona Sur'\n",
        "\n",
        "df_train = df_train[df_train.operation_type=='Venta']\n",
        "\n",
        "df_test.loc[df_test.title.str.contains('en Las Cañitas'),'l3'] = \"Las Cañitas\"\n",
        "df_test.loc[((df_test.l3=='Puerto Madero')|(df_test.l3=='Catalinas')) & (df_test.lat<-58.4),'lat'] = np.nan\n",
        "\n",
        "df_train.loc[((df_train.l3=='Puerto Madero')|(df_train.l3=='Catalinas')) & (df_train.lat<-58.47),'l3'] = 'Villa Urquiza'\n",
        "df_train.loc[((df_train.l3=='Puerto Madero')|(df_train.l3=='Catalinas')) & (df_train.lat<-58.44),['lat','lon']] = np.nan\n",
        "\n",
        "df_train = df_train[df_train.property_type.isin(['PH','Departamento'])]\n",
        "\n",
        "df_train = df_train[df_train.currency=='USD'] #saco tambien los nulos porque no tienen precio\n",
        "\n",
        "df_train.shape"
      ]
    },
    {
      "cell_type": "code",
      "execution_count": 342,
      "metadata": {},
      "outputs": [],
      "source": [
        "# df_test[~en_amba_test & (df_test.lat.notna()) & (df_test.l3.isna())][['title','description','l1','l2','l3','l4']].title.unique()"
      ]
    },
    {
      "cell_type": "code",
      "execution_count": 343,
      "metadata": {
        "id": "hTl8epCQAUi3"
      },
      "outputs": [],
      "source": [
        "df_test.loc[~en_amba_test,['lat','lon']] = np.nan"
      ]
    },
    {
      "cell_type": "code",
      "execution_count": 344,
      "metadata": {
        "id": "Yvg2k8SEAUi4"
      },
      "outputs": [],
      "source": [
        "cols_a_imputar = ['rooms','bedrooms','bathrooms','surface_total','surface_covered','lat','lon']\n",
        "# crear nuevas columnas para indicar los valores imputados\n",
        "for column in cols_a_imputar:\n",
        "    is_imputed_train = np.where(df_train[column].isnull(), True, False)\n",
        "    is_imputed_test = np.where(df_test[column].isnull(), True, False)\n",
        "    df_train[column + '_imputed'] = is_imputed_train\n",
        "    df_test[column + '_imputed'] = is_imputed_test"
      ]
    },
    {
      "cell_type": "code",
      "execution_count": 345,
      "metadata": {
        "id": "_0-9OWF-_Sbl"
      },
      "outputs": [],
      "source": [
        "#df_train['train_test'] = 'train'\n",
        "#df_test['train_test'] = 'test'\n",
        "\n",
        "#df = pd.concat((df_train,df_test),axis=0)\n",
        "\n",
        "#df.loc[(df.bathrooms.isna())&(df.description.str.contains('(dos|2) baños'))   ,'bathrooms'] = 2\n",
        "#df.loc[(df.bathrooms.isna())&(df.description.str.contains('(tres|3) baños'))  ,'bathrooms'] = 3\n",
        "#df.loc[(df.bathrooms.isna())&(df.description.str.contains('(cuatro|4) baños')),'bathrooms'] = 4\n",
        "#df.loc[(df.bathrooms.isna())&(df.description.str.contains('(cinco|5) baños')) ,'bathrooms'] = 5\n",
        "#df.loc[(df.bathrooms.isna())&(df.description.str.contains('(seis|6) baños'))  ,'bathrooms'] = 6\n",
        "#df.loc[(df.bathrooms.isna())&(df.description.str.contains('baño(\\ |\\.|\\,)'))  ,'bathrooms'] = 1\n",
        "\n",
        "#df_train = df[df.train_test=='train']\n",
        "#df_test = df[df.train_test=='test']\n",
        "\n",
        "#df_train.drop(columns='train_test',inplace=True)\n",
        "#df_test.drop(columns='train_test',inplace=True)"
      ]
    },
    {
      "cell_type": "code",
      "execution_count": 346,
      "metadata": {
        "id": "d9zhRKhQAUi5"
      },
      "outputs": [],
      "source": [
        "from sklearn.experimental import enable_iterative_imputer\n",
        "from sklearn.impute import IterativeImputer"
      ]
    },
    {
      "cell_type": "code",
      "execution_count": 347,
      "metadata": {
        "colab": {
          "base_uri": "https://localhost:8080/"
        },
        "id": "hih_mFzjAUi5",
        "outputId": "891717fa-987b-439b-dd90-447cd4b99456"
      },
      "outputs": [],
      "source": [
        "imp = IterativeImputer(max_iter=20, random_state=42)  # tiene add_indicator\n",
        "\n",
        "grupo_columnas = [['rooms','bedrooms','bathrooms','surface_total','surface_covered'],['lat','lon']]\n",
        "for lista_columnas in grupo_columnas:\n",
        "    df_train[lista_columnas] = imp.fit_transform(df_train[lista_columnas])\n",
        "    df_test[lista_columnas] = imp.transform(df_test[lista_columnas])"
      ]
    },
    {
      "cell_type": "code",
      "execution_count": 348,
      "metadata": {
        "id": "9QyRXAdmAUi6"
      },
      "outputs": [],
      "source": [
        "df_test.rooms      = df_test.rooms.astype('int')\n",
        "df_train.rooms     = df_train.rooms.astype('int')\n",
        "df_test.bedrooms   = df_test.bedrooms.astype('int')\n",
        "df_train.bedrooms  = df_train.bedrooms.astype('int')\n",
        "df_test.bathrooms  = df_test.bathrooms.astype('int')\n",
        "df_train.bathrooms = df_train.bathrooms.astype('int')"
      ]
    },
    {
      "attachments": {},
      "cell_type": "markdown",
      "metadata": {},
      "source": [
        "## Filtrado"
      ]
    },
    {
      "cell_type": "code",
      "execution_count": 349,
      "metadata": {
        "colab": {
          "base_uri": "https://localhost:8080/",
          "height": 363
        },
        "id": "hXD_GgV-AUi7",
        "outputId": "47eeb67f-bf59-4eae-eb14-703368ceaa84"
      },
      "outputs": [
        {
          "data": {
            "text/html": [
              "<div>\n",
              "<style scoped>\n",
              "    .dataframe tbody tr th:only-of-type {\n",
              "        vertical-align: middle;\n",
              "    }\n",
              "\n",
              "    .dataframe tbody tr th {\n",
              "        vertical-align: top;\n",
              "    }\n",
              "\n",
              "    .dataframe thead th {\n",
              "        text-align: right;\n",
              "    }\n",
              "</style>\n",
              "<table border=\"1\" class=\"dataframe\">\n",
              "  <thead>\n",
              "    <tr style=\"text-align: right;\">\n",
              "      <th></th>\n",
              "      <th>property_type</th>\n",
              "      <th>property_type</th>\n",
              "    </tr>\n",
              "  </thead>\n",
              "  <tbody>\n",
              "    <tr>\n",
              "      <th>Departamento</th>\n",
              "      <td>92599</td>\n",
              "      <td>5426</td>\n",
              "    </tr>\n",
              "    <tr>\n",
              "      <th>PH</th>\n",
              "      <td>9878</td>\n",
              "      <td>574</td>\n",
              "    </tr>\n",
              "  </tbody>\n",
              "</table>\n",
              "</div>"
            ],
            "text/plain": [
              "              property_type  property_type\n",
              "Departamento          92599           5426\n",
              "PH                     9878            574"
            ]
          },
          "execution_count": 349,
          "metadata": {},
          "output_type": "execute_result"
        }
      ],
      "source": [
        "pd.concat((df_train.property_type.value_counts(dropna=False),\n",
        "           df_test.property_type.value_counts(dropna=False)),axis=1).sort_index()"
      ]
    },
    {
      "cell_type": "code",
      "execution_count": 350,
      "metadata": {
        "colab": {
          "base_uri": "https://localhost:8080/",
          "height": 771
        },
        "id": "K6sOe6yxAUi7",
        "outputId": "eac4c0e0-17a7-4ed0-b584-be20e7f7628e"
      },
      "outputs": [
        {
          "data": {
            "text/html": [
              "<div>\n",
              "<style scoped>\n",
              "    .dataframe tbody tr th:only-of-type {\n",
              "        vertical-align: middle;\n",
              "    }\n",
              "\n",
              "    .dataframe tbody tr th {\n",
              "        vertical-align: top;\n",
              "    }\n",
              "\n",
              "    .dataframe thead th {\n",
              "        text-align: right;\n",
              "    }\n",
              "</style>\n",
              "<table border=\"1\" class=\"dataframe\">\n",
              "  <thead>\n",
              "    <tr style=\"text-align: right;\">\n",
              "      <th></th>\n",
              "      <th>bathrooms</th>\n",
              "      <th>bathrooms</th>\n",
              "    </tr>\n",
              "  </thead>\n",
              "  <tbody>\n",
              "    <tr>\n",
              "      <th>1</th>\n",
              "      <td>68986</td>\n",
              "      <td>4605.0</td>\n",
              "    </tr>\n",
              "    <tr>\n",
              "      <th>2</th>\n",
              "      <td>22962</td>\n",
              "      <td>1227.0</td>\n",
              "    </tr>\n",
              "    <tr>\n",
              "      <th>3</th>\n",
              "      <td>6732</td>\n",
              "      <td>144.0</td>\n",
              "    </tr>\n",
              "    <tr>\n",
              "      <th>4</th>\n",
              "      <td>2188</td>\n",
              "      <td>20.0</td>\n",
              "    </tr>\n",
              "    <tr>\n",
              "      <th>0</th>\n",
              "      <td>860</td>\n",
              "      <td>NaN</td>\n",
              "    </tr>\n",
              "    <tr>\n",
              "      <th>5</th>\n",
              "      <td>588</td>\n",
              "      <td>1.0</td>\n",
              "    </tr>\n",
              "    <tr>\n",
              "      <th>6</th>\n",
              "      <td>107</td>\n",
              "      <td>3.0</td>\n",
              "    </tr>\n",
              "    <tr>\n",
              "      <th>7</th>\n",
              "      <td>20</td>\n",
              "      <td>NaN</td>\n",
              "    </tr>\n",
              "    <tr>\n",
              "      <th>8</th>\n",
              "      <td>9</td>\n",
              "      <td>NaN</td>\n",
              "    </tr>\n",
              "    <tr>\n",
              "      <th>16</th>\n",
              "      <td>4</td>\n",
              "      <td>NaN</td>\n",
              "    </tr>\n",
              "    <tr>\n",
              "      <th>11</th>\n",
              "      <td>4</td>\n",
              "      <td>NaN</td>\n",
              "    </tr>\n",
              "    <tr>\n",
              "      <th>9</th>\n",
              "      <td>4</td>\n",
              "      <td>NaN</td>\n",
              "    </tr>\n",
              "    <tr>\n",
              "      <th>33</th>\n",
              "      <td>3</td>\n",
              "      <td>NaN</td>\n",
              "    </tr>\n",
              "    <tr>\n",
              "      <th>10</th>\n",
              "      <td>2</td>\n",
              "      <td>NaN</td>\n",
              "    </tr>\n",
              "    <tr>\n",
              "      <th>66</th>\n",
              "      <td>2</td>\n",
              "      <td>NaN</td>\n",
              "    </tr>\n",
              "    <tr>\n",
              "      <th>30</th>\n",
              "      <td>1</td>\n",
              "      <td>NaN</td>\n",
              "    </tr>\n",
              "    <tr>\n",
              "      <th>131</th>\n",
              "      <td>1</td>\n",
              "      <td>NaN</td>\n",
              "    </tr>\n",
              "    <tr>\n",
              "      <th>56</th>\n",
              "      <td>1</td>\n",
              "      <td>NaN</td>\n",
              "    </tr>\n",
              "    <tr>\n",
              "      <th>12</th>\n",
              "      <td>1</td>\n",
              "      <td>NaN</td>\n",
              "    </tr>\n",
              "    <tr>\n",
              "      <th>18</th>\n",
              "      <td>1</td>\n",
              "      <td>NaN</td>\n",
              "    </tr>\n",
              "    <tr>\n",
              "      <th>20</th>\n",
              "      <td>1</td>\n",
              "      <td>NaN</td>\n",
              "    </tr>\n",
              "  </tbody>\n",
              "</table>\n",
              "</div>"
            ],
            "text/plain": [
              "     bathrooms  bathrooms\n",
              "1        68986     4605.0\n",
              "2        22962     1227.0\n",
              "3         6732      144.0\n",
              "4         2188       20.0\n",
              "0          860        NaN\n",
              "5          588        1.0\n",
              "6          107        3.0\n",
              "7           20        NaN\n",
              "8            9        NaN\n",
              "16           4        NaN\n",
              "11           4        NaN\n",
              "9            4        NaN\n",
              "33           3        NaN\n",
              "10           2        NaN\n",
              "66           2        NaN\n",
              "30           1        NaN\n",
              "131          1        NaN\n",
              "56           1        NaN\n",
              "12           1        NaN\n",
              "18           1        NaN\n",
              "20           1        NaN"
            ]
          },
          "execution_count": 350,
          "metadata": {},
          "output_type": "execute_result"
        }
      ],
      "source": [
        "pd.concat((df_train.bathrooms.value_counts(dropna=False),\n",
        "           df_test.bathrooms.value_counts(dropna=False)),axis=1)"
      ]
    },
    {
      "cell_type": "code",
      "execution_count": 351,
      "metadata": {
        "colab": {
          "base_uri": "https://localhost:8080/"
        },
        "id": "TP3MXGKzAUi8",
        "outputId": "b58cb15a-6a16-49ec-cb77-2c592fc47095"
      },
      "outputs": [
        {
          "data": {
            "text/plain": [
              "(102458, 31)"
            ]
          },
          "execution_count": 351,
          "metadata": {},
          "output_type": "execute_result"
        }
      ],
      "source": [
        "df_train = df_train[(df_train['bathrooms']<=10) | (df_train['bathrooms'].isnull())]\n",
        "df_train.shape"
      ]
    },
    {
      "cell_type": "code",
      "execution_count": 352,
      "metadata": {
        "colab": {
          "base_uri": "https://localhost:8080/",
          "height": 645
        },
        "id": "KbopOZ1jAUi9",
        "outputId": "e8e2729d-83ec-4950-82e3-9cf941bbbac6"
      },
      "outputs": [
        {
          "data": {
            "text/html": [
              "<div>\n",
              "<style scoped>\n",
              "    .dataframe tbody tr th:only-of-type {\n",
              "        vertical-align: middle;\n",
              "    }\n",
              "\n",
              "    .dataframe tbody tr th {\n",
              "        vertical-align: top;\n",
              "    }\n",
              "\n",
              "    .dataframe thead th {\n",
              "        text-align: right;\n",
              "    }\n",
              "</style>\n",
              "<table border=\"1\" class=\"dataframe\">\n",
              "  <thead>\n",
              "    <tr style=\"text-align: right;\">\n",
              "      <th></th>\n",
              "      <th>rooms</th>\n",
              "      <th>rooms</th>\n",
              "    </tr>\n",
              "  </thead>\n",
              "  <tbody>\n",
              "    <tr>\n",
              "      <th>1</th>\n",
              "      <td>20683</td>\n",
              "      <td>NaN</td>\n",
              "    </tr>\n",
              "    <tr>\n",
              "      <th>2</th>\n",
              "      <td>30539</td>\n",
              "      <td>2984.0</td>\n",
              "    </tr>\n",
              "    <tr>\n",
              "      <th>3</th>\n",
              "      <td>26686</td>\n",
              "      <td>3016.0</td>\n",
              "    </tr>\n",
              "    <tr>\n",
              "      <th>4</th>\n",
              "      <td>17708</td>\n",
              "      <td>NaN</td>\n",
              "    </tr>\n",
              "    <tr>\n",
              "      <th>5</th>\n",
              "      <td>4634</td>\n",
              "      <td>NaN</td>\n",
              "    </tr>\n",
              "    <tr>\n",
              "      <th>6</th>\n",
              "      <td>1301</td>\n",
              "      <td>NaN</td>\n",
              "    </tr>\n",
              "    <tr>\n",
              "      <th>7</th>\n",
              "      <td>491</td>\n",
              "      <td>NaN</td>\n",
              "    </tr>\n",
              "    <tr>\n",
              "      <th>8</th>\n",
              "      <td>263</td>\n",
              "      <td>NaN</td>\n",
              "    </tr>\n",
              "    <tr>\n",
              "      <th>9</th>\n",
              "      <td>46</td>\n",
              "      <td>NaN</td>\n",
              "    </tr>\n",
              "    <tr>\n",
              "      <th>10</th>\n",
              "      <td>48</td>\n",
              "      <td>NaN</td>\n",
              "    </tr>\n",
              "    <tr>\n",
              "      <th>11</th>\n",
              "      <td>15</td>\n",
              "      <td>NaN</td>\n",
              "    </tr>\n",
              "    <tr>\n",
              "      <th>12</th>\n",
              "      <td>20</td>\n",
              "      <td>NaN</td>\n",
              "    </tr>\n",
              "    <tr>\n",
              "      <th>14</th>\n",
              "      <td>6</td>\n",
              "      <td>NaN</td>\n",
              "    </tr>\n",
              "    <tr>\n",
              "      <th>15</th>\n",
              "      <td>8</td>\n",
              "      <td>NaN</td>\n",
              "    </tr>\n",
              "    <tr>\n",
              "      <th>16</th>\n",
              "      <td>3</td>\n",
              "      <td>NaN</td>\n",
              "    </tr>\n",
              "    <tr>\n",
              "      <th>18</th>\n",
              "      <td>1</td>\n",
              "      <td>NaN</td>\n",
              "    </tr>\n",
              "    <tr>\n",
              "      <th>20</th>\n",
              "      <td>2</td>\n",
              "      <td>NaN</td>\n",
              "    </tr>\n",
              "    <tr>\n",
              "      <th>21</th>\n",
              "      <td>1</td>\n",
              "      <td>NaN</td>\n",
              "    </tr>\n",
              "    <tr>\n",
              "      <th>22</th>\n",
              "      <td>1</td>\n",
              "      <td>NaN</td>\n",
              "    </tr>\n",
              "    <tr>\n",
              "      <th>30</th>\n",
              "      <td>1</td>\n",
              "      <td>NaN</td>\n",
              "    </tr>\n",
              "    <tr>\n",
              "      <th>32</th>\n",
              "      <td>1</td>\n",
              "      <td>NaN</td>\n",
              "    </tr>\n",
              "  </tbody>\n",
              "</table>\n",
              "</div>"
            ],
            "text/plain": [
              "    rooms   rooms\n",
              "1   20683     NaN\n",
              "2   30539  2984.0\n",
              "3   26686  3016.0\n",
              "4   17708     NaN\n",
              "5    4634     NaN\n",
              "6    1301     NaN\n",
              "7     491     NaN\n",
              "8     263     NaN\n",
              "9      46     NaN\n",
              "10     48     NaN\n",
              "11     15     NaN\n",
              "12     20     NaN\n",
              "14      6     NaN\n",
              "15      8     NaN\n",
              "16      3     NaN\n",
              "18      1     NaN\n",
              "20      2     NaN\n",
              "21      1     NaN\n",
              "22      1     NaN\n",
              "30      1     NaN\n",
              "32      1     NaN"
            ]
          },
          "execution_count": 352,
          "metadata": {},
          "output_type": "execute_result"
        }
      ],
      "source": [
        "pd.concat((df_train.rooms.value_counts(dropna=False),\n",
        "           df_test.rooms.value_counts(dropna=False)),axis=1).sort_index()"
      ]
    },
    {
      "cell_type": "code",
      "execution_count": 353,
      "metadata": {
        "colab": {
          "base_uri": "https://localhost:8080/"
        },
        "id": "Fzzqo43QAUi-",
        "outputId": "c3af62b8-c301-4ee9-e71d-86a4b5aedaef"
      },
      "outputs": [
        {
          "data": {
            "text/plain": [
              "(57225, 31)"
            ]
          },
          "execution_count": 353,
          "metadata": {},
          "output_type": "execute_result"
        }
      ],
      "source": [
        "df_train = df_train[((df_train.rooms<4)&((df_train.rooms>1))) |(df_train.rooms.isnull())]\n",
        "df_train.shape"
      ]
    },
    {
      "cell_type": "code",
      "execution_count": 354,
      "metadata": {
        "colab": {
          "base_uri": "https://localhost:8080/",
          "height": 677
        },
        "id": "4Tszl6jKAUi_",
        "outputId": "31540542-d429-49d6-9ad2-31c892776301"
      },
      "outputs": [
        {
          "data": {
            "text/html": [
              "<div>\n",
              "<style scoped>\n",
              "    .dataframe tbody tr th:only-of-type {\n",
              "        vertical-align: middle;\n",
              "    }\n",
              "\n",
              "    .dataframe tbody tr th {\n",
              "        vertical-align: top;\n",
              "    }\n",
              "\n",
              "    .dataframe thead th {\n",
              "        text-align: right;\n",
              "    }\n",
              "</style>\n",
              "<table border=\"1\" class=\"dataframe\">\n",
              "  <thead>\n",
              "    <tr style=\"text-align: right;\">\n",
              "      <th></th>\n",
              "      <th>bedrooms</th>\n",
              "      <th>bedrooms</th>\n",
              "    </tr>\n",
              "  </thead>\n",
              "  <tbody>\n",
              "    <tr>\n",
              "      <th>0</th>\n",
              "      <td>18.0</td>\n",
              "      <td>3.0</td>\n",
              "    </tr>\n",
              "    <tr>\n",
              "      <th>1</th>\n",
              "      <td>32743.0</td>\n",
              "      <td>3268.0</td>\n",
              "    </tr>\n",
              "    <tr>\n",
              "      <th>2</th>\n",
              "      <td>24233.0</td>\n",
              "      <td>2704.0</td>\n",
              "    </tr>\n",
              "    <tr>\n",
              "      <th>3</th>\n",
              "      <td>223.0</td>\n",
              "      <td>23.0</td>\n",
              "    </tr>\n",
              "    <tr>\n",
              "      <th>4</th>\n",
              "      <td>5.0</td>\n",
              "      <td>1.0</td>\n",
              "    </tr>\n",
              "    <tr>\n",
              "      <th>5</th>\n",
              "      <td>NaN</td>\n",
              "      <td>1.0</td>\n",
              "    </tr>\n",
              "    <tr>\n",
              "      <th>11</th>\n",
              "      <td>2.0</td>\n",
              "      <td>NaN</td>\n",
              "    </tr>\n",
              "    <tr>\n",
              "      <th>15</th>\n",
              "      <td>1.0</td>\n",
              "      <td>NaN</td>\n",
              "    </tr>\n",
              "  </tbody>\n",
              "</table>\n",
              "</div>"
            ],
            "text/plain": [
              "    bedrooms  bedrooms\n",
              "0       18.0       3.0\n",
              "1    32743.0    3268.0\n",
              "2    24233.0    2704.0\n",
              "3      223.0      23.0\n",
              "4        5.0       1.0\n",
              "5        NaN       1.0\n",
              "11       2.0       NaN\n",
              "15       1.0       NaN"
            ]
          },
          "execution_count": 354,
          "metadata": {},
          "output_type": "execute_result"
        }
      ],
      "source": [
        "pd.concat((df_train.bedrooms.value_counts(dropna=False),\n",
        "           df_test.bedrooms.value_counts(dropna=False)),axis=1).sort_index()"
      ]
    },
    {
      "cell_type": "code",
      "execution_count": 355,
      "metadata": {
        "colab": {
          "base_uri": "https://localhost:8080/"
        },
        "id": "GWAl_drOAUjA",
        "outputId": "334da39d-0644-48ac-af5d-5dc1acf7994c"
      },
      "outputs": [
        {
          "data": {
            "text/plain": [
              "(57225, 31)"
            ]
          },
          "execution_count": 355,
          "metadata": {},
          "output_type": "execute_result"
        }
      ],
      "source": [
        "df_train.loc[df_train.bedrooms==-1,'bedrooms'] = 0\n",
        "# df_train = df_train[(df_train.bedrooms<6) |(df_train.bedrooms.isnull())]\n",
        "df_train.shape"
      ]
    },
    {
      "cell_type": "code",
      "execution_count": 356,
      "metadata": {
        "colab": {
          "base_uri": "https://localhost:8080/",
          "height": 513
        },
        "id": "bl7Glh5wAUjB",
        "outputId": "086bca70-1b66-4ea3-b5b3-710f7240cfbb"
      },
      "outputs": [
        {
          "data": {
            "text/plain": [
              "<AxesSubplot: xlabel='surface_covered'>"
            ]
          },
          "execution_count": 356,
          "metadata": {},
          "output_type": "execute_result"
        },
        {
          "data": {
            "image/png": "[encoded data removed]",
            "text/plain": [
              "<Figure size 2000x800 with 2 Axes>"
            ]
          },
          "metadata": {},
          "output_type": "display_data"
        }
      ],
      "source": [
        "fig, ax = plt.subplots(nrows=2,figsize=(20,8))\n",
        "sns.boxplot(data=df_train,x='surface_covered',ax=ax[0])\n",
        "sns.boxplot(data=df_test,x='surface_covered',ax=ax[1])"
      ]
    },
    {
      "cell_type": "code",
      "execution_count": 357,
      "metadata": {
        "colab": {
          "base_uri": "https://localhost:8080/",
          "height": 112
        },
        "id": "DGeQDbr-AUjB",
        "outputId": "c87c2d92-b6af-43bf-f105-00adc5146b56"
      },
      "outputs": [
        {
          "data": {
            "text/html": [
              "<div>\n",
              "<style scoped>\n",
              "    .dataframe tbody tr th:only-of-type {\n",
              "        vertical-align: middle;\n",
              "    }\n",
              "\n",
              "    .dataframe tbody tr th {\n",
              "        vertical-align: top;\n",
              "    }\n",
              "\n",
              "    .dataframe thead th {\n",
              "        text-align: right;\n",
              "    }\n",
              "</style>\n",
              "<table border=\"1\" class=\"dataframe\">\n",
              "  <thead>\n",
              "    <tr style=\"text-align: right;\">\n",
              "      <th></th>\n",
              "      <th>count</th>\n",
              "      <th>mean</th>\n",
              "      <th>std</th>\n",
              "      <th>min</th>\n",
              "      <th>25%</th>\n",
              "      <th>50%</th>\n",
              "      <th>75%</th>\n",
              "      <th>max</th>\n",
              "    </tr>\n",
              "  </thead>\n",
              "  <tbody>\n",
              "    <tr>\n",
              "      <th>surface_covered</th>\n",
              "      <td>57225.0</td>\n",
              "      <td>65.412454</td>\n",
              "      <td>198.519329</td>\n",
              "      <td>1.0</td>\n",
              "      <td>45.0</td>\n",
              "      <td>56.353441</td>\n",
              "      <td>72.000000</td>\n",
              "      <td>31550.0</td>\n",
              "    </tr>\n",
              "    <tr>\n",
              "      <th>surface_total</th>\n",
              "      <td>57225.0</td>\n",
              "      <td>82.632708</td>\n",
              "      <td>579.201816</td>\n",
              "      <td>0.0</td>\n",
              "      <td>50.0</td>\n",
              "      <td>67.000000</td>\n",
              "      <td>84.679193</td>\n",
              "      <td>108960.0</td>\n",
              "    </tr>\n",
              "  </tbody>\n",
              "</table>\n",
              "</div>"
            ],
            "text/plain": [
              "                   count       mean         std  min   25%        50%  \\\n",
              "surface_covered  57225.0  65.412454  198.519329  1.0  45.0  56.353441   \n",
              "surface_total    57225.0  82.632708  579.201816  0.0  50.0  67.000000   \n",
              "\n",
              "                       75%       max  \n",
              "surface_covered  72.000000   31550.0  \n",
              "surface_total    84.679193  108960.0  "
            ]
          },
          "execution_count": 357,
          "metadata": {},
          "output_type": "execute_result"
        }
      ],
      "source": [
        "df_train[['surface_covered','surface_total']].describe().T"
      ]
    },
    {
      "cell_type": "code",
      "execution_count": 358,
      "metadata": {
        "colab": {
          "base_uri": "https://localhost:8080/",
          "height": 112
        },
        "id": "iBqBxMX3AUjB",
        "outputId": "0745d300-b3ab-41f6-fe6c-db8bce2c66c9"
      },
      "outputs": [
        {
          "data": {
            "text/html": [
              "<div>\n",
              "<style scoped>\n",
              "    .dataframe tbody tr th:only-of-type {\n",
              "        vertical-align: middle;\n",
              "    }\n",
              "\n",
              "    .dataframe tbody tr th {\n",
              "        vertical-align: top;\n",
              "    }\n",
              "\n",
              "    .dataframe thead th {\n",
              "        text-align: right;\n",
              "    }\n",
              "</style>\n",
              "<table border=\"1\" class=\"dataframe\">\n",
              "  <thead>\n",
              "    <tr style=\"text-align: right;\">\n",
              "      <th></th>\n",
              "      <th>count</th>\n",
              "      <th>mean</th>\n",
              "      <th>std</th>\n",
              "      <th>min</th>\n",
              "      <th>25%</th>\n",
              "      <th>50%</th>\n",
              "      <th>75%</th>\n",
              "      <th>max</th>\n",
              "    </tr>\n",
              "  </thead>\n",
              "  <tbody>\n",
              "    <tr>\n",
              "      <th>surface_covered</th>\n",
              "      <td>6000.0</td>\n",
              "      <td>76.651663</td>\n",
              "      <td>672.817535</td>\n",
              "      <td>10.0</td>\n",
              "      <td>45.0</td>\n",
              "      <td>56.353441</td>\n",
              "      <td>73.0000</td>\n",
              "      <td>47360.0</td>\n",
              "    </tr>\n",
              "    <tr>\n",
              "      <th>surface_total</th>\n",
              "      <td>6000.0</td>\n",
              "      <td>91.493766</td>\n",
              "      <td>751.472659</td>\n",
              "      <td>21.0</td>\n",
              "      <td>51.0</td>\n",
              "      <td>68.000000</td>\n",
              "      <td>84.7017</td>\n",
              "      <td>47360.0</td>\n",
              "    </tr>\n",
              "  </tbody>\n",
              "</table>\n",
              "</div>"
            ],
            "text/plain": [
              "                  count       mean         std   min   25%        50%  \\\n",
              "surface_covered  6000.0  76.651663  672.817535  10.0  45.0  56.353441   \n",
              "surface_total    6000.0  91.493766  751.472659  21.0  51.0  68.000000   \n",
              "\n",
              "                     75%      max  \n",
              "surface_covered  73.0000  47360.0  \n",
              "surface_total    84.7017  47360.0  "
            ]
          },
          "execution_count": 358,
          "metadata": {},
          "output_type": "execute_result"
        }
      ],
      "source": [
        "df_test[['surface_covered','surface_total']].describe().T"
      ]
    },
    {
      "cell_type": "code",
      "execution_count": 359,
      "metadata": {
        "colab": {
          "base_uri": "https://localhost:8080/"
        },
        "id": "bJG3o_KNAUjC",
        "outputId": "5611391c-dfef-444b-a10f-a24f634f618b"
      },
      "outputs": [
        {
          "data": {
            "text/plain": [
              "(46439, 31)"
            ]
          },
          "execution_count": 359,
          "metadata": {},
          "output_type": "execute_result"
        }
      ],
      "source": [
        "df_train = df_train[((df_train['surface_covered']>=40)&(df_train['surface_covered']<100))]#|(df_train['surface_covered'].isnull())]\n",
        "df_train.shape"
      ]
    },
    {
      "cell_type": "code",
      "execution_count": 360,
      "metadata": {
        "colab": {
          "base_uri": "https://localhost:8080/",
          "height": 513
        },
        "id": "sKYNXHR8AUjC",
        "outputId": "5a7008aa-5053-4ed8-a8c3-5cbf043d926a"
      },
      "outputs": [
        {
          "data": {
            "text/plain": [
              "<AxesSubplot: xlabel='surface_total'>"
            ]
          },
          "execution_count": 360,
          "metadata": {},
          "output_type": "execute_result"
        },
        {
          "data": {
            "image/png": "[encoded data removed]",
            "text/plain": [
              "<Figure size 2000x800 with 2 Axes>"
            ]
          },
          "metadata": {},
          "output_type": "display_data"
        }
      ],
      "source": [
        "fig, ax = plt.subplots(nrows=2,figsize=(20,8))\n",
        "sns.boxplot(data=df_train,x='surface_total',ax=ax[0])\n",
        "sns.boxplot(data=df_test,x='surface_total',ax=ax[1])"
      ]
    },
    {
      "cell_type": "code",
      "execution_count": 361,
      "metadata": {
        "colab": {
          "base_uri": "https://localhost:8080/",
          "height": 112
        },
        "id": "C0D3rfy7AUjC",
        "outputId": "af10cfd2-60a8-4b93-daea-45ede8a03e3a"
      },
      "outputs": [
        {
          "data": {
            "text/html": [
              "<div>\n",
              "<style scoped>\n",
              "    .dataframe tbody tr th:only-of-type {\n",
              "        vertical-align: middle;\n",
              "    }\n",
              "\n",
              "    .dataframe tbody tr th {\n",
              "        vertical-align: top;\n",
              "    }\n",
              "\n",
              "    .dataframe thead th {\n",
              "        text-align: right;\n",
              "    }\n",
              "</style>\n",
              "<table border=\"1\" class=\"dataframe\">\n",
              "  <thead>\n",
              "    <tr style=\"text-align: right;\">\n",
              "      <th></th>\n",
              "      <th>count</th>\n",
              "      <th>mean</th>\n",
              "      <th>std</th>\n",
              "      <th>min</th>\n",
              "      <th>25%</th>\n",
              "      <th>50%</th>\n",
              "      <th>75%</th>\n",
              "      <th>max</th>\n",
              "    </tr>\n",
              "  </thead>\n",
              "  <tbody>\n",
              "    <tr>\n",
              "      <th>surface_covered</th>\n",
              "      <td>46439.0</td>\n",
              "      <td>61.552309</td>\n",
              "      <td>15.662004</td>\n",
              "      <td>40.0</td>\n",
              "      <td>49.0</td>\n",
              "      <td>58.696586</td>\n",
              "      <td>71.329284</td>\n",
              "      <td>99.915411</td>\n",
              "    </tr>\n",
              "    <tr>\n",
              "      <th>surface_total</th>\n",
              "      <td>46439.0</td>\n",
              "      <td>78.607536</td>\n",
              "      <td>570.158722</td>\n",
              "      <td>40.0</td>\n",
              "      <td>55.0</td>\n",
              "      <td>69.775073</td>\n",
              "      <td>84.000000</td>\n",
              "      <td>108960.000000</td>\n",
              "    </tr>\n",
              "  </tbody>\n",
              "</table>\n",
              "</div>"
            ],
            "text/plain": [
              "                   count       mean         std   min   25%        50%  \\\n",
              "surface_covered  46439.0  61.552309   15.662004  40.0  49.0  58.696586   \n",
              "surface_total    46439.0  78.607536  570.158722  40.0  55.0  69.775073   \n",
              "\n",
              "                       75%            max  \n",
              "surface_covered  71.329284      99.915411  \n",
              "surface_total    84.000000  108960.000000  "
            ]
          },
          "execution_count": 361,
          "metadata": {},
          "output_type": "execute_result"
        }
      ],
      "source": [
        "df_train[['surface_covered','surface_total']].describe().T"
      ]
    },
    {
      "cell_type": "code",
      "execution_count": 362,
      "metadata": {
        "colab": {
          "base_uri": "https://localhost:8080/",
          "height": 112
        },
        "id": "1Mj6fePWAUjD",
        "outputId": "b682b22f-9a49-4886-fe98-91524ea692aa"
      },
      "outputs": [
        {
          "data": {
            "text/html": [
              "<div>\n",
              "<style scoped>\n",
              "    .dataframe tbody tr th:only-of-type {\n",
              "        vertical-align: middle;\n",
              "    }\n",
              "\n",
              "    .dataframe tbody tr th {\n",
              "        vertical-align: top;\n",
              "    }\n",
              "\n",
              "    .dataframe thead th {\n",
              "        text-align: right;\n",
              "    }\n",
              "</style>\n",
              "<table border=\"1\" class=\"dataframe\">\n",
              "  <thead>\n",
              "    <tr style=\"text-align: right;\">\n",
              "      <th></th>\n",
              "      <th>count</th>\n",
              "      <th>mean</th>\n",
              "      <th>std</th>\n",
              "      <th>min</th>\n",
              "      <th>25%</th>\n",
              "      <th>50%</th>\n",
              "      <th>75%</th>\n",
              "      <th>max</th>\n",
              "    </tr>\n",
              "  </thead>\n",
              "  <tbody>\n",
              "    <tr>\n",
              "      <th>surface_covered</th>\n",
              "      <td>6000.0</td>\n",
              "      <td>76.651663</td>\n",
              "      <td>672.817535</td>\n",
              "      <td>10.0</td>\n",
              "      <td>45.0</td>\n",
              "      <td>56.353441</td>\n",
              "      <td>73.0000</td>\n",
              "      <td>47360.0</td>\n",
              "    </tr>\n",
              "    <tr>\n",
              "      <th>surface_total</th>\n",
              "      <td>6000.0</td>\n",
              "      <td>91.493766</td>\n",
              "      <td>751.472659</td>\n",
              "      <td>21.0</td>\n",
              "      <td>51.0</td>\n",
              "      <td>68.000000</td>\n",
              "      <td>84.7017</td>\n",
              "      <td>47360.0</td>\n",
              "    </tr>\n",
              "  </tbody>\n",
              "</table>\n",
              "</div>"
            ],
            "text/plain": [
              "                  count       mean         std   min   25%        50%  \\\n",
              "surface_covered  6000.0  76.651663  672.817535  10.0  45.0  56.353441   \n",
              "surface_total    6000.0  91.493766  751.472659  21.0  51.0  68.000000   \n",
              "\n",
              "                     75%      max  \n",
              "surface_covered  73.0000  47360.0  \n",
              "surface_total    84.7017  47360.0  "
            ]
          },
          "execution_count": 362,
          "metadata": {},
          "output_type": "execute_result"
        }
      ],
      "source": [
        "df_test[['surface_covered','surface_total']].describe().T"
      ]
    },
    {
      "cell_type": "code",
      "execution_count": 363,
      "metadata": {
        "colab": {
          "base_uri": "https://localhost:8080/"
        },
        "id": "L55ygcYWAUjD",
        "outputId": "7ef41292-1063-468f-ca69-e3ea70674d14"
      },
      "outputs": [
        {
          "data": {
            "text/plain": [
              "(33599, 31)"
            ]
          },
          "execution_count": 363,
          "metadata": {},
          "output_type": "execute_result"
        }
      ],
      "source": [
        "df_train = df_train[((df_train['surface_total']>=50)&(df_train['surface_total']<100))|(df_train['surface_total'].isnull())]\n",
        "df_train.shape"
      ]
    },
    {
      "cell_type": "code",
      "execution_count": 364,
      "metadata": {
        "colab": {
          "base_uri": "https://localhost:8080/",
          "height": 112
        },
        "id": "wlCVJcLgAUjD",
        "outputId": "af381dbf-06db-48ae-f4cd-b02d16586d30"
      },
      "outputs": [
        {
          "data": {
            "text/html": [
              "<div>\n",
              "<style scoped>\n",
              "    .dataframe tbody tr th:only-of-type {\n",
              "        vertical-align: middle;\n",
              "    }\n",
              "\n",
              "    .dataframe tbody tr th {\n",
              "        vertical-align: top;\n",
              "    }\n",
              "\n",
              "    .dataframe thead th {\n",
              "        text-align: right;\n",
              "    }\n",
              "</style>\n",
              "<table border=\"1\" class=\"dataframe\">\n",
              "  <thead>\n",
              "    <tr style=\"text-align: right;\">\n",
              "      <th></th>\n",
              "      <th>count</th>\n",
              "      <th>mean</th>\n",
              "      <th>std</th>\n",
              "      <th>min</th>\n",
              "      <th>25%</th>\n",
              "      <th>50%</th>\n",
              "      <th>75%</th>\n",
              "      <th>max</th>\n",
              "    </tr>\n",
              "  </thead>\n",
              "  <tbody>\n",
              "    <tr>\n",
              "      <th>surface_covered</th>\n",
              "      <td>33599.0</td>\n",
              "      <td>60.854979</td>\n",
              "      <td>11.768355</td>\n",
              "      <td>40.0</td>\n",
              "      <td>52.0</td>\n",
              "      <td>59.000000</td>\n",
              "      <td>68.956069</td>\n",
              "      <td>99.000000</td>\n",
              "    </tr>\n",
              "    <tr>\n",
              "      <th>surface_total</th>\n",
              "      <td>33599.0</td>\n",
              "      <td>69.581796</td>\n",
              "      <td>12.962513</td>\n",
              "      <td>50.0</td>\n",
              "      <td>59.0</td>\n",
              "      <td>69.775073</td>\n",
              "      <td>78.000000</td>\n",
              "      <td>99.920485</td>\n",
              "    </tr>\n",
              "    <tr>\n",
              "      <th>surface_covered</th>\n",
              "      <td>6000.0</td>\n",
              "      <td>76.651663</td>\n",
              "      <td>672.817535</td>\n",
              "      <td>10.0</td>\n",
              "      <td>45.0</td>\n",
              "      <td>56.353441</td>\n",
              "      <td>73.000000</td>\n",
              "      <td>47360.000000</td>\n",
              "    </tr>\n",
              "    <tr>\n",
              "      <th>surface_total</th>\n",
              "      <td>6000.0</td>\n",
              "      <td>91.493766</td>\n",
              "      <td>751.472659</td>\n",
              "      <td>21.0</td>\n",
              "      <td>51.0</td>\n",
              "      <td>68.000000</td>\n",
              "      <td>84.701700</td>\n",
              "      <td>47360.000000</td>\n",
              "    </tr>\n",
              "  </tbody>\n",
              "</table>\n",
              "</div>"
            ],
            "text/plain": [
              "                   count       mean         std   min   25%        50%  \\\n",
              "surface_covered  33599.0  60.854979   11.768355  40.0  52.0  59.000000   \n",
              "surface_total    33599.0  69.581796   12.962513  50.0  59.0  69.775073   \n",
              "surface_covered   6000.0  76.651663  672.817535  10.0  45.0  56.353441   \n",
              "surface_total     6000.0  91.493766  751.472659  21.0  51.0  68.000000   \n",
              "\n",
              "                       75%           max  \n",
              "surface_covered  68.956069     99.000000  \n",
              "surface_total    78.000000     99.920485  \n",
              "surface_covered  73.000000  47360.000000  \n",
              "surface_total    84.701700  47360.000000  "
            ]
          },
          "execution_count": 364,
          "metadata": {},
          "output_type": "execute_result"
        }
      ],
      "source": [
        "pd.concat((df_train[['surface_covered','surface_total']].describe().T,\n",
        "           df_test[['surface_covered','surface_total']].describe().T),axis=0)"
      ]
    },
    {
      "attachments": {},
      "cell_type": "markdown",
      "metadata": {
        "id": "Yw6Mm3GEAUi2"
      },
      "source": [
        "## Imputación de nulos"
      ]
    },
    {
      "attachments": {},
      "cell_type": "markdown",
      "metadata": {
        "id": "Hq0rV6jxAUjF"
      },
      "source": [
        "## Armado de variables"
      ]
    },
    {
      "cell_type": "code",
      "execution_count": 365,
      "metadata": {
        "colab": {
          "base_uri": "https://localhost:8080/"
        },
        "id": "1nWJvsiiAUjF",
        "outputId": "72a03121-ca89-4e0c-991f-a6e80f107960"
      },
      "outputs": [
        {
          "name": "stderr",
          "output_type": "stream",
          "text": [
            "C:\\Users\\Usuario\\AppData\\Local\\Temp\\ipykernel_9356\\2069691848.py:25: UserWarning: This pattern is interpreted as a regular expression, and has match groups. To actually get the groups, use str.extract.\n",
            "  df[f\"desc_{c}\"] = df[\"description\"].str.contains(c,regex=True)\n",
            "C:\\Users\\Usuario\\AppData\\Local\\Temp\\ipykernel_9356\\2069691848.py:25: UserWarning: This pattern is interpreted as a regular expression, and has match groups. To actually get the groups, use str.extract.\n",
            "  df[f\"desc_{c}\"] = df[\"description\"].str.contains(c,regex=True)\n",
            "C:\\Users\\Usuario\\AppData\\Local\\Temp\\ipykernel_9356\\2069691848.py:25: UserWarning: This pattern is interpreted as a regular expression, and has match groups. To actually get the groups, use str.extract.\n",
            "  df[f\"desc_{c}\"] = df[\"description\"].str.contains(c,regex=True)\n",
            "C:\\Users\\Usuario\\AppData\\Local\\Temp\\ipykernel_9356\\2069691848.py:25: UserWarning: This pattern is interpreted as a regular expression, and has match groups. To actually get the groups, use str.extract.\n",
            "  df[f\"desc_{c}\"] = df[\"description\"].str.contains(c,regex=True)\n",
            "C:\\Users\\Usuario\\AppData\\Local\\Temp\\ipykernel_9356\\2069691848.py:25: UserWarning: This pattern is interpreted as a regular expression, and has match groups. To actually get the groups, use str.extract.\n",
            "  df[f\"desc_{c}\"] = df[\"description\"].str.contains(c,regex=True)\n",
            "C:\\Users\\Usuario\\AppData\\Local\\Temp\\ipykernel_9356\\2069691848.py:25: UserWarning: This pattern is interpreted as a regular expression, and has match groups. To actually get the groups, use str.extract.\n",
            "  df[f\"desc_{c}\"] = df[\"description\"].str.contains(c,regex=True)\n"
          ]
        }
      ],
      "source": [
        "df = pd.concat((df_train,df_test),axis=0)\n",
        "\n",
        "df['bathrooms_rooms'] = df['bathrooms']/df['rooms']\n",
        "df['bedrooms_rooms'] = df['bedrooms']/df['rooms']\n",
        "df['covered'] = df['surface_covered']/df['surface_total']\n",
        "\n",
        "df['start_year']  = pd.to_datetime(df['start_date']).dt.year\n",
        "df['start_month'] = pd.to_datetime(df['start_date']).dt.month\n",
        "df['start_day'] = pd.to_datetime(df['start_date']).dt.month\n",
        "\n",
        "df['tiene_esp_abierto'] = 0\n",
        "df.loc[(df['surface_total']-df['surface_covered'])!=0,'tiene_esp_abierto'] = 1\n",
        "\n",
        "df['description'] = df[\"description\"].str.lower().str.replace('á','a').str.replace('é','e').str.replace('í','i').str.replace('ó','o').str.replace('ú','u')\n",
        "#df['title'] = df[\"title\"].str.lower().str.replace('á','a').str.replace('é','e').str.replace('í','i').str.replace('ó','o').str.replace('ú','u')\n",
        "\n",
        "for c in [\"barrio privado\", \"corredor\",'suite','monoambiente','amueblado',\n",
        "          'ascensor','parrilla','patio','balcon','jardin','linea (a|b|b|c|d|e|h)',\n",
        "          'obelisco','catedral','metrobus','barrancas','barrio chino','river',\n",
        "          'universidad','facultad','subte','tren','estacion','museo','parque','jacuzzi',\n",
        "          '(j|y)acu(z|zz)i','sho(pp|p)ing','country','terminal','avenida','av.','av',\n",
        "          'expensa','expensas','a(mm|m)enities','inmobiliaria','dueñ(o|a) direct(o|a)',\n",
        "          'balcon','pileta|piscina','escuela|colegio','centro','microcentro','lago','estilo franc(é|e)s',\n",
        "          'libertador','baulera','hotel','emprendimiento']:\n",
        "    df[f\"desc_{c}\"] = df[\"description\"].str.contains(c,regex=True)\n",
        "    #df[f\"title_{c}\"] = df[\"title\"].str.contains(c,regex=True)"
      ]
    },
    {
      "cell_type": "code",
      "execution_count": 366,
      "metadata": {
        "id": "YnffhsjQAUjH"
      },
      "outputs": [],
      "source": [
        "df_train = df[~df.price.isnull()]\n",
        "df_test = df[df.price.isnull()]"
      ]
    },
    {
      "attachments": {},
      "cell_type": "markdown",
      "metadata": {
        "id": "FIBo-xtfAUjH"
      },
      "source": [
        "## Selección de atributos"
      ]
    },
    {
      "cell_type": "code",
      "execution_count": 367,
      "metadata": {
        "colab": {
          "base_uri": "https://localhost:8080/"
        },
        "id": "cM8kP8ryAUjH",
        "outputId": "d370bbb7-83a4-4688-d10a-ac1d93845b3a"
      },
      "outputs": [
        {
          "name": "stderr",
          "output_type": "stream",
          "text": [
            "C:\\Users\\Usuario\\AppData\\Local\\Temp\\ipykernel_9356\\1215703700.py:2: SettingWithCopyWarning: \n",
            "A value is trying to be set on a copy of a slice from a DataFrame\n",
            "\n",
            "See the caveats in the documentation: https://pandas.pydata.org/pandas-docs/stable/user_guide/indexing.html#returning-a-view-versus-a-copy\n",
            "  df_train.drop(columns=cols,inplace=True)\n",
            "C:\\Users\\Usuario\\AppData\\Local\\Temp\\ipykernel_9356\\1215703700.py:3: SettingWithCopyWarning: \n",
            "A value is trying to be set on a copy of a slice from a DataFrame\n",
            "\n",
            "See the caveats in the documentation: https://pandas.pydata.org/pandas-docs/stable/user_guide/indexing.html#returning-a-view-versus-a-copy\n",
            "  df_test.drop(columns=cols,inplace=True)\n"
          ]
        }
      ],
      "source": [
        "cols = ['l1','l5','l6','ad_type','currency','operation_type']\n",
        "df_train.drop(columns=cols,inplace=True)\n",
        "df_test.drop(columns=cols,inplace=True)"
      ]
    },
    {
      "attachments": {},
      "cell_type": "markdown",
      "metadata": {
        "id": "Zn72NpRYAUjI"
      },
      "source": [
        "## Dummies"
      ]
    },
    {
      "cell_type": "code",
      "execution_count": 368,
      "metadata": {
        "id": "0PINalyBAUjI"
      },
      "outputs": [],
      "source": [
        "cols_dummies = [#'l2','l3','l4',\n",
        "                'property_type']\n",
        "train_dummies = pd.get_dummies(df_train[cols_dummies],dummy_na=True)\n",
        "df_train = pd.concat((df_train,train_dummies),axis=1)\n",
        "\n",
        "test_dummies = pd.get_dummies(df_test[cols_dummies],dummy_na=True)\n",
        "df_test = pd.concat((df_test,test_dummies),axis=1)"
      ]
    },
    {
      "cell_type": "code",
      "execution_count": 369,
      "metadata": {
        "id": "IO1A57JGAUjJ"
      },
      "outputs": [],
      "source": [
        "cols = pd.concat((df_train,df_test),axis=0,join='inner').columns\n",
        "\n",
        "df_train = df_train[cols]\n",
        "df_test = df_test[cols]"
      ]
    },
    {
      "attachments": {},
      "cell_type": "markdown",
      "metadata": {},
      "source": [
        "## Ajuste de outliers en Pto Madero"
      ]
    },
    {
      "cell_type": "code",
      "execution_count": 370,
      "metadata": {},
      "outputs": [
        {
          "data": {
            "text/plain": [
              "<AxesSubplot: xlabel='lat', ylabel='lon'>"
            ]
          },
          "execution_count": 370,
          "metadata": {},
          "output_type": "execute_result"
        },
        {
          "data": {
            "image/png": "[encoded data removed]",
            "text/plain": [
              "<Figure size 640x480 with 1 Axes>"
            ]
          },
          "metadata": {},
          "output_type": "display_data"
        }
      ],
      "source": [
        "sns.scatterplot(data=df_train[(df_train.l3=='Puerto Madero')|(df_train.l3=='Catalinas')],x='lat',y='lon',hue='price')"
      ]
    },
    {
      "cell_type": "code",
      "execution_count": 371,
      "metadata": {},
      "outputs": [],
      "source": [
        "df_train.loc[((df_train.l3=='Puerto Madero')|(df_train.l3=='Catalinas'))&(df_train.lat<-58.42),'lat'] = -58.361\n",
        "df_test.loc[((df_test.l3=='Puerto Madero')|(df_test.l3=='Catalinas'))&(df_test.lat<-58.4),'lat'] = -58.361"
      ]
    },
    {
      "cell_type": "code",
      "execution_count": 372,
      "metadata": {},
      "outputs": [
        {
          "data": {
            "text/plain": [
              "<AxesSubplot: xlabel='lat', ylabel='lon'>"
            ]
          },
          "execution_count": 372,
          "metadata": {},
          "output_type": "execute_result"
        },
        {
          "data": {
            "image/png": "[encoded data removed]",
            "text/plain": [
              "<Figure size 640x480 with 1 Axes>"
            ]
          },
          "metadata": {},
          "output_type": "display_data"
        }
      ],
      "source": [
        "sns.scatterplot(data=df_train[(df_train.l3=='Puerto Madero')|(df_train.l3=='Catalinas')],x='lat',y='lon',hue='price')"
      ]
    },
    {
      "attachments": {},
      "cell_type": "markdown",
      "metadata": {},
      "source": [
        "## División de base"
      ]
    },
    {
      "cell_type": "code",
      "execution_count": 373,
      "metadata": {},
      "outputs": [],
      "source": [
        "df_test_la_plata = df_test[(df_test.lat>-58.2)&(df_test.lon<-34.8)]\n",
        "df_train_la_plata = df_train[(df_train.lat>-58.2)&(df_train.lon<-34)]\n",
        "\n",
        "df_test_caba = df_test[(df_test.lat<=-58.2)&(df_test.lon>=-34.8)&~((df_test.l3=='Puerto Madero')|(df_test.l3=='Catalinas'))]\n",
        "df_train_caba = df_train[~((df_train.lat>-58.2)&(df_train.lon<-34))&~((df_train.l3=='Puerto Madero')|(df_train.l3=='Catalinas'))]"
      ]
    },
    {
      "cell_type": "code",
      "execution_count": 374,
      "metadata": {},
      "outputs": [],
      "source": [
        "df_test_madero = df_test[(df_test.lat<=-58.2)&(df_test.lon>=-34.8)&((df_test.l3=='Puerto Madero')|(df_test.l3=='Catalinas'))]\n",
        "\n",
        "df_train_madero = df_train[~((df_train.lat>-58.2)&(df_train.lon<-34))&((df_train.l3=='Puerto Madero')|(df_train.l3=='Catalinas'))]\n",
        "\n",
        "corredor_norte = ['Retiro','Recoleta','Barrio Norte']#,'Nuñez','Distrito Audiovisual','Palermo','Belgrano','Coghlan','Las Cañitas',]\n",
        "\n",
        "df_train_corredor_norte = df_train_caba[df_train_caba.l3.isin(corredor_norte)]\n",
        "df_test_corredor_norte = df_test_caba[df_test_caba.l3.isin(corredor_norte)]\n",
        "\n",
        "df_train_caba = df_train_caba[~df_train_caba.l3.isin(corredor_norte)]\n",
        "df_test_caba = df_test_caba[~df_test_caba.l3.isin(corredor_norte)]\n",
        "\n",
        "corredor_sur = ['Villa Riachuelo','Villa Lugano','Villa Soldati','Pompeya','Boca','Constitución']#'Barracas','Parque Patricios']\n",
        "\n",
        "df_train_corredor_sur = df_train_caba[df_train_caba.l3.isin(corredor_sur)]\n",
        "df_test_corredor_sur = df_test_caba[df_test_caba.l3.isin(corredor_sur)]\n",
        "\n",
        "df_train_caba = df_train_caba[~df_train_caba.l3.isin(corredor_sur)]\n",
        "df_test_caba = df_test_caba[~df_test_caba.l3.isin(corredor_sur)]\n",
        "\n",
        "caballito = ['Almagro','Caballito','Parque Centenario','Villa Crespo']\n",
        "\n",
        "df_train_caballito = df_train_caba[df_train_caba.l3.isin(caballito)]\n",
        "df_test_caballito= df_test_caba[df_test_caba.l3.isin(caballito)]\n",
        "\n",
        "df_train_caba = df_train_caba[~df_train_caba.l3.isin(caballito)]\n",
        "df_test_caba = df_test_caba[~df_test_caba.l3.isin(caballito)]\n",
        "\n",
        "palermo = ['Palermo','Distrito Audiovisual','Las Cañitas']\n",
        "df_train_palermo = df_train_caba[df_train_caba.l3.isin(palermo)]\n",
        "df_test_palermo= df_test_caba[df_test_caba.l3.isin(palermo)]\n",
        "\n",
        "df_train_caba = df_train_caba[~df_train_caba.l3.isin(palermo)]\n",
        "df_test_caba = df_test_caba[~df_test_caba.l3.isin(palermo)]\n",
        "\n",
        "belgrano = ['Belgrano','Nuñez','Coghlan']\n",
        "df_train_belgrano = df_train_caba[df_train_caba.l3.isin(belgrano)]\n",
        "df_test_belgrano= df_test_caba[df_test_caba.l3.isin(belgrano)]\n",
        "\n",
        "df_train_caba = df_train_caba[~df_train_caba.l3.isin(belgrano)]\n",
        "df_test_caba = df_test_caba[~df_test_caba.l3.isin(belgrano)]\n",
        "\n",
        "#devoto\n",
        "df_train_devoto = df_train_caba[df_train_caba.l3=='Villa Devoto']\n",
        "df_test_devoto = df_test_caba[df_test_caba.l3=='Villa Devoto']\n",
        "\n",
        "df_train_caba = df_train_caba[df_train_caba.l3!='Villa Devoto']\n",
        "df_test_caba= df_test_caba[df_test_caba.l3!='Villa Devoto']"
      ]
    },
    {
      "cell_type": "code",
      "execution_count": 375,
      "metadata": {},
      "outputs": [],
      "source": [
        "ballester_test = df_test[~((df_test.lat<=-58.2)&(df_test.lon>=-34.8))&(df_test.l3.isnull())]\n",
        "\n",
        "df_test_caba = pd.concat((df_test_caba,ballester_test),axis=0)"
      ]
    },
    {
      "attachments": {},
      "cell_type": "markdown",
      "metadata": {},
      "source": [
        "### Ajuste de precios (por ahora comentado)"
      ]
    },
    {
      "cell_type": "code",
      "execution_count": 376,
      "metadata": {},
      "outputs": [],
      "source": [
        "df_train_devoto = df_train_devoto[~((df_train_devoto.l3=='Villa Devoto') &(df_train_devoto.price>=2215000))]\n",
        "\n",
        "df_train_caba = df_train_caba[~((df_train_caba.l3=='Barracas')&(df_train_caba.title.fillna('NA').str.contains('600000')))]\n",
        "\n",
        "df_train_belgrano = pd.concat((df_train_belgrano,df_train_caba[df_train_caba.title.fillna('NA').str.contains('Barrancas')]),axis=0)\n",
        "\n",
        "df_train_caba = df_train_caba[~df_train_caba.title.fillna('NA').str.contains('Barrancas')]\n",
        "\n",
        "\n",
        "df_train_caba = df_train_caba[~((df_train_caba.l3=='Villa Urquiza')&(df_train_caba.price==3900000.0))]\n",
        "\n",
        "df_train_madero = pd.concat((df_train_madero,df_train_caba[(df_train_caba.title.fillna('NA').str.contains(' PUERTO MADERO'))]),axis=0)\n",
        "df_train_caba = df_train_caba[~(df_train_caba.title.fillna('NA').str.contains(' PUERTO MADERO'))]\n",
        "\n",
        "df_train_madero = pd.concat((df_train_caba[(df_train_caba.l3=='Tribunales')&(df_train_caba.price>2000000)],df_train_madero),axis=0)\n",
        "df_train_caba = df_train_caba[~((df_train_caba.l3=='Tribunales')&(df_train_caba.price>2000000))]\n",
        "\n",
        "df_train_caba = df_train_caba[~((df_train_caba.l3=='Boedo')&(df_train_caba.price>3000000))] #TODO: ver si reincorporar\n",
        "df_train_caba = df_train_caba[~((df_train_caba.l3=='San Cristobal')&(df_train_caba.price>3000000))] #TODO: ver si reincorporar\n",
        "df_train_caba = df_train_caba[~((df_train_caba.l3=='Centro / Microcentro')&(df_train_caba.price>2000000))] #TODO: ver si reincorporar\n",
        "df_train_caba = df_train_caba[~((df_train_caba.l3=='Chacarita')&(df_train_caba.price>500000))]#TODO: ver si reincorporar"
      ]
    },
    {
      "cell_type": "code",
      "execution_count": 377,
      "metadata": {},
      "outputs": [
        {
          "data": {
            "text/plain": [
              "<AxesSubplot: xlabel='price', ylabel='l3'>"
            ]
          },
          "execution_count": 377,
          "metadata": {},
          "output_type": "execute_result"
        },
        {
          "data": {
            "image/png": "[encoded data removed]",
            "text/plain": [
              "<Figure size 2000x1500 with 1 Axes>"
            ]
          },
          "metadata": {},
          "output_type": "display_data"
        }
      ],
      "source": [
        "plt.figure(figsize=(20,15))\n",
        "sns.violinplot(data=df_train_caba,x='price',y='l3')"
      ]
    },
    {
      "cell_type": "code",
      "execution_count": 378,
      "metadata": {},
      "outputs": [],
      "source": [
        "df_train_palermo.loc[df_train_palermo.price==32434232,'price'] = 32434232/10"
      ]
    },
    {
      "cell_type": "code",
      "execution_count": 379,
      "metadata": {},
      "outputs": [],
      "source": [
        "df_train_caballito = df_train_caballito[~((df_train_caballito.l3=='Villa Crespo')&\n",
        "                     (df_train_caballito.price>1200000)&\n",
        "                     (df_train_caballito.title.str.lower().str.contains('emprendimiento')))]\n",
        "\n",
        "df_train_caballito = df_train_caballito[~((df_train_caballito.l3=='Caballito')&(df_train_caballito.price>4000000))] #TODO: ver si reincorporar"
      ]
    },
    {
      "cell_type": "code",
      "execution_count": 380,
      "metadata": {},
      "outputs": [],
      "source": [
        "vale_1111111 = df_train_corredor_sur.price==1111111\n",
        "vale_1115000 = df_train_corredor_sur.price==1115000\n",
        "mas_de_800000 = df_train_corredor_sur.price>800000\n",
        "\n",
        "df_train_corredor_sur.loc[vale_1111111,'price'] = df_train_corredor_sur.loc[vale_1111111,'price']/10\n",
        "df_train_corredor_sur.loc[vale_1115000,'price'] = df_train_corredor_sur.loc[vale_1115000,'price'] /10\n",
        "df_train_corredor_sur.loc[mas_de_800000,'price'] = df_train_corredor_sur.loc[mas_de_800000,'price']/10"
      ]
    },
    {
      "cell_type": "code",
      "execution_count": 381,
      "metadata": {},
      "outputs": [
        {
          "data": {
            "text/plain": [
              "(372, 82)"
            ]
          },
          "execution_count": 381,
          "metadata": {},
          "output_type": "execute_result"
        }
      ],
      "source": [
        "df_train_madero = df_train_madero[(df_train_madero.price<=4000000)] #TODO: ver si reincorporar en VERSION LAXA\n",
        "df_train_madero.shape"
      ]
    },
    {
      "cell_type": "code",
      "execution_count": 382,
      "metadata": {},
      "outputs": [
        {
          "data": {
            "text/plain": [
              "<AxesSubplot: xlabel='price', ylabel='l3'>"
            ]
          },
          "execution_count": 382,
          "metadata": {},
          "output_type": "execute_result"
        },
        {
          "data": {
            "image/png": "[encoded data removed]",
            "text/plain": [
              "<Figure size 2000x1500 with 1 Axes>"
            ]
          },
          "metadata": {},
          "output_type": "display_data"
        }
      ],
      "source": [
        "plt.figure(figsize=(20,15))\n",
        "sns.boxplot(data=df_train_madero,x='price',y='l3')"
      ]
    },
    {
      "cell_type": "code",
      "execution_count": 383,
      "metadata": {},
      "outputs": [
        {
          "data": {
            "text/plain": [
              "<AxesSubplot: xlabel='price', ylabel='l3'>"
            ]
          },
          "execution_count": 383,
          "metadata": {},
          "output_type": "execute_result"
        },
        {
          "data": {
            "image/png": "[encoded data removed]",
            "text/plain": [
              "<Figure size 2000x1500 with 1 Axes>"
            ]
          },
          "metadata": {},
          "output_type": "display_data"
        }
      ],
      "source": [
        "plt.figure(figsize=(20,15))\n",
        "sns.violinplot(data=df_train_belgrano,x='price',y='l3')"
      ]
    },
    {
      "cell_type": "code",
      "execution_count": 384,
      "metadata": {},
      "outputs": [
        {
          "data": {
            "text/plain": [
              "<AxesSubplot: xlabel='price', ylabel='l3'>"
            ]
          },
          "execution_count": 384,
          "metadata": {},
          "output_type": "execute_result"
        },
        {
          "data": {
            "image/png": "[encoded data removed]",
            "text/plain": [
              "<Figure size 1000x1000 with 1 Axes>"
            ]
          },
          "metadata": {},
          "output_type": "display_data"
        }
      ],
      "source": [
        "fig, ax = plt.subplots(figsize=(10,10))\n",
        "sns.barplot(data=df_train_caba.groupby('l3').agg({'price':'mean'}).reset_index().sort_values('price'),y='l3',x='price')"
      ]
    },
    {
      "cell_type": "code",
      "execution_count": 385,
      "metadata": {},
      "outputs": [],
      "source": [
        "def filtrado_columnas(df_test,df_train):\n",
        "    F = df_train[~df_train.price.isnull()]\n",
        "    X = F[F.select_dtypes(include=['float64' ,'float32','int64', 'int32', 'int16', 'int8', 'bool','uint8']).columns.drop('price')]\n",
        "    y = F['price']\n",
        "\n",
        "    clf = sk.ensemble.RandomForestRegressor(n_estimators=50, n_jobs=-1,random_state=42)\n",
        "    clf.fit(X, y)\n",
        "\n",
        "    importancias = pd.DataFrame({'atributo': clf.feature_names_in_, 'importancia': clf.feature_importances_})\n",
        "    cols = list(importancias[importancias['importancia']>0.0001].sort_values('importancia',ascending=False).reset_index(drop=True).atributo)\n",
        "\n",
        "    cols.append('price')\n",
        "\n",
        "    display(importancias.sort_values('importancia').tail(10))\n",
        "\n",
        "    df_train = df_train[cols]\n",
        "    df_test = df_test[cols]\n",
        "\n",
        "    print(df_train.shape)\n",
        "    return df_test, df_train"
      ]
    },
    {
      "cell_type": "code",
      "execution_count": 386,
      "metadata": {},
      "outputs": [
        {
          "name": "stdout",
          "output_type": "stream",
          "text": [
            "La plata tiene 35 en train y 264 en test\n",
            "CABA tiene 12137 en train y 2183 en test\n",
            "Pto Madero y Catalinas tiene 372 en train y 100 en test\n",
            "Corr norte tiene 2292 en train y 428 en test\n",
            "Corr sur tiene 690 en train y 111 en test\n",
            "Caballito tiene 8516 en train y 1373 en test\n",
            "Palermo tiene 5509 en train y 875 en test\n",
            "Belgrano tiene 3500 en train y 576 en test\n",
            "Devoto tiene 546 en train y 90 en test\n"
          ]
        }
      ],
      "source": [
        "print(f\"La plata tiene {df_train_la_plata.shape[0]} en train y {df_test_la_plata.shape[0]} en test\")\n",
        "print(f\"CABA tiene {df_train_caba.shape[0]} en train y {df_test_caba.shape[0]} en test\")\n",
        "print(f\"Pto Madero y Catalinas tiene {df_train_madero.shape[0]} en train y {df_test_madero.shape[0]} en test\")\n",
        "print(f\"Corr norte tiene {df_train_corredor_norte.shape[0]} en train y {df_test_corredor_norte.shape[0]} en test\")\n",
        "print(f\"Corr sur tiene {df_train_corredor_sur.shape[0]} en train y {df_test_corredor_sur.shape[0]} en test\")\n",
        "print(f\"Caballito tiene {df_train_caballito.shape[0]} en train y {df_test_caballito.shape[0]} en test\")\n",
        "print(f\"Palermo tiene {df_train_palermo.shape[0]} en train y {df_test_palermo.shape[0]} en test\")\n",
        "print(f\"Belgrano tiene {df_train_belgrano.shape[0]} en train y {df_test_belgrano.shape[0]} en test\")\n",
        "# print(f\"Noroeste tiene {df_train_noroeste.shape[0]} en train y {df_test_noroeste.shape[0]} en test\")\n",
        "print(f\"Devoto tiene {df_train_devoto.shape[0]} en train y {df_test_devoto.shape[0]} en test\")\n",
        "# print(f\"Barracas tiene {df_train_barracas.shape[0]} en train y {df_test_barracas.shape[0]} en test\")"
      ]
    },
    {
      "cell_type": "code",
      "execution_count": 387,
      "metadata": {},
      "outputs": [
        {
          "name": "stdout",
          "output_type": "stream",
          "text": [
            "La Plata\n"
          ]
        },
        {
          "data": {
            "text/html": [
              "<div>\n",
              "<style scoped>\n",
              "    .dataframe tbody tr th:only-of-type {\n",
              "        vertical-align: middle;\n",
              "    }\n",
              "\n",
              "    .dataframe tbody tr th {\n",
              "        vertical-align: top;\n",
              "    }\n",
              "\n",
              "    .dataframe thead th {\n",
              "        text-align: right;\n",
              "    }\n",
              "</style>\n",
              "<table border=\"1\" class=\"dataframe\">\n",
              "  <thead>\n",
              "    <tr style=\"text-align: right;\">\n",
              "      <th></th>\n",
              "      <th>atributo</th>\n",
              "      <th>importancia</th>\n",
              "    </tr>\n",
              "  </thead>\n",
              "  <tbody>\n",
              "    <tr>\n",
              "      <th>5</th>\n",
              "      <td>surface_total</td>\n",
              "      <td>0.031363</td>\n",
              "    </tr>\n",
              "    <tr>\n",
              "      <th>19</th>\n",
              "      <td>start_day</td>\n",
              "      <td>0.034608</td>\n",
              "    </tr>\n",
              "    <tr>\n",
              "      <th>0</th>\n",
              "      <td>lat</td>\n",
              "      <td>0.035574</td>\n",
              "    </tr>\n",
              "    <tr>\n",
              "      <th>16</th>\n",
              "      <td>covered</td>\n",
              "      <td>0.041009</td>\n",
              "    </tr>\n",
              "    <tr>\n",
              "      <th>52</th>\n",
              "      <td>desc_av</td>\n",
              "      <td>0.043901</td>\n",
              "    </tr>\n",
              "    <tr>\n",
              "      <th>6</th>\n",
              "      <td>surface_covered</td>\n",
              "      <td>0.056076</td>\n",
              "    </tr>\n",
              "    <tr>\n",
              "      <th>18</th>\n",
              "      <td>start_month</td>\n",
              "      <td>0.058712</td>\n",
              "    </tr>\n",
              "    <tr>\n",
              "      <th>51</th>\n",
              "      <td>desc_av.</td>\n",
              "      <td>0.069816</td>\n",
              "    </tr>\n",
              "    <tr>\n",
              "      <th>1</th>\n",
              "      <td>lon</td>\n",
              "      <td>0.198091</td>\n",
              "    </tr>\n",
              "    <tr>\n",
              "      <th>11</th>\n",
              "      <td>surface_covered_imputed</td>\n",
              "      <td>0.257506</td>\n",
              "    </tr>\n",
              "  </tbody>\n",
              "</table>\n",
              "</div>"
            ],
            "text/plain": [
              "                   atributo  importancia\n",
              "5             surface_total     0.031363\n",
              "19                start_day     0.034608\n",
              "0                       lat     0.035574\n",
              "16                  covered     0.041009\n",
              "52                  desc_av     0.043901\n",
              "6           surface_covered     0.056076\n",
              "18              start_month     0.058712\n",
              "51                 desc_av.     0.069816\n",
              "1                       lon     0.198091\n",
              "11  surface_covered_imputed     0.257506"
            ]
          },
          "metadata": {},
          "output_type": "display_data"
        },
        {
          "name": "stdout",
          "output_type": "stream",
          "text": [
            "(35, 36)\n",
            "Resto de Caba\n"
          ]
        },
        {
          "data": {
            "text/html": [
              "<div>\n",
              "<style scoped>\n",
              "    .dataframe tbody tr th:only-of-type {\n",
              "        vertical-align: middle;\n",
              "    }\n",
              "\n",
              "    .dataframe tbody tr th {\n",
              "        vertical-align: top;\n",
              "    }\n",
              "\n",
              "    .dataframe thead th {\n",
              "        text-align: right;\n",
              "    }\n",
              "</style>\n",
              "<table border=\"1\" class=\"dataframe\">\n",
              "  <thead>\n",
              "    <tr style=\"text-align: right;\">\n",
              "      <th></th>\n",
              "      <th>atributo</th>\n",
              "      <th>importancia</th>\n",
              "    </tr>\n",
              "  </thead>\n",
              "  <tbody>\n",
              "    <tr>\n",
              "      <th>19</th>\n",
              "      <td>start_day</td>\n",
              "      <td>0.014278</td>\n",
              "    </tr>\n",
              "    <tr>\n",
              "      <th>27</th>\n",
              "      <td>desc_parrilla</td>\n",
              "      <td>0.017813</td>\n",
              "    </tr>\n",
              "    <tr>\n",
              "      <th>10</th>\n",
              "      <td>surface_total_imputed</td>\n",
              "      <td>0.020250</td>\n",
              "    </tr>\n",
              "    <tr>\n",
              "      <th>23</th>\n",
              "      <td>desc_suite</td>\n",
              "      <td>0.022445</td>\n",
              "    </tr>\n",
              "    <tr>\n",
              "      <th>58</th>\n",
              "      <td>desc_pileta|piscina</td>\n",
              "      <td>0.023629</td>\n",
              "    </tr>\n",
              "    <tr>\n",
              "      <th>16</th>\n",
              "      <td>covered</td>\n",
              "      <td>0.028894</td>\n",
              "    </tr>\n",
              "    <tr>\n",
              "      <th>5</th>\n",
              "      <td>surface_total</td>\n",
              "      <td>0.060904</td>\n",
              "    </tr>\n",
              "    <tr>\n",
              "      <th>0</th>\n",
              "      <td>lat</td>\n",
              "      <td>0.095346</td>\n",
              "    </tr>\n",
              "    <tr>\n",
              "      <th>6</th>\n",
              "      <td>surface_covered</td>\n",
              "      <td>0.228135</td>\n",
              "    </tr>\n",
              "    <tr>\n",
              "      <th>1</th>\n",
              "      <td>lon</td>\n",
              "      <td>0.254546</td>\n",
              "    </tr>\n",
              "  </tbody>\n",
              "</table>\n",
              "</div>"
            ],
            "text/plain": [
              "                 atributo  importancia\n",
              "19              start_day     0.014278\n",
              "27          desc_parrilla     0.017813\n",
              "10  surface_total_imputed     0.020250\n",
              "23             desc_suite     0.022445\n",
              "58    desc_pileta|piscina     0.023629\n",
              "16                covered     0.028894\n",
              "5           surface_total     0.060904\n",
              "0                     lat     0.095346\n",
              "6         surface_covered     0.228135\n",
              "1                     lon     0.254546"
            ]
          },
          "metadata": {},
          "output_type": "display_data"
        },
        {
          "name": "stdout",
          "output_type": "stream",
          "text": [
            "(12137, 62)\n",
            "Madero y Catalinas\n"
          ]
        },
        {
          "data": {
            "text/html": [
              "<div>\n",
              "<style scoped>\n",
              "    .dataframe tbody tr th:only-of-type {\n",
              "        vertical-align: middle;\n",
              "    }\n",
              "\n",
              "    .dataframe tbody tr th {\n",
              "        vertical-align: top;\n",
              "    }\n",
              "\n",
              "    .dataframe thead th {\n",
              "        text-align: right;\n",
              "    }\n",
              "</style>\n",
              "<table border=\"1\" class=\"dataframe\">\n",
              "  <thead>\n",
              "    <tr style=\"text-align: right;\">\n",
              "      <th></th>\n",
              "      <th>atributo</th>\n",
              "      <th>importancia</th>\n",
              "    </tr>\n",
              "  </thead>\n",
              "  <tbody>\n",
              "    <tr>\n",
              "      <th>19</th>\n",
              "      <td>start_day</td>\n",
              "      <td>0.010128</td>\n",
              "    </tr>\n",
              "    <tr>\n",
              "      <th>65</th>\n",
              "      <td>desc_baulera</td>\n",
              "      <td>0.012618</td>\n",
              "    </tr>\n",
              "    <tr>\n",
              "      <th>51</th>\n",
              "      <td>desc_av.</td>\n",
              "      <td>0.013443</td>\n",
              "    </tr>\n",
              "    <tr>\n",
              "      <th>23</th>\n",
              "      <td>desc_suite</td>\n",
              "      <td>0.022200</td>\n",
              "    </tr>\n",
              "    <tr>\n",
              "      <th>16</th>\n",
              "      <td>covered</td>\n",
              "      <td>0.024313</td>\n",
              "    </tr>\n",
              "    <tr>\n",
              "      <th>59</th>\n",
              "      <td>desc_escuela|colegio</td>\n",
              "      <td>0.028489</td>\n",
              "    </tr>\n",
              "    <tr>\n",
              "      <th>5</th>\n",
              "      <td>surface_total</td>\n",
              "      <td>0.074066</td>\n",
              "    </tr>\n",
              "    <tr>\n",
              "      <th>0</th>\n",
              "      <td>lat</td>\n",
              "      <td>0.123585</td>\n",
              "    </tr>\n",
              "    <tr>\n",
              "      <th>1</th>\n",
              "      <td>lon</td>\n",
              "      <td>0.254080</td>\n",
              "    </tr>\n",
              "    <tr>\n",
              "      <th>6</th>\n",
              "      <td>surface_covered</td>\n",
              "      <td>0.317084</td>\n",
              "    </tr>\n",
              "  </tbody>\n",
              "</table>\n",
              "</div>"
            ],
            "text/plain": [
              "                atributo  importancia\n",
              "19             start_day     0.010128\n",
              "65          desc_baulera     0.012618\n",
              "51              desc_av.     0.013443\n",
              "23            desc_suite     0.022200\n",
              "16               covered     0.024313\n",
              "59  desc_escuela|colegio     0.028489\n",
              "5          surface_total     0.074066\n",
              "0                    lat     0.123585\n",
              "1                    lon     0.254080\n",
              "6        surface_covered     0.317084"
            ]
          },
          "metadata": {},
          "output_type": "display_data"
        },
        {
          "name": "stdout",
          "output_type": "stream",
          "text": [
            "(372, 53)\n",
            "Corredor Norte\n"
          ]
        },
        {
          "data": {
            "text/html": [
              "<div>\n",
              "<style scoped>\n",
              "    .dataframe tbody tr th:only-of-type {\n",
              "        vertical-align: middle;\n",
              "    }\n",
              "\n",
              "    .dataframe tbody tr th {\n",
              "        vertical-align: top;\n",
              "    }\n",
              "\n",
              "    .dataframe thead th {\n",
              "        text-align: right;\n",
              "    }\n",
              "</style>\n",
              "<table border=\"1\" class=\"dataframe\">\n",
              "  <thead>\n",
              "    <tr style=\"text-align: right;\">\n",
              "      <th></th>\n",
              "      <th>atributo</th>\n",
              "      <th>importancia</th>\n",
              "    </tr>\n",
              "  </thead>\n",
              "  <tbody>\n",
              "    <tr>\n",
              "      <th>7</th>\n",
              "      <td>rooms_imputed</td>\n",
              "      <td>0.012880</td>\n",
              "    </tr>\n",
              "    <tr>\n",
              "      <th>23</th>\n",
              "      <td>desc_suite</td>\n",
              "      <td>0.027955</td>\n",
              "    </tr>\n",
              "    <tr>\n",
              "      <th>16</th>\n",
              "      <td>covered</td>\n",
              "      <td>0.029467</td>\n",
              "    </tr>\n",
              "    <tr>\n",
              "      <th>55</th>\n",
              "      <td>desc_a(mm|m)enities</td>\n",
              "      <td>0.032875</td>\n",
              "    </tr>\n",
              "    <tr>\n",
              "      <th>10</th>\n",
              "      <td>surface_total_imputed</td>\n",
              "      <td>0.044997</td>\n",
              "    </tr>\n",
              "    <tr>\n",
              "      <th>5</th>\n",
              "      <td>surface_total</td>\n",
              "      <td>0.059801</td>\n",
              "    </tr>\n",
              "    <tr>\n",
              "      <th>58</th>\n",
              "      <td>desc_pileta|piscina</td>\n",
              "      <td>0.068420</td>\n",
              "    </tr>\n",
              "    <tr>\n",
              "      <th>0</th>\n",
              "      <td>lat</td>\n",
              "      <td>0.078400</td>\n",
              "    </tr>\n",
              "    <tr>\n",
              "      <th>1</th>\n",
              "      <td>lon</td>\n",
              "      <td>0.164995</td>\n",
              "    </tr>\n",
              "    <tr>\n",
              "      <th>6</th>\n",
              "      <td>surface_covered</td>\n",
              "      <td>0.308323</td>\n",
              "    </tr>\n",
              "  </tbody>\n",
              "</table>\n",
              "</div>"
            ],
            "text/plain": [
              "                 atributo  importancia\n",
              "7           rooms_imputed     0.012880\n",
              "23             desc_suite     0.027955\n",
              "16                covered     0.029467\n",
              "55    desc_a(mm|m)enities     0.032875\n",
              "10  surface_total_imputed     0.044997\n",
              "5           surface_total     0.059801\n",
              "58    desc_pileta|piscina     0.068420\n",
              "0                     lat     0.078400\n",
              "1                     lon     0.164995\n",
              "6         surface_covered     0.308323"
            ]
          },
          "metadata": {},
          "output_type": "display_data"
        },
        {
          "name": "stdout",
          "output_type": "stream",
          "text": [
            "(2292, 58)\n",
            "Corredor sur\n"
          ]
        },
        {
          "data": {
            "text/html": [
              "<div>\n",
              "<style scoped>\n",
              "    .dataframe tbody tr th:only-of-type {\n",
              "        vertical-align: middle;\n",
              "    }\n",
              "\n",
              "    .dataframe tbody tr th {\n",
              "        vertical-align: top;\n",
              "    }\n",
              "\n",
              "    .dataframe thead th {\n",
              "        text-align: right;\n",
              "    }\n",
              "</style>\n",
              "<table border=\"1\" class=\"dataframe\">\n",
              "  <thead>\n",
              "    <tr style=\"text-align: right;\">\n",
              "      <th></th>\n",
              "      <th>atributo</th>\n",
              "      <th>importancia</th>\n",
              "    </tr>\n",
              "  </thead>\n",
              "  <tbody>\n",
              "    <tr>\n",
              "      <th>58</th>\n",
              "      <td>desc_pileta|piscina</td>\n",
              "      <td>0.022887</td>\n",
              "    </tr>\n",
              "    <tr>\n",
              "      <th>45</th>\n",
              "      <td>desc_jacuzzi</td>\n",
              "      <td>0.031828</td>\n",
              "    </tr>\n",
              "    <tr>\n",
              "      <th>55</th>\n",
              "      <td>desc_a(mm|m)enities</td>\n",
              "      <td>0.039383</td>\n",
              "    </tr>\n",
              "    <tr>\n",
              "      <th>16</th>\n",
              "      <td>covered</td>\n",
              "      <td>0.044955</td>\n",
              "    </tr>\n",
              "    <tr>\n",
              "      <th>6</th>\n",
              "      <td>surface_covered</td>\n",
              "      <td>0.071080</td>\n",
              "    </tr>\n",
              "    <tr>\n",
              "      <th>5</th>\n",
              "      <td>surface_total</td>\n",
              "      <td>0.074797</td>\n",
              "    </tr>\n",
              "    <tr>\n",
              "      <th>0</th>\n",
              "      <td>lat</td>\n",
              "      <td>0.085990</td>\n",
              "    </tr>\n",
              "    <tr>\n",
              "      <th>4</th>\n",
              "      <td>bathrooms</td>\n",
              "      <td>0.093297</td>\n",
              "    </tr>\n",
              "    <tr>\n",
              "      <th>14</th>\n",
              "      <td>bathrooms_rooms</td>\n",
              "      <td>0.105789</td>\n",
              "    </tr>\n",
              "    <tr>\n",
              "      <th>1</th>\n",
              "      <td>lon</td>\n",
              "      <td>0.161359</td>\n",
              "    </tr>\n",
              "  </tbody>\n",
              "</table>\n",
              "</div>"
            ],
            "text/plain": [
              "               atributo  importancia\n",
              "58  desc_pileta|piscina     0.022887\n",
              "45         desc_jacuzzi     0.031828\n",
              "55  desc_a(mm|m)enities     0.039383\n",
              "16              covered     0.044955\n",
              "6       surface_covered     0.071080\n",
              "5         surface_total     0.074797\n",
              "0                   lat     0.085990\n",
              "4             bathrooms     0.093297\n",
              "14      bathrooms_rooms     0.105789\n",
              "1                   lon     0.161359"
            ]
          },
          "metadata": {},
          "output_type": "display_data"
        },
        {
          "name": "stdout",
          "output_type": "stream",
          "text": [
            "(690, 58)\n",
            "Caballito\n"
          ]
        },
        {
          "data": {
            "text/html": [
              "<div>\n",
              "<style scoped>\n",
              "    .dataframe tbody tr th:only-of-type {\n",
              "        vertical-align: middle;\n",
              "    }\n",
              "\n",
              "    .dataframe tbody tr th {\n",
              "        vertical-align: top;\n",
              "    }\n",
              "\n",
              "    .dataframe thead th {\n",
              "        text-align: right;\n",
              "    }\n",
              "</style>\n",
              "<table border=\"1\" class=\"dataframe\">\n",
              "  <thead>\n",
              "    <tr style=\"text-align: right;\">\n",
              "      <th></th>\n",
              "      <th>atributo</th>\n",
              "      <th>importancia</th>\n",
              "    </tr>\n",
              "  </thead>\n",
              "  <tbody>\n",
              "    <tr>\n",
              "      <th>29</th>\n",
              "      <td>desc_balcon</td>\n",
              "      <td>0.020153</td>\n",
              "    </tr>\n",
              "    <tr>\n",
              "      <th>4</th>\n",
              "      <td>bathrooms</td>\n",
              "      <td>0.025601</td>\n",
              "    </tr>\n",
              "    <tr>\n",
              "      <th>14</th>\n",
              "      <td>bathrooms_rooms</td>\n",
              "      <td>0.032530</td>\n",
              "    </tr>\n",
              "    <tr>\n",
              "      <th>2</th>\n",
              "      <td>rooms</td>\n",
              "      <td>0.033528</td>\n",
              "    </tr>\n",
              "    <tr>\n",
              "      <th>16</th>\n",
              "      <td>covered</td>\n",
              "      <td>0.050207</td>\n",
              "    </tr>\n",
              "    <tr>\n",
              "      <th>58</th>\n",
              "      <td>desc_pileta|piscina</td>\n",
              "      <td>0.059618</td>\n",
              "    </tr>\n",
              "    <tr>\n",
              "      <th>1</th>\n",
              "      <td>lon</td>\n",
              "      <td>0.086226</td>\n",
              "    </tr>\n",
              "    <tr>\n",
              "      <th>5</th>\n",
              "      <td>surface_total</td>\n",
              "      <td>0.091331</td>\n",
              "    </tr>\n",
              "    <tr>\n",
              "      <th>0</th>\n",
              "      <td>lat</td>\n",
              "      <td>0.101974</td>\n",
              "    </tr>\n",
              "    <tr>\n",
              "      <th>6</th>\n",
              "      <td>surface_covered</td>\n",
              "      <td>0.277612</td>\n",
              "    </tr>\n",
              "  </tbody>\n",
              "</table>\n",
              "</div>"
            ],
            "text/plain": [
              "               atributo  importancia\n",
              "29          desc_balcon     0.020153\n",
              "4             bathrooms     0.025601\n",
              "14      bathrooms_rooms     0.032530\n",
              "2                 rooms     0.033528\n",
              "16              covered     0.050207\n",
              "58  desc_pileta|piscina     0.059618\n",
              "1                   lon     0.086226\n",
              "5         surface_total     0.091331\n",
              "0                   lat     0.101974\n",
              "6       surface_covered     0.277612"
            ]
          },
          "metadata": {},
          "output_type": "display_data"
        },
        {
          "name": "stdout",
          "output_type": "stream",
          "text": [
            "(8516, 57)\n",
            "Palermo\n"
          ]
        },
        {
          "data": {
            "text/html": [
              "<div>\n",
              "<style scoped>\n",
              "    .dataframe tbody tr th:only-of-type {\n",
              "        vertical-align: middle;\n",
              "    }\n",
              "\n",
              "    .dataframe tbody tr th {\n",
              "        vertical-align: top;\n",
              "    }\n",
              "\n",
              "    .dataframe thead th {\n",
              "        text-align: right;\n",
              "    }\n",
              "</style>\n",
              "<table border=\"1\" class=\"dataframe\">\n",
              "  <thead>\n",
              "    <tr style=\"text-align: right;\">\n",
              "      <th></th>\n",
              "      <th>atributo</th>\n",
              "      <th>importancia</th>\n",
              "    </tr>\n",
              "  </thead>\n",
              "  <tbody>\n",
              "    <tr>\n",
              "      <th>11</th>\n",
              "      <td>surface_covered_imputed</td>\n",
              "      <td>0.011922</td>\n",
              "    </tr>\n",
              "    <tr>\n",
              "      <th>10</th>\n",
              "      <td>surface_total_imputed</td>\n",
              "      <td>0.013564</td>\n",
              "    </tr>\n",
              "    <tr>\n",
              "      <th>14</th>\n",
              "      <td>bathrooms_rooms</td>\n",
              "      <td>0.016102</td>\n",
              "    </tr>\n",
              "    <tr>\n",
              "      <th>16</th>\n",
              "      <td>covered</td>\n",
              "      <td>0.035857</td>\n",
              "    </tr>\n",
              "    <tr>\n",
              "      <th>0</th>\n",
              "      <td>lat</td>\n",
              "      <td>0.065792</td>\n",
              "    </tr>\n",
              "    <tr>\n",
              "      <th>58</th>\n",
              "      <td>desc_pileta|piscina</td>\n",
              "      <td>0.076114</td>\n",
              "    </tr>\n",
              "    <tr>\n",
              "      <th>5</th>\n",
              "      <td>surface_total</td>\n",
              "      <td>0.081736</td>\n",
              "    </tr>\n",
              "    <tr>\n",
              "      <th>1</th>\n",
              "      <td>lon</td>\n",
              "      <td>0.087043</td>\n",
              "    </tr>\n",
              "    <tr>\n",
              "      <th>23</th>\n",
              "      <td>desc_suite</td>\n",
              "      <td>0.144875</td>\n",
              "    </tr>\n",
              "    <tr>\n",
              "      <th>6</th>\n",
              "      <td>surface_covered</td>\n",
              "      <td>0.303928</td>\n",
              "    </tr>\n",
              "  </tbody>\n",
              "</table>\n",
              "</div>"
            ],
            "text/plain": [
              "                   atributo  importancia\n",
              "11  surface_covered_imputed     0.011922\n",
              "10    surface_total_imputed     0.013564\n",
              "14          bathrooms_rooms     0.016102\n",
              "16                  covered     0.035857\n",
              "0                       lat     0.065792\n",
              "58      desc_pileta|piscina     0.076114\n",
              "5             surface_total     0.081736\n",
              "1                       lon     0.087043\n",
              "23               desc_suite     0.144875\n",
              "6           surface_covered     0.303928"
            ]
          },
          "metadata": {},
          "output_type": "display_data"
        },
        {
          "name": "stdout",
          "output_type": "stream",
          "text": [
            "(5509, 59)\n",
            "Belgrano\n"
          ]
        },
        {
          "data": {
            "text/html": [
              "<div>\n",
              "<style scoped>\n",
              "    .dataframe tbody tr th:only-of-type {\n",
              "        vertical-align: middle;\n",
              "    }\n",
              "\n",
              "    .dataframe tbody tr th {\n",
              "        vertical-align: top;\n",
              "    }\n",
              "\n",
              "    .dataframe thead th {\n",
              "        text-align: right;\n",
              "    }\n",
              "</style>\n",
              "<table border=\"1\" class=\"dataframe\">\n",
              "  <thead>\n",
              "    <tr style=\"text-align: right;\">\n",
              "      <th></th>\n",
              "      <th>atributo</th>\n",
              "      <th>importancia</th>\n",
              "    </tr>\n",
              "  </thead>\n",
              "  <tbody>\n",
              "    <tr>\n",
              "      <th>7</th>\n",
              "      <td>rooms_imputed</td>\n",
              "      <td>0.031254</td>\n",
              "    </tr>\n",
              "    <tr>\n",
              "      <th>64</th>\n",
              "      <td>desc_libertador</td>\n",
              "      <td>0.034360</td>\n",
              "    </tr>\n",
              "    <tr>\n",
              "      <th>11</th>\n",
              "      <td>surface_covered_imputed</td>\n",
              "      <td>0.036325</td>\n",
              "    </tr>\n",
              "    <tr>\n",
              "      <th>58</th>\n",
              "      <td>desc_pileta|piscina</td>\n",
              "      <td>0.038717</td>\n",
              "    </tr>\n",
              "    <tr>\n",
              "      <th>10</th>\n",
              "      <td>surface_total_imputed</td>\n",
              "      <td>0.039025</td>\n",
              "    </tr>\n",
              "    <tr>\n",
              "      <th>0</th>\n",
              "      <td>lat</td>\n",
              "      <td>0.064443</td>\n",
              "    </tr>\n",
              "    <tr>\n",
              "      <th>5</th>\n",
              "      <td>surface_total</td>\n",
              "      <td>0.092590</td>\n",
              "    </tr>\n",
              "    <tr>\n",
              "      <th>6</th>\n",
              "      <td>surface_covered</td>\n",
              "      <td>0.134866</td>\n",
              "    </tr>\n",
              "    <tr>\n",
              "      <th>67</th>\n",
              "      <td>desc_emprendimiento</td>\n",
              "      <td>0.193196</td>\n",
              "    </tr>\n",
              "    <tr>\n",
              "      <th>1</th>\n",
              "      <td>lon</td>\n",
              "      <td>0.202825</td>\n",
              "    </tr>\n",
              "  </tbody>\n",
              "</table>\n",
              "</div>"
            ],
            "text/plain": [
              "                   atributo  importancia\n",
              "7             rooms_imputed     0.031254\n",
              "64          desc_libertador     0.034360\n",
              "11  surface_covered_imputed     0.036325\n",
              "58      desc_pileta|piscina     0.038717\n",
              "10    surface_total_imputed     0.039025\n",
              "0                       lat     0.064443\n",
              "5             surface_total     0.092590\n",
              "6           surface_covered     0.134866\n",
              "67      desc_emprendimiento     0.193196\n",
              "1                       lon     0.202825"
            ]
          },
          "metadata": {},
          "output_type": "display_data"
        },
        {
          "name": "stdout",
          "output_type": "stream",
          "text": [
            "(3500, 58)\n",
            "Devoto\n"
          ]
        },
        {
          "data": {
            "text/html": [
              "<div>\n",
              "<style scoped>\n",
              "    .dataframe tbody tr th:only-of-type {\n",
              "        vertical-align: middle;\n",
              "    }\n",
              "\n",
              "    .dataframe tbody tr th {\n",
              "        vertical-align: top;\n",
              "    }\n",
              "\n",
              "    .dataframe thead th {\n",
              "        text-align: right;\n",
              "    }\n",
              "</style>\n",
              "<table border=\"1\" class=\"dataframe\">\n",
              "  <thead>\n",
              "    <tr style=\"text-align: right;\">\n",
              "      <th></th>\n",
              "      <th>atributo</th>\n",
              "      <th>importancia</th>\n",
              "    </tr>\n",
              "  </thead>\n",
              "  <tbody>\n",
              "    <tr>\n",
              "      <th>58</th>\n",
              "      <td>desc_pileta|piscina</td>\n",
              "      <td>0.014561</td>\n",
              "    </tr>\n",
              "    <tr>\n",
              "      <th>14</th>\n",
              "      <td>bathrooms_rooms</td>\n",
              "      <td>0.016046</td>\n",
              "    </tr>\n",
              "    <tr>\n",
              "      <th>23</th>\n",
              "      <td>desc_suite</td>\n",
              "      <td>0.017642</td>\n",
              "    </tr>\n",
              "    <tr>\n",
              "      <th>19</th>\n",
              "      <td>start_day</td>\n",
              "      <td>0.020717</td>\n",
              "    </tr>\n",
              "    <tr>\n",
              "      <th>10</th>\n",
              "      <td>surface_total_imputed</td>\n",
              "      <td>0.031534</td>\n",
              "    </tr>\n",
              "    <tr>\n",
              "      <th>16</th>\n",
              "      <td>covered</td>\n",
              "      <td>0.036373</td>\n",
              "    </tr>\n",
              "    <tr>\n",
              "      <th>0</th>\n",
              "      <td>lat</td>\n",
              "      <td>0.053328</td>\n",
              "    </tr>\n",
              "    <tr>\n",
              "      <th>5</th>\n",
              "      <td>surface_total</td>\n",
              "      <td>0.078572</td>\n",
              "    </tr>\n",
              "    <tr>\n",
              "      <th>1</th>\n",
              "      <td>lon</td>\n",
              "      <td>0.169304</td>\n",
              "    </tr>\n",
              "    <tr>\n",
              "      <th>6</th>\n",
              "      <td>surface_covered</td>\n",
              "      <td>0.350250</td>\n",
              "    </tr>\n",
              "  </tbody>\n",
              "</table>\n",
              "</div>"
            ],
            "text/plain": [
              "                 atributo  importancia\n",
              "58    desc_pileta|piscina     0.014561\n",
              "14        bathrooms_rooms     0.016046\n",
              "23             desc_suite     0.017642\n",
              "19              start_day     0.020717\n",
              "10  surface_total_imputed     0.031534\n",
              "16                covered     0.036373\n",
              "0                     lat     0.053328\n",
              "5           surface_total     0.078572\n",
              "1                     lon     0.169304\n",
              "6         surface_covered     0.350250"
            ]
          },
          "metadata": {},
          "output_type": "display_data"
        },
        {
          "name": "stdout",
          "output_type": "stream",
          "text": [
            "(546, 53)\n"
          ]
        }
      ],
      "source": [
        "print(\"La Plata\")\n",
        "df_test_la_plata, df_train_la_plata = filtrado_columnas(df_test_la_plata,df_train_la_plata)\n",
        "print(\"Resto de Caba\")\n",
        "df_test_caba, df_train_caba = filtrado_columnas(df_test_caba,df_train_caba)\n",
        "print(\"Madero y Catalinas\")\n",
        "df_test_madero, df_train_madero = filtrado_columnas(df_test_madero,df_train_madero)\n",
        "print(\"Corredor Norte\")\n",
        "df_test_corredor_norte, df_train_corredor_norte = filtrado_columnas(df_test_corredor_norte,df_train_corredor_norte)\n",
        "print(\"Corredor sur\")\n",
        "df_test_corredor_sur, df_train_corredor_sur = filtrado_columnas(df_test_corredor_sur,df_train_corredor_sur)\n",
        "print(\"Caballito\")\n",
        "df_test_caballito, df_train_caballito = filtrado_columnas(df_test_caballito,df_train_caballito)\n",
        "print(\"Palermo\")\n",
        "df_test_palermo, df_train_palermo = filtrado_columnas(df_test_palermo,df_train_palermo)\n",
        "print(\"Belgrano\")\n",
        "df_test_belgrano, df_train_belgrano = filtrado_columnas(df_test_belgrano,df_train_belgrano)\n",
        "print(\"Devoto\")\n",
        "df_test_devoto, df_train_devoto = filtrado_columnas(df_test_devoto,df_train_devoto)"
      ]
    },
    {
      "attachments": {},
      "cell_type": "markdown",
      "metadata": {},
      "source": [
        "# Entrenamiento del modelo"
      ]
    },
    {
      "attachments": {},
      "cell_type": "markdown",
      "metadata": {},
      "source": [
        "## Territorio de Aprendizaje Automático\n",
        "☢☢☢☢☢☢ Se mira y no se toca ☢☢☢☢☢☢☢"
      ]
    },
    {
      "cell_type": "code",
      "execution_count": 388,
      "metadata": {},
      "outputs": [],
      "source": [
        "# Funcion de limpieza (usada en la siguiente sección) que usa y_train\n",
        "def limpiar_fold(X_train, y_train, X_test):\n",
        "    ## TODO: limpiar los datos           \n",
        "    \n",
        "    return (X_train, y_train, X_test)"
      ]
    },
    {
      "cell_type": "code",
      "execution_count": 389,
      "metadata": {},
      "outputs": [],
      "source": [
        "def CV(df_train):\n",
        "    # Datos para probar\n",
        "    df_train = df_train.select_dtypes(include=['float64', 'int64', 'int32', 'int16', 'int8', 'bool'])\n",
        "\n",
        "    X = df_train[df_train.columns.drop('price')]\n",
        "    y = df_train['price']\n",
        "\n",
        "    # reg = sk.ensemble.RandomForestRegressor(n_estimators=500, max_depth=5, n_jobs=-1, random_state=42)\n",
        "    reg = sk.ensemble.GradientBoostingRegressor(n_estimators=500,max_depth=5,random_state=42)\n",
        "    # Partimos en entrenamiento+prueba y validación\n",
        "    X_train_test, X_val, y_train_test, y_val = sk.model_selection.train_test_split(X, y, test_size=0.2, random_state=42)\n",
        "\n",
        "    scores_train = []\n",
        "    scores_test = []\n",
        "    # Validación cruzada, 10 folds, shuffle antes\n",
        "    kf = sk.model_selection.KFold(n_splits=10, shuffle=True, random_state=42)\n",
        "    for fold, (train_index, test_index) in enumerate(kf.split(X_train_test, y_train_test)):\n",
        "        X_train, X_test, y_train, y_test = X_train_test.iloc[train_index], X_train_test.iloc[test_index], y_train_test.iloc[train_index], y_train_test.iloc[test_index]\n",
        "\n",
        "        X_train, y_train, X_test = limpiar_fold(X_train, y_train, X_test)\n",
        "\n",
        "        # Entrenamos el modelo\n",
        "        reg.fit(X_train, y_train)\n",
        "\n",
        "        # Predecimos en train\n",
        "        y_pred = reg.predict(X_train)\n",
        "\n",
        "        # Medimos la performance de la predicción en test\n",
        "        score_train = sk.metrics.mean_squared_error(y_train, y_pred,squared=False).round()\n",
        "        scores_train.append(score_train)\n",
        "\n",
        "        # Predecimos en test\n",
        "        y_pred = reg.predict(X_test)\n",
        "\n",
        "        # Medimos la performance de la predicción en test\n",
        "        score_test = sk.metrics.mean_squared_error(y_test, y_pred,squared=False).round()\n",
        "        scores_test.append(score_test)\n",
        "        \n",
        "        print(f\"{fold=}, {score_train=} {score_test=}\\n\")\n",
        "        \n",
        "\n",
        "    print(f\"Train scores mean={pd.Series(scores_train).mean()}, std={pd.Series(scores_train).std()}\\n\")\n",
        "    print(f\"Test scores mean={pd.Series(scores_test).mean()}, std={pd.Series(scores_test).std()}\\n\")"
      ]
    },
    {
      "cell_type": "code",
      "execution_count": 390,
      "metadata": {},
      "outputs": [],
      "source": [
        "def modelado(df_train,df_test,n_estimators=500,min_samples_split=2,max_depth=5):\n",
        "    # reg = sk.ensemble.RandomForestRegressor(n_estimators=n_estimators, max_depth=max_depth, n_jobs=-1, random_state=42,min_samples_split=min_samples_split)\n",
        "    reg = sk.ensemble.GradientBoostingRegressor(n_estimators=n_estimators,max_depth=max_depth,random_state=42)\n",
        "\n",
        "    ## Datos a predecir \n",
        "    X = df_train[df_train.columns.drop('price')]\n",
        "    y = df_train['price']\n",
        "    X_prueba = df_test[df_train.columns.drop('price')] # cuidado:\n",
        "\n",
        "    # Entrenamos el modelo con todos los datos\n",
        "    reg.fit(X, y)\n",
        "\n",
        "    # Predecimos\n",
        "    df_test['price'] = reg.predict(X_prueba)\n",
        "\n",
        "    # Grabamos\n",
        "    # df_test['price'].to_csv('solucion_la_plata.csv', index=True)\n",
        "\n",
        "    print(pd.DataFrame(zip(df_train.columns.drop('price'), \n",
        "                             reg.feature_importances_*100), \n",
        "                         columns=[\"column\", \"feature_importance\"]).sort_values(by=\"feature_importance\", ascending=False).head(10).to_markdown())\n",
        "\n",
        "    return df_test['price']"
      ]
    },
    {
      "cell_type": "code",
      "execution_count": 391,
      "metadata": {},
      "outputs": [
        {
          "name": "stdout",
          "output_type": "stream",
          "text": [
            "## Resto de CABA\n",
            "\n"
          ]
        },
        {
          "name": "stdout",
          "output_type": "stream",
          "text": [
            "fold=0, score_train=16321.0 score_test=30606.0\n",
            "\n",
            "fold=1, score_train=16320.0 score_test=30862.0\n",
            "\n",
            "fold=2, score_train=17371.0 score_test=33622.0\n",
            "\n",
            "fold=3, score_train=17136.0 score_test=28083.0\n",
            "\n",
            "fold=4, score_train=16229.0 score_test=29582.0\n",
            "\n",
            "fold=5, score_train=17236.0 score_test=27237.0\n",
            "\n",
            "fold=6, score_train=16262.0 score_test=27224.0\n",
            "\n",
            "fold=7, score_train=17370.0 score_test=26515.0\n",
            "\n",
            "fold=8, score_train=15473.0 score_test=42205.0\n",
            "\n",
            "fold=9, score_train=16384.0 score_test=29606.0\n",
            "\n",
            "Train scores mean=16610.2, std=632.7193163902406\n",
            "\n",
            "Test scores mean=30554.2, std=4614.111586571496\n",
            "\n",
            "## La Plata\n",
            "\n",
            "fold=0, score_train=0.0 score_test=28864.0\n",
            "\n",
            "fold=1, score_train=0.0 score_test=5327.0\n",
            "\n",
            "fold=2, score_train=0.0 score_test=26978.0\n",
            "\n",
            "fold=3, score_train=0.0 score_test=14166.0\n",
            "\n",
            "fold=4, score_train=0.0 score_test=16209.0\n",
            "\n",
            "fold=5, score_train=0.0 score_test=30543.0\n",
            "\n",
            "fold=6, score_train=0.0 score_test=0.0\n",
            "\n",
            "fold=7, score_train=0.0 score_test=4905.0\n",
            "\n",
            "fold=8, score_train=0.0 score_test=0.0\n",
            "\n",
            "fold=9, score_train=0.0 score_test=42074.0\n",
            "\n",
            "Train scores mean=0.0, std=0.0\n",
            "\n",
            "Test scores mean=16906.6, std=14611.834094322316\n",
            "\n",
            "## Puerto Madero y Catalinas\n",
            "\n",
            "fold=0, score_train=10877.0 score_test=80713.0\n",
            "\n",
            "fold=1, score_train=10922.0 score_test=88526.0\n",
            "\n",
            "fold=2, score_train=10444.0 score_test=70333.0\n",
            "\n",
            "fold=3, score_train=10500.0 score_test=80152.0\n",
            "\n",
            "fold=4, score_train=10457.0 score_test=113787.0\n",
            "\n",
            "fold=5, score_train=10772.0 score_test=82799.0\n",
            "\n",
            "fold=6, score_train=10775.0 score_test=74899.0\n",
            "\n",
            "fold=7, score_train=5340.0 score_test=106397.0\n",
            "\n",
            "fold=8, score_train=10796.0 score_test=84295.0\n",
            "\n",
            "fold=9, score_train=6621.0 score_test=79783.0\n",
            "\n",
            "Train scores mean=9750.4, std=2017.029234625352\n",
            "\n",
            "Test scores mean=86168.4, std=13649.970070785259\n",
            "\n",
            "## Corredor Norte\n",
            "\n",
            "fold=0, score_train=3972.0 score_test=33328.0\n",
            "\n",
            "fold=1, score_train=4112.0 score_test=27801.0\n",
            "\n",
            "fold=2, score_train=3999.0 score_test=35642.0\n",
            "\n",
            "fold=3, score_train=4288.0 score_test=44122.0\n",
            "\n",
            "fold=4, score_train=3882.0 score_test=42096.0\n",
            "\n",
            "fold=5, score_train=4127.0 score_test=34528.0\n",
            "\n",
            "fold=6, score_train=3997.0 score_test=42927.0\n",
            "\n",
            "fold=7, score_train=4251.0 score_test=37919.0\n",
            "\n",
            "fold=8, score_train=4347.0 score_test=31528.0\n",
            "\n",
            "fold=9, score_train=4150.0 score_test=35747.0\n",
            "\n",
            "Train scores mean=4112.5, std=151.1741086003523\n",
            "\n",
            "Test scores mean=36563.8, std=5252.895620512557\n",
            "\n",
            "## Corredor Sur\n",
            "\n",
            "fold=0, score_train=2107.0 score_test=17069.0\n",
            "\n",
            "fold=1, score_train=2071.0 score_test=21998.0\n",
            "\n",
            "fold=2, score_train=2021.0 score_test=16290.0\n",
            "\n",
            "fold=3, score_train=2207.0 score_test=25733.0\n",
            "\n",
            "fold=4, score_train=2113.0 score_test=15270.0\n",
            "\n",
            "fold=5, score_train=1956.0 score_test=22539.0\n",
            "\n",
            "fold=6, score_train=2100.0 score_test=26214.0\n",
            "\n",
            "fold=7, score_train=2072.0 score_test=14981.0\n",
            "\n",
            "fold=8, score_train=2084.0 score_test=15295.0\n",
            "\n",
            "fold=9, score_train=2121.0 score_test=24005.0\n",
            "\n",
            "Train scores mean=2085.2, std=65.63840339313563\n",
            "\n",
            "Test scores mean=19939.4, std=4594.417607875404\n",
            "\n",
            "## Caballito\n",
            "\n",
            "fold=0, score_train=8035.0 score_test=18229.0\n",
            "\n",
            "fold=1, score_train=8349.0 score_test=18827.0\n",
            "\n",
            "fold=2, score_train=8241.0 score_test=19945.0\n",
            "\n",
            "fold=3, score_train=7952.0 score_test=21004.0\n",
            "\n",
            "fold=4, score_train=7968.0 score_test=23003.0\n",
            "\n",
            "fold=5, score_train=8140.0 score_test=21431.0\n",
            "\n",
            "fold=6, score_train=8158.0 score_test=22344.0\n",
            "\n",
            "fold=7, score_train=7981.0 score_test=21054.0\n",
            "\n",
            "fold=8, score_train=7763.0 score_test=20388.0\n",
            "\n",
            "fold=9, score_train=8188.0 score_test=21211.0\n",
            "\n",
            "Train scores mean=8077.5, std=170.23203119402777\n",
            "\n",
            "Test scores mean=20743.6, std=1463.7124945380042\n",
            "\n",
            "## Palermo\n",
            "\n",
            "fold=0, score_train=9583.0 score_test=70249.0\n",
            "\n",
            "fold=1, score_train=10034.0 score_test=31448.0\n",
            "\n",
            "fold=2, score_train=9806.0 score_test=54853.0\n",
            "\n",
            "fold=3, score_train=9607.0 score_test=36931.0\n",
            "\n",
            "fold=4, score_train=9688.0 score_test=38868.0\n",
            "\n",
            "fold=5, score_train=9422.0 score_test=44695.0\n",
            "\n",
            "fold=6, score_train=10178.0 score_test=31886.0\n",
            "\n",
            "fold=7, score_train=10134.0 score_test=33006.0\n",
            "\n",
            "fold=8, score_train=9652.0 score_test=36697.0\n",
            "\n",
            "fold=9, score_train=9132.0 score_test=39992.0\n",
            "\n",
            "Train scores mean=9723.6, std=326.38702316251624\n",
            "\n",
            "Test scores mean=41862.5, std=12167.659167280743\n",
            "\n",
            "## Belgrano\n",
            "\n",
            "fold=0, score_train=8551.0 score_test=202805.0\n",
            "\n",
            "fold=1, score_train=8869.0 score_test=39980.0\n",
            "\n",
            "fold=2, score_train=8416.0 score_test=34750.0\n",
            "\n",
            "fold=3, score_train=8829.0 score_test=135897.0\n",
            "\n",
            "fold=4, score_train=9047.0 score_test=44034.0\n",
            "\n",
            "fold=5, score_train=9062.0 score_test=642464.0\n",
            "\n",
            "fold=6, score_train=8866.0 score_test=35751.0\n",
            "\n",
            "fold=7, score_train=8725.0 score_test=41694.0\n",
            "\n",
            "fold=8, score_train=8975.0 score_test=54059.0\n",
            "\n",
            "fold=9, score_train=8984.0 score_test=81688.0\n",
            "\n",
            "Train scores mean=8832.4, std=213.09267676034503\n",
            "\n",
            "Test scores mean=131312.2, std=187760.39688910852\n",
            "\n",
            "## devoto\n",
            "\n",
            "fold=0, score_train=4699.0 score_test=80609.0\n",
            "\n",
            "fold=1, score_train=2870.0 score_test=43728.0\n",
            "\n",
            "fold=2, score_train=4567.0 score_test=33249.0\n",
            "\n",
            "fold=3, score_train=4869.0 score_test=29892.0\n",
            "\n",
            "fold=4, score_train=4877.0 score_test=29489.0\n",
            "\n",
            "fold=5, score_train=4865.0 score_test=44028.0\n",
            "\n",
            "fold=6, score_train=4864.0 score_test=41094.0\n",
            "\n",
            "fold=7, score_train=3028.0 score_test=31967.0\n",
            "\n",
            "fold=8, score_train=4833.0 score_test=32428.0\n",
            "\n",
            "fold=9, score_train=4850.0 score_test=30013.0\n",
            "\n",
            "Train scores mean=4432.2, std=788.7546865506129\n",
            "\n",
            "Test scores mean=39649.7, std=15488.406460245604\n",
            "\n"
          ]
        }
      ],
      "source": [
        "print(\"## Resto de CABA\\n\")\n",
        "caba_pred = CV(df_train_caba)\n",
        "print(\"## La Plata\\n\")\n",
        "la_plata_pred = CV(df_train_la_plata)\n",
        "print(\"## Puerto Madero y Catalinas\\n\")\n",
        "madero_pred = CV(df_train_madero)\n",
        "print(\"## Corredor Norte\\n\")\n",
        "norte_pred = CV(df_train_corredor_norte)\n",
        "print(\"## Corredor Sur\\n\")\n",
        "sur_pred = CV(df_train_corredor_sur)\n",
        "print(\"## Caballito\\n\")\n",
        "cab_pred = CV(df_train_caballito)\n",
        "print(\"## Palermo\\n\")\n",
        "palermo_pred = CV(df_train_palermo)\n",
        "print(\"## Belgrano\\n\")\n",
        "bel_pred = CV(df_train_belgrano)\n",
        "print(\"## devoto\\n\")\n",
        "devoto_pred = CV(df_train_devoto)"
      ]
    },
    {
      "cell_type": "code",
      "execution_count": 392,
      "metadata": {},
      "outputs": [
        {
          "name": "stdout",
          "output_type": "stream",
          "text": [
            "## Resto de CABA\n",
            "\n",
            "|    | column                |   feature_importance |\n",
            "|---:|:----------------------|---------------------:|\n",
            "|  0 | lon                   |             27.1126  |\n",
            "|  1 | surface_covered       |             21.68    |\n",
            "|  2 | lat                   |              9.30172 |\n",
            "|  3 | surface_total         |              7.96495 |\n",
            "| 13 | bathrooms_rooms       |              4.22499 |\n",
            "|  5 | desc_pileta|piscina   |              2.48411 |\n",
            "|  4 | covered               |              2.47132 |\n",
            "|  6 | desc_suite            |              2.44152 |\n",
            "|  7 | surface_total_imputed |              2.18373 |\n",
            "|  8 | desc_parrilla         |              1.91033 |\n",
            "## La Plata\n",
            "\n",
            "|    | column                  |   feature_importance |\n",
            "|---:|:------------------------|---------------------:|\n",
            "|  0 | surface_covered_imputed |            47.736    |\n",
            "|  1 | lon                     |            23.0969   |\n",
            "|  4 | surface_covered         |            12.3836   |\n",
            "|  6 | covered                 |             5.69737  |\n",
            "|  5 | desc_av                 |             2.10046  |\n",
            "|  2 | desc_av.                |             1.8059   |\n",
            "| 15 | desc_parque             |             1.45285  |\n",
            "|  7 | lat                     |             1.14009  |\n",
            "| 12 | bedrooms_imputed        |             0.875232 |\n",
            "|  9 | surface_total           |             0.717033 |\n",
            "## Puerto Madero y Catalinas\n",
            "\n",
            "|    | column               |   feature_importance |\n",
            "|---:|:---------------------|---------------------:|\n",
            "|  1 | lon                  |            36.5293   |\n",
            "|  0 | surface_covered      |            31.848    |\n",
            "|  2 | lat                  |             9.53732  |\n",
            "|  3 | surface_total        |             4.11673  |\n",
            "|  4 | desc_escuela|colegio |             3.14609  |\n",
            "|  5 | covered              |             2.22617  |\n",
            "| 11 | desc_av              |             1.72164  |\n",
            "|  8 | desc_baulera         |             1.12534  |\n",
            "| 21 | rooms_imputed        |             0.995296 |\n",
            "|  6 | desc_suite           |             0.98366  |\n",
            "## Corredor Norte\n",
            "\n",
            "|    | column                |   feature_importance |\n",
            "|---:|:----------------------|---------------------:|\n",
            "|  0 | surface_covered       |             22.0817  |\n",
            "|  1 | lon                   |             15.5775  |\n",
            "|  4 | surface_total         |             14.2855  |\n",
            "|  2 | lat                   |              9.24318 |\n",
            "|  3 | desc_pileta|piscina   |              6.65599 |\n",
            "|  5 | surface_total_imputed |              4.93183 |\n",
            "|  8 | desc_suite            |              3.9981  |\n",
            "|  6 | desc_a(mm|m)enities   |              3.09629 |\n",
            "|  7 | covered               |              2.69076 |\n",
            "| 10 | desc_baulera          |              2.11188 |\n",
            "## Corredor Sur\n",
            "\n",
            "|    | column                     |   feature_importance |\n",
            "|---:|:---------------------------|---------------------:|\n",
            "|  0 | lon                        |             16.6328  |\n",
            "|  3 | lat                        |             10.9736  |\n",
            "|  2 | bathrooms                  |             10.342   |\n",
            "|  5 | surface_covered            |              8.64951 |\n",
            "|  1 | bathrooms_rooms            |              7.71553 |\n",
            "|  4 | surface_total              |              6.17275 |\n",
            "|  6 | covered                    |              4.28088 |\n",
            "|  9 | desc_pileta|piscina        |              4.0992  |\n",
            "|  7 | desc_a(mm|m)enities        |              3.73191 |\n",
            "| 10 | desc_linea (a|b|b|c|d|e|h) |              2.95381 |\n",
            "## Caballito\n",
            "\n",
            "|    | column                |   feature_importance |\n",
            "|---:|:----------------------|---------------------:|\n",
            "|  0 | surface_covered       |             24.9322  |\n",
            "|  1 | lat                   |             11.7235  |\n",
            "|  3 | lon                   |             10.5008  |\n",
            "|  2 | surface_total         |              9.32192 |\n",
            "|  5 | covered               |              5.15857 |\n",
            "|  4 | desc_pileta|piscina   |              5.14983 |\n",
            "|  6 | rooms                 |              5.00298 |\n",
            "|  7 | bathrooms_rooms       |              4.29096 |\n",
            "|  8 | bathrooms             |              2.93066 |\n",
            "| 12 | surface_total_imputed |              2.58662 |\n",
            "## Palermo\n",
            "\n",
            "|    | column                  |   feature_importance |\n",
            "|---:|:------------------------|---------------------:|\n",
            "|  0 | surface_covered         |             25.512   |\n",
            "|  1 | desc_suite              |             13.2961  |\n",
            "|  2 | lon                     |              9.99264 |\n",
            "|  3 | surface_total           |              9.13805 |\n",
            "|  5 | lat                     |              8.39274 |\n",
            "|  4 | desc_pileta|piscina     |              7.8093  |\n",
            "| 11 | bathrooms               |              3.76059 |\n",
            "|  6 | covered                 |              3.12465 |\n",
            "|  7 | bathrooms_rooms         |              2.82521 |\n",
            "|  9 | surface_covered_imputed |              1.28878 |\n",
            "## Belgrano\n",
            "\n",
            "|    | column                  |   feature_importance |\n",
            "|---:|:------------------------|---------------------:|\n",
            "|  1 | desc_emprendimiento     |            32.5546   |\n",
            "|  3 | surface_total           |            23.9579   |\n",
            "|  0 | lon                     |            16.249    |\n",
            "|  7 | surface_covered_imputed |            12.0386   |\n",
            "|  2 | surface_covered         |             4.36894  |\n",
            "|  4 | lat                     |             3.15235  |\n",
            "|  6 | desc_pileta|piscina     |             2.0288   |\n",
            "| 10 | bathrooms_imputed       |             0.823549 |\n",
            "| 17 | desc_a(mm|m)enities     |             0.733786 |\n",
            "| 11 | covered                 |             0.521254 |\n",
            "## devoto\n",
            "\n",
            "|    | column                |   feature_importance |\n",
            "|---:|:----------------------|---------------------:|\n",
            "|  0 | surface_covered       |             34.4332  |\n",
            "|  1 | lon                   |             19.3826  |\n",
            "|  2 | surface_total         |              7.18117 |\n",
            "|  3 | lat                   |              6.64762 |\n",
            "|  4 | covered               |              3.33506 |\n",
            "| 10 | property_type_PH      |              2.64834 |\n",
            "|  5 | surface_total_imputed |              2.58147 |\n",
            "|  8 | bathrooms_rooms       |              2.18674 |\n",
            "|  9 | desc_pileta|piscina   |              1.66464 |\n",
            "|  7 | desc_suite            |              1.63193 |\n"
          ]
        }
      ],
      "source": [
        "print(\"## Resto de CABA\\n\")\n",
        "solucion_caba = modelado(df_train_caba,df_test_caba)\n",
        "print(\"## La Plata\\n\")\n",
        "solucion_la_plata = modelado(df_train_la_plata,df_test_la_plata)\n",
        "print(\"## Puerto Madero y Catalinas\\n\")\n",
        "solucion_madero = modelado(df_train_madero,df_test_madero)\n",
        "print(\"## Corredor Norte\\n\")\n",
        "solucion_corredor_norte = modelado(df_train_corredor_norte,df_test_corredor_norte)\n",
        "print(\"## Corredor Sur\\n\")\n",
        "solucion_corredor_sur = modelado(df_train_corredor_sur,df_test_corredor_sur)\n",
        "print(\"## Caballito\\n\")\n",
        "solucion_caballito = modelado(df_train_caballito,df_test_caballito)\n",
        "print(\"## Palermo\\n\")\n",
        "solucion_palermo= modelado(df_train_palermo,df_test_palermo)\n",
        "print(\"## Belgrano\\n\")\n",
        "solucion_belgrano = modelado(df_train_belgrano,df_test_belgrano)\n",
        "print(\"## devoto\\n\")\n",
        "solucion_devoto = modelado(df_train_devoto,df_test_devoto)"
      ]
    },
    {
      "attachments": {},
      "cell_type": "markdown",
      "metadata": {},
      "source": [
        "## Entrega final"
      ]
    },
    {
      "cell_type": "code",
      "execution_count": 393,
      "metadata": {},
      "outputs": [],
      "source": [
        "pd.concat((solucion_caba,solucion_la_plata,\n",
        "           solucion_madero,\n",
        "           solucion_corredor_norte,\n",
        "           solucion_corredor_sur,\n",
        "           solucion_caballito,\n",
        "           solucion_palermo,\n",
        "           solucion_belgrano,\n",
        "           solucion_devoto)).to_csv('solucion.csv', index=True)"
      ]
    }
  ],
  "metadata": {
    "colab": {
      "provenance": []
    },
    "kernelspec": {
      "display_name": "Python 3",
      "name": "python3"
    },
    "language_info": {
      "codemirror_mode": {
        "name": "ipython",
        "version": 3
      },
      "file_extension": ".py",
      "mimetype": "text/x-python",
      "name": "python",
      "nbconvert_exporter": "python",
      "pygments_lexer": "ipython3",
      "version": "3.10.11"
    }
  },
  "nbformat": 4,
  "nbformat_minor": 0
}
