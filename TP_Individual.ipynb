{
  "cells": [
    {
      "cell_type": "code",
      "execution_count": 1,
      "metadata": {
        "id": "jw8ogMDOpvKP"
      },
      "outputs": [],
      "source": [
        "import pandas as pd\n",
        "import matplotlib.pyplot as plt\n",
        "import seaborn as sns\n",
        "import numpy as np\n",
        "\n",
        "import sklearn as sk\n",
        "from sklearn import model_selection\n",
        "from sklearn import ensemble\n",
        "from sklearn import metrics"
      ]
    },
    {
      "cell_type": "code",
      "execution_count": 2,
      "metadata": {
        "id": "b8SSObwGJo2Q"
      },
      "outputs": [],
      "source": [
        "# from google.colab import drive\n",
        "# drive.mount('/content/drive')"
      ]
    },
    {
      "attachments": {},
      "cell_type": "markdown",
      "metadata": {
        "id": "20D-m6GPyefp"
      },
      "source": [
        "# Lectura de datos"
      ]
    },
    {
      "cell_type": "code",
      "execution_count": 3,
      "metadata": {
        "id": "CtV0wOGsqJLC"
      },
      "outputs": [],
      "source": [
        "# DIR = \"/content/drive/MyDrive/Clases/FCEN DM/datos/\"\n",
        "# df_train = pd.read_csv(DIR + \"properati_entrenamiento.zip\", index_col=\"id\")  \n",
        "# df_test = pd.read_csv(DIR + \"properati_a_predecir.zip\", index_col=\"id\")  \n",
        "df_test = pd.read_feather('bases/properati_a_predecir.ftr').set_index('id')\n",
        "df_train = pd.read_feather('bases/properati_entrenamiento.ftr').set_index('id')\n",
        "# df_test.head()"
      ]
    },
    {
      "attachments": {},
      "cell_type": "markdown",
      "metadata": {
        "id": "byV0dQi-yiEd"
      },
      "source": [
        "# Entendimiento (magia parte 1 -- AID)"
      ]
    },
    {
      "attachments": {},
      "cell_type": "markdown",
      "metadata": {
        "id": "zjaTnfxkyvo8"
      },
      "source": [
        "# Limpieza y transformación de datos (magia parte 2 -- MD)"
      ]
    },
    {
      "cell_type": "code",
      "execution_count": 4,
      "metadata": {},
      "outputs": [],
      "source": [
        "raro = df_test['surface_total']<df_test['surface_covered']\n",
        "\n",
        "df_test.loc[raro,'surface_total'], df_test.loc[raro,'surface_covered'] = df_test.loc[raro,'surface_covered'], df_test.loc[raro,'surface_total']"
      ]
    },
    {
      "cell_type": "code",
      "execution_count": 5,
      "metadata": {},
      "outputs": [],
      "source": [
        "raro = df_train['surface_total']<df_train['surface_covered']\n",
        "\n",
        "df_train.loc[raro,'surface_total'], df_train.loc[raro,'surface_covered'] = df_train.loc[raro,'surface_covered'], df_train.loc[raro,'surface_total']"
      ]
    },
    {
      "cell_type": "code",
      "execution_count": 6,
      "metadata": {},
      "outputs": [
        {
          "data": {
            "text/plain": [
              "(152720, 24)"
            ]
          },
          "execution_count": 6,
          "metadata": {},
          "output_type": "execute_result"
        }
      ],
      "source": [
        "en_amba_train = (df_train.lat>-60)&(df_train['lon']>-35.5)&(df_train['lon']<-34)& (df_train.lat<-56.5) & (df_train.l1=='Argentina')\n",
        "en_amba_test  =  (df_test.lat>-60)&(df_test['lon']>-35.5)&(df_test['lon']<-34)& (df_test.lat<-56.5) & (df_test.l1=='Argentina')\n",
        "\n",
        "# en_ballester = ((df_train.title.str.upper().str.contains('BALLESTER')) | (df_train.description.str.upper().str.contains('BALLESTER'))&\n",
        "#                 en_amba_train)\n",
        "# ballester = df_train[en_ballester]\n",
        "\n",
        "no_lugares = ['Bs.As. G.B.A. Zona Sur','Bs.As. G.B.A. Zona Norte','Bs.As. G.B.A. Zona Oeste']\n",
        "\n",
        "#Filtramos los que se encuentran dentro del rango de AMBA y que no son del conurbano\n",
        "df_train = df_train[en_amba_train & (~df_train.l2.isin(no_lugares))]\n",
        "\n",
        "#Pulimos la zona circundante a la plata para que coincida con el test\n",
        "df_train = df_train[(df_train.l2=='Capital Federal')|((df_train.l2=='Buenos Aires Interior')&(df_train.lat>-58.15)&(df_train.lon<-34.7)&(df_train.lon>-35.1))]\n",
        "\n",
        "# df_train = pd.concat((df_train,ballester),axis=0)\n",
        "\n",
        "df_train = df_train[(df_train.price_period=='Mensual')|(df_train.price_period.isnull())] #TODO ver si sacarlo \n",
        "\n",
        "df_train.loc[df_train.l2=='Buenos Aires Interior','l2'] = 'Bs.As. G.B.A. Zona Sur'\n",
        "\n",
        "df_train = df_train[df_train.operation_type=='Venta']\n",
        "\n",
        "\n",
        "df_train.shape"
      ]
    },
    {
      "attachments": {},
      "cell_type": "markdown",
      "metadata": {},
      "source": [
        "## Imputación de nulos"
      ]
    },
    {
      "cell_type": "code",
      "execution_count": 7,
      "metadata": {},
      "outputs": [],
      "source": [
        "df_test.loc[~en_amba_test,['lat','lon']] = np.nan"
      ]
    },
    {
      "cell_type": "code",
      "execution_count": 8,
      "metadata": {},
      "outputs": [],
      "source": [
        "cols_a_imputar = ['rooms','bedrooms','bathrooms','surface_total','surface_covered','lat','lon']\n",
        "# crear nuevas columnas para indicar los valores imputados\n",
        "for column in cols_a_imputar:\n",
        "    is_imputed_train = np.where(df_train[column].isnull(), True, False)\n",
        "    is_imputed_test = np.where(df_test[column].isnull(), True, False)\n",
        "    df_train[column + '_imputed'] = is_imputed_train\n",
        "    df_test[column + '_imputed'] = is_imputed_test"
      ]
    },
    {
      "cell_type": "code",
      "execution_count": 9,
      "metadata": {},
      "outputs": [],
      "source": [
        "from sklearn.experimental import enable_iterative_imputer\n",
        "from sklearn.impute import IterativeImputer"
      ]
    },
    {
      "cell_type": "code",
      "execution_count": 10,
      "metadata": {},
      "outputs": [
        {
          "name": "stderr",
          "output_type": "stream",
          "text": [
            "c:\\Users\\Usuario\\AppData\\Local\\Programs\\Python\\Python311\\Lib\\site-packages\\sklearn\\impute\\_iterative.py:785: ConvergenceWarning: [IterativeImputer] Early stopping criterion not reached.\n",
            "  warnings.warn(\n"
          ]
        }
      ],
      "source": [
        "imp = IterativeImputer(max_iter=10, random_state=42)  # tiene add_indicator\n",
        "\n",
        "cols_a_imputar = ['rooms','bedrooms','bathrooms','surface_total','surface_covered']\n",
        "df_test[cols_a_imputar] = imp.fit_transform(df_test[cols_a_imputar])\n",
        "df_train[cols_a_imputar] = imp.fit_transform(df_train[cols_a_imputar])\n",
        "\n",
        "cols_a_imputar = ['lat','lon']\n",
        "df_test[cols_a_imputar] = imp.fit_transform(df_test[cols_a_imputar])\n",
        "df_train[cols_a_imputar] = imp.fit_transform(df_train[cols_a_imputar])"
      ]
    },
    {
      "cell_type": "code",
      "execution_count": 11,
      "metadata": {},
      "outputs": [],
      "source": [
        "\n",
        "df_test.rooms      = df_test.rooms.astype('int')\n",
        "df_train.rooms     = df_train.rooms.astype('int')\n",
        "df_test.bedrooms   = df_test.bedrooms.astype('int')\n",
        "df_train.bedrooms  = df_train.bedrooms.astype('int')\n",
        "df_test.bathrooms  = df_test.bathrooms.astype('int')\n",
        "df_train.bathrooms = df_train.bathrooms.astype('int')"
      ]
    },
    {
      "cell_type": "code",
      "execution_count": 12,
      "metadata": {},
      "outputs": [
        {
          "data": {
            "text/html": [
              "<div>\n",
              "<style scoped>\n",
              "    .dataframe tbody tr th:only-of-type {\n",
              "        vertical-align: middle;\n",
              "    }\n",
              "\n",
              "    .dataframe tbody tr th {\n",
              "        vertical-align: top;\n",
              "    }\n",
              "\n",
              "    .dataframe thead th {\n",
              "        text-align: right;\n",
              "    }\n",
              "</style>\n",
              "<table border=\"1\" class=\"dataframe\">\n",
              "  <thead>\n",
              "    <tr style=\"text-align: right;\">\n",
              "      <th></th>\n",
              "      <th>property_type</th>\n",
              "      <th>property_type</th>\n",
              "    </tr>\n",
              "  </thead>\n",
              "  <tbody>\n",
              "    <tr>\n",
              "      <th>Casa</th>\n",
              "      <td>6878</td>\n",
              "      <td>NaN</td>\n",
              "    </tr>\n",
              "    <tr>\n",
              "      <th>Casa de campo</th>\n",
              "      <td>7</td>\n",
              "      <td>NaN</td>\n",
              "    </tr>\n",
              "    <tr>\n",
              "      <th>Cochera</th>\n",
              "      <td>2894</td>\n",
              "      <td>NaN</td>\n",
              "    </tr>\n",
              "    <tr>\n",
              "      <th>Departamento</th>\n",
              "      <td>97209</td>\n",
              "      <td>5426.0</td>\n",
              "    </tr>\n",
              "    <tr>\n",
              "      <th>Depósito</th>\n",
              "      <td>917</td>\n",
              "      <td>NaN</td>\n",
              "    </tr>\n",
              "    <tr>\n",
              "      <th>Local comercial</th>\n",
              "      <td>5940</td>\n",
              "      <td>NaN</td>\n",
              "    </tr>\n",
              "    <tr>\n",
              "      <th>Lote</th>\n",
              "      <td>8230</td>\n",
              "      <td>NaN</td>\n",
              "    </tr>\n",
              "    <tr>\n",
              "      <th>Oficina</th>\n",
              "      <td>4983</td>\n",
              "      <td>NaN</td>\n",
              "    </tr>\n",
              "    <tr>\n",
              "      <th>Otro</th>\n",
              "      <td>15649</td>\n",
              "      <td>NaN</td>\n",
              "    </tr>\n",
              "    <tr>\n",
              "      <th>PH</th>\n",
              "      <td>10013</td>\n",
              "      <td>574.0</td>\n",
              "    </tr>\n",
              "  </tbody>\n",
              "</table>\n",
              "</div>"
            ],
            "text/plain": [
              "                 property_type  property_type\n",
              "Casa                      6878            NaN\n",
              "Casa de campo                7            NaN\n",
              "Cochera                   2894            NaN\n",
              "Departamento             97209         5426.0\n",
              "Depósito                   917            NaN\n",
              "Local comercial           5940            NaN\n",
              "Lote                      8230            NaN\n",
              "Oficina                   4983            NaN\n",
              "Otro                     15649            NaN\n",
              "PH                       10013          574.0"
            ]
          },
          "execution_count": 12,
          "metadata": {},
          "output_type": "execute_result"
        }
      ],
      "source": [
        "pd.concat((df_train.property_type.value_counts(dropna=False),\n",
        "           df_test.property_type.value_counts(dropna=False)),axis=1).sort_index()"
      ]
    },
    {
      "cell_type": "code",
      "execution_count": 13,
      "metadata": {},
      "outputs": [],
      "source": [
        "df_train = df_train[df_train.property_type.isin(['PH','Departamento'])]"
      ]
    },
    {
      "cell_type": "code",
      "execution_count": 14,
      "metadata": {},
      "outputs": [
        {
          "data": {
            "text/html": [
              "<div>\n",
              "<style scoped>\n",
              "    .dataframe tbody tr th:only-of-type {\n",
              "        vertical-align: middle;\n",
              "    }\n",
              "\n",
              "    .dataframe tbody tr th {\n",
              "        vertical-align: top;\n",
              "    }\n",
              "\n",
              "    .dataframe thead th {\n",
              "        text-align: right;\n",
              "    }\n",
              "</style>\n",
              "<table border=\"1\" class=\"dataframe\">\n",
              "  <thead>\n",
              "    <tr style=\"text-align: right;\">\n",
              "      <th></th>\n",
              "      <th>bathrooms</th>\n",
              "      <th>bathrooms</th>\n",
              "    </tr>\n",
              "  </thead>\n",
              "  <tbody>\n",
              "    <tr>\n",
              "      <th>1</th>\n",
              "      <td>72464</td>\n",
              "      <td>4605.0</td>\n",
              "    </tr>\n",
              "    <tr>\n",
              "      <th>2</th>\n",
              "      <td>23804</td>\n",
              "      <td>1227.0</td>\n",
              "    </tr>\n",
              "    <tr>\n",
              "      <th>3</th>\n",
              "      <td>6969</td>\n",
              "      <td>144.0</td>\n",
              "    </tr>\n",
              "    <tr>\n",
              "      <th>4</th>\n",
              "      <td>2254</td>\n",
              "      <td>20.0</td>\n",
              "    </tr>\n",
              "    <tr>\n",
              "      <th>0</th>\n",
              "      <td>915</td>\n",
              "      <td>NaN</td>\n",
              "    </tr>\n",
              "    <tr>\n",
              "      <th>5</th>\n",
              "      <td>633</td>\n",
              "      <td>1.0</td>\n",
              "    </tr>\n",
              "    <tr>\n",
              "      <th>6</th>\n",
              "      <td>113</td>\n",
              "      <td>3.0</td>\n",
              "    </tr>\n",
              "    <tr>\n",
              "      <th>7</th>\n",
              "      <td>28</td>\n",
              "      <td>NaN</td>\n",
              "    </tr>\n",
              "    <tr>\n",
              "      <th>8</th>\n",
              "      <td>12</td>\n",
              "      <td>NaN</td>\n",
              "    </tr>\n",
              "    <tr>\n",
              "      <th>11</th>\n",
              "      <td>4</td>\n",
              "      <td>NaN</td>\n",
              "    </tr>\n",
              "    <tr>\n",
              "      <th>17</th>\n",
              "      <td>3</td>\n",
              "      <td>NaN</td>\n",
              "    </tr>\n",
              "    <tr>\n",
              "      <th>10</th>\n",
              "      <td>3</td>\n",
              "      <td>NaN</td>\n",
              "    </tr>\n",
              "    <tr>\n",
              "      <th>16</th>\n",
              "      <td>3</td>\n",
              "      <td>NaN</td>\n",
              "    </tr>\n",
              "    <tr>\n",
              "      <th>37</th>\n",
              "      <td>3</td>\n",
              "      <td>NaN</td>\n",
              "    </tr>\n",
              "    <tr>\n",
              "      <th>9</th>\n",
              "      <td>3</td>\n",
              "      <td>NaN</td>\n",
              "    </tr>\n",
              "    <tr>\n",
              "      <th>33</th>\n",
              "      <td>2</td>\n",
              "      <td>NaN</td>\n",
              "    </tr>\n",
              "    <tr>\n",
              "      <th>14</th>\n",
              "      <td>2</td>\n",
              "      <td>NaN</td>\n",
              "    </tr>\n",
              "    <tr>\n",
              "      <th>73</th>\n",
              "      <td>2</td>\n",
              "      <td>NaN</td>\n",
              "    </tr>\n",
              "    <tr>\n",
              "      <th>144</th>\n",
              "      <td>1</td>\n",
              "      <td>NaN</td>\n",
              "    </tr>\n",
              "    <tr>\n",
              "      <th>62</th>\n",
              "      <td>1</td>\n",
              "      <td>NaN</td>\n",
              "    </tr>\n",
              "    <tr>\n",
              "      <th>18</th>\n",
              "      <td>1</td>\n",
              "      <td>NaN</td>\n",
              "    </tr>\n",
              "    <tr>\n",
              "      <th>13</th>\n",
              "      <td>1</td>\n",
              "      <td>NaN</td>\n",
              "    </tr>\n",
              "    <tr>\n",
              "      <th>20</th>\n",
              "      <td>1</td>\n",
              "      <td>NaN</td>\n",
              "    </tr>\n",
              "  </tbody>\n",
              "</table>\n",
              "</div>"
            ],
            "text/plain": [
              "     bathrooms  bathrooms\n",
              "1        72464     4605.0\n",
              "2        23804     1227.0\n",
              "3         6969      144.0\n",
              "4         2254       20.0\n",
              "0          915        NaN\n",
              "5          633        1.0\n",
              "6          113        3.0\n",
              "7           28        NaN\n",
              "8           12        NaN\n",
              "11           4        NaN\n",
              "17           3        NaN\n",
              "10           3        NaN\n",
              "16           3        NaN\n",
              "37           3        NaN\n",
              "9            3        NaN\n",
              "33           2        NaN\n",
              "14           2        NaN\n",
              "73           2        NaN\n",
              "144          1        NaN\n",
              "62           1        NaN\n",
              "18           1        NaN\n",
              "13           1        NaN\n",
              "20           1        NaN"
            ]
          },
          "execution_count": 14,
          "metadata": {},
          "output_type": "execute_result"
        }
      ],
      "source": [
        "pd.concat((df_train.bathrooms.value_counts(dropna=False),\n",
        "           df_test.bathrooms.value_counts(dropna=False)),axis=1)"
      ]
    },
    {
      "cell_type": "code",
      "execution_count": 15,
      "metadata": {},
      "outputs": [
        {
          "data": {
            "text/plain": [
              "(107152, 31)"
            ]
          },
          "execution_count": 15,
          "metadata": {},
          "output_type": "execute_result"
        }
      ],
      "source": [
        "df_train = df_train[(df_train['bathrooms']<=6) | (df_train['bathrooms'].isnull())]\n",
        "df_train.shape"
      ]
    },
    {
      "cell_type": "code",
      "execution_count": 16,
      "metadata": {},
      "outputs": [
        {
          "data": {
            "text/html": [
              "<div>\n",
              "<style scoped>\n",
              "    .dataframe tbody tr th:only-of-type {\n",
              "        vertical-align: middle;\n",
              "    }\n",
              "\n",
              "    .dataframe tbody tr th {\n",
              "        vertical-align: top;\n",
              "    }\n",
              "\n",
              "    .dataframe thead th {\n",
              "        text-align: right;\n",
              "    }\n",
              "</style>\n",
              "<table border=\"1\" class=\"dataframe\">\n",
              "  <thead>\n",
              "    <tr style=\"text-align: right;\">\n",
              "      <th></th>\n",
              "      <th>currency</th>\n",
              "      <th>currency</th>\n",
              "    </tr>\n",
              "  </thead>\n",
              "  <tbody>\n",
              "    <tr>\n",
              "      <th>USD</th>\n",
              "      <td>102422</td>\n",
              "      <td>6000.0</td>\n",
              "    </tr>\n",
              "    <tr>\n",
              "      <th>None</th>\n",
              "      <td>3910</td>\n",
              "      <td>NaN</td>\n",
              "    </tr>\n",
              "    <tr>\n",
              "      <th>ARS</th>\n",
              "      <td>820</td>\n",
              "      <td>NaN</td>\n",
              "    </tr>\n",
              "  </tbody>\n",
              "</table>\n",
              "</div>"
            ],
            "text/plain": [
              "      currency  currency\n",
              "USD     102422    6000.0\n",
              "None      3910       NaN\n",
              "ARS        820       NaN"
            ]
          },
          "execution_count": 16,
          "metadata": {},
          "output_type": "execute_result"
        }
      ],
      "source": [
        "pd.concat((df_train.currency.value_counts(dropna=False),\n",
        "           df_test.currency.value_counts(dropna=False)),axis=1)"
      ]
    },
    {
      "cell_type": "code",
      "execution_count": 17,
      "metadata": {},
      "outputs": [
        {
          "data": {
            "text/plain": [
              "(102422, 31)"
            ]
          },
          "execution_count": 17,
          "metadata": {},
          "output_type": "execute_result"
        }
      ],
      "source": [
        "df_train = df_train[df_train.currency=='USD'] #saco tambien los nulos porque no tienen precio\n",
        "df_train.shape"
      ]
    },
    {
      "cell_type": "code",
      "execution_count": 18,
      "metadata": {},
      "outputs": [
        {
          "data": {
            "text/html": [
              "<div>\n",
              "<style scoped>\n",
              "    .dataframe tbody tr th:only-of-type {\n",
              "        vertical-align: middle;\n",
              "    }\n",
              "\n",
              "    .dataframe tbody tr th {\n",
              "        vertical-align: top;\n",
              "    }\n",
              "\n",
              "    .dataframe thead th {\n",
              "        text-align: right;\n",
              "    }\n",
              "</style>\n",
              "<table border=\"1\" class=\"dataframe\">\n",
              "  <thead>\n",
              "    <tr style=\"text-align: right;\">\n",
              "      <th></th>\n",
              "      <th>rooms</th>\n",
              "      <th>rooms</th>\n",
              "    </tr>\n",
              "  </thead>\n",
              "  <tbody>\n",
              "    <tr>\n",
              "      <th>1</th>\n",
              "      <td>20682</td>\n",
              "      <td>NaN</td>\n",
              "    </tr>\n",
              "    <tr>\n",
              "      <th>2</th>\n",
              "      <td>30582</td>\n",
              "      <td>2984.0</td>\n",
              "    </tr>\n",
              "    <tr>\n",
              "      <th>3</th>\n",
              "      <td>26593</td>\n",
              "      <td>3016.0</td>\n",
              "    </tr>\n",
              "    <tr>\n",
              "      <th>4</th>\n",
              "      <td>17756</td>\n",
              "      <td>NaN</td>\n",
              "    </tr>\n",
              "    <tr>\n",
              "      <th>5</th>\n",
              "      <td>4668</td>\n",
              "      <td>NaN</td>\n",
              "    </tr>\n",
              "    <tr>\n",
              "      <th>6</th>\n",
              "      <td>1264</td>\n",
              "      <td>NaN</td>\n",
              "    </tr>\n",
              "    <tr>\n",
              "      <th>7</th>\n",
              "      <td>481</td>\n",
              "      <td>NaN</td>\n",
              "    </tr>\n",
              "    <tr>\n",
              "      <th>8</th>\n",
              "      <td>258</td>\n",
              "      <td>NaN</td>\n",
              "    </tr>\n",
              "    <tr>\n",
              "      <th>9</th>\n",
              "      <td>46</td>\n",
              "      <td>NaN</td>\n",
              "    </tr>\n",
              "    <tr>\n",
              "      <th>10</th>\n",
              "      <td>45</td>\n",
              "      <td>NaN</td>\n",
              "    </tr>\n",
              "    <tr>\n",
              "      <th>11</th>\n",
              "      <td>11</td>\n",
              "      <td>NaN</td>\n",
              "    </tr>\n",
              "    <tr>\n",
              "      <th>12</th>\n",
              "      <td>19</td>\n",
              "      <td>NaN</td>\n",
              "    </tr>\n",
              "    <tr>\n",
              "      <th>14</th>\n",
              "      <td>5</td>\n",
              "      <td>NaN</td>\n",
              "    </tr>\n",
              "    <tr>\n",
              "      <th>15</th>\n",
              "      <td>5</td>\n",
              "      <td>NaN</td>\n",
              "    </tr>\n",
              "    <tr>\n",
              "      <th>16</th>\n",
              "      <td>3</td>\n",
              "      <td>NaN</td>\n",
              "    </tr>\n",
              "    <tr>\n",
              "      <th>18</th>\n",
              "      <td>1</td>\n",
              "      <td>NaN</td>\n",
              "    </tr>\n",
              "    <tr>\n",
              "      <th>20</th>\n",
              "      <td>1</td>\n",
              "      <td>NaN</td>\n",
              "    </tr>\n",
              "    <tr>\n",
              "      <th>21</th>\n",
              "      <td>1</td>\n",
              "      <td>NaN</td>\n",
              "    </tr>\n",
              "    <tr>\n",
              "      <th>30</th>\n",
              "      <td>1</td>\n",
              "      <td>NaN</td>\n",
              "    </tr>\n",
              "  </tbody>\n",
              "</table>\n",
              "</div>"
            ],
            "text/plain": [
              "    rooms   rooms\n",
              "1   20682     NaN\n",
              "2   30582  2984.0\n",
              "3   26593  3016.0\n",
              "4   17756     NaN\n",
              "5    4668     NaN\n",
              "6    1264     NaN\n",
              "7     481     NaN\n",
              "8     258     NaN\n",
              "9      46     NaN\n",
              "10     45     NaN\n",
              "11     11     NaN\n",
              "12     19     NaN\n",
              "14      5     NaN\n",
              "15      5     NaN\n",
              "16      3     NaN\n",
              "18      1     NaN\n",
              "20      1     NaN\n",
              "21      1     NaN\n",
              "30      1     NaN"
            ]
          },
          "execution_count": 18,
          "metadata": {},
          "output_type": "execute_result"
        }
      ],
      "source": [
        "pd.concat((df_train.rooms.value_counts(dropna=False),\n",
        "           df_test.rooms.value_counts(dropna=False)),axis=1).sort_index()"
      ]
    },
    {
      "cell_type": "code",
      "execution_count": 19,
      "metadata": {},
      "outputs": [
        {
          "data": {
            "text/plain": [
              "(102422, 31)"
            ]
          },
          "execution_count": 19,
          "metadata": {},
          "output_type": "execute_result"
        }
      ],
      "source": [
        "# df_train = df_train[(df_train.rooms<7) |(df_train.rooms.isnull())]\n",
        "df_train.shape"
      ]
    },
    {
      "cell_type": "code",
      "execution_count": 20,
      "metadata": {},
      "outputs": [
        {
          "data": {
            "text/html": [
              "<div>\n",
              "<style scoped>\n",
              "    .dataframe tbody tr th:only-of-type {\n",
              "        vertical-align: middle;\n",
              "    }\n",
              "\n",
              "    .dataframe tbody tr th {\n",
              "        vertical-align: top;\n",
              "    }\n",
              "\n",
              "    .dataframe thead th {\n",
              "        text-align: right;\n",
              "    }\n",
              "</style>\n",
              "<table border=\"1\" class=\"dataframe\">\n",
              "  <thead>\n",
              "    <tr style=\"text-align: right;\">\n",
              "      <th></th>\n",
              "      <th>bedrooms</th>\n",
              "      <th>bedrooms</th>\n",
              "    </tr>\n",
              "  </thead>\n",
              "  <tbody>\n",
              "    <tr>\n",
              "      <th>-1</th>\n",
              "      <td>2</td>\n",
              "      <td>NaN</td>\n",
              "    </tr>\n",
              "    <tr>\n",
              "      <th>0</th>\n",
              "      <td>15245</td>\n",
              "      <td>3.0</td>\n",
              "    </tr>\n",
              "    <tr>\n",
              "      <th>1</th>\n",
              "      <td>38133</td>\n",
              "      <td>3312.0</td>\n",
              "    </tr>\n",
              "    <tr>\n",
              "      <th>2</th>\n",
              "      <td>27821</td>\n",
              "      <td>2660.0</td>\n",
              "    </tr>\n",
              "    <tr>\n",
              "      <th>3</th>\n",
              "      <td>16558</td>\n",
              "      <td>23.0</td>\n",
              "    </tr>\n",
              "    <tr>\n",
              "      <th>4</th>\n",
              "      <td>3729</td>\n",
              "      <td>1.0</td>\n",
              "    </tr>\n",
              "    <tr>\n",
              "      <th>5</th>\n",
              "      <td>507</td>\n",
              "      <td>1.0</td>\n",
              "    </tr>\n",
              "    <tr>\n",
              "      <th>6</th>\n",
              "      <td>227</td>\n",
              "      <td>NaN</td>\n",
              "    </tr>\n",
              "    <tr>\n",
              "      <th>7</th>\n",
              "      <td>144</td>\n",
              "      <td>NaN</td>\n",
              "    </tr>\n",
              "    <tr>\n",
              "      <th>8</th>\n",
              "      <td>22</td>\n",
              "      <td>NaN</td>\n",
              "    </tr>\n",
              "    <tr>\n",
              "      <th>9</th>\n",
              "      <td>5</td>\n",
              "      <td>NaN</td>\n",
              "    </tr>\n",
              "    <tr>\n",
              "      <th>10</th>\n",
              "      <td>10</td>\n",
              "      <td>NaN</td>\n",
              "    </tr>\n",
              "    <tr>\n",
              "      <th>11</th>\n",
              "      <td>4</td>\n",
              "      <td>NaN</td>\n",
              "    </tr>\n",
              "    <tr>\n",
              "      <th>12</th>\n",
              "      <td>2</td>\n",
              "      <td>NaN</td>\n",
              "    </tr>\n",
              "    <tr>\n",
              "      <th>13</th>\n",
              "      <td>1</td>\n",
              "      <td>NaN</td>\n",
              "    </tr>\n",
              "    <tr>\n",
              "      <th>14</th>\n",
              "      <td>4</td>\n",
              "      <td>NaN</td>\n",
              "    </tr>\n",
              "    <tr>\n",
              "      <th>15</th>\n",
              "      <td>5</td>\n",
              "      <td>NaN</td>\n",
              "    </tr>\n",
              "    <tr>\n",
              "      <th>17</th>\n",
              "      <td>1</td>\n",
              "      <td>NaN</td>\n",
              "    </tr>\n",
              "    <tr>\n",
              "      <th>23</th>\n",
              "      <td>1</td>\n",
              "      <td>NaN</td>\n",
              "    </tr>\n",
              "    <tr>\n",
              "      <th>60</th>\n",
              "      <td>1</td>\n",
              "      <td>NaN</td>\n",
              "    </tr>\n",
              "  </tbody>\n",
              "</table>\n",
              "</div>"
            ],
            "text/plain": [
              "     bedrooms  bedrooms\n",
              "-1          2       NaN\n",
              " 0      15245       3.0\n",
              " 1      38133    3312.0\n",
              " 2      27821    2660.0\n",
              " 3      16558      23.0\n",
              " 4       3729       1.0\n",
              " 5        507       1.0\n",
              " 6        227       NaN\n",
              " 7        144       NaN\n",
              " 8         22       NaN\n",
              " 9          5       NaN\n",
              " 10        10       NaN\n",
              " 11         4       NaN\n",
              " 12         2       NaN\n",
              " 13         1       NaN\n",
              " 14         4       NaN\n",
              " 15         5       NaN\n",
              " 17         1       NaN\n",
              " 23         1       NaN\n",
              " 60         1       NaN"
            ]
          },
          "execution_count": 20,
          "metadata": {},
          "output_type": "execute_result"
        }
      ],
      "source": [
        "pd.concat((df_train.bedrooms.value_counts(dropna=False),\n",
        "           df_test.bedrooms.value_counts(dropna=False)),axis=1).sort_index()"
      ]
    },
    {
      "cell_type": "code",
      "execution_count": 21,
      "metadata": {},
      "outputs": [
        {
          "data": {
            "text/plain": [
              "(102422, 31)"
            ]
          },
          "execution_count": 21,
          "metadata": {},
          "output_type": "execute_result"
        }
      ],
      "source": [
        "# df_train = df_train[(df_train.bedrooms<6) |(df_train.bedrooms.isnull())]\n",
        "df_train.shape"
      ]
    },
    {
      "cell_type": "code",
      "execution_count": 22,
      "metadata": {},
      "outputs": [
        {
          "data": {
            "text/plain": [
              "<Axes: xlabel='surface_covered'>"
            ]
          },
          "execution_count": 22,
          "metadata": {},
          "output_type": "execute_result"
        },
        {
          "data": {
            "image/png": "[encoded data removed]",
            "text/plain": [
              "<Figure size 2000x800 with 2 Axes>"
            ]
          },
          "metadata": {},
          "output_type": "display_data"
        }
      ],
      "source": [
        "fig, ax = plt.subplots(nrows=2,figsize=(20,8))\n",
        "sns.boxplot(data=df_train,x='surface_covered',ax=ax[0])\n",
        "sns.boxplot(data=df_test,x='surface_covered',ax=ax[1])"
      ]
    },
    {
      "cell_type": "code",
      "execution_count": 23,
      "metadata": {},
      "outputs": [
        {
          "data": {
            "text/html": [
              "<div>\n",
              "<style scoped>\n",
              "    .dataframe tbody tr th:only-of-type {\n",
              "        vertical-align: middle;\n",
              "    }\n",
              "\n",
              "    .dataframe tbody tr th {\n",
              "        vertical-align: top;\n",
              "    }\n",
              "\n",
              "    .dataframe thead th {\n",
              "        text-align: right;\n",
              "    }\n",
              "</style>\n",
              "<table border=\"1\" class=\"dataframe\">\n",
              "  <thead>\n",
              "    <tr style=\"text-align: right;\">\n",
              "      <th></th>\n",
              "      <th>count</th>\n",
              "      <th>mean</th>\n",
              "      <th>std</th>\n",
              "      <th>min</th>\n",
              "      <th>25%</th>\n",
              "      <th>50%</th>\n",
              "      <th>75%</th>\n",
              "      <th>max</th>\n",
              "    </tr>\n",
              "  </thead>\n",
              "  <tbody>\n",
              "    <tr>\n",
              "      <th>surface_covered</th>\n",
              "      <td>102422.0</td>\n",
              "      <td>87.192914</td>\n",
              "      <td>720.887917</td>\n",
              "      <td>-4432.263411</td>\n",
              "      <td>41.0</td>\n",
              "      <td>61.0</td>\n",
              "      <td>98.0</td>\n",
              "      <td>126062.0</td>\n",
              "    </tr>\n",
              "    <tr>\n",
              "      <th>surface_total</th>\n",
              "      <td>102422.0</td>\n",
              "      <td>138.086412</td>\n",
              "      <td>1024.722444</td>\n",
              "      <td>-149575.086421</td>\n",
              "      <td>43.0</td>\n",
              "      <td>69.0</td>\n",
              "      <td>130.0</td>\n",
              "      <td>126062.0</td>\n",
              "    </tr>\n",
              "  </tbody>\n",
              "</table>\n",
              "</div>"
            ],
            "text/plain": [
              "                    count        mean          std            min   25%   50%  \\\n",
              "surface_covered  102422.0   87.192914   720.887917   -4432.263411  41.0  61.0   \n",
              "surface_total    102422.0  138.086412  1024.722444 -149575.086421  43.0  69.0   \n",
              "\n",
              "                   75%       max  \n",
              "surface_covered   98.0  126062.0  \n",
              "surface_total    130.0  126062.0  "
            ]
          },
          "execution_count": 23,
          "metadata": {},
          "output_type": "execute_result"
        }
      ],
      "source": [
        "df_train[['surface_covered','surface_total']].describe().T"
      ]
    },
    {
      "cell_type": "code",
      "execution_count": 24,
      "metadata": {},
      "outputs": [
        {
          "data": {
            "text/html": [
              "<div>\n",
              "<style scoped>\n",
              "    .dataframe tbody tr th:only-of-type {\n",
              "        vertical-align: middle;\n",
              "    }\n",
              "\n",
              "    .dataframe tbody tr th {\n",
              "        vertical-align: top;\n",
              "    }\n",
              "\n",
              "    .dataframe thead th {\n",
              "        text-align: right;\n",
              "    }\n",
              "</style>\n",
              "<table border=\"1\" class=\"dataframe\">\n",
              "  <thead>\n",
              "    <tr style=\"text-align: right;\">\n",
              "      <th></th>\n",
              "      <th>count</th>\n",
              "      <th>mean</th>\n",
              "      <th>std</th>\n",
              "      <th>min</th>\n",
              "      <th>25%</th>\n",
              "      <th>50%</th>\n",
              "      <th>75%</th>\n",
              "      <th>max</th>\n",
              "    </tr>\n",
              "  </thead>\n",
              "  <tbody>\n",
              "    <tr>\n",
              "      <th>surface_covered</th>\n",
              "      <td>6000.0</td>\n",
              "      <td>76.894979</td>\n",
              "      <td>672.776879</td>\n",
              "      <td>10.0</td>\n",
              "      <td>45.0</td>\n",
              "      <td>59.000000</td>\n",
              "      <td>76.738295</td>\n",
              "      <td>47360.0</td>\n",
              "    </tr>\n",
              "    <tr>\n",
              "      <th>surface_total</th>\n",
              "      <td>6000.0</td>\n",
              "      <td>91.262284</td>\n",
              "      <td>751.427838</td>\n",
              "      <td>21.0</td>\n",
              "      <td>51.0</td>\n",
              "      <td>67.796492</td>\n",
              "      <td>91.032708</td>\n",
              "      <td>47360.0</td>\n",
              "    </tr>\n",
              "  </tbody>\n",
              "</table>\n",
              "</div>"
            ],
            "text/plain": [
              "                  count       mean         std   min   25%        50%  \\\n",
              "surface_covered  6000.0  76.894979  672.776879  10.0  45.0  59.000000   \n",
              "surface_total    6000.0  91.262284  751.427838  21.0  51.0  67.796492   \n",
              "\n",
              "                       75%      max  \n",
              "surface_covered  76.738295  47360.0  \n",
              "surface_total    91.032708  47360.0  "
            ]
          },
          "execution_count": 24,
          "metadata": {},
          "output_type": "execute_result"
        }
      ],
      "source": [
        "df_test[['surface_covered','surface_total']].describe().T"
      ]
    },
    {
      "cell_type": "code",
      "execution_count": 25,
      "metadata": {},
      "outputs": [
        {
          "data": {
            "text/plain": [
              "(100591, 31)"
            ]
          },
          "execution_count": 25,
          "metadata": {},
          "output_type": "execute_result"
        }
      ],
      "source": [
        "df_train = df_train[((df_train['surface_covered']>=20)&(df_train['surface_covered']<50000))|(df_train['surface_covered'].isnull())]\n",
        "df_train.shape"
      ]
    },
    {
      "cell_type": "code",
      "execution_count": 26,
      "metadata": {},
      "outputs": [
        {
          "data": {
            "text/plain": [
              "<Axes: xlabel='surface_total'>"
            ]
          },
          "execution_count": 26,
          "metadata": {},
          "output_type": "execute_result"
        },
        {
          "data": {
            "image/png": "[encoded data removed]",
            "text/plain": [
              "<Figure size 2000x800 with 2 Axes>"
            ]
          },
          "metadata": {},
          "output_type": "display_data"
        }
      ],
      "source": [
        "fig, ax = plt.subplots(nrows=2,figsize=(20,8))\n",
        "sns.boxplot(data=df_train,x='surface_total',ax=ax[0])\n",
        "sns.boxplot(data=df_test,x='surface_total',ax=ax[1])"
      ]
    },
    {
      "cell_type": "code",
      "execution_count": 27,
      "metadata": {},
      "outputs": [
        {
          "data": {
            "text/html": [
              "<div>\n",
              "<style scoped>\n",
              "    .dataframe tbody tr th:only-of-type {\n",
              "        vertical-align: middle;\n",
              "    }\n",
              "\n",
              "    .dataframe tbody tr th {\n",
              "        vertical-align: top;\n",
              "    }\n",
              "\n",
              "    .dataframe thead th {\n",
              "        text-align: right;\n",
              "    }\n",
              "</style>\n",
              "<table border=\"1\" class=\"dataframe\">\n",
              "  <thead>\n",
              "    <tr style=\"text-align: right;\">\n",
              "      <th></th>\n",
              "      <th>count</th>\n",
              "      <th>mean</th>\n",
              "      <th>std</th>\n",
              "      <th>min</th>\n",
              "      <th>25%</th>\n",
              "      <th>50%</th>\n",
              "      <th>75%</th>\n",
              "      <th>max</th>\n",
              "    </tr>\n",
              "  </thead>\n",
              "  <tbody>\n",
              "    <tr>\n",
              "      <th>surface_covered</th>\n",
              "      <td>100591.0</td>\n",
              "      <td>85.257393</td>\n",
              "      <td>207.768667</td>\n",
              "      <td>20.000000</td>\n",
              "      <td>41.044627</td>\n",
              "      <td>62.0</td>\n",
              "      <td>100.0</td>\n",
              "      <td>31550.0</td>\n",
              "    </tr>\n",
              "    <tr>\n",
              "      <th>surface_total</th>\n",
              "      <td>100591.0</td>\n",
              "      <td>146.328567</td>\n",
              "      <td>580.711035</td>\n",
              "      <td>-6008.880032</td>\n",
              "      <td>43.000000</td>\n",
              "      <td>70.0</td>\n",
              "      <td>130.0</td>\n",
              "      <td>108960.0</td>\n",
              "    </tr>\n",
              "  </tbody>\n",
              "</table>\n",
              "</div>"
            ],
            "text/plain": [
              "                    count        mean         std          min        25%  \\\n",
              "surface_covered  100591.0   85.257393  207.768667    20.000000  41.044627   \n",
              "surface_total    100591.0  146.328567  580.711035 -6008.880032  43.000000   \n",
              "\n",
              "                  50%    75%       max  \n",
              "surface_covered  62.0  100.0   31550.0  \n",
              "surface_total    70.0  130.0  108960.0  "
            ]
          },
          "execution_count": 27,
          "metadata": {},
          "output_type": "execute_result"
        }
      ],
      "source": [
        "df_train[['surface_covered','surface_total']].describe().T"
      ]
    },
    {
      "cell_type": "code",
      "execution_count": 28,
      "metadata": {},
      "outputs": [
        {
          "data": {
            "text/html": [
              "<div>\n",
              "<style scoped>\n",
              "    .dataframe tbody tr th:only-of-type {\n",
              "        vertical-align: middle;\n",
              "    }\n",
              "\n",
              "    .dataframe tbody tr th {\n",
              "        vertical-align: top;\n",
              "    }\n",
              "\n",
              "    .dataframe thead th {\n",
              "        text-align: right;\n",
              "    }\n",
              "</style>\n",
              "<table border=\"1\" class=\"dataframe\">\n",
              "  <thead>\n",
              "    <tr style=\"text-align: right;\">\n",
              "      <th></th>\n",
              "      <th>count</th>\n",
              "      <th>mean</th>\n",
              "      <th>std</th>\n",
              "      <th>min</th>\n",
              "      <th>25%</th>\n",
              "      <th>50%</th>\n",
              "      <th>75%</th>\n",
              "      <th>max</th>\n",
              "    </tr>\n",
              "  </thead>\n",
              "  <tbody>\n",
              "    <tr>\n",
              "      <th>surface_covered</th>\n",
              "      <td>6000.0</td>\n",
              "      <td>76.894979</td>\n",
              "      <td>672.776879</td>\n",
              "      <td>10.0</td>\n",
              "      <td>45.0</td>\n",
              "      <td>59.000000</td>\n",
              "      <td>76.738295</td>\n",
              "      <td>47360.0</td>\n",
              "    </tr>\n",
              "    <tr>\n",
              "      <th>surface_total</th>\n",
              "      <td>6000.0</td>\n",
              "      <td>91.262284</td>\n",
              "      <td>751.427838</td>\n",
              "      <td>21.0</td>\n",
              "      <td>51.0</td>\n",
              "      <td>67.796492</td>\n",
              "      <td>91.032708</td>\n",
              "      <td>47360.0</td>\n",
              "    </tr>\n",
              "  </tbody>\n",
              "</table>\n",
              "</div>"
            ],
            "text/plain": [
              "                  count       mean         std   min   25%        50%  \\\n",
              "surface_covered  6000.0  76.894979  672.776879  10.0  45.0  59.000000   \n",
              "surface_total    6000.0  91.262284  751.427838  21.0  51.0  67.796492   \n",
              "\n",
              "                       75%      max  \n",
              "surface_covered  76.738295  47360.0  \n",
              "surface_total    91.032708  47360.0  "
            ]
          },
          "execution_count": 28,
          "metadata": {},
          "output_type": "execute_result"
        }
      ],
      "source": [
        "df_test[['surface_covered','surface_total']].describe().T"
      ]
    },
    {
      "cell_type": "code",
      "execution_count": 29,
      "metadata": {},
      "outputs": [
        {
          "data": {
            "text/plain": [
              "(95914, 31)"
            ]
          },
          "execution_count": 29,
          "metadata": {},
          "output_type": "execute_result"
        }
      ],
      "source": [
        "df_train = df_train[((df_train['surface_total']>=10)&(df_train['surface_total']<50000))|(df_train['surface_total'].isnull())]\n",
        "df_train.shape"
      ]
    },
    {
      "cell_type": "code",
      "execution_count": 30,
      "metadata": {},
      "outputs": [
        {
          "data": {
            "text/html": [
              "<div>\n",
              "<style scoped>\n",
              "    .dataframe tbody tr th:only-of-type {\n",
              "        vertical-align: middle;\n",
              "    }\n",
              "\n",
              "    .dataframe tbody tr th {\n",
              "        vertical-align: top;\n",
              "    }\n",
              "\n",
              "    .dataframe thead th {\n",
              "        text-align: right;\n",
              "    }\n",
              "</style>\n",
              "<table border=\"1\" class=\"dataframe\">\n",
              "  <thead>\n",
              "    <tr style=\"text-align: right;\">\n",
              "      <th></th>\n",
              "      <th>count</th>\n",
              "      <th>mean</th>\n",
              "      <th>std</th>\n",
              "      <th>min</th>\n",
              "      <th>25%</th>\n",
              "      <th>50%</th>\n",
              "      <th>75%</th>\n",
              "      <th>max</th>\n",
              "    </tr>\n",
              "  </thead>\n",
              "  <tbody>\n",
              "    <tr>\n",
              "      <th>surface_covered</th>\n",
              "      <td>95914.0</td>\n",
              "      <td>82.577618</td>\n",
              "      <td>212.001841</td>\n",
              "      <td>20.0</td>\n",
              "      <td>41.0</td>\n",
              "      <td>60.0</td>\n",
              "      <td>91.0</td>\n",
              "      <td>31550.0</td>\n",
              "    </tr>\n",
              "    <tr>\n",
              "      <th>surface_total</th>\n",
              "      <td>95914.0</td>\n",
              "      <td>169.079044</td>\n",
              "      <td>457.650534</td>\n",
              "      <td>12.0</td>\n",
              "      <td>46.0</td>\n",
              "      <td>73.0</td>\n",
              "      <td>138.0</td>\n",
              "      <td>48170.0</td>\n",
              "    </tr>\n",
              "  </tbody>\n",
              "</table>\n",
              "</div>"
            ],
            "text/plain": [
              "                   count        mean         std   min   25%   50%    75%  \\\n",
              "surface_covered  95914.0   82.577618  212.001841  20.0  41.0  60.0   91.0   \n",
              "surface_total    95914.0  169.079044  457.650534  12.0  46.0  73.0  138.0   \n",
              "\n",
              "                     max  \n",
              "surface_covered  31550.0  \n",
              "surface_total    48170.0  "
            ]
          },
          "execution_count": 30,
          "metadata": {},
          "output_type": "execute_result"
        }
      ],
      "source": [
        "df_train[['surface_covered','surface_total']].describe().T"
      ]
    },
    {
      "cell_type": "code",
      "execution_count": 31,
      "metadata": {},
      "outputs": [
        {
          "data": {
            "text/html": [
              "<div>\n",
              "<style scoped>\n",
              "    .dataframe tbody tr th:only-of-type {\n",
              "        vertical-align: middle;\n",
              "    }\n",
              "\n",
              "    .dataframe tbody tr th {\n",
              "        vertical-align: top;\n",
              "    }\n",
              "\n",
              "    .dataframe thead th {\n",
              "        text-align: right;\n",
              "    }\n",
              "</style>\n",
              "<table border=\"1\" class=\"dataframe\">\n",
              "  <thead>\n",
              "    <tr style=\"text-align: right;\">\n",
              "      <th></th>\n",
              "      <th>count</th>\n",
              "      <th>mean</th>\n",
              "      <th>std</th>\n",
              "      <th>min</th>\n",
              "      <th>25%</th>\n",
              "      <th>50%</th>\n",
              "      <th>75%</th>\n",
              "      <th>max</th>\n",
              "    </tr>\n",
              "  </thead>\n",
              "  <tbody>\n",
              "    <tr>\n",
              "      <th>surface_covered</th>\n",
              "      <td>6000.0</td>\n",
              "      <td>76.894979</td>\n",
              "      <td>672.776879</td>\n",
              "      <td>10.0</td>\n",
              "      <td>45.0</td>\n",
              "      <td>59.000000</td>\n",
              "      <td>76.738295</td>\n",
              "      <td>47360.0</td>\n",
              "    </tr>\n",
              "    <tr>\n",
              "      <th>surface_total</th>\n",
              "      <td>6000.0</td>\n",
              "      <td>91.262284</td>\n",
              "      <td>751.427838</td>\n",
              "      <td>21.0</td>\n",
              "      <td>51.0</td>\n",
              "      <td>67.796492</td>\n",
              "      <td>91.032708</td>\n",
              "      <td>47360.0</td>\n",
              "    </tr>\n",
              "  </tbody>\n",
              "</table>\n",
              "</div>"
            ],
            "text/plain": [
              "                  count       mean         std   min   25%        50%  \\\n",
              "surface_covered  6000.0  76.894979  672.776879  10.0  45.0  59.000000   \n",
              "surface_total    6000.0  91.262284  751.427838  21.0  51.0  67.796492   \n",
              "\n",
              "                       75%      max  \n",
              "surface_covered  76.738295  47360.0  \n",
              "surface_total    91.032708  47360.0  "
            ]
          },
          "execution_count": 31,
          "metadata": {},
          "output_type": "execute_result"
        }
      ],
      "source": [
        "df_test[['surface_covered','surface_total']].describe().T"
      ]
    },
    {
      "cell_type": "code",
      "execution_count": 32,
      "metadata": {},
      "outputs": [
        {
          "data": {
            "text/plain": [
              "5000.0        1\n",
              "9500.0        1\n",
              "10000.0       5\n",
              "10500.0       2\n",
              "11111.0       1\n",
              "             ..\n",
              "9477000.0     3\n",
              "11111111.0    1\n",
              "12345678.0    1\n",
              "15011160.0    1\n",
              "32434232.0    1\n",
              "Name: price, Length: 6371, dtype: int64"
            ]
          },
          "execution_count": 32,
          "metadata": {},
          "output_type": "execute_result"
        }
      ],
      "source": [
        "df_train.price.value_counts().sort_index()"
      ]
    },
    {
      "attachments": {},
      "cell_type": "markdown",
      "metadata": {},
      "source": [
        "## Armado de variables"
      ]
    },
    {
      "cell_type": "code",
      "execution_count": 33,
      "metadata": {},
      "outputs": [],
      "source": [
        "df = pd.concat((df_train,df_test),axis=0)\n",
        "\n",
        "df['bathrooms_rooms'] = df['bathrooms']/df['rooms']\n",
        "df['bedrooms_rooms'] = df['bedrooms']/df['rooms']\n",
        "df['covered'] = df['surface_covered']/df['surface_total']"
      ]
    },
    {
      "cell_type": "code",
      "execution_count": 34,
      "metadata": {},
      "outputs": [
        {
          "data": {
            "text/plain": [
              "0.000851     1\n",
              "0.004233     1\n",
              "0.004679     1\n",
              "0.005105     1\n",
              "0.007350     1\n",
              "            ..\n",
              "19.352209    2\n",
              "20.143609    1\n",
              "21.003826    2\n",
              "24.100608    1\n",
              "26.738608    1\n",
              "Name: covered, Length: 5677, dtype: int64"
            ]
          },
          "execution_count": 34,
          "metadata": {},
          "output_type": "execute_result"
        }
      ],
      "source": [
        "df.covered.value_counts(dropna=False).sort_index()"
      ]
    },
    {
      "cell_type": "code",
      "execution_count": 35,
      "metadata": {},
      "outputs": [],
      "source": [
        "df_train = df[~df.price.isnull()]\n",
        "df_test = df[df.price.isnull()]"
      ]
    },
    {
      "attachments": {},
      "cell_type": "markdown",
      "metadata": {},
      "source": [
        "## Selección de atributos"
      ]
    },
    {
      "cell_type": "code",
      "execution_count": 36,
      "metadata": {},
      "outputs": [
        {
          "name": "stderr",
          "output_type": "stream",
          "text": [
            "C:\\Users\\Usuario\\AppData\\Local\\Temp\\ipykernel_19008\\2438721469.py:2: SettingWithCopyWarning: \n",
            "A value is trying to be set on a copy of a slice from a DataFrame\n",
            "\n",
            "See the caveats in the documentation: https://pandas.pydata.org/pandas-docs/stable/user_guide/indexing.html#returning-a-view-versus-a-copy\n",
            "  df_train.drop(cols,inplace=True,axis=1)\n",
            "C:\\Users\\Usuario\\AppData\\Local\\Temp\\ipykernel_19008\\2438721469.py:3: SettingWithCopyWarning: \n",
            "A value is trying to be set on a copy of a slice from a DataFrame\n",
            "\n",
            "See the caveats in the documentation: https://pandas.pydata.org/pandas-docs/stable/user_guide/indexing.html#returning-a-view-versus-a-copy\n",
            "  df_test.drop(cols,inplace=True,axis=1)\n"
          ]
        }
      ],
      "source": [
        "cols = ['l1','l5','l6','ad_type','currency','operation_type']\n",
        "df_train.drop(cols,inplace=True,axis=1)\n",
        "df_test.drop(cols,inplace=True,axis=1)"
      ]
    },
    {
      "attachments": {},
      "cell_type": "markdown",
      "metadata": {},
      "source": [
        "## Dummies"
      ]
    },
    {
      "cell_type": "code",
      "execution_count": 37,
      "metadata": {},
      "outputs": [],
      "source": [
        "cols_dummies = ['l2','l3','l4','property_type']\n",
        "train_dummies = pd.get_dummies(df_train[cols_dummies],dummy_na=True)\n",
        "df_train = pd.concat((df_train,train_dummies),axis=1)\n",
        "\n",
        "test_dummies = pd.get_dummies(df_test[cols_dummies],dummy_na=True)\n",
        "df_test = pd.concat((df_test,test_dummies),axis=1)"
      ]
    },
    {
      "cell_type": "code",
      "execution_count": 38,
      "metadata": {},
      "outputs": [],
      "source": [
        "cols = pd.concat((df_train,df_test),axis=0,join='inner').columns\n",
        "\n",
        "df_train = df_train[cols]\n",
        "df_test = df_test[cols]"
      ]
    },
    {
      "attachments": {},
      "cell_type": "markdown",
      "metadata": {},
      "source": [
        "## Borrado por varianza"
      ]
    },
    {
      "cell_type": "code",
      "execution_count": 39,
      "metadata": {},
      "outputs": [],
      "source": [
        "from sklearn.feature_selection import VarianceThreshold"
      ]
    },
    {
      "cell_type": "code",
      "execution_count": 40,
      "metadata": {},
      "outputs": [],
      "source": [
        "# F = df_train[~df_train.price.isnull()]\n",
        "# X = F[F.select_dtypes(include=['float64' ,'float32','int64', 'int32', 'int16', 'int8', 'bool','uint8']).columns.drop('price')]\n",
        "# y = F['price']\n",
        "\n",
        "# print(X.shape)\n",
        "# fs = VarianceThreshold(threshold=0.005)\n",
        "# X_new = fs.fit_transform(X) # threshold = limite superior de la varianza\n",
        "# print(X_new.shape)\n",
        "\n",
        "# cols = list(X.columns[fs.get_support()])\n",
        "# cols.append('price')\n",
        "\n",
        "# df_train = df_train[cols]\n",
        "# df_test = df_test[cols]"
      ]
    },
    {
      "cell_type": "code",
      "execution_count": 41,
      "metadata": {},
      "outputs": [],
      "source": [
        "F = df_train[~df_train.price.isnull()]\n",
        "X = F[F.select_dtypes(include=['float64' ,'float32','int64', 'int32', 'int16', 'int8', 'bool','uint8']).columns.drop('price')]\n",
        "y = F['price']\n",
        "\n",
        "clf = sk.ensemble.RandomForestRegressor(n_estimators=50, n_jobs=-1,random_state=42)\n",
        "clf.fit(X, y)\n",
        "\n",
        "importancias = pd.DataFrame({'atributo': clf.feature_names_in_, 'importancia': clf.feature_importances_})\n",
        "cols = list(importancias[importancias['importancia']>0.0001].sort_values('importancia',ascending=False).reset_index(drop=True).atributo)\n",
        "\n",
        "cols.append('price')\n",
        "\n",
        "df_train = df_train[cols]\n",
        "df_test = df_test[cols]"
      ]
    },
    {
      "cell_type": "code",
      "execution_count": 42,
      "metadata": {},
      "outputs": [
        {
          "data": {
            "text/html": [
              "<div>\n",
              "<style scoped>\n",
              "    .dataframe tbody tr th:only-of-type {\n",
              "        vertical-align: middle;\n",
              "    }\n",
              "\n",
              "    .dataframe tbody tr th {\n",
              "        vertical-align: top;\n",
              "    }\n",
              "\n",
              "    .dataframe thead th {\n",
              "        text-align: right;\n",
              "    }\n",
              "</style>\n",
              "<table border=\"1\" class=\"dataframe\">\n",
              "  <thead>\n",
              "    <tr style=\"text-align: right;\">\n",
              "      <th></th>\n",
              "      <th>atributo</th>\n",
              "      <th>importancia</th>\n",
              "    </tr>\n",
              "  </thead>\n",
              "  <tbody>\n",
              "    <tr>\n",
              "      <th>85</th>\n",
              "      <td>property_type_nan</td>\n",
              "      <td>0.000000e+00</td>\n",
              "    </tr>\n",
              "    <tr>\n",
              "      <th>13</th>\n",
              "      <td>lon_imputed</td>\n",
              "      <td>0.000000e+00</td>\n",
              "    </tr>\n",
              "    <tr>\n",
              "      <th>12</th>\n",
              "      <td>lat_imputed</td>\n",
              "      <td>0.000000e+00</td>\n",
              "    </tr>\n",
              "    <tr>\n",
              "      <th>19</th>\n",
              "      <td>l2_nan</td>\n",
              "      <td>0.000000e+00</td>\n",
              "    </tr>\n",
              "    <tr>\n",
              "      <th>30</th>\n",
              "      <td>l3_Catalinas</td>\n",
              "      <td>2.400890e-08</td>\n",
              "    </tr>\n",
              "    <tr>\n",
              "      <th>...</th>\n",
              "      <td>...</td>\n",
              "      <td>...</td>\n",
              "    </tr>\n",
              "    <tr>\n",
              "      <th>11</th>\n",
              "      <td>surface_covered_imputed</td>\n",
              "      <td>4.873727e-02</td>\n",
              "    </tr>\n",
              "    <tr>\n",
              "      <th>54</th>\n",
              "      <td>l3_Puerto Madero</td>\n",
              "      <td>6.067105e-02</td>\n",
              "    </tr>\n",
              "    <tr>\n",
              "      <th>0</th>\n",
              "      <td>lat</td>\n",
              "      <td>6.296073e-02</td>\n",
              "    </tr>\n",
              "    <tr>\n",
              "      <th>1</th>\n",
              "      <td>lon</td>\n",
              "      <td>1.813172e-01</td>\n",
              "    </tr>\n",
              "    <tr>\n",
              "      <th>6</th>\n",
              "      <td>surface_covered</td>\n",
              "      <td>4.013920e-01</td>\n",
              "    </tr>\n",
              "  </tbody>\n",
              "</table>\n",
              "<p>86 rows × 2 columns</p>\n",
              "</div>"
            ],
            "text/plain": [
              "                   atributo   importancia\n",
              "85        property_type_nan  0.000000e+00\n",
              "13              lon_imputed  0.000000e+00\n",
              "12              lat_imputed  0.000000e+00\n",
              "19                   l2_nan  0.000000e+00\n",
              "30             l3_Catalinas  2.400890e-08\n",
              "..                      ...           ...\n",
              "11  surface_covered_imputed  4.873727e-02\n",
              "54         l3_Puerto Madero  6.067105e-02\n",
              "0                       lat  6.296073e-02\n",
              "1                       lon  1.813172e-01\n",
              "6           surface_covered  4.013920e-01\n",
              "\n",
              "[86 rows x 2 columns]"
            ]
          },
          "execution_count": 42,
          "metadata": {},
          "output_type": "execute_result"
        }
      ],
      "source": [
        "importancias.sort_values('importancia')"
      ]
    },
    {
      "cell_type": "code",
      "execution_count": 43,
      "metadata": {
        "id": "nKSwHBUEUcQy"
      },
      "outputs": [],
      "source": [
        "# Funcion de limpieza (usada en la siguiente sección) que usa y_train\n",
        "def limpiar_fold(X_train, y_train, X_test):\n",
        "    ## TODO: limpiar los datos\n",
        "\n",
        "    return (X_train, y_train, X_test)"
      ]
    },
    {
      "attachments": {},
      "cell_type": "markdown",
      "metadata": {
        "id": "i2jRJmQ-tD4Z"
      },
      "source": [
        "# Entrenamiento del modelo"
      ]
    },
    {
      "attachments": {},
      "cell_type": "markdown",
      "metadata": {
        "id": "PMhVsoXBVYrr"
      },
      "source": [
        "## Territorio de Aprendizaje Automático\n",
        "☢☢☢☢☢☢ Se mira y no se toca ☢☢☢☢☢☢☢"
      ]
    },
    {
      "cell_type": "code",
      "execution_count": 44,
      "metadata": {
        "id": "wpS9E1RbRtYm"
      },
      "outputs": [],
      "source": [
        "# Datos para probar\n",
        "df_train = df_train.select_dtypes(include=['float64', 'int64', 'int32', 'int16', 'int8', 'bool'])\n",
        "\n",
        "X = df_train[df_train.columns.drop('price')]\n",
        "y = df_train['price']"
      ]
    },
    {
      "cell_type": "code",
      "execution_count": 45,
      "metadata": {
        "colab": {
          "base_uri": "https://localhost:8080/"
        },
        "id": "PoAhfAjlr-rp",
        "outputId": "d24f9ca9-12f4-48c0-826e-63d8c5cfddbe"
      },
      "outputs": [
        {
          "name": "stdout",
          "output_type": "stream",
          "text": [
            "fold=0, score_train=34611384081.1794 score_test=28834147727.468113\n",
            "fold=1, score_train=34157352247.400597 score_test=38554916693.13111\n",
            "fold=2, score_train=35542259759.044 score_test=22125592444.71847\n",
            "fold=3, score_train=36082352568.81695 score_test=19123489268.018856\n",
            "fold=4, score_train=35779040811.39829 score_test=20637331417.63484\n",
            "fold=5, score_train=32266438842.778378 score_test=49546331809.44563\n",
            "fold=6, score_train=34958480247.04564 score_test=29654430793.45299\n",
            "fold=7, score_train=34551091655.491714 score_test=30631239871.07867\n",
            "fold=8, score_train=34556574537.96807 score_test=34569566757.97371\n",
            "fold=9, score_train=28927932999.51875 score_test=195517621267.3599\n",
            "Train scores mean=34143290775.06417, std=2117027027.3922772\n",
            "Test scores mean=46919466805.02822, std=52998288697.66887\n"
          ]
        }
      ],
      "source": [
        "# Creamos el modelo\n",
        "reg = sk.ensemble.RandomForestRegressor(n_estimators=500, max_depth=5, n_jobs=-1, random_state=42)\n",
        "\n",
        "# Partimos en entrenamiento+prueba y validación\n",
        "X_train_test, X_val, y_train_test, y_val = sk.model_selection.train_test_split(X, y, test_size=0.2, random_state=42)\n",
        "\n",
        "scores_train = []\n",
        "scores_test = []\n",
        "# Validación cruzada, 10 folds, shuffle antes\n",
        "kf = sk.model_selection.KFold(n_splits=10, shuffle=True, random_state=42)\n",
        "for fold, (train_index, test_index) in enumerate(kf.split(X_train_test, y_train_test)):\n",
        "    X_train, X_test, y_train, y_test = X_train_test.iloc[train_index], X_train_test.iloc[test_index], y_train_test.iloc[train_index], y_train_test.iloc[test_index]\n",
        "\n",
        "    X_train, y_train, X_test = limpiar_fold(X_train, y_train, X_test)\n",
        "\n",
        "    # Entrenamos el modelo\n",
        "    reg.fit(X_train, y_train)\n",
        "\n",
        "    # Predecimos en train\n",
        "    y_pred = reg.predict(X_train)\n",
        "\n",
        "    # Medimos la performance de la predicción en test\n",
        "    score_train = sk.metrics.mean_squared_error(y_train, y_pred)\n",
        "    scores_train.append(score_train)\n",
        "\n",
        "    # Predecimos en test\n",
        "    y_pred = reg.predict(X_test)    \n",
        "\n",
        "    # Medimos la performance de la predicción en test\n",
        "    score_test = sk.metrics.mean_squared_error(y_test, y_pred)\n",
        "    scores_test.append(score_test)\n",
        "    \n",
        "    print(f\"{fold=}, {score_train=} {score_test=}\")\n",
        "    \n",
        "\n",
        "print(f\"Train scores mean={pd.Series(scores_train).mean()}, std={pd.Series(scores_train).std()}\")\n",
        "print(f\"Test scores mean={pd.Series(scores_test).mean()}, std={pd.Series(scores_test).std()}\")"
      ]
    },
    {
      "attachments": {},
      "cell_type": "markdown",
      "metadata": {
        "id": "sqVkTPzj3kV0"
      },
      "source": [
        "# Predicción para kaggle\n"
      ]
    },
    {
      "cell_type": "code",
      "execution_count": 46,
      "metadata": {
        "id": "01697gx81F5Z"
      },
      "outputs": [],
      "source": [
        "## Datos a predecir \n",
        "X = df_train[df_train.columns.drop('price')]\n",
        "y = df_train['price']\n",
        "X_prueba = df_test[df_train.columns.drop('price')] # cuidado:\n",
        "\n",
        "# Entrenamos el modelo con todos los datos\n",
        "reg.fit(X, y)\n",
        "\n",
        "# Predecimos\n",
        "df_test['price'] = reg.predict(X_prueba)\n",
        "\n",
        "# Grabamos\n",
        "df_test['price'].to_csv('solucion.csv', index=True)"
      ]
    },
    {
      "cell_type": "code",
      "execution_count": 47,
      "metadata": {
        "colab": {
          "base_uri": "https://localhost:8080/",
          "height": 331
        },
        "id": "xzAwUNRA1Fzb",
        "outputId": "5f4b709d-6abf-4cc4-d389-fa7186a7d124"
      },
      "outputs": [
        {
          "data": {
            "text/html": [
              "<div>\n",
              "<style scoped>\n",
              "    .dataframe tbody tr th:only-of-type {\n",
              "        vertical-align: middle;\n",
              "    }\n",
              "\n",
              "    .dataframe tbody tr th {\n",
              "        vertical-align: top;\n",
              "    }\n",
              "\n",
              "    .dataframe thead th {\n",
              "        text-align: right;\n",
              "    }\n",
              "</style>\n",
              "<table border=\"1\" class=\"dataframe\">\n",
              "  <thead>\n",
              "    <tr style=\"text-align: right;\">\n",
              "      <th></th>\n",
              "      <th>column</th>\n",
              "      <th>feature_importance</th>\n",
              "    </tr>\n",
              "  </thead>\n",
              "  <tbody>\n",
              "    <tr>\n",
              "      <th>0</th>\n",
              "      <td>surface_covered</td>\n",
              "      <td>56.468893</td>\n",
              "    </tr>\n",
              "    <tr>\n",
              "      <th>1</th>\n",
              "      <td>lon</td>\n",
              "      <td>10.756079</td>\n",
              "    </tr>\n",
              "    <tr>\n",
              "      <th>2</th>\n",
              "      <td>lat</td>\n",
              "      <td>9.750096</td>\n",
              "    </tr>\n",
              "    <tr>\n",
              "      <th>3</th>\n",
              "      <td>surface_covered_imputed</td>\n",
              "      <td>6.962417</td>\n",
              "    </tr>\n",
              "    <tr>\n",
              "      <th>5</th>\n",
              "      <td>bathrooms</td>\n",
              "      <td>5.371326</td>\n",
              "    </tr>\n",
              "    <tr>\n",
              "      <th>7</th>\n",
              "      <td>bathrooms_rooms</td>\n",
              "      <td>2.932176</td>\n",
              "    </tr>\n",
              "    <tr>\n",
              "      <th>4</th>\n",
              "      <td>surface_total</td>\n",
              "      <td>2.035990</td>\n",
              "    </tr>\n",
              "    <tr>\n",
              "      <th>8</th>\n",
              "      <td>bedrooms_imputed</td>\n",
              "      <td>1.818638</td>\n",
              "    </tr>\n",
              "    <tr>\n",
              "      <th>9</th>\n",
              "      <td>bedrooms</td>\n",
              "      <td>1.302491</td>\n",
              "    </tr>\n",
              "    <tr>\n",
              "      <th>6</th>\n",
              "      <td>covered</td>\n",
              "      <td>1.282137</td>\n",
              "    </tr>\n",
              "    <tr>\n",
              "      <th>10</th>\n",
              "      <td>bedrooms_rooms</td>\n",
              "      <td>1.221865</td>\n",
              "    </tr>\n",
              "    <tr>\n",
              "      <th>11</th>\n",
              "      <td>rooms</td>\n",
              "      <td>0.093217</td>\n",
              "    </tr>\n",
              "    <tr>\n",
              "      <th>13</th>\n",
              "      <td>surface_total_imputed</td>\n",
              "      <td>0.004397</td>\n",
              "    </tr>\n",
              "    <tr>\n",
              "      <th>14</th>\n",
              "      <td>bathrooms_imputed</td>\n",
              "      <td>0.000187</td>\n",
              "    </tr>\n",
              "    <tr>\n",
              "      <th>12</th>\n",
              "      <td>rooms_imputed</td>\n",
              "      <td>0.000091</td>\n",
              "    </tr>\n",
              "  </tbody>\n",
              "</table>\n",
              "</div>"
            ],
            "text/plain": [
              "                     column  feature_importance\n",
              "0           surface_covered           56.468893\n",
              "1                       lon           10.756079\n",
              "2                       lat            9.750096\n",
              "3   surface_covered_imputed            6.962417\n",
              "5                 bathrooms            5.371326\n",
              "7           bathrooms_rooms            2.932176\n",
              "4             surface_total            2.035990\n",
              "8          bedrooms_imputed            1.818638\n",
              "9                  bedrooms            1.302491\n",
              "6                   covered            1.282137\n",
              "10           bedrooms_rooms            1.221865\n",
              "11                    rooms            0.093217\n",
              "13    surface_total_imputed            0.004397\n",
              "14        bathrooms_imputed            0.000187\n",
              "12            rooms_imputed            0.000091"
            ]
          },
          "execution_count": 47,
          "metadata": {},
          "output_type": "execute_result"
        }
      ],
      "source": [
        "pd.DataFrame(zip(df_train.columns.drop('price'), reg.feature_importances_*100), columns=[\"column\", \"feature_importance\"]).sort_values(by=\"feature_importance\", ascending=False)"
      ]
    }
  ],
  "metadata": {
    "colab": {
      "provenance": []
    },
    "kernelspec": {
      "display_name": "Python 3",
      "name": "python3"
    },
    "language_info": {
      "codemirror_mode": {
        "name": "ipython",
        "version": 3
      },
      "file_extension": ".py",
      "mimetype": "text/x-python",
      "name": "python",
      "nbconvert_exporter": "python",
      "pygments_lexer": "ipython3",
      "version": "3.11.0"
    }
  },
  "nbformat": 4,
  "nbformat_minor": 0
}
